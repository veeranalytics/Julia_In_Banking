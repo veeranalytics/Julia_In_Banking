{
 "cells": [
  {
   "cell_type": "code",
   "execution_count": 1,
   "metadata": {},
   "outputs": [
    {
     "name": "stderr",
     "output_type": "stream",
     "text": [
      "WARNING: Method definition ==(Base."
     ]
    },
    {
     "data": {
      "text/plain": [
       "Plots.PyPlotBackend()"
      ]
     },
     "execution_count": 1,
     "metadata": {},
     "output_type": "execute_result"
    },
    {
     "name": "stderr",
     "output_type": "stream",
     "text": [
      "Nullable{S}, Base.Nullable{T}) in module Base at nullable.jl:238 overwritten in module NullableArrays at C:\\\\\\\\\\\\\\\\\\\\\\\\\\\\\\\\\\\\\\\\\\\\\\\\\\\\\\\\\\\\\\\\\\\\\\\\\\\\\\\\\\\\\\\\\\\\\\\\\\\\\\\\\\\\\\\\\\\\\\\\\\\\\\\\\\\\\\\\\\\\\\\\\\\\\\\\\\\\\\\\\\JuliaPro-0.6.2.2\\pkgs-0.6.2.2\\v0.6\\NullableArrays\\src\\operators.jl:99.\n",
      "WARNING: Method definition append!(NullableArrays.NullableArray{WeakRefStrings.WeakRefString{T}, 1}, NullableArrays.NullableArray{WeakRefStrings.WeakRefString{T}, 1}) in module Data at C:\\\\\\\\\\\\\\\\\\\\\\\\\\\\\\\\\\\\\\\\\\\\\\\\\\\\\\\\\\\\\\\\\\\\\\\\\\\\\\\\\\\\\\\\\\\\\\\\\\\\\\\\\\\\\\\\\\\\\\\\\\\\\\\\\\\\\\\\\\\\\\\\\\\\\\\\\\\\\\\\\\JuliaPro-0.6.2.2\\pkgs-0.6.2.2\\v0.6\\DataStreams\\src\\DataStreams.jl:344 overwritten in module DataTables at C:\\JuliaPro-0.6.2.2\\pkgs-0.6.2.2\\v0.6\\DataTables\\src\\abstractdatatable\\io.jl:318.\n",
      "WARNING: Method definition describe(AbstractArray{T, N} where N where T) in module StatsBase at C:\\\\\\\\\\\\\\\\\\\\\\\\\\\\\\\\\\\\\\\\\\\\\\\\\\\\\\\\\\\\\\\\\\\\\\\\\\\\\\\\\\\\\\\\\\\\\\\\\\\\\\\\\\\\\\\\\\\\\\\\\\\\\\\\\\\\\\\\\\\\\\\\\\\\\\\\\\\\\\\\\\JuliaPro-0.6.2.2\\pkgs-0.6.2.2\\v0.6\\StatsBase\\src\\scalarstats.jl:587 overwritten in module DataTables at C:\\JuliaPro-0.6.2.2\\pkgs-0.6.2.2\\v0.6\\DataTables\\src\\abstractdatatable\\abstractdatatable.jl:381.\n"
     ]
    }
   ],
   "source": [
    "# import required packages \n",
    "using DataFrames\n",
    "using FreqTables\n",
    "using Plots, StatPlots\n",
    "using DecisionTree\n",
    "using StatsModels\n",
    "using MLDataUtils\n",
    "\n",
    "#Set the backend as matplotlib.pyplot\n",
    "pyplot()"
   ]
  },
  {
   "cell_type": "code",
   "execution_count": 2,
   "metadata": {},
   "outputs": [
    {
     "data": {
      "text/html": [
       "<table class=\"data-frame\"><thead><tr><th></th><th>isFraud</th><th>_type</th><th>step</th><th>amount</th><th>oldbalanceOrg</th><th>newbalanceOrig</th><th>oldbalanceDest</th><th>newbalanceDest</th></tr></thead><tbody><tr><th>1</th><td>No</td><td>CASH_OUT</td><td>1</td><td>95636.49</td><td>0.0</td><td>0.0</td><td>359141.7</td><td>1.36336851e6</td></tr><tr><th>2</th><td>Yes</td><td>TRANSFER</td><td>1</td><td>181.0</td><td>181.0</td><td>0.0</td><td>0.0</td><td>0.0</td></tr><tr><th>3</th><td>Yes</td><td>CASH_OUT</td><td>1</td><td>181.0</td><td>181.0</td><td>0.0</td><td>21182.0</td><td>0.0</td></tr><tr><th>4</th><td>Yes</td><td>TRANSFER</td><td>1</td><td>2806.0</td><td>2806.0</td><td>0.0</td><td>0.0</td><td>0.0</td></tr><tr><th>5</th><td>Yes</td><td>CASH_OUT</td><td>1</td><td>2806.0</td><td>2806.0</td><td>0.0</td><td>26202.0</td><td>0.0</td></tr><tr><th>6</th><td>Yes</td><td>TRANSFER</td><td>1</td><td>20128.0</td><td>20128.0</td><td>0.0</td><td>0.0</td><td>0.0</td></tr><tr><th>7</th><td>Yes</td><td>CASH_OUT</td><td>1</td><td>20128.0</td><td>20128.0</td><td>0.0</td><td>6268.0</td><td>12145.85</td></tr><tr><th>8</th><td>Yes</td><td>CASH_OUT</td><td>1</td><td>416001.33</td><td>0.0</td><td>0.0</td><td>102.0</td><td>9.29161962e6</td></tr><tr><th>9</th><td>Yes</td><td>TRANSFER</td><td>1</td><td>1.27721277e6</td><td>1.27721277e6</td><td>0.0</td><td>0.0</td><td>0.0</td></tr><tr><th>10</th><td>Yes</td><td>CASH_OUT</td><td>1</td><td>1.27721277e6</td><td>1.27721277e6</td><td>0.0</td><td>0.0</td><td>2.44498519e6</td></tr><tr><th>11</th><td>Yes</td><td>TRANSFER</td><td>1</td><td>35063.63</td><td>35063.63</td><td>0.0</td><td>0.0</td><td>0.0</td></tr><tr><th>12</th><td>Yes</td><td>CASH_OUT</td><td>1</td><td>35063.63</td><td>35063.63</td><td>0.0</td><td>31140.0</td><td>7550.03</td></tr><tr><th>13</th><td>Yes</td><td>TRANSFER</td><td>1</td><td>25071.46</td><td>25071.46</td><td>0.0</td><td>0.0</td><td>0.0</td></tr><tr><th>14</th><td>Yes</td><td>CASH_OUT</td><td>1</td><td>25071.46</td><td>25071.46</td><td>0.0</td><td>9083.76</td><td>34155.22</td></tr><tr><th>15</th><td>Yes</td><td>CASH_OUT</td><td>1</td><td>132842.64</td><td>4499.08</td><td>0.0</td><td>0.0</td><td>132842.64</td></tr><tr><th>16</th><td>Yes</td><td>TRANSFER</td><td>1</td><td>235238.66</td><td>235238.66</td><td>0.0</td><td>0.0</td><td>0.0</td></tr><tr><th>17</th><td>Yes</td><td>CASH_OUT</td><td>1</td><td>235238.66</td><td>235238.66</td><td>0.0</td><td>0.0</td><td>235238.66</td></tr><tr><th>18</th><td>Yes</td><td>TRANSFER</td><td>2</td><td>1.09618724e6</td><td>1.09618724e6</td><td>0.0</td><td>0.0</td><td>0.0</td></tr><tr><th>19</th><td>Yes</td><td>CASH_OUT</td><td>2</td><td>1.09618724e6</td><td>1.09618724e6</td><td>0.0</td><td>0.0</td><td>1.09618724e6</td></tr><tr><th>20</th><td>Yes</td><td>TRANSFER</td><td>2</td><td>963532.14</td><td>963532.14</td><td>0.0</td><td>0.0</td><td>0.0</td></tr><tr><th>21</th><td>Yes</td><td>CASH_OUT</td><td>2</td><td>963532.14</td><td>963532.14</td><td>0.0</td><td>132382.57</td><td>1.09591471e6</td></tr><tr><th>22</th><td>Yes</td><td>TRANSFER</td><td>2</td><td>14949.84</td><td>14949.84</td><td>0.0</td><td>0.0</td><td>0.0</td></tr><tr><th>23</th><td>Yes</td><td>CASH_OUT</td><td>2</td><td>14949.84</td><td>14949.84</td><td>0.0</td><td>18161.79</td><td>33111.63</td></tr><tr><th>24</th><td>Yes</td><td>TRANSFER</td><td>2</td><td>18627.02</td><td>18627.02</td><td>0.0</td><td>0.0</td><td>0.0</td></tr><tr><th>25</th><td>Yes</td><td>CASH_OUT</td><td>2</td><td>18627.02</td><td>18627.02</td><td>0.0</td><td>147251.58</td><td>165878.6</td></tr><tr><th>26</th><td>Yes</td><td>TRANSFER</td><td>3</td><td>10539.37</td><td>10539.37</td><td>0.0</td><td>0.0</td><td>0.0</td></tr><tr><th>27</th><td>Yes</td><td>CASH_OUT</td><td>3</td><td>10539.37</td><td>10539.37</td><td>0.0</td><td>0.0</td><td>10539.37</td></tr><tr><th>28</th><td>Yes</td><td>TRANSFER</td><td>3</td><td>22877.0</td><td>22877.0</td><td>0.0</td><td>0.0</td><td>0.0</td></tr><tr><th>29</th><td>Yes</td><td>CASH_OUT</td><td>3</td><td>22877.0</td><td>22877.0</td><td>0.0</td><td>0.0</td><td>22877.0</td></tr><tr><th>30</th><td>Yes</td><td>TRANSFER</td><td>4</td><td>1.0e7</td><td>1.293041844e7</td><td>2.93041844e6</td><td>0.0</td><td>0.0</td></tr><tr><th>&vellip;</th><td>&vellip;</td><td>&vellip;</td><td>&vellip;</td><td>&vellip;</td><td>&vellip;</td><td>&vellip;</td><td>&vellip;</td><td>&vellip;</td></tr></tbody></table>"
      ],
      "text/plain": [
       "16426×8 DataFrames.DataFrame\n",
       "│ Row   │ isFraud │ _type      │ step │ amount    │ oldbalanceOrg │\n",
       "├───────┼─────────┼────────────┼──────┼───────────┼───────────────┤\n",
       "│ 1     │ \"No\"    │ \"CASH_OUT\" │ 1    │ 95636.5   │ 0.0           │\n",
       "│ 2     │ \"Yes\"   │ \"TRANSFER\" │ 1    │ 181.0     │ 181.0         │\n",
       "│ 3     │ \"Yes\"   │ \"CASH_OUT\" │ 1    │ 181.0     │ 181.0         │\n",
       "│ 4     │ \"Yes\"   │ \"TRANSFER\" │ 1    │ 2806.0    │ 2806.0        │\n",
       "│ 5     │ \"Yes\"   │ \"CASH_OUT\" │ 1    │ 2806.0    │ 2806.0        │\n",
       "│ 6     │ \"Yes\"   │ \"TRANSFER\" │ 1    │ 20128.0   │ 20128.0       │\n",
       "│ 7     │ \"Yes\"   │ \"CASH_OUT\" │ 1    │ 20128.0   │ 20128.0       │\n",
       "│ 8     │ \"Yes\"   │ \"CASH_OUT\" │ 1    │ 4.16001e5 │ 0.0           │\n",
       "│ 9     │ \"Yes\"   │ \"TRANSFER\" │ 1    │ 1.27721e6 │ 1.27721e6     │\n",
       "│ 10    │ \"Yes\"   │ \"CASH_OUT\" │ 1    │ 1.27721e6 │ 1.27721e6     │\n",
       "│ 11    │ \"Yes\"   │ \"TRANSFER\" │ 1    │ 35063.6   │ 35063.6       │\n",
       "⋮\n",
       "│ 16415 │ \"Yes\"   │ \"TRANSFER\" │ 742  │ 2.58355e5 │ 2.58355e5     │\n",
       "│ 16416 │ \"Yes\"   │ \"CASH_OUT\" │ 742  │ 2.58355e5 │ 2.58355e5     │\n",
       "│ 16417 │ \"Yes\"   │ \"TRANSFER\" │ 742  │ 63417.0   │ 63417.0       │\n",
       "│ 16418 │ \"Yes\"   │ \"CASH_OUT\" │ 742  │ 63417.0   │ 63417.0       │\n",
       "│ 16419 │ \"Yes\"   │ \"TRANSFER\" │ 743  │ 1.25882e6 │ 1.25882e6     │\n",
       "│ 16420 │ \"Yes\"   │ \"CASH_OUT\" │ 743  │ 1.25882e6 │ 1.25882e6     │\n",
       "│ 16421 │ \"Yes\"   │ \"TRANSFER\" │ 743  │ 3.39682e5 │ 3.39682e5     │\n",
       "│ 16422 │ \"Yes\"   │ \"CASH_OUT\" │ 743  │ 3.39682e5 │ 3.39682e5     │\n",
       "│ 16423 │ \"Yes\"   │ \"TRANSFER\" │ 743  │ 6.31141e6 │ 6.31141e6     │\n",
       "│ 16424 │ \"Yes\"   │ \"CASH_OUT\" │ 743  │ 6.31141e6 │ 6.31141e6     │\n",
       "│ 16425 │ \"Yes\"   │ \"TRANSFER\" │ 743  │ 8.50003e5 │ 8.50003e5     │\n",
       "│ 16426 │ \"Yes\"   │ \"CASH_OUT\" │ 743  │ 8.50003e5 │ 8.50003e5     │\n",
       "\n",
       "│ Row   │ newbalanceOrig │ oldbalanceDest │ newbalanceDest │\n",
       "├───────┼────────────────┼────────────────┼────────────────┤\n",
       "│ 1     │ 0.0            │ 3.59142e5      │ 1.36337e6      │\n",
       "│ 2     │ 0.0            │ 0.0            │ 0.0            │\n",
       "│ 3     │ 0.0            │ 21182.0        │ 0.0            │\n",
       "│ 4     │ 0.0            │ 0.0            │ 0.0            │\n",
       "│ 5     │ 0.0            │ 26202.0        │ 0.0            │\n",
       "│ 6     │ 0.0            │ 0.0            │ 0.0            │\n",
       "│ 7     │ 0.0            │ 6268.0         │ 12145.9        │\n",
       "│ 8     │ 0.0            │ 102.0          │ 9.29162e6      │\n",
       "│ 9     │ 0.0            │ 0.0            │ 0.0            │\n",
       "│ 10    │ 0.0            │ 0.0            │ 2.44499e6      │\n",
       "│ 11    │ 0.0            │ 0.0            │ 0.0            │\n",
       "⋮\n",
       "│ 16415 │ 0.0            │ 0.0            │ 0.0            │\n",
       "│ 16416 │ 0.0            │ 25176.7        │ 2.83532e5      │\n",
       "│ 16417 │ 0.0            │ 0.0            │ 0.0            │\n",
       "│ 16418 │ 0.0            │ 2.76433e5      │ 3.3985e5       │\n",
       "│ 16419 │ 0.0            │ 0.0            │ 0.0            │\n",
       "│ 16420 │ 0.0            │ 5.03465e5      │ 1.76228e6      │\n",
       "│ 16421 │ 0.0            │ 0.0            │ 0.0            │\n",
       "│ 16422 │ 0.0            │ 0.0            │ 3.39682e5      │\n",
       "│ 16423 │ 0.0            │ 0.0            │ 0.0            │\n",
       "│ 16424 │ 0.0            │ 68488.8        │ 6.3799e6       │\n",
       "│ 16425 │ 0.0            │ 0.0            │ 0.0            │\n",
       "│ 16426 │ 0.0            │ 6.5101e6       │ 7.3601e6       │"
      ]
     },
     "execution_count": 2,
     "metadata": {},
     "output_type": "execute_result"
    }
   ],
   "source": [
    "# Read Dataset\n",
    "data = readtable(\"C:/Users/veer/Desktop/Projects/Julia_In_Banking/Data/fraud_full_sample.csv\")"
   ]
  },
  {
   "cell_type": "code",
   "execution_count": 3,
   "metadata": {},
   "outputs": [
    {
     "data": {
      "text/html": [
       "<table class=\"data-frame\"><thead><tr><th></th><th>_type</th><th>step</th><th>amount</th><th>oldbalanceOrg</th><th>newbalanceOrig</th><th>oldbalanceDest</th><th>newbalanceDest</th><th>fraud_status</th></tr></thead><tbody><tr><th>1</th><td>CASH_OUT</td><td>1</td><td>95636.49</td><td>0.0</td><td>0.0</td><td>359141.7</td><td>1.36336851e6</td><td>0</td></tr><tr><th>2</th><td>TRANSFER</td><td>1</td><td>181.0</td><td>181.0</td><td>0.0</td><td>0.0</td><td>0.0</td><td>1</td></tr><tr><th>3</th><td>CASH_OUT</td><td>1</td><td>181.0</td><td>181.0</td><td>0.0</td><td>21182.0</td><td>0.0</td><td>1</td></tr><tr><th>4</th><td>TRANSFER</td><td>1</td><td>2806.0</td><td>2806.0</td><td>0.0</td><td>0.0</td><td>0.0</td><td>1</td></tr><tr><th>5</th><td>CASH_OUT</td><td>1</td><td>2806.0</td><td>2806.0</td><td>0.0</td><td>26202.0</td><td>0.0</td><td>1</td></tr><tr><th>6</th><td>TRANSFER</td><td>1</td><td>20128.0</td><td>20128.0</td><td>0.0</td><td>0.0</td><td>0.0</td><td>1</td></tr><tr><th>7</th><td>CASH_OUT</td><td>1</td><td>20128.0</td><td>20128.0</td><td>0.0</td><td>6268.0</td><td>12145.85</td><td>1</td></tr><tr><th>8</th><td>CASH_OUT</td><td>1</td><td>416001.33</td><td>0.0</td><td>0.0</td><td>102.0</td><td>9.29161962e6</td><td>1</td></tr><tr><th>9</th><td>TRANSFER</td><td>1</td><td>1.27721277e6</td><td>1.27721277e6</td><td>0.0</td><td>0.0</td><td>0.0</td><td>1</td></tr><tr><th>10</th><td>CASH_OUT</td><td>1</td><td>1.27721277e6</td><td>1.27721277e6</td><td>0.0</td><td>0.0</td><td>2.44498519e6</td><td>1</td></tr><tr><th>11</th><td>TRANSFER</td><td>1</td><td>35063.63</td><td>35063.63</td><td>0.0</td><td>0.0</td><td>0.0</td><td>1</td></tr><tr><th>12</th><td>CASH_OUT</td><td>1</td><td>35063.63</td><td>35063.63</td><td>0.0</td><td>31140.0</td><td>7550.03</td><td>1</td></tr><tr><th>13</th><td>TRANSFER</td><td>1</td><td>25071.46</td><td>25071.46</td><td>0.0</td><td>0.0</td><td>0.0</td><td>1</td></tr><tr><th>14</th><td>CASH_OUT</td><td>1</td><td>25071.46</td><td>25071.46</td><td>0.0</td><td>9083.76</td><td>34155.22</td><td>1</td></tr><tr><th>15</th><td>CASH_OUT</td><td>1</td><td>132842.64</td><td>4499.08</td><td>0.0</td><td>0.0</td><td>132842.64</td><td>1</td></tr><tr><th>16</th><td>TRANSFER</td><td>1</td><td>235238.66</td><td>235238.66</td><td>0.0</td><td>0.0</td><td>0.0</td><td>1</td></tr><tr><th>17</th><td>CASH_OUT</td><td>1</td><td>235238.66</td><td>235238.66</td><td>0.0</td><td>0.0</td><td>235238.66</td><td>1</td></tr><tr><th>18</th><td>TRANSFER</td><td>2</td><td>1.09618724e6</td><td>1.09618724e6</td><td>0.0</td><td>0.0</td><td>0.0</td><td>1</td></tr><tr><th>19</th><td>CASH_OUT</td><td>2</td><td>1.09618724e6</td><td>1.09618724e6</td><td>0.0</td><td>0.0</td><td>1.09618724e6</td><td>1</td></tr><tr><th>20</th><td>TRANSFER</td><td>2</td><td>963532.14</td><td>963532.14</td><td>0.0</td><td>0.0</td><td>0.0</td><td>1</td></tr><tr><th>21</th><td>CASH_OUT</td><td>2</td><td>963532.14</td><td>963532.14</td><td>0.0</td><td>132382.57</td><td>1.09591471e6</td><td>1</td></tr><tr><th>22</th><td>TRANSFER</td><td>2</td><td>14949.84</td><td>14949.84</td><td>0.0</td><td>0.0</td><td>0.0</td><td>1</td></tr><tr><th>23</th><td>CASH_OUT</td><td>2</td><td>14949.84</td><td>14949.84</td><td>0.0</td><td>18161.79</td><td>33111.63</td><td>1</td></tr><tr><th>24</th><td>TRANSFER</td><td>2</td><td>18627.02</td><td>18627.02</td><td>0.0</td><td>0.0</td><td>0.0</td><td>1</td></tr><tr><th>25</th><td>CASH_OUT</td><td>2</td><td>18627.02</td><td>18627.02</td><td>0.0</td><td>147251.58</td><td>165878.6</td><td>1</td></tr><tr><th>26</th><td>TRANSFER</td><td>3</td><td>10539.37</td><td>10539.37</td><td>0.0</td><td>0.0</td><td>0.0</td><td>1</td></tr><tr><th>27</th><td>CASH_OUT</td><td>3</td><td>10539.37</td><td>10539.37</td><td>0.0</td><td>0.0</td><td>10539.37</td><td>1</td></tr><tr><th>28</th><td>TRANSFER</td><td>3</td><td>22877.0</td><td>22877.0</td><td>0.0</td><td>0.0</td><td>0.0</td><td>1</td></tr><tr><th>29</th><td>CASH_OUT</td><td>3</td><td>22877.0</td><td>22877.0</td><td>0.0</td><td>0.0</td><td>22877.0</td><td>1</td></tr><tr><th>30</th><td>TRANSFER</td><td>4</td><td>1.0e7</td><td>1.293041844e7</td><td>2.93041844e6</td><td>0.0</td><td>0.0</td><td>1</td></tr><tr><th>&vellip;</th><td>&vellip;</td><td>&vellip;</td><td>&vellip;</td><td>&vellip;</td><td>&vellip;</td><td>&vellip;</td><td>&vellip;</td><td>&vellip;</td></tr></tbody></table>"
      ],
      "text/plain": [
       "16426×8 DataFrames.DataFrame\n",
       "│ Row   │ _type      │ step │ amount    │ oldbalanceOrg │ newbalanceOrig │\n",
       "├───────┼────────────┼──────┼───────────┼───────────────┼────────────────┤\n",
       "│ 1     │ \"CASH_OUT\" │ 1    │ 95636.5   │ 0.0           │ 0.0            │\n",
       "│ 2     │ \"TRANSFER\" │ 1    │ 181.0     │ 181.0         │ 0.0            │\n",
       "│ 3     │ \"CASH_OUT\" │ 1    │ 181.0     │ 181.0         │ 0.0            │\n",
       "│ 4     │ \"TRANSFER\" │ 1    │ 2806.0    │ 2806.0        │ 0.0            │\n",
       "│ 5     │ \"CASH_OUT\" │ 1    │ 2806.0    │ 2806.0        │ 0.0            │\n",
       "│ 6     │ \"TRANSFER\" │ 1    │ 20128.0   │ 20128.0       │ 0.0            │\n",
       "│ 7     │ \"CASH_OUT\" │ 1    │ 20128.0   │ 20128.0       │ 0.0            │\n",
       "│ 8     │ \"CASH_OUT\" │ 1    │ 4.16001e5 │ 0.0           │ 0.0            │\n",
       "│ 9     │ \"TRANSFER\" │ 1    │ 1.27721e6 │ 1.27721e6     │ 0.0            │\n",
       "│ 10    │ \"CASH_OUT\" │ 1    │ 1.27721e6 │ 1.27721e6     │ 0.0            │\n",
       "│ 11    │ \"TRANSFER\" │ 1    │ 35063.6   │ 35063.6       │ 0.0            │\n",
       "⋮\n",
       "│ 16415 │ \"TRANSFER\" │ 742  │ 2.58355e5 │ 2.58355e5     │ 0.0            │\n",
       "│ 16416 │ \"CASH_OUT\" │ 742  │ 2.58355e5 │ 2.58355e5     │ 0.0            │\n",
       "│ 16417 │ \"TRANSFER\" │ 742  │ 63417.0   │ 63417.0       │ 0.0            │\n",
       "│ 16418 │ \"CASH_OUT\" │ 742  │ 63417.0   │ 63417.0       │ 0.0            │\n",
       "│ 16419 │ \"TRANSFER\" │ 743  │ 1.25882e6 │ 1.25882e6     │ 0.0            │\n",
       "│ 16420 │ \"CASH_OUT\" │ 743  │ 1.25882e6 │ 1.25882e6     │ 0.0            │\n",
       "│ 16421 │ \"TRANSFER\" │ 743  │ 3.39682e5 │ 3.39682e5     │ 0.0            │\n",
       "│ 16422 │ \"CASH_OUT\" │ 743  │ 3.39682e5 │ 3.39682e5     │ 0.0            │\n",
       "│ 16423 │ \"TRANSFER\" │ 743  │ 6.31141e6 │ 6.31141e6     │ 0.0            │\n",
       "│ 16424 │ \"CASH_OUT\" │ 743  │ 6.31141e6 │ 6.31141e6     │ 0.0            │\n",
       "│ 16425 │ \"TRANSFER\" │ 743  │ 8.50003e5 │ 8.50003e5     │ 0.0            │\n",
       "│ 16426 │ \"CASH_OUT\" │ 743  │ 8.50003e5 │ 8.50003e5     │ 0.0            │\n",
       "\n",
       "│ Row   │ oldbalanceDest │ newbalanceDest │ fraud_status │\n",
       "├───────┼────────────────┼────────────────┼──────────────┤\n",
       "│ 1     │ 3.59142e5      │ 1.36337e6      │ 0            │\n",
       "│ 2     │ 0.0            │ 0.0            │ 1            │\n",
       "│ 3     │ 21182.0        │ 0.0            │ 1            │\n",
       "│ 4     │ 0.0            │ 0.0            │ 1            │\n",
       "│ 5     │ 26202.0        │ 0.0            │ 1            │\n",
       "│ 6     │ 0.0            │ 0.0            │ 1            │\n",
       "│ 7     │ 6268.0         │ 12145.9        │ 1            │\n",
       "│ 8     │ 102.0          │ 9.29162e6      │ 1            │\n",
       "│ 9     │ 0.0            │ 0.0            │ 1            │\n",
       "│ 10    │ 0.0            │ 2.44499e6      │ 1            │\n",
       "│ 11    │ 0.0            │ 0.0            │ 1            │\n",
       "⋮\n",
       "│ 16415 │ 0.0            │ 0.0            │ 1            │\n",
       "│ 16416 │ 25176.7        │ 2.83532e5      │ 1            │\n",
       "│ 16417 │ 0.0            │ 0.0            │ 1            │\n",
       "│ 16418 │ 2.76433e5      │ 3.3985e5       │ 1            │\n",
       "│ 16419 │ 0.0            │ 0.0            │ 1            │\n",
       "│ 16420 │ 5.03465e5      │ 1.76228e6      │ 1            │\n",
       "│ 16421 │ 0.0            │ 0.0            │ 1            │\n",
       "│ 16422 │ 0.0            │ 3.39682e5      │ 1            │\n",
       "│ 16423 │ 0.0            │ 0.0            │ 1            │\n",
       "│ 16424 │ 68488.8        │ 6.3799e6       │ 1            │\n",
       "│ 16425 │ 0.0            │ 0.0            │ 1            │\n",
       "│ 16426 │ 6.5101e6       │ 7.3601e6       │ 1            │"
      ]
     },
     "execution_count": 3,
     "metadata": {},
     "output_type": "execute_result"
    }
   ],
   "source": [
    "# Create 02 categories (numeric) for loan status\n",
    "data[:fraud_status] = ifelse.(data[:isFraud] .== \"Yes\",1,0)\n",
    "delete!(data,:isFraud)"
   ]
  },
  {
   "cell_type": "code",
   "execution_count": 4,
   "metadata": {},
   "outputs": [
    {
     "data": {
      "text/html": [
       "<table class=\"data-frame\"><thead><tr><th></th><th>_type</th><th>step</th><th>amount</th><th>oldbalanceOrg</th><th>newbalanceOrig</th><th>oldbalanceDest</th><th>newbalanceDest</th><th>isFraud</th></tr></thead><tbody><tr><th>1</th><td>CASH_OUT</td><td>1</td><td>95636.49</td><td>0.0</td><td>0.0</td><td>359141.7</td><td>1.36336851e6</td><td>0</td></tr><tr><th>2</th><td>TRANSFER</td><td>1</td><td>181.0</td><td>181.0</td><td>0.0</td><td>0.0</td><td>0.0</td><td>1</td></tr><tr><th>3</th><td>CASH_OUT</td><td>1</td><td>181.0</td><td>181.0</td><td>0.0</td><td>21182.0</td><td>0.0</td><td>1</td></tr><tr><th>4</th><td>TRANSFER</td><td>1</td><td>2806.0</td><td>2806.0</td><td>0.0</td><td>0.0</td><td>0.0</td><td>1</td></tr><tr><th>5</th><td>CASH_OUT</td><td>1</td><td>2806.0</td><td>2806.0</td><td>0.0</td><td>26202.0</td><td>0.0</td><td>1</td></tr><tr><th>6</th><td>TRANSFER</td><td>1</td><td>20128.0</td><td>20128.0</td><td>0.0</td><td>0.0</td><td>0.0</td><td>1</td></tr><tr><th>7</th><td>CASH_OUT</td><td>1</td><td>20128.0</td><td>20128.0</td><td>0.0</td><td>6268.0</td><td>12145.85</td><td>1</td></tr><tr><th>8</th><td>CASH_OUT</td><td>1</td><td>416001.33</td><td>0.0</td><td>0.0</td><td>102.0</td><td>9.29161962e6</td><td>1</td></tr><tr><th>9</th><td>TRANSFER</td><td>1</td><td>1.27721277e6</td><td>1.27721277e6</td><td>0.0</td><td>0.0</td><td>0.0</td><td>1</td></tr><tr><th>10</th><td>CASH_OUT</td><td>1</td><td>1.27721277e6</td><td>1.27721277e6</td><td>0.0</td><td>0.0</td><td>2.44498519e6</td><td>1</td></tr><tr><th>11</th><td>TRANSFER</td><td>1</td><td>35063.63</td><td>35063.63</td><td>0.0</td><td>0.0</td><td>0.0</td><td>1</td></tr><tr><th>12</th><td>CASH_OUT</td><td>1</td><td>35063.63</td><td>35063.63</td><td>0.0</td><td>31140.0</td><td>7550.03</td><td>1</td></tr><tr><th>13</th><td>TRANSFER</td><td>1</td><td>25071.46</td><td>25071.46</td><td>0.0</td><td>0.0</td><td>0.0</td><td>1</td></tr><tr><th>14</th><td>CASH_OUT</td><td>1</td><td>25071.46</td><td>25071.46</td><td>0.0</td><td>9083.76</td><td>34155.22</td><td>1</td></tr><tr><th>15</th><td>CASH_OUT</td><td>1</td><td>132842.64</td><td>4499.08</td><td>0.0</td><td>0.0</td><td>132842.64</td><td>1</td></tr><tr><th>16</th><td>TRANSFER</td><td>1</td><td>235238.66</td><td>235238.66</td><td>0.0</td><td>0.0</td><td>0.0</td><td>1</td></tr><tr><th>17</th><td>CASH_OUT</td><td>1</td><td>235238.66</td><td>235238.66</td><td>0.0</td><td>0.0</td><td>235238.66</td><td>1</td></tr><tr><th>18</th><td>TRANSFER</td><td>2</td><td>1.09618724e6</td><td>1.09618724e6</td><td>0.0</td><td>0.0</td><td>0.0</td><td>1</td></tr><tr><th>19</th><td>CASH_OUT</td><td>2</td><td>1.09618724e6</td><td>1.09618724e6</td><td>0.0</td><td>0.0</td><td>1.09618724e6</td><td>1</td></tr><tr><th>20</th><td>TRANSFER</td><td>2</td><td>963532.14</td><td>963532.14</td><td>0.0</td><td>0.0</td><td>0.0</td><td>1</td></tr><tr><th>21</th><td>CASH_OUT</td><td>2</td><td>963532.14</td><td>963532.14</td><td>0.0</td><td>132382.57</td><td>1.09591471e6</td><td>1</td></tr><tr><th>22</th><td>TRANSFER</td><td>2</td><td>14949.84</td><td>14949.84</td><td>0.0</td><td>0.0</td><td>0.0</td><td>1</td></tr><tr><th>23</th><td>CASH_OUT</td><td>2</td><td>14949.84</td><td>14949.84</td><td>0.0</td><td>18161.79</td><td>33111.63</td><td>1</td></tr><tr><th>24</th><td>TRANSFER</td><td>2</td><td>18627.02</td><td>18627.02</td><td>0.0</td><td>0.0</td><td>0.0</td><td>1</td></tr><tr><th>25</th><td>CASH_OUT</td><td>2</td><td>18627.02</td><td>18627.02</td><td>0.0</td><td>147251.58</td><td>165878.6</td><td>1</td></tr><tr><th>26</th><td>TRANSFER</td><td>3</td><td>10539.37</td><td>10539.37</td><td>0.0</td><td>0.0</td><td>0.0</td><td>1</td></tr><tr><th>27</th><td>CASH_OUT</td><td>3</td><td>10539.37</td><td>10539.37</td><td>0.0</td><td>0.0</td><td>10539.37</td><td>1</td></tr><tr><th>28</th><td>TRANSFER</td><td>3</td><td>22877.0</td><td>22877.0</td><td>0.0</td><td>0.0</td><td>0.0</td><td>1</td></tr><tr><th>29</th><td>CASH_OUT</td><td>3</td><td>22877.0</td><td>22877.0</td><td>0.0</td><td>0.0</td><td>22877.0</td><td>1</td></tr><tr><th>30</th><td>TRANSFER</td><td>4</td><td>1.0e7</td><td>1.293041844e7</td><td>2.93041844e6</td><td>0.0</td><td>0.0</td><td>1</td></tr><tr><th>&vellip;</th><td>&vellip;</td><td>&vellip;</td><td>&vellip;</td><td>&vellip;</td><td>&vellip;</td><td>&vellip;</td><td>&vellip;</td><td>&vellip;</td></tr></tbody></table>"
      ],
      "text/plain": [
       "16426×8 DataFrames.DataFrame\n",
       "│ Row   │ _type      │ step │ amount    │ oldbalanceOrg │ newbalanceOrig │\n",
       "├───────┼────────────┼──────┼───────────┼───────────────┼────────────────┤\n",
       "│ 1     │ \"CASH_OUT\" │ 1    │ 95636.5   │ 0.0           │ 0.0            │\n",
       "│ 2     │ \"TRANSFER\" │ 1    │ 181.0     │ 181.0         │ 0.0            │\n",
       "│ 3     │ \"CASH_OUT\" │ 1    │ 181.0     │ 181.0         │ 0.0            │\n",
       "│ 4     │ \"TRANSFER\" │ 1    │ 2806.0    │ 2806.0        │ 0.0            │\n",
       "│ 5     │ \"CASH_OUT\" │ 1    │ 2806.0    │ 2806.0        │ 0.0            │\n",
       "│ 6     │ \"TRANSFER\" │ 1    │ 20128.0   │ 20128.0       │ 0.0            │\n",
       "│ 7     │ \"CASH_OUT\" │ 1    │ 20128.0   │ 20128.0       │ 0.0            │\n",
       "│ 8     │ \"CASH_OUT\" │ 1    │ 4.16001e5 │ 0.0           │ 0.0            │\n",
       "│ 9     │ \"TRANSFER\" │ 1    │ 1.27721e6 │ 1.27721e6     │ 0.0            │\n",
       "│ 10    │ \"CASH_OUT\" │ 1    │ 1.27721e6 │ 1.27721e6     │ 0.0            │\n",
       "│ 11    │ \"TRANSFER\" │ 1    │ 35063.6   │ 35063.6       │ 0.0            │\n",
       "⋮\n",
       "│ 16415 │ \"TRANSFER\" │ 742  │ 2.58355e5 │ 2.58355e5     │ 0.0            │\n",
       "│ 16416 │ \"CASH_OUT\" │ 742  │ 2.58355e5 │ 2.58355e5     │ 0.0            │\n",
       "│ 16417 │ \"TRANSFER\" │ 742  │ 63417.0   │ 63417.0       │ 0.0            │\n",
       "│ 16418 │ \"CASH_OUT\" │ 742  │ 63417.0   │ 63417.0       │ 0.0            │\n",
       "│ 16419 │ \"TRANSFER\" │ 743  │ 1.25882e6 │ 1.25882e6     │ 0.0            │\n",
       "│ 16420 │ \"CASH_OUT\" │ 743  │ 1.25882e6 │ 1.25882e6     │ 0.0            │\n",
       "│ 16421 │ \"TRANSFER\" │ 743  │ 3.39682e5 │ 3.39682e5     │ 0.0            │\n",
       "│ 16422 │ \"CASH_OUT\" │ 743  │ 3.39682e5 │ 3.39682e5     │ 0.0            │\n",
       "│ 16423 │ \"TRANSFER\" │ 743  │ 6.31141e6 │ 6.31141e6     │ 0.0            │\n",
       "│ 16424 │ \"CASH_OUT\" │ 743  │ 6.31141e6 │ 6.31141e6     │ 0.0            │\n",
       "│ 16425 │ \"TRANSFER\" │ 743  │ 8.50003e5 │ 8.50003e5     │ 0.0            │\n",
       "│ 16426 │ \"CASH_OUT\" │ 743  │ 8.50003e5 │ 8.50003e5     │ 0.0            │\n",
       "\n",
       "│ Row   │ oldbalanceDest │ newbalanceDest │ isFraud │\n",
       "├───────┼────────────────┼────────────────┼─────────┤\n",
       "│ 1     │ 3.59142e5      │ 1.36337e6      │ 0       │\n",
       "│ 2     │ 0.0            │ 0.0            │ 1       │\n",
       "│ 3     │ 21182.0        │ 0.0            │ 1       │\n",
       "│ 4     │ 0.0            │ 0.0            │ 1       │\n",
       "│ 5     │ 26202.0        │ 0.0            │ 1       │\n",
       "│ 6     │ 0.0            │ 0.0            │ 1       │\n",
       "│ 7     │ 6268.0         │ 12145.9        │ 1       │\n",
       "│ 8     │ 102.0          │ 9.29162e6      │ 1       │\n",
       "│ 9     │ 0.0            │ 0.0            │ 1       │\n",
       "│ 10    │ 0.0            │ 2.44499e6      │ 1       │\n",
       "│ 11    │ 0.0            │ 0.0            │ 1       │\n",
       "⋮\n",
       "│ 16415 │ 0.0            │ 0.0            │ 1       │\n",
       "│ 16416 │ 25176.7        │ 2.83532e5      │ 1       │\n",
       "│ 16417 │ 0.0            │ 0.0            │ 1       │\n",
       "│ 16418 │ 2.76433e5      │ 3.3985e5       │ 1       │\n",
       "│ 16419 │ 0.0            │ 0.0            │ 1       │\n",
       "│ 16420 │ 5.03465e5      │ 1.76228e6      │ 1       │\n",
       "│ 16421 │ 0.0            │ 0.0            │ 1       │\n",
       "│ 16422 │ 0.0            │ 3.39682e5      │ 1       │\n",
       "│ 16423 │ 0.0            │ 0.0            │ 1       │\n",
       "│ 16424 │ 68488.8        │ 6.3799e6       │ 1       │\n",
       "│ 16425 │ 0.0            │ 0.0            │ 1       │\n",
       "│ 16426 │ 6.5101e6       │ 7.3601e6       │ 1       │"
      ]
     },
     "execution_count": 4,
     "metadata": {},
     "output_type": "execute_result"
    }
   ],
   "source": [
    "rename!(data, :fraud_status, :isFraud)"
   ]
  },
  {
   "cell_type": "code",
   "execution_count": 5,
   "metadata": {},
   "outputs": [
    {
     "data": {
      "text/plain": [
       "2-element Named Array{Int64,1}\n",
       "Dim1  │ \n",
       "──────┼─────\n",
       "0     │ 8213\n",
       "1     │ 8213"
      ]
     },
     "execution_count": 5,
     "metadata": {},
     "output_type": "execute_result"
    }
   ],
   "source": [
    "# Explore Loan Amount\n",
    "freqtable(data[:isFraud])"
   ]
  },
  {
   "cell_type": "code",
   "execution_count": 6,
   "metadata": {},
   "outputs": [
    {
     "name": "stdout",
     "output_type": "stream",
     "text": [
      "Summary Stats:\n",
      "Mean:           884267.745135\n",
      "Minimum:        0.000000\n",
      "1st Quartile:   96961.040000\n",
      "Median:         234740.010000\n",
      "3rd Quartile:   635409.320000\n",
      "Maximum:        10000000.000000\n",
      "Length:         16426\n",
      "Type:           Float64\n",
      "Number Missing: 0\n",
      "% Missing:      0.000000\n"
     ]
    }
   ],
   "source": [
    "describe(data[:amount])"
   ]
  },
  {
   "cell_type": "code",
   "execution_count": 7,
   "metadata": {},
   "outputs": [
    {
     "data": {
      "image/png": "[encoded data removed]"
     },
     "execution_count": 7,
     "metadata": {},
     "output_type": "execute_result"
    }
   ],
   "source": [
    "# Plot Histogram for Applicant Income\n",
    "Plots.histogram(data[:amount], bins = 1000, xlabel = \"Transaction_Amount\", labels = \"Frequency\")"
   ]
  },
  {
   "cell_type": "code",
   "execution_count": 8,
   "metadata": {},
   "outputs": [
    {
     "data": {
      "text/plain": [
       "8-element Array{Type,1}:\n",
       " String \n",
       " Int64  \n",
       " Float64\n",
       " Float64\n",
       " Float64\n",
       " Float64\n",
       " Float64\n",
       " Int64  "
      ]
     },
     "execution_count": 8,
     "metadata": {},
     "output_type": "execute_result"
    }
   ],
   "source": [
    "eltypes(data)"
   ]
  },
  {
   "cell_type": "code",
   "execution_count": 9,
   "metadata": {},
   "outputs": [
    {
     "data": {
      "text/plain": [
       "2-element Named Array{Int64,1}\n",
       "Dim1     │ \n",
       "─────────┼──────\n",
       "CASH_OUT │ 10759\n",
       "TRANSFER │  5667"
      ]
     },
     "execution_count": 9,
     "metadata": {},
     "output_type": "execute_result"
    }
   ],
   "source": [
    "freqtable(data[:_type])"
   ]
  },
  {
   "cell_type": "code",
   "execution_count": 10,
   "metadata": {},
   "outputs": [
    {
     "data": {
      "text/html": [
       "<table class=\"data-frame\"><thead><tr><th></th><th>step</th><th>amount</th><th>oldbalanceOrg</th><th>newbalanceOrig</th><th>oldbalanceDest</th><th>newbalanceDest</th><th>isFraud</th><th>CASH_OUT</th></tr></thead><tbody><tr><th>1</th><td>1</td><td>95636.49</td><td>0.0</td><td>0.0</td><td>359141.7</td><td>1.36336851e6</td><td>0</td><td>1</td></tr><tr><th>2</th><td>1</td><td>181.0</td><td>181.0</td><td>0.0</td><td>0.0</td><td>0.0</td><td>1</td><td>0</td></tr><tr><th>3</th><td>1</td><td>181.0</td><td>181.0</td><td>0.0</td><td>21182.0</td><td>0.0</td><td>1</td><td>1</td></tr><tr><th>4</th><td>1</td><td>2806.0</td><td>2806.0</td><td>0.0</td><td>0.0</td><td>0.0</td><td>1</td><td>0</td></tr><tr><th>5</th><td>1</td><td>2806.0</td><td>2806.0</td><td>0.0</td><td>26202.0</td><td>0.0</td><td>1</td><td>1</td></tr><tr><th>6</th><td>1</td><td>20128.0</td><td>20128.0</td><td>0.0</td><td>0.0</td><td>0.0</td><td>1</td><td>0</td></tr><tr><th>7</th><td>1</td><td>20128.0</td><td>20128.0</td><td>0.0</td><td>6268.0</td><td>12145.85</td><td>1</td><td>1</td></tr><tr><th>8</th><td>1</td><td>416001.33</td><td>0.0</td><td>0.0</td><td>102.0</td><td>9.29161962e6</td><td>1</td><td>1</td></tr><tr><th>9</th><td>1</td><td>1.27721277e6</td><td>1.27721277e6</td><td>0.0</td><td>0.0</td><td>0.0</td><td>1</td><td>0</td></tr><tr><th>10</th><td>1</td><td>1.27721277e6</td><td>1.27721277e6</td><td>0.0</td><td>0.0</td><td>2.44498519e6</td><td>1</td><td>1</td></tr><tr><th>11</th><td>1</td><td>35063.63</td><td>35063.63</td><td>0.0</td><td>0.0</td><td>0.0</td><td>1</td><td>0</td></tr><tr><th>12</th><td>1</td><td>35063.63</td><td>35063.63</td><td>0.0</td><td>31140.0</td><td>7550.03</td><td>1</td><td>1</td></tr><tr><th>13</th><td>1</td><td>25071.46</td><td>25071.46</td><td>0.0</td><td>0.0</td><td>0.0</td><td>1</td><td>0</td></tr><tr><th>14</th><td>1</td><td>25071.46</td><td>25071.46</td><td>0.0</td><td>9083.76</td><td>34155.22</td><td>1</td><td>1</td></tr><tr><th>15</th><td>1</td><td>132842.64</td><td>4499.08</td><td>0.0</td><td>0.0</td><td>132842.64</td><td>1</td><td>1</td></tr><tr><th>16</th><td>1</td><td>235238.66</td><td>235238.66</td><td>0.0</td><td>0.0</td><td>0.0</td><td>1</td><td>0</td></tr><tr><th>17</th><td>1</td><td>235238.66</td><td>235238.66</td><td>0.0</td><td>0.0</td><td>235238.66</td><td>1</td><td>1</td></tr><tr><th>18</th><td>2</td><td>1.09618724e6</td><td>1.09618724e6</td><td>0.0</td><td>0.0</td><td>0.0</td><td>1</td><td>0</td></tr><tr><th>19</th><td>2</td><td>1.09618724e6</td><td>1.09618724e6</td><td>0.0</td><td>0.0</td><td>1.09618724e6</td><td>1</td><td>1</td></tr><tr><th>20</th><td>2</td><td>963532.14</td><td>963532.14</td><td>0.0</td><td>0.0</td><td>0.0</td><td>1</td><td>0</td></tr><tr><th>21</th><td>2</td><td>963532.14</td><td>963532.14</td><td>0.0</td><td>132382.57</td><td>1.09591471e6</td><td>1</td><td>1</td></tr><tr><th>22</th><td>2</td><td>14949.84</td><td>14949.84</td><td>0.0</td><td>0.0</td><td>0.0</td><td>1</td><td>0</td></tr><tr><th>23</th><td>2</td><td>14949.84</td><td>14949.84</td><td>0.0</td><td>18161.79</td><td>33111.63</td><td>1</td><td>1</td></tr><tr><th>24</th><td>2</td><td>18627.02</td><td>18627.02</td><td>0.0</td><td>0.0</td><td>0.0</td><td>1</td><td>0</td></tr><tr><th>25</th><td>2</td><td>18627.02</td><td>18627.02</td><td>0.0</td><td>147251.58</td><td>165878.6</td><td>1</td><td>1</td></tr><tr><th>26</th><td>3</td><td>10539.37</td><td>10539.37</td><td>0.0</td><td>0.0</td><td>0.0</td><td>1</td><td>0</td></tr><tr><th>27</th><td>3</td><td>10539.37</td><td>10539.37</td><td>0.0</td><td>0.0</td><td>10539.37</td><td>1</td><td>1</td></tr><tr><th>28</th><td>3</td><td>22877.0</td><td>22877.0</td><td>0.0</td><td>0.0</td><td>0.0</td><td>1</td><td>0</td></tr><tr><th>29</th><td>3</td><td>22877.0</td><td>22877.0</td><td>0.0</td><td>0.0</td><td>22877.0</td><td>1</td><td>1</td></tr><tr><th>30</th><td>4</td><td>1.0e7</td><td>1.293041844e7</td><td>2.93041844e6</td><td>0.0</td><td>0.0</td><td>1</td><td>0</td></tr><tr><th>&vellip;</th><td>&vellip;</td><td>&vellip;</td><td>&vellip;</td><td>&vellip;</td><td>&vellip;</td><td>&vellip;</td><td>&vellip;</td><td>&vellip;</td></tr></tbody></table>"
      ],
      "text/plain": [
       "16426×8 DataFrames.DataFrame\n",
       "│ Row   │ step │ amount    │ oldbalanceOrg │ newbalanceOrig │ oldbalanceDest │\n",
       "├───────┼──────┼───────────┼───────────────┼────────────────┼────────────────┤\n",
       "│ 1     │ 1    │ 95636.5   │ 0.0           │ 0.0            │ 3.59142e5      │\n",
       "│ 2     │ 1    │ 181.0     │ 181.0         │ 0.0            │ 0.0            │\n",
       "│ 3     │ 1    │ 181.0     │ 181.0         │ 0.0            │ 21182.0        │\n",
       "│ 4     │ 1    │ 2806.0    │ 2806.0        │ 0.0            │ 0.0            │\n",
       "│ 5     │ 1    │ 2806.0    │ 2806.0        │ 0.0            │ 26202.0        │\n",
       "│ 6     │ 1    │ 20128.0   │ 20128.0       │ 0.0            │ 0.0            │\n",
       "│ 7     │ 1    │ 20128.0   │ 20128.0       │ 0.0            │ 6268.0         │\n",
       "│ 8     │ 1    │ 4.16001e5 │ 0.0           │ 0.0            │ 102.0          │\n",
       "│ 9     │ 1    │ 1.27721e6 │ 1.27721e6     │ 0.0            │ 0.0            │\n",
       "│ 10    │ 1    │ 1.27721e6 │ 1.27721e6     │ 0.0            │ 0.0            │\n",
       "│ 11    │ 1    │ 35063.6   │ 35063.6       │ 0.0            │ 0.0            │\n",
       "⋮\n",
       "│ 16415 │ 742  │ 2.58355e5 │ 2.58355e5     │ 0.0            │ 0.0            │\n",
       "│ 16416 │ 742  │ 2.58355e5 │ 2.58355e5     │ 0.0            │ 25176.7        │\n",
       "│ 16417 │ 742  │ 63417.0   │ 63417.0       │ 0.0            │ 0.0            │\n",
       "│ 16418 │ 742  │ 63417.0   │ 63417.0       │ 0.0            │ 2.76433e5      │\n",
       "│ 16419 │ 743  │ 1.25882e6 │ 1.25882e6     │ 0.0            │ 0.0            │\n",
       "│ 16420 │ 743  │ 1.25882e6 │ 1.25882e6     │ 0.0            │ 5.03465e5      │\n",
       "│ 16421 │ 743  │ 3.39682e5 │ 3.39682e5     │ 0.0            │ 0.0            │\n",
       "│ 16422 │ 743  │ 3.39682e5 │ 3.39682e5     │ 0.0            │ 0.0            │\n",
       "│ 16423 │ 743  │ 6.31141e6 │ 6.31141e6     │ 0.0            │ 0.0            │\n",
       "│ 16424 │ 743  │ 6.31141e6 │ 6.31141e6     │ 0.0            │ 68488.8        │\n",
       "│ 16425 │ 743  │ 8.50003e5 │ 8.50003e5     │ 0.0            │ 0.0            │\n",
       "│ 16426 │ 743  │ 8.50003e5 │ 8.50003e5     │ 0.0            │ 6.5101e6       │\n",
       "\n",
       "│ Row   │ newbalanceDest │ isFraud │ CASH_OUT │\n",
       "├───────┼────────────────┼─────────┼──────────┤\n",
       "│ 1     │ 1.36337e6      │ 0       │ 1        │\n",
       "│ 2     │ 0.0            │ 1       │ 0        │\n",
       "│ 3     │ 0.0            │ 1       │ 1        │\n",
       "│ 4     │ 0.0            │ 1       │ 0        │\n",
       "│ 5     │ 0.0            │ 1       │ 1        │\n",
       "│ 6     │ 0.0            │ 1       │ 0        │\n",
       "│ 7     │ 12145.9        │ 1       │ 1        │\n",
       "│ 8     │ 9.29162e6      │ 1       │ 1        │\n",
       "│ 9     │ 0.0            │ 1       │ 0        │\n",
       "│ 10    │ 2.44499e6      │ 1       │ 1        │\n",
       "│ 11    │ 0.0            │ 1       │ 0        │\n",
       "⋮\n",
       "│ 16415 │ 0.0            │ 1       │ 0        │\n",
       "│ 16416 │ 2.83532e5      │ 1       │ 1        │\n",
       "│ 16417 │ 0.0            │ 1       │ 0        │\n",
       "│ 16418 │ 3.3985e5       │ 1       │ 1        │\n",
       "│ 16419 │ 0.0            │ 1       │ 0        │\n",
       "│ 16420 │ 1.76228e6      │ 1       │ 1        │\n",
       "│ 16421 │ 0.0            │ 1       │ 0        │\n",
       "│ 16422 │ 3.39682e5      │ 1       │ 1        │\n",
       "│ 16423 │ 0.0            │ 1       │ 0        │\n",
       "│ 16424 │ 6.3799e6       │ 1       │ 1        │\n",
       "│ 16425 │ 0.0            │ 1       │ 0        │\n",
       "│ 16426 │ 7.3601e6       │ 1       │ 1        │"
      ]
     },
     "execution_count": 10,
     "metadata": {},
     "output_type": "execute_result"
    }
   ],
   "source": [
    "# Label Encoding-- Transaction Type\n",
    "data[:CASH_OUT] = ifelse.(data[:_type] .== \"CASH_OUT\",1,0) # The value 0 is for Transfer type transaction\n",
    "delete!(data,:_type)"
   ]
  },
  {
   "cell_type": "code",
   "execution_count": 11,
   "metadata": {},
   "outputs": [
    {
     "data": {
      "text/plain": [
       "(11498×8 DataFrames.DataFrame\n",
       "│ Row   │ step │ amount    │ oldbalanceOrg │ newbalanceOrig │ oldbalanceDest │\n",
       "├───────┼──────┼───────────┼───────────────┼────────────────┼────────────────┤\n",
       "│ 1     │ 398  │ 2.74714e5 │ 50871.0       │ 0.0            │ 2.06705e6      │\n",
       "│ 2     │ 207  │ 72955.5   │ 0.0           │ 0.0            │ 432919.0       │\n",
       "│ 3     │ 398  │ 162280.0  │ 0.0           │ 0.0            │ 2.27533e5      │\n",
       "│ 4     │ 153  │ 58130.0   │ 0.0           │ 0.0            │ 5.66828e5      │\n",
       "│ 5     │ 15   │ 2.48056e5 │ 2.48056e5     │ 0.0            │ 0.0            │\n",
       "│ 6     │ 69   │ 5.52148e6 │ 5.52148e6     │ 0.0            │ 0.0            │\n",
       "│ 7     │ 243  │ 5.04415e6 │ 5.04415e6     │ 0.0            │ 0.0            │\n",
       "│ 8     │ 247  │ 8.02421e5 │ 8.02421e5     │ 0.0            │ 1.18463e7      │\n",
       "│ 9     │ 8    │ 5160.96   │ 0.0           │ 0.0            │ 12142.6        │\n",
       "│ 10    │ 387  │ 1.0e7     │ 1.91109e7     │ 9.11088e6      │ 0.0            │\n",
       "│ 11    │ 35   │ 1.5126e5  │ 0.0           │ 0.0            │ 3.32812e5      │\n",
       "⋮\n",
       "│ 11487 │ 373  │ 1.14122e5 │ 4537.0        │ 0.0            │ 2.17618e6      │\n",
       "│ 11488 │ 249  │ 3.87967e6 │ 3.87967e6     │ 0.0            │ 0.0            │\n",
       "│ 11489 │ 625  │ 2.59103e5 │ 2.59103e5     │ 0.0            │ 15446.6        │\n",
       "│ 11490 │ 136  │ 3.64021e5 │ 10002.0       │ 0.0            │ 0.0            │\n",
       "│ 11491 │ 387  │ 1.0e7     │ 1.48922e7     │ 4.89219e6      │ 0.0            │\n",
       "│ 11492 │ 355  │ 87486.1   │ 0.0           │ 0.0            │ 1.38633e5      │\n",
       "│ 11493 │ 18   │ 2.32742e5 │ 0.0           │ 0.0            │ 3.94141e6      │\n",
       "│ 11494 │ 108  │ 7.06022e6 │ 7.06022e6     │ 0.0            │ 1.94244e5      │\n",
       "│ 11495 │ 397  │ 89043.2   │ 23086.0       │ 0.0            │ 0.0            │\n",
       "│ 11496 │ 33   │ 1.0e7     │ 1.0e7         │ 0.0            │ 0.0            │\n",
       "│ 11497 │ 702  │ 1.0e7     │ 1.0e7         │ 0.0            │ 0.0            │\n",
       "│ 11498 │ 212  │ 94261.8   │ 94261.8       │ 0.0            │ 1.12303e5      │\n",
       "\n",
       "│ Row   │ newbalanceDest │ isFraud │ CASH_OUT │\n",
       "├───────┼────────────────┼─────────┼──────────┤\n",
       "│ 1     │ 2.34177e6      │ 0       │ 1        │\n",
       "│ 2     │ 5.05874e5      │ 0       │ 1        │\n",
       "│ 3     │ 3.89813e5      │ 0       │ 1        │\n",
       "│ 4     │ 6.24958e5      │ 0       │ 1        │\n",
       "│ 5     │ 2.01427e5      │ 1       │ 1        │\n",
       "│ 6     │ 0.0            │ 1       │ 0        │\n",
       "│ 7     │ 5.04415e6      │ 1       │ 1        │\n",
       "│ 8     │ 1.26487e7      │ 1       │ 1        │\n",
       "│ 9     │ 17303.5        │ 0       │ 1        │\n",
       "│ 10    │ 0.0            │ 1       │ 0        │\n",
       "│ 11    │ 4.84072e5      │ 0       │ 1        │\n",
       "⋮\n",
       "│ 11487 │ 2.2903e6       │ 0       │ 1        │\n",
       "│ 11488 │ 0.0            │ 1       │ 0        │\n",
       "│ 11489 │ 2.7455e5       │ 1       │ 1        │\n",
       "│ 11490 │ 3.64021e5      │ 0       │ 1        │\n",
       "│ 11491 │ 0.0            │ 1       │ 0        │\n",
       "│ 11492 │ 2.26119e5      │ 0       │ 1        │\n",
       "│ 11493 │ 4.17416e6      │ 0       │ 1        │\n",
       "│ 11494 │ 7.25446e6      │ 1       │ 1        │\n",
       "│ 11495 │ 89043.2        │ 0       │ 1        │\n",
       "│ 11496 │ 1.0e7          │ 1       │ 1        │\n",
       "│ 11497 │ 1.0e7          │ 1       │ 1        │\n",
       "│ 11498 │ 206565.0       │ 1       │ 1        │, 4928×8 DataFrames.DataFrame\n",
       "│ Row  │ step │ amount    │ oldbalanceOrg │ newbalanceOrig │ oldbalanceDest │\n",
       "├──────┼──────┼───────────┼───────────────┼────────────────┼────────────────┤\n",
       "│ 1    │ 306  │ 2190.72   │ 2.5077e5      │ 2.48579e5      │ 1.15639e6      │\n",
       "│ 2    │ 111  │ 5.01496e5 │ 5.01496e5     │ 0.0            │ 0.0            │\n",
       "│ 3    │ 394  │ 1.14233e5 │ 19702.8       │ 0.0            │ 8.8769e5       │\n",
       "│ 4    │ 401  │ 50980.0   │ 0.0           │ 0.0            │ 5.84553e6      │\n",
       "│ 5    │ 358  │ 3.37118e5 │ 0.0           │ 0.0            │ 1.93675e6      │\n",
       "│ 6    │ 508  │ 3.85051e5 │ 3.85051e5     │ 0.0            │ 1.4829e6       │\n",
       "│ 7    │ 279  │ 45888.9   │ 107843.0      │ 61954.1        │ 140250.0       │\n",
       "│ 8    │ 244  │ 4.4486e6  │ 4.4486e6      │ 0.0            │ 3.1963e6       │\n",
       "│ 9    │ 211  │ 73636.9   │ 457.0         │ 0.0            │ 2.31323e5      │\n",
       "│ 10   │ 22   │ 13727.4   │ 0.0           │ 0.0            │ 99282.6        │\n",
       "│ 11   │ 544  │ 4.12668e5 │ 4.12668e5     │ 0.0            │ 1.44505e6      │\n",
       "⋮\n",
       "│ 4917 │ 139  │ 4.8503e5  │ 0.0           │ 0.0            │ 4.93846e5      │\n",
       "│ 4918 │ 403  │ 65318.1   │ 0.0           │ 0.0            │ 9.7321e6       │\n",
       "│ 4919 │ 237  │ 1.50303e6 │ 1.50303e6     │ 0.0            │ 0.0            │\n",
       "│ 4920 │ 131  │ 1.22382e5 │ 0.0           │ 0.0            │ 484533.0       │\n",
       "│ 4921 │ 283  │ 5.40761e5 │ 0.0           │ 0.0            │ 3.66222e6      │\n",
       "│ 4922 │ 241  │ 1.28719e5 │ 1.28719e5     │ 0.0            │ 0.0            │\n",
       "│ 4923 │ 327  │ 1.05263e5 │ 105.0         │ 0.0            │ 0.0            │\n",
       "│ 4924 │ 208  │ 1.89277e5 │ 12653.0       │ 0.0            │ 3.45272e6      │\n",
       "│ 4925 │ 363  │ 6.92895e5 │ 6.92895e5     │ 0.0            │ 7.1635e5       │\n",
       "│ 4926 │ 87   │ 1.14339e5 │ 1.14339e5     │ 0.0            │ 0.0            │\n",
       "│ 4927 │ 32   │ 4.01575e5 │ 4.01575e5     │ 0.0            │ 0.0            │\n",
       "│ 4928 │ 348  │ 8.01562e5 │ 2.96823e5     │ 0.0            │ 1.82708e6      │\n",
       "\n",
       "│ Row  │ newbalanceDest │ isFraud │ CASH_OUT │\n",
       "├──────┼────────────────┼─────────┼──────────┤\n",
       "│ 1    │ 1.15858e6      │ 0       │ 1        │\n",
       "│ 2    │ 5.01496e5      │ 1       │ 1        │\n",
       "│ 3    │ 1.00192e6      │ 0       │ 1        │\n",
       "│ 4    │ 5.89651e6      │ 0       │ 1        │\n",
       "│ 5    │ 2.27387e6      │ 0       │ 1        │\n",
       "│ 6    │ 1.86795e6      │ 1       │ 1        │\n",
       "│ 7    │ 1.86139e5      │ 0       │ 1        │\n",
       "│ 8    │ 7.6449e6       │ 1       │ 1        │\n",
       "│ 9    │ 4.13413e5      │ 0       │ 1        │\n",
       "│ 10   │ 113010.0       │ 0       │ 1        │\n",
       "│ 11   │ 1.85772e6      │ 1       │ 1        │\n",
       "⋮\n",
       "│ 4917 │ 9.78876e5      │ 0       │ 0        │\n",
       "│ 4918 │ 9.79742e6      │ 0       │ 1        │\n",
       "│ 4919 │ 0.0            │ 1       │ 0        │\n",
       "│ 4920 │ 6.06915e5      │ 0       │ 1        │\n",
       "│ 4921 │ 4.20298e6      │ 0       │ 1        │\n",
       "│ 4922 │ 0.0            │ 1       │ 0        │\n",
       "│ 4923 │ 1.05263e5      │ 0       │ 1        │\n",
       "│ 4924 │ 3.642e6        │ 0       │ 1        │\n",
       "│ 4925 │ 1.40925e6      │ 1       │ 1        │\n",
       "│ 4926 │ 0.0            │ 1       │ 0        │\n",
       "│ 4927 │ 4.01575e5      │ 1       │ 1        │\n",
       "│ 4928 │ 2.62864e6      │ 0       │ 0        │)"
      ]
     },
     "execution_count": 11,
     "metadata": {},
     "output_type": "execute_result"
    }
   ],
   "source": [
    "# Partition Data into Train and Test datasets\n",
    "function partitionTrainTest(data, at = 0.7)\n",
    "    n = nrow(data)\n",
    "    idx = shuffle(1:n)\n",
    "    train_idx = view(idx, 1:floor(Int, at*n))\n",
    "    test_idx = view(idx, (floor(Int, at*n)+1):n)\n",
    "    data[train_idx,:], data[test_idx,:]\n",
    "end\n",
    "\n",
    "train,test = partitionTrainTest(data, 0.7) # 70% train"
   ]
  },
  {
   "cell_type": "code",
   "execution_count": 12,
   "metadata": {},
   "outputs": [
    {
     "name": "stdout",
     "output_type": "stream",
     "text": [
      "11498×8 DataFrames.DataFrame\n",
      "│ Col # │ Name           │ Eltype  │ Missing │\n",
      "├───────┼────────────────┼─────────┼─────────┤\n",
      "│ 1     │ step           │ Int64   │ 0       │\n",
      "│ 2     │ amount         │ Float64 │ 0       │\n",
      "│ 3     │ oldbalanceOrg  │ Float64 │ 0       │\n",
      "│ 4     │ newbalanceOrig │ Float64 │ 0       │\n",
      "│ 5     │ oldbalanceDest │ Float64 │ 0       │\n",
      "│ 6     │ newbalanceDest │ Float64 │ 0       │\n",
      "│ 7     │ isFraud        │ Int64   │ 0       │\n",
      "│ 8     │ CASH_OUT       │ Int64   │ 0       │"
     ]
    }
   ],
   "source": [
    "# Missing value imputation\n",
    "showcols(train)\n",
    "# There is no missing value, therefore this step is not required"
   ]
  },
  {
   "cell_type": "code",
   "execution_count": 13,
   "metadata": {},
   "outputs": [
    {
     "data": {
      "text/html": [
       "<table class=\"data-frame\"><thead><tr><th></th><th>step</th><th>amount</th><th>oldbalanceOrg</th><th>newbalanceOrig</th><th>oldbalanceDest</th><th>newbalanceDest</th><th>CASH_OUT</th></tr></thead><tbody><tr><th>1</th><td>306</td><td>2190.72</td><td>250769.92</td><td>248579.2</td><td>1.15638638e6</td><td>1.1585771e6</td><td>1</td></tr><tr><th>2</th><td>111</td><td>501496.31</td><td>501496.31</td><td>0.0</td><td>0.0</td><td>501496.31</td><td>1</td></tr><tr><th>3</th><td>394</td><td>114232.6</td><td>19702.75</td><td>0.0</td><td>887690.49</td><td>1.0019231e6</td><td>1</td></tr><tr><th>4</th><td>401</td><td>50979.99</td><td>0.0</td><td>0.0</td><td>5.84552741e6</td><td>5.89650739e6</td><td>1</td></tr><tr><th>5</th><td>358</td><td>337117.89</td><td>0.0</td><td>0.0</td><td>1.93674748e6</td><td>2.27386536e6</td><td>1</td></tr><tr><th>6</th><td>508</td><td>385050.58</td><td>385050.58</td><td>0.0</td><td>1.48289976e6</td><td>1.86795034e6</td><td>1</td></tr><tr><th>7</th><td>279</td><td>45888.9</td><td>107843.0</td><td>61954.1</td><td>140250.02</td><td>186138.91</td><td>1</td></tr><tr><th>8</th><td>244</td><td>4.44859893e6</td><td>4.44859893e6</td><td>0.0</td><td>3.1963046e6</td><td>7.64490353e6</td><td>1</td></tr><tr><th>9</th><td>211</td><td>73636.95</td><td>457.0</td><td>0.0</td><td>231323.37</td><td>413413.36</td><td>1</td></tr><tr><th>10</th><td>22</td><td>13727.36</td><td>0.0</td><td>0.0</td><td>99282.64</td><td>113010.0</td><td>1</td></tr><tr><th>11</th><td>544</td><td>412668.39</td><td>412668.39</td><td>0.0</td><td>1.44504747e6</td><td>1.85771586e6</td><td>1</td></tr><tr><th>12</th><td>625</td><td>1.0e7</td><td>1.0e7</td><td>0.0</td><td>2.16085893e6</td><td>1.216085893e7</td><td>1</td></tr><tr><th>13</th><td>451</td><td>475693.24</td><td>475693.24</td><td>0.0</td><td>0.0</td><td>0.0</td><td>0</td></tr><tr><th>14</th><td>208</td><td>134861.82</td><td>134861.82</td><td>0.0</td><td>0.0</td><td>134861.82</td><td>1</td></tr><tr><th>15</th><td>185</td><td>194180.11</td><td>194180.11</td><td>0.0</td><td>489160.24</td><td>683340.35</td><td>1</td></tr><tr><th>16</th><td>38</td><td>1494.23</td><td>34638.0</td><td>33143.77</td><td>76753.92</td><td>78248.15</td><td>1</td></tr><tr><th>17</th><td>66</td><td>7.16912994e6</td><td>7.16912994e6</td><td>0.0</td><td>0.0</td><td>0.0</td><td>0</td></tr><tr><th>18</th><td>565</td><td>1.29395725e6</td><td>1006.0</td><td>0.0</td><td>0.0</td><td>1.29395725e6</td><td>0</td></tr><tr><th>19</th><td>269</td><td>676882.33</td><td>676882.33</td><td>0.0</td><td>0.0</td><td>0.0</td><td>0</td></tr><tr><th>20</th><td>378</td><td>350530.56</td><td>0.0</td><td>0.0</td><td>1.564213347e7</td><td>1.599266403e7</td><td>1</td></tr><tr><th>21</th><td>132</td><td>21046.5</td><td>10622.0</td><td>0.0</td><td>1.36257898e6</td><td>1.38362548e6</td><td>1</td></tr><tr><th>22</th><td>519</td><td>108994.49</td><td>108994.49</td><td>0.0</td><td>0.0</td><td>0.0</td><td>0</td></tr><tr><th>23</th><td>149</td><td>29832.81</td><td>29832.81</td><td>0.0</td><td>0.0</td><td>0.0</td><td>0</td></tr><tr><th>24</th><td>227</td><td>231443.33</td><td>0.0</td><td>0.0</td><td>1.10661951e6</td><td>1.33806284e6</td><td>1</td></tr><tr><th>25</th><td>210</td><td>19606.94</td><td>60332.0</td><td>40725.06</td><td>402444.08</td><td>422051.02</td><td>1</td></tr><tr><th>26</th><td>180</td><td>3.60819152e6</td><td>3.60819152e6</td><td>0.0</td><td>41219.64</td><td>3.64941115e6</td><td>1</td></tr><tr><th>27</th><td>467</td><td>171623.1</td><td>171623.1</td><td>0.0</td><td>0.0</td><td>0.0</td><td>0</td></tr><tr><th>28</th><td>531</td><td>4791.06</td><td>4791.06</td><td>0.0</td><td>4.81460217e6</td><td>4.81939323e6</td><td>1</td></tr><tr><th>29</th><td>203</td><td>151713.43</td><td>18492.0</td><td>0.0</td><td>0.0</td><td>151713.43</td><td>1</td></tr><tr><th>30</th><td>534</td><td>671516.68</td><td>671516.68</td><td>0.0</td><td>57926.23</td><td>729442.9</td><td>1</td></tr><tr><th>&vellip;</th><td>&vellip;</td><td>&vellip;</td><td>&vellip;</td><td>&vellip;</td><td>&vellip;</td><td>&vellip;</td><td>&vellip;</td></tr></tbody></table>"
      ],
      "text/plain": [
       "4928×7 DataFrames.DataFrame\n",
       "│ Row  │ step │ amount    │ oldbalanceOrg │ newbalanceOrig │ oldbalanceDest │\n",
       "├──────┼──────┼───────────┼───────────────┼────────────────┼────────────────┤\n",
       "│ 1    │ 306  │ 2190.72   │ 2.5077e5      │ 2.48579e5      │ 1.15639e6      │\n",
       "│ 2    │ 111  │ 5.01496e5 │ 5.01496e5     │ 0.0            │ 0.0            │\n",
       "│ 3    │ 394  │ 1.14233e5 │ 19702.8       │ 0.0            │ 8.8769e5       │\n",
       "│ 4    │ 401  │ 50980.0   │ 0.0           │ 0.0            │ 5.84553e6      │\n",
       "│ 5    │ 358  │ 3.37118e5 │ 0.0           │ 0.0            │ 1.93675e6      │\n",
       "│ 6    │ 508  │ 3.85051e5 │ 3.85051e5     │ 0.0            │ 1.4829e6       │\n",
       "│ 7    │ 279  │ 45888.9   │ 107843.0      │ 61954.1        │ 140250.0       │\n",
       "│ 8    │ 244  │ 4.4486e6  │ 4.4486e6      │ 0.0            │ 3.1963e6       │\n",
       "│ 9    │ 211  │ 73636.9   │ 457.0         │ 0.0            │ 2.31323e5      │\n",
       "│ 10   │ 22   │ 13727.4   │ 0.0           │ 0.0            │ 99282.6        │\n",
       "│ 11   │ 544  │ 4.12668e5 │ 4.12668e5     │ 0.0            │ 1.44505e6      │\n",
       "⋮\n",
       "│ 4917 │ 139  │ 4.8503e5  │ 0.0           │ 0.0            │ 4.93846e5      │\n",
       "│ 4918 │ 403  │ 65318.1   │ 0.0           │ 0.0            │ 9.7321e6       │\n",
       "│ 4919 │ 237  │ 1.50303e6 │ 1.50303e6     │ 0.0            │ 0.0            │\n",
       "│ 4920 │ 131  │ 1.22382e5 │ 0.0           │ 0.0            │ 484533.0       │\n",
       "│ 4921 │ 283  │ 5.40761e5 │ 0.0           │ 0.0            │ 3.66222e6      │\n",
       "│ 4922 │ 241  │ 1.28719e5 │ 1.28719e5     │ 0.0            │ 0.0            │\n",
       "│ 4923 │ 327  │ 1.05263e5 │ 105.0         │ 0.0            │ 0.0            │\n",
       "│ 4924 │ 208  │ 1.89277e5 │ 12653.0       │ 0.0            │ 3.45272e6      │\n",
       "│ 4925 │ 363  │ 6.92895e5 │ 6.92895e5     │ 0.0            │ 7.1635e5       │\n",
       "│ 4926 │ 87   │ 1.14339e5 │ 1.14339e5     │ 0.0            │ 0.0            │\n",
       "│ 4927 │ 32   │ 4.01575e5 │ 4.01575e5     │ 0.0            │ 0.0            │\n",
       "│ 4928 │ 348  │ 8.01562e5 │ 2.96823e5     │ 0.0            │ 1.82708e6      │\n",
       "\n",
       "│ Row  │ newbalanceDest │ CASH_OUT │\n",
       "├──────┼────────────────┼──────────┤\n",
       "│ 1    │ 1.15858e6      │ 1        │\n",
       "│ 2    │ 5.01496e5      │ 1        │\n",
       "│ 3    │ 1.00192e6      │ 1        │\n",
       "│ 4    │ 5.89651e6      │ 1        │\n",
       "│ 5    │ 2.27387e6      │ 1        │\n",
       "│ 6    │ 1.86795e6      │ 1        │\n",
       "│ 7    │ 1.86139e5      │ 1        │\n",
       "│ 8    │ 7.6449e6       │ 1        │\n",
       "│ 9    │ 4.13413e5      │ 1        │\n",
       "│ 10   │ 113010.0       │ 1        │\n",
       "│ 11   │ 1.85772e6      │ 1        │\n",
       "⋮\n",
       "│ 4917 │ 9.78876e5      │ 0        │\n",
       "│ 4918 │ 9.79742e6      │ 1        │\n",
       "│ 4919 │ 0.0            │ 0        │\n",
       "│ 4920 │ 6.06915e5      │ 1        │\n",
       "│ 4921 │ 4.20298e6      │ 1        │\n",
       "│ 4922 │ 0.0            │ 0        │\n",
       "│ 4923 │ 1.05263e5      │ 1        │\n",
       "│ 4924 │ 3.642e6        │ 1        │\n",
       "│ 4925 │ 1.40925e6      │ 1        │\n",
       "│ 4926 │ 0.0            │ 0        │\n",
       "│ 4927 │ 4.01575e5      │ 1        │\n",
       "│ 4928 │ 2.62864e6      │ 0        │"
      ]
     },
     "execution_count": 13,
     "metadata": {},
     "output_type": "execute_result"
    }
   ],
   "source": [
    "y_train = train[:,:isFraud]\n",
    "X_train = train[:,[1,2,3,4,5,6,8]]\n",
    "y_test = test[:,:isFraud]\n",
    "X_test = test[:,[1,2,3,4,5,6,8]]"
   ]
  },
  {
   "cell_type": "code",
   "execution_count": 14,
   "metadata": {},
   "outputs": [
    {
     "data": {
      "text/plain": [
       "4928-element Array{Int64,1}:\n",
       " 0\n",
       " 1\n",
       " 0\n",
       " 0\n",
       " 0\n",
       " 1\n",
       " 0\n",
       " 1\n",
       " 0\n",
       " 0\n",
       " 1\n",
       " 1\n",
       " 1\n",
       " ⋮\n",
       " 0\n",
       " 0\n",
       " 1\n",
       " 0\n",
       " 0\n",
       " 1\n",
       " 0\n",
       " 0\n",
       " 1\n",
       " 1\n",
       " 1\n",
       " 0"
      ]
     },
     "execution_count": 14,
     "metadata": {},
     "output_type": "execute_result"
    }
   ],
   "source": [
    "# Convert all the datasets in to arrays\n",
    "# Convert data types for all the columns in training dataset to float type\n",
    "for c = eachcol(X_train)\n",
    "  if eltype(c[2]) <: Integer\n",
    "    X_train[c[1]] = X_train[c[1]] .* 1.0\n",
    "  end\n",
    "end\n",
    "\n",
    "for c = eachcol(X_test)\n",
    "  if eltype(c[2]) <: Integer\n",
    "    X_test[c[1]] = X_test[c[1]] .* 1.0\n",
    "  end\n",
    "end\n",
    "\n",
    "X_train1 = convert(Array, X_train)\n",
    "X_test1 = convert(Array, X_test)\n",
    "y_train1 = convert(Array, y_train)\n",
    "y_test1 = convert(Array, y_test)"
   ]
  },
  {
   "cell_type": "code",
   "execution_count": 15,
   "metadata": {},
   "outputs": [
    {
     "data": {
      "text/plain": [
       "fit_transform! (generic function with 1 method)"
      ]
     },
     "execution_count": 15,
     "metadata": {},
     "output_type": "execute_result"
    }
   ],
   "source": [
    "# Build a standard scaler\n",
    "type StandardScalar\n",
    "    mean::Vector{Float64}\n",
    "    std::Vector{Float64}\n",
    "end\n",
    "\n",
    "# Helper function to initialize an empty scalar\n",
    "function StandardScalar()\n",
    "    StandardScalar(Array(Float64,0),Array(Float64,0))\n",
    "end\n",
    "\n",
    "# Compute mean and standard deviation of each column\n",
    "function fit_std_scalar!(std_scalar::StandardScalar,X::Matrix{Float64})\n",
    "    n_rows, n_cols = size(X)\n",
    "    std_scalar.std = zeros(n_cols)\n",
    "    std_scalar.mean = zeros(n_cols)\n",
    "    # for loops are fast again!\n",
    "    for i = 1:n_cols\n",
    "        std_scalar.mean[i] = mean(X[:,i])\n",
    "        std_scalar.std[i] = std(X[:,i])\n",
    "    end\n",
    "end\n",
    "\n",
    "function transform(std_scalar::StandardScalar,X::Matrix{Float64})\n",
    "    (X .- std_scalar.mean') ./ std_scalar.std' # broadcasting\n",
    "end\n",
    "\n",
    "# fit and transform in one function\n",
    "function fit_transform!(std_scalar::StandardScalar,X::Matrix{Float64})\n",
    "    fit_std_scalar!(std_scalar,X)\n",
    "    transform(std_scalar,X)\n",
    "end"
   ]
  },
  {
   "cell_type": "code",
   "execution_count": 16,
   "metadata": {},
   "outputs": [
    {
     "name": "stderr",
     "output_type": "stream",
     "text": [
      "\u001b[1m\u001b[33mWARNING: \u001b[39m\u001b[22m\u001b[33mArray(::Type{T}, m::Int) where T is deprecated, use Array{T}(m) instead.\u001b[39m\n",
      "Stacktrace:\n",
      " [1] \u001b[1mdepwarn\u001b[22m\u001b[22m\u001b[1m(\u001b[22m\u001b[22m::String, ::Symbol\u001b[1m)\u001b[22m\u001b[22m at \u001b[1m.\\deprecated.jl:70\u001b[22m\u001b[22m\n",
      " [2] \u001b[1mArray\u001b[22m\u001b[22m\u001b[1m(\u001b[22m\u001b[22m::Type{Float64}, ::Int64\u001b[1m)\u001b[22m\u001b[22m at \u001b[1m.\\deprecated.jl:57\u001b[22m\u001b[22m\n",
      " [3] \u001b[1mStandardScalar\u001b[22m\u001b[22m\u001b[1m(\u001b[22m\u001b[22m\u001b[1m)\u001b[22m\u001b[22m at \u001b[1m.\\In[15]:9\u001b[22m\u001b[22m\n",
      " [4] \u001b[1minclude_string\u001b[22m\u001b[22m\u001b[1m(\u001b[22m\u001b[22m::String, ::String\u001b[1m)\u001b[22m\u001b[22m at \u001b[1m.\\loading.jl:522\u001b[22m\u001b[22m\n",
      " [5] \u001b[1minclude_string\u001b[22m\u001b[22m\u001b[1m(\u001b[22m\u001b[22m::Module, ::String, ::String\u001b[1m)\u001b[22m\u001b[22m at \u001b[1mC:\\\\\\\\\\\\\\\\\\\\\\\\\\\\\\\\\\\\\\\\\\\\\\\\\\\\\\\\\\\\\\\\\\\\\\\\\\\\\\\\\\\\\\\\\\\\\\\\\\\\\\\\\\\\\\\\\\\\\\\\\\\\\\\\\\\\\\\\\\\\\\\\\\\\\\\\\\\\\\\\\\JuliaPro-0.6.2.2\\pkgs-0.6.2.2\\v0.6\\Compat\\src\\Compat.jl:71\u001b[22m\u001b[22m\n",
      " [6] \u001b[1mexecute_request\u001b[22m\u001b[22m\u001b[1m(\u001b[22m\u001b[22m::ZMQ.Socket, ::IJulia.Msg\u001b[1m)\u001b[22m\u001b[22m at \u001b[1mC:\\JuliaPro-0.6.2.2\\pkgs-0.6.2.2\\v0.6\\IJulia\\src\\execute_request.jl:158\u001b[22m\u001b[22m\n",
      " [7] \u001b[1m(::Compat.#inner#17{Array{Any,1},IJulia.#execute_request,Tuple{ZMQ.Socket,IJulia.Msg}})\u001b[22m\u001b[22m\u001b[1m(\u001b[22m\u001b[22m\u001b[1m)\u001b[22m\u001b[22m at \u001b[1mC:\\\\\\\\\\\\\\\\\\\\\\\\\\\\\\\\\\\\\\\\\\\\\\\\\\\\\\\\\\\\\\\\\\\\\\\\\\\\\\\\\\\\\\\\\\\\\\\\\\\\\\\\\\\\\\\\\\\\\\\\\\\\\\\\\\\\\\\\\\\\\\\\\\\\\\\\\\\\\\\\\\JuliaPro-0.6.2.2\\pkgs-0.6.2.2\\v0.6\\Compat\\src\\Compat.jl:385\u001b[22m\u001b[22m\n",
      " [8] \u001b[1meventloop\u001b[22m\u001b[22m\u001b[1m(\u001b[22m\u001b[22m::ZMQ.Socket\u001b[1m)\u001b[22m\u001b[22m at \u001b[1mC:\\JuliaPro-0.6.2.2\\pkgs-0.6.2.2\\v0.6\\IJulia\\src\\eventloop.jl:8\u001b[22m\u001b[22m\n",
      " [9] \u001b[1m(::IJulia.##14#17)\u001b[22m\u001b[22m\u001b[1m(\u001b[22m\u001b[22m\u001b[1m)\u001b[22m\u001b[22m at \u001b[1m.\\task.jl:335\u001b[22m\u001b[22m\n",
      "while loading In[16], in expression starting on line 2\n"
     ]
    },
    {
     "data": {
      "text/plain": [
       "4928×7 Array{Float64,2}:\n",
       "  0.00732553  -0.476816   -0.224642   …   0.010536   -0.137676    0.721284\n",
       " -1.00181     -0.208619   -0.130842      -0.346932   -0.316511    0.721284\n",
       "  0.462729    -0.416633   -0.311086      -0.0725246  -0.180312    0.721284\n",
       "  0.498954    -0.450609   -0.318457       1.46007     1.15182     0.721284\n",
       "  0.276428    -0.296913   -0.318457       0.251765    0.165867    0.721284\n",
       "  1.05268     -0.271166   -0.174406   …   0.111469    0.0553906   0.721284\n",
       " -0.132401    -0.453343   -0.278112      -0.303577   -0.40234     0.721284\n",
       " -0.313527     1.91153     1.34581        0.641126    1.62768     0.721284\n",
       " -0.484303    -0.438439   -0.318286      -0.275424   -0.340484    0.721284\n",
       " -1.46239     -0.470619   -0.318457      -0.316241   -0.422243    0.721284\n",
       "  1.23898     -0.256332   -0.164074   …   0.0997684   0.0526051   0.721284\n",
       "  1.65816      4.89341     3.42264        0.321044    2.85676     0.721284\n",
       "  0.757706    -0.222478   -0.140496      -0.346932   -0.453001   -1.3863  \n",
       "  ⋮                                   ⋱               ⋮                   \n",
       " -0.856906    -0.217463   -0.318457      -0.194272   -0.186585   -1.3863  \n",
       "  0.509304    -0.442907   -0.318457       2.6615      2.21352     0.721284\n",
       " -0.349752     0.329348    0.243843      -0.346932   -0.453001   -1.3863  \n",
       " -0.898306    -0.412256   -0.318457      -0.197151   -0.287819    0.721284\n",
       " -0.1117      -0.187528   -0.318457   …   0.78515     0.690904    0.721284\n",
       " -0.329052    -0.408852   -0.270302      -0.346932   -0.453001   -1.3863  \n",
       "  0.116001    -0.421451   -0.318418      -0.346932   -0.424352    0.721284\n",
       " -0.499828    -0.376324   -0.313723       0.720391    0.538226    0.721284\n",
       "  0.302303    -0.105811   -0.0592383     -0.12549    -0.069453    0.721284\n",
       " -1.12601     -0.416576   -0.275682   …  -0.346932   -0.453001   -1.3863  \n",
       " -1.41064     -0.26229    -0.168224      -0.346932   -0.343706    0.721284\n",
       "  0.224677    -0.0474415  -0.207413       0.217865    0.262425   -1.3863  "
      ]
     },
     "execution_count": 16,
     "metadata": {},
     "output_type": "execute_result"
    }
   ],
   "source": [
    "# Perform Standard Scaling for all X variables\n",
    "std_scalar = StandardScalar()\n",
    "\n",
    "X_train1 = fit_transform!(std_scalar,X_train1)\n",
    "X_test1 = transform(std_scalar,X_test1)"
   ]
  },
  {
   "cell_type": "code",
   "execution_count": 17,
   "metadata": {},
   "outputs": [
    {
     "data": {
      "text/plain": [
       "11498×7 Array{Float64,2}:\n",
       "  0.483429  -0.330432   -0.299426   …   0.292045   0.184347   0.721284\n",
       " -0.505003  -0.438805   -0.318457      -0.213106  -0.315319   0.721284\n",
       "  0.483429  -0.390825   -0.318457      -0.276596  -0.346907   0.721284\n",
       " -0.784456  -0.446768   -0.318457      -0.171711  -0.282909   0.721284\n",
       " -1.49861   -0.344751   -0.225657      -0.346932  -0.398179   0.721284\n",
       " -1.21916    2.48782     1.74718    …  -0.346932  -0.453001  -1.3863  \n",
       " -0.318702   2.23142     1.56861       -0.346932   0.919841   0.721284\n",
       " -0.298002  -0.0469797  -0.0182636      3.31504    2.98953    0.721284\n",
       " -1.53484   -0.47522    -0.318457      -0.343178  -0.448291   0.721284\n",
       "  0.426504   4.89341     6.83111       -0.346932  -0.453001  -1.3863  \n",
       " -1.39511   -0.396745   -0.318457   …  -0.244051  -0.321253   0.721284\n",
       " -0.323877  -0.248003   -0.158273      -0.327226  -0.319117   0.721284\n",
       "  0.359228   0.579331    0.417952      -0.346932  -0.453001  -1.3863  \n",
       "  ⋮                                 ⋱              ⋮                  \n",
       "  0.354053  -0.416693   -0.31676        0.325778   0.170339   0.721284\n",
       " -0.287652   1.60593     1.13296       -0.346932  -0.453001  -1.3863  \n",
       "  1.65816   -0.338818   -0.221524      -0.342157  -0.378278   0.721284\n",
       " -0.872431  -0.282462   -0.314715      -0.346932  -0.353927   0.721284\n",
       "  0.426504   4.89341     5.25285    …  -0.346932  -0.453001  -1.3863  \n",
       "  0.260902  -0.431      -0.318457      -0.304077  -0.391459   0.721284\n",
       " -1.48309   -0.352977   -0.318457       0.871458   0.68306    0.721284\n",
       " -1.01733    3.31433     2.32284       -0.286886   1.52141    0.721284\n",
       "  0.478254  -0.430164   -0.30982       -0.346932  -0.428766   0.721284\n",
       " -1.40546    4.89341     3.42264    …  -0.346932   2.26865    0.721284\n",
       "  2.05664    4.89341     3.42264       -0.346932   2.26865    0.721284\n",
       " -0.479128  -0.42736    -0.283193      -0.312216  -0.396781   0.721284"
      ]
     },
     "execution_count": 17,
     "metadata": {},
     "output_type": "execute_result"
    }
   ],
   "source": [
    "labels= y_train1\n",
    "features= X_train1"
   ]
  },
  {
   "cell_type": "code",
   "execution_count": 18,
   "metadata": {},
   "outputs": [],
   "source": [
    "# Apply Artificial Neural Network\n",
    "using ANN"
   ]
  },
  {
   "cell_type": "code",
   "execution_count": 19,
   "metadata": {},
   "outputs": [
    {
     "name": "stderr",
     "output_type": "stream",
     "text": [
      "\u001b[1m\u001b[33mWARNING: \u001b[39m\u001b[22m\u001b[33mArray(::Type{T}, m::Int) where T is deprecated, use Array{T}(m) instead.\u001b[39m\n",
      "Stacktrace:\n",
      " [1] \u001b[1mdepwarn\u001b[22m\u001b[22m\u001b[1m(\u001b[22m\u001b[22m::String, ::Symbol\u001b[1m)\u001b[22m\u001b[22m at \u001b[1m.\\deprecated.jl:70\u001b[22m\u001b[22m\n",
      " [2] \u001b[1mArray\u001b[22m\u001b[22m\u001b[1m(\u001b[22m\u001b[22m::Type{ANN.NeuralLayer}, ::Int64\u001b[1m)\u001b[22m\u001b[22m at \u001b[1m.\\deprecated.jl:57\u001b[22m\u001b[22m\n",
      " [3] \u001b[1mANN.ArtificialNeuralNetwork\u001b[22m\u001b[22m\u001b[1m(\u001b[22m\u001b[22m::Int64\u001b[1m)\u001b[22m\u001b[22m at \u001b[1mC:\\Users\\veer\\.julia\\v0.6\\ANN\\src\\base.jl:60\u001b[22m\u001b[22m\n",
      " [4] \u001b[1minclude_string\u001b[22m\u001b[22m\u001b[1m(\u001b[22m\u001b[22m::String, ::String\u001b[1m)\u001b[22m\u001b[22m at \u001b[1m.\\loading.jl:522\u001b[22m\u001b[22m\n",
      " [5] \u001b[1minclude_string\u001b[22m\u001b[22m\u001b[1m(\u001b[22m\u001b[22m::Module, ::String, ::String\u001b[1m)\u001b[22m\u001b[22m at \u001b[1mC:\\\\\\\\\\\\\\\\\\\\\\\\\\\\\\\\\\\\\\\\\\\\\\\\\\\\\\\\\\\\\\\\\\\\\\\\\\\\\\\\\\\\\\\\\\\\\\\\\\\\\\\\\\\\\\\\\\\\\\\\\\\\\\\\\\\\\\\\\\\\\\\\\\\\\\\\\\\\\\\\\\JuliaPro-0.6.2.2\\pkgs-0.6.2.2\\v0.6\\Compat\\src\\Compat.jl:71\u001b[22m\u001b[22m\n",
      " [6] \u001b[1mexecute_request\u001b[22m\u001b[22m\u001b[1m(\u001b[22m\u001b[22m::ZMQ.Socket, ::IJulia.Msg\u001b[1m)\u001b[22m\u001b[22m at \u001b[1mC:\\JuliaPro-0.6.2.2\\pkgs-0.6.2.2\\v0.6\\IJulia\\src\\execute_request.jl:158\u001b[22m\u001b[22m\n",
      " [7] \u001b[1m(::Compat.#inner#17{Array{Any,1},IJulia.#execute_request,Tuple{ZMQ.Socket,IJulia.Msg}})\u001b[22m\u001b[22m\u001b[1m(\u001b[22m\u001b[22m\u001b[1m)\u001b[22m\u001b[22m at \u001b[1mC:\\\\\\\\\\\\\\\\\\\\\\\\\\\\\\\\\\\\\\\\\\\\\\\\\\\\\\\\\\\\\\\\\\\\\\\\\\\\\\\\\\\\\\\\\\\\\\\\\\\\\\\\\\\\\\\\\\\\\\\\\\\\\\\\\\\\\\\\\\\\\\\\\\\\\\\\\\\\\\\\\\JuliaPro-0.6.2.2\\pkgs-0.6.2.2\\v0.6\\Compat\\src\\Compat.jl:385\u001b[22m\u001b[22m\n",
      " [8] \u001b[1meventloop\u001b[22m\u001b[22m\u001b[1m(\u001b[22m\u001b[22m::ZMQ.Socket\u001b[1m)\u001b[22m\u001b[22m at \u001b[1mC:\\JuliaPro-0.6.2.2\\pkgs-0.6.2.2\\v0.6\\IJulia\\src\\eventloop.jl:8\u001b[22m\u001b[22m\n",
      " [9] \u001b[1m(::IJulia.##14#17)\u001b[22m\u001b[22m\u001b[1m(\u001b[22m\u001b[22m\u001b[1m)\u001b[22m\u001b[22m at \u001b[1m.\\task.jl:335\u001b[22m\u001b[22m\n",
      "while loading In[19], in expression starting on line 1\n"
     ]
    },
    {
     "data": {
      "text/plain": [
       "ANN.ArtificialNeuralNetwork(ANN.NeuralLayer[], [32], Int64[])"
      ]
     },
     "execution_count": 19,
     "metadata": {},
     "output_type": "execute_result"
    }
   ],
   "source": [
    "ann = ArtificialNeuralNetwork(32)"
   ]
  },
  {
   "cell_type": "code",
   "execution_count": 20,
   "metadata": {},
   "outputs": [],
   "source": [
    "using ANN: fit!, predict"
   ]
  },
  {
   "cell_type": "code",
   "execution_count": 21,
   "metadata": {},
   "outputs": [
    {
     "name": "stderr",
     "output_type": "stream",
     "text": [
      "\u001b[1m\u001b[33mWARNING: \u001b[39m\u001b[22m\u001b[33mArray(::Type{T}, m::Int) where T is deprecated, use Array{T}(m) instead.\u001b[39m\n",
      "Stacktrace:\n",
      " [1] \u001b[1mdepwarn\u001b[22m\u001b[22m\u001b[1m(\u001b[22m\u001b[22m::String, ::Symbol\u001b[1m)\u001b[22m\u001b[22m at \u001b[1m.\\deprecated.jl:70\u001b[22m\u001b[22m\n",
      " [2] \u001b[1mArray\u001b[22m\u001b[22m\u001b[1m(\u001b[22m\u001b[22m::Type{ANN.NeuralLayer}, ::Int64\u001b[1m)\u001b[22m\u001b[22m at \u001b[1m.\\deprecated.jl:57\u001b[22m\u001b[22m\n",
      " [3] \u001b[1minit!\u001b[22m\u001b[22m\u001b[1m(\u001b[22m\u001b[22m::ANN.ArtificialNeuralNetwork, ::Array{Float64,2}, ::Array{Int64,1}\u001b[1m)\u001b[22m\u001b[22m at \u001b[1mC:\\Users\\veer\\.julia\\v0.6\\ANN\\src\\base.jl:80\u001b[22m\u001b[22m\n",
      " [4] \u001b[1m#fit!#3\u001b[22m\u001b[22m\u001b[1m(\u001b[22m\u001b[22m::Int64, ::Float64, ::Float64, ::Function, ::ANN.ArtificialNeuralNetwork, ::Array{Float64,2}, ::Array{Int64,1}\u001b[1m)\u001b[22m\u001b[22m at \u001b[1mC:\\Users\\veer\\.julia\\v0.6\\ANN\\src\\base.jl:101\u001b[22m\u001b[22m\n",
      " [5] \u001b[1m(::ANN.#kw##fit!)\u001b[22m\u001b[22m\u001b[1m(\u001b[22m\u001b[22m::Array{Any,1}, ::ANN.#fit!, ::ANN.ArtificialNeuralNetwork, ::Array{Float64,2}, ::Array{Int64,1}\u001b[1m)\u001b[22m\u001b[22m at \u001b[1m.\\<missing>:0\u001b[22m\u001b[22m\n",
      " [6] \u001b[1minclude_string\u001b[22m\u001b[22m\u001b[1m(\u001b[22m\u001b[22m::String, ::String\u001b[1m)\u001b[22m\u001b[22m at \u001b[1m.\\loading.jl:522\u001b[22m\u001b[22m\n",
      " [7] \u001b[1minclude_string\u001b[22m\u001b[22m\u001b[1m(\u001b[22m\u001b[22m::Module, ::String, ::String\u001b[1m)\u001b[22m\u001b[22m at \u001b[1mC:\\\\\\\\\\\\\\\\\\\\\\\\\\\\\\\\\\\\\\\\\\\\\\\\\\\\\\\\\\\\\\\\\\\\\\\\\\\\\\\\\\\\\\\\\\\\\\\\\\\\\\\\\\\\\\\\\\\\\\\\\\\\\\\\\\\\\\\\\\\\\\\\\\\\\\\\\\\\\\\\\\JuliaPro-0.6.2.2\\pkgs-0.6.2.2\\v0.6\\Compat\\src\\Compat.jl:71\u001b[22m\u001b[22m\n",
      " [8] \u001b[1mexecute_request\u001b[22m\u001b[22m\u001b[1m(\u001b[22m\u001b[22m::ZMQ.Socket, ::IJulia.Msg\u001b[1m)\u001b[22m\u001b[22m at \u001b[1mC:\\JuliaPro-0.6.2.2\\pkgs-0.6.2.2\\v0.6\\IJulia\\src\\execute_request.jl:158\u001b[22m\u001b[22m\n",
      " [9] \u001b[1m(::Compat.#inner#17{Array{Any,1},IJulia.#execute_request,Tuple{ZMQ.Socket,IJulia.Msg}})\u001b[22m\u001b[22m\u001b[1m(\u001b[22m\u001b[22m\u001b[1m)\u001b[22m\u001b[22m at \u001b[1mC:\\\\\\\\\\\\\\\\\\\\\\\\\\\\\\\\\\\\\\\\\\\\\\\\\\\\\\\\\\\\\\\\\\\\\\\\\\\\\\\\\\\\\\\\\\\\\\\\\\\\\\\\\\\\\\\\\\\\\\\\\\\\\\\\\\\\\\\\\\\\\\\\\\\\\\\\\\\\\\\\\\JuliaPro-0.6.2.2\\pkgs-0.6.2.2\\v0.6\\Compat\\src\\Compat.jl:385\u001b[22m\u001b[22m\n",
      " [10] \u001b[1meventloop\u001b[22m\u001b[22m\u001b[1m(\u001b[22m\u001b[22m::ZMQ.Socket\u001b[1m)\u001b[22m\u001b[22m at \u001b[1mC:\\JuliaPro-0.6.2.2\\pkgs-0.6.2.2\\v0.6\\IJulia\\src\\eventloop.jl:8\u001b[22m\u001b[22m\n",
      " [11] \u001b[1m(::IJulia.##14#17)\u001b[22m\u001b[22m\u001b[1m(\u001b[22m\u001b[22m\u001b[1m)\u001b[22m\u001b[22m at \u001b[1m.\\task.jl:335\u001b[22m\u001b[22m\n",
      "while loading In[21], in expression starting on line 1\n",
      "\u001b[1m\u001b[33mWARNING: \u001b[39m\u001b[22m\u001b[33mexp(x::AbstractArray{T}) where T <: Number is deprecated, use exp.(x) instead.\u001b[39m\n",
      "Stacktrace:\n",
      " [1] \u001b[1mdepwarn\u001b[22m\u001b[22m\u001b[1m(\u001b[22m\u001b[22m::String, ::Symbol\u001b[1m)\u001b[22m\u001b[22m at \u001b[1m.\\deprecated.jl:70\u001b[22m\u001b[22m\n",
      " [2] \u001b[1mexp\u001b[22m\u001b[22m\u001b[1m(\u001b[22m\u001b[22m::Array{Float64,1}\u001b[1m)\u001b[22m\u001b[22m at \u001b[1m.\\deprecated.jl:57\u001b[22m\u001b[22m\n",
      " [3] \u001b[1msigm\u001b[22m\u001b[22m\u001b[1m(\u001b[22m\u001b[22m::Array{Float64,1}\u001b[1m)\u001b[22m\u001b[22m at \u001b[1mC:\\Users\\veer\\.julia\\v0.6\\ANN\\src\\base.jl:20\u001b[22m\u001b[22m\n",
      " [4] \u001b[1mforward_propagate\u001b[22m\u001b[22m\u001b[1m(\u001b[22m\u001b[22m::ANN.NeuralLayer, ::Array{Float64,1}\u001b[1m)\u001b[22m\u001b[22m at \u001b[1mC:\\Users\\veer\\.julia\\v0.6\\ANN\\src\\base.jl:68\u001b[22m\u001b[22m\n",
      " [5] \u001b[1mpredict\u001b[22m\u001b[22m\u001b[1m(\u001b[22m\u001b[22m::ANN.ArtificialNeuralNetwork, ::Array{Float64,1}\u001b[1m)\u001b[22m\u001b[22m at \u001b[1mC:\\Users\\veer\\.julia\\v0.6\\ANN\\src\\base.jl:136\u001b[22m\u001b[22m\n",
      " [6] \u001b[1m#fit!#3\u001b[22m\u001b[22m\u001b[1m(\u001b[22m\u001b[22m::Int64, ::Float64, ::Float64, ::Function, ::ANN.ArtificialNeuralNetwork, ::Array{Float64,2}, ::Array{Int64,1}\u001b[1m)\u001b[22m\u001b[22m at \u001b[1mC:\\Users\\veer\\.julia\\v0.6\\ANN\\src\\base.jl:110\u001b[22m\u001b[22m\n",
      " [7] \u001b[1m(::ANN.#kw##fit!)\u001b[22m\u001b[22m\u001b[1m(\u001b[22m\u001b[22m::Array{Any,1}, ::ANN.#fit!, ::ANN.ArtificialNeuralNetwork, ::Array{Float64,2}, ::Array{Int64,1}\u001b[1m)\u001b[22m\u001b[22m at \u001b[1m.\\<missing>:0\u001b[22m\u001b[22m\n",
      " [8] \u001b[1minclude_string\u001b[22m\u001b[22m\u001b[1m(\u001b[22m\u001b[22m::String, ::String\u001b[1m)\u001b[22m\u001b[22m at \u001b[1m.\\loading.jl:522\u001b[22m\u001b[22m\n",
      " [9] \u001b[1minclude_string\u001b[22m\u001b[22m\u001b[1m(\u001b[22m\u001b[22m::Module, ::String, ::String\u001b[1m)\u001b[22m\u001b[22m at \u001b[1mC:\\\\\\\\\\\\\\\\\\\\\\\\\\\\\\\\\\\\\\\\\\\\\\\\\\\\\\\\\\\\\\\\\\\\\\\\\\\\\\\\\\\\\\\\\\\\\\\\\\\\\\\\\\\\\\\\\\\\\\\\\\\\\\\\\\\\\\\\\\\\\\\\\\\\\\\\\\\\\\\\\\JuliaPro-0.6.2.2\\pkgs-0.6.2.2\\v0.6\\Compat\\src\\Compat.jl:71\u001b[22m\u001b[22m\n",
      " [10] \u001b[1mexecute_request\u001b[22m\u001b[22m\u001b[1m(\u001b[22m\u001b[22m::ZMQ.Socket, ::IJulia.Msg\u001b[1m)\u001b[22m\u001b[22m at \u001b[1mC:\\JuliaPro-0.6.2.2\\pkgs-0.6.2.2\\v0.6\\IJulia\\src\\execute_request.jl:158\u001b[22m\u001b[22m\n",
      " [11] \u001b[1m(::Compat.#inner#17{Array{Any,1},IJulia.#execute_request,Tuple{ZMQ.Socket,IJulia.Msg}})\u001b[22m\u001b[22m\u001b[1m(\u001b[22m\u001b[22m\u001b[1m)\u001b[22m\u001b[22m at \u001b[1mC:\\\\\\\\\\\\\\\\\\\\\\\\\\\\\\\\\\\\\\\\\\\\\\\\\\\\\\\\\\\\\\\\\\\\\\\\\\\\\\\\\\\\\\\\\\\\\\\\\\\\\\\\\\\\\\\\\\\\\\\\\\\\\\\\\\\\\\\\\\\\\\\\\\\\\\\\\\\\\\\\\\JuliaPro-0.6.2.2\\pkgs-0.6.2.2\\v0.6\\Compat\\src\\Compat.jl:385\u001b[22m\u001b[22m\n",
      " [12] \u001b[1meventloop\u001b[22m\u001b[22m\u001b[1m(\u001b[22m\u001b[22m::ZMQ.Socket\u001b[1m)\u001b[22m\u001b[22m at \u001b[1mC:\\JuliaPro-0.6.2.2\\pkgs-0.6.2.2\\v0.6\\IJulia\\src\\eventloop.jl:8\u001b[22m\u001b[22m\n",
      " [13] \u001b[1m(::IJulia.##14#17)\u001b[22m\u001b[22m\u001b[1m(\u001b[22m\u001b[22m\u001b[1m)\u001b[22m\u001b[22m at \u001b[1m.\\task.jl:335\u001b[22m\u001b[22m\n",
      "while loading In[21], in expression starting on line 1\n",
      "\u001b[1m\u001b[33mWARNING: \u001b[39m\u001b[22m\u001b[33mexp(x::AbstractArray{T}) where T <: Number is deprecated, use exp.(x) instead.\u001b[39m\n",
      "Stacktrace:\n",
      " [1] \u001b[1mdepwarn\u001b[22m\u001b[22m\u001b[1m(\u001b[22m\u001b[22m::String, ::Symbol\u001b[1m)\u001b[22m\u001b[22m at \u001b[1m.\\deprecated.jl:70\u001b[22m\u001b[22m\n",
      " [2] \u001b[1mexp\u001b[22m\u001b[22m\u001b[1m(\u001b[22m\u001b[22m::Array{Float64,1}\u001b[1m)\u001b[22m\u001b[22m at \u001b[1m.\\deprecated.jl:57\u001b[22m\u001b[22m\n",
      " [3] \u001b[1msoftmax\u001b[22m\u001b[22m\u001b[1m(\u001b[22m\u001b[22m::Array{Float64,1}\u001b[1m)\u001b[22m\u001b[22m at \u001b[1mC:\\Users\\veer\\.julia\\v0.6\\ANN\\src\\base.jl:55\u001b[22m\u001b[22m\n",
      " [4] \u001b[1mforward_propagate\u001b[22m\u001b[22m\u001b[1m(\u001b[22m\u001b[22m::ANN.NeuralLayer, ::Array{Float64,1}\u001b[1m)\u001b[22m\u001b[22m at \u001b[1mC:\\Users\\veer\\.julia\\v0.6\\ANN\\src\\base.jl:68\u001b[22m\u001b[22m\n",
      " [5] \u001b[1mpredict\u001b[22m\u001b[22m\u001b[1m(\u001b[22m\u001b[22m::ANN.ArtificialNeuralNetwork, ::Array{Float64,1}\u001b[1m)\u001b[22m\u001b[22m at \u001b[1mC:\\Users\\veer\\.julia\\v0.6\\ANN\\src\\base.jl:136\u001b[22m\u001b[22m\n",
      " [6] \u001b[1m#fit!#3\u001b[22m\u001b[22m\u001b[1m(\u001b[22m\u001b[22m::Int64, ::Float64, ::Float64, ::Function, ::ANN.ArtificialNeuralNetwork, ::Array{Float64,2}, ::Array{Int64,1}\u001b[1m)\u001b[22m\u001b[22m at \u001b[1mC:\\Users\\veer\\.julia\\v0.6\\ANN\\src\\base.jl:110\u001b[22m\u001b[22m\n",
      " [7] \u001b[1m(::ANN.#kw##fit!)\u001b[22m\u001b[22m\u001b[1m(\u001b[22m\u001b[22m::Array{Any,1}, ::ANN.#fit!, ::ANN.ArtificialNeuralNetwork, ::Array{Float64,2}, ::Array{Int64,1}\u001b[1m)\u001b[22m\u001b[22m at \u001b[1m.\\<missing>:0\u001b[22m\u001b[22m\n",
      " [8] \u001b[1minclude_string\u001b[22m\u001b[22m\u001b[1m(\u001b[22m\u001b[22m::String, ::String\u001b[1m)\u001b[22m\u001b[22m at \u001b[1m.\\loading.jl:522\u001b[22m\u001b[22m\n",
      " [9] \u001b[1minclude_string\u001b[22m\u001b[22m\u001b[1m(\u001b[22m\u001b[22m::Module, ::String, ::String\u001b[1m)\u001b[22m\u001b[22m at \u001b[1mC:\\\\\\\\\\\\\\\\\\\\\\\\\\\\\\\\\\\\\\\\\\\\\\\\\\\\\\\\\\\\\\\\\\\\\\\\\\\\\\\\\\\\\\\\\\\\\\\\\\\\\\\\\\\\\\\\\\\\\\\\\\\\\\\\\\\\\\\\\\\\\\\\\\\\\\\\\\\\\\\\\\JuliaPro-0.6.2.2\\pkgs-0.6.2.2\\v0.6\\Compat\\src\\Compat.jl:71\u001b[22m\u001b[22m\n",
      " [10] \u001b[1mexecute_request\u001b[22m\u001b[22m\u001b[1m(\u001b[22m\u001b[22m::ZMQ.Socket, ::IJulia.Msg\u001b[1m)\u001b[22m\u001b[22m at \u001b[1mC:\\JuliaPro-0.6.2.2\\pkgs-0.6.2.2\\v0.6\\IJulia\\src\\execute_request.jl:158\u001b[22m\u001b[22m\n",
      " [11] \u001b[1m(::Compat.#inner#17{Array{Any,1},IJulia.#execute_request,Tuple{ZMQ.Socket,IJulia.Msg}})\u001b[22m\u001b[22m\u001b[1m(\u001b[22m\u001b[22m\u001b[1m)\u001b[22m\u001b[22m at \u001b[1mC:\\\\\\\\\\\\\\\\\\\\\\\\\\\\\\\\\\\\\\\\\\\\\\\\\\\\\\\\\\\\\\\\\\\\\\\\\\\\\\\\\\\\\\\\\\\\\\\\\\\\\\\\\\\\\\\\\\\\\\\\\\\\\\\\\\\\\\\\\\\\\\\\\\\\\\\\\\\\\\\\\\JuliaPro-0.6.2.2\\pkgs-0.6.2.2\\v0.6\\Compat\\src\\Compat.jl:385\u001b[22m\u001b[22m\n",
      " [12] \u001b[1meventloop\u001b[22m\u001b[22m\u001b[1m(\u001b[22m\u001b[22m::ZMQ.Socket\u001b[1m)\u001b[22m\u001b[22m at \u001b[1mC:\\JuliaPro-0.6.2.2\\pkgs-0.6.2.2\\v0.6\\IJulia\\src\\eventloop.jl:8\u001b[22m\u001b[22m\n",
      " [13] \u001b[1m(::IJulia.##14#17)\u001b[22m\u001b[22m\u001b[1m(\u001b[22m\u001b[22m\u001b[1m)\u001b[22m\u001b[22m at \u001b[1m.\\task.jl:335\u001b[22m\u001b[22m\n",
      "while loading In[21], in expression starting on line 1\n"
     ]
    }
   ],
   "source": [
    "fit!(ann,features,labels,epochs=30,alpha=0.1,lambda=1e-5)"
   ]
  },
  {
   "cell_type": "code",
   "execution_count": 22,
   "metadata": {},
   "outputs": [
    {
     "name": "stderr",
     "output_type": "stream",
     "text": [
      "\u001b[1m\u001b[33mWARNING: \u001b[39m\u001b[22m\u001b[33mexp(x::AbstractArray{T}) where T <: Number is deprecated, use exp.(x) instead.\u001b[39m\n",
      "Stacktrace:\n",
      " [1] \u001b[1mdepwarn\u001b[22m\u001b[22m\u001b[1m(\u001b[22m\u001b[22m::String, ::Symbol\u001b[1m)\u001b[22m\u001b[22m at \u001b[1m.\\deprecated.jl:70\u001b[22m\u001b[22m\n",
      " [2] \u001b[1mexp\u001b[22m\u001b[22m\u001b[1m(\u001b[22m\u001b[22m::Array{Float64,1}\u001b[1m)\u001b[22m\u001b[22m at \u001b[1m.\\deprecated.jl:57\u001b[22m\u001b[22m\n",
      " [3] \u001b[1msigm\u001b[22m\u001b[22m\u001b[1m(\u001b[22m\u001b[22m::Array{Float64,1}\u001b[1m)\u001b[22m\u001b[22m at \u001b[1mC:\\Users\\veer\\.julia\\v0.6\\ANN\\src\\base.jl:20\u001b[22m\u001b[22m\n",
      " [4] \u001b[1mforward_propagate\u001b[22m\u001b[22m\u001b[1m(\u001b[22m\u001b[22m::ANN.NeuralLayer, ::Array{Float64,1}\u001b[1m)\u001b[22m\u001b[22m at \u001b[1mC:\\Users\\veer\\.julia\\v0.6\\ANN\\src\\base.jl:68\u001b[22m\u001b[22m\n",
      " [5] \u001b[1mpredict\u001b[22m\u001b[22m\u001b[1m(\u001b[22m\u001b[22m::ANN.ArtificialNeuralNetwork, ::Array{Float64,1}\u001b[1m)\u001b[22m\u001b[22m at \u001b[1mC:\\Users\\veer\\.julia\\v0.6\\ANN\\src\\base.jl:136\u001b[22m\u001b[22m\n",
      " [6] \u001b[1mpredict\u001b[22m\u001b[22m\u001b[1m(\u001b[22m\u001b[22m::ANN.ArtificialNeuralNetwork, ::Array{Float64,2}\u001b[1m)\u001b[22m\u001b[22m at \u001b[1mC:\\Users\\veer\\.julia\\v0.6\\ANN\\src\\base.jl:146\u001b[22m\u001b[22m\n",
      " [7] \u001b[1minclude_string\u001b[22m\u001b[22m\u001b[1m(\u001b[22m\u001b[22m::String, ::String\u001b[1m)\u001b[22m\u001b[22m at \u001b[1m.\\loading.jl:522\u001b[22m\u001b[22m\n",
      " [8] \u001b[1minclude_string\u001b[22m\u001b[22m\u001b[1m(\u001b[22m\u001b[22m::Module, ::String, ::String\u001b[1m)\u001b[22m\u001b[22m at \u001b[1mC:\\\\\\\\\\\\\\\\\\\\\\\\\\\\\\\\\\\\\\\\\\\\\\\\\\\\\\\\\\\\\\\\\\\\\\\\\\\\\\\\\\\\\\\\\\\\\\\\\\\\\\\\\\\\\\\\\\\\\\\\\\\\\\\\\\\\\\\\\\\\\\\\\\\\\\\\\\\\\\\\\\JuliaPro-0.6.2.2\\pkgs-0.6.2.2\\v0.6\\Compat\\src\\Compat.jl:71\u001b[22m\u001b[22m\n",
      " [9] \u001b[1mexecute_request\u001b[22m\u001b[22m\u001b[1m(\u001b[22m\u001b[22m::ZMQ.Socket, ::IJulia.Msg\u001b[1m)\u001b[22m\u001b[22m at \u001b[1mC:\\JuliaPro-0.6.2.2\\pkgs-0.6.2.2\\v0.6\\IJulia\\src\\execute_request.jl:158\u001b[22m\u001b[22m\n",
      " [10] \u001b[1m(::Compat.#inner#17{Array{Any,1},IJulia.#execute_request,Tuple{ZMQ.Socket,IJulia.Msg}})\u001b[22m\u001b[22m\u001b[1m(\u001b[22m\u001b[22m\u001b[1m)\u001b[22m\u001b[22m at \u001b[1mC:\\\\\\\\\\\\\\\\\\\\\\\\\\\\\\\\\\\\\\\\\\\\\\\\\\\\\\\\\\\\\\\\\\\\\\\\\\\\\\\\\\\\\\\\\\\\\\\\\\\\\\\\\\\\\\\\\\\\\\\\\\\\\\\\\\\\\\\\\\\\\\\\\\\\\\\\\\\\\\\\\\JuliaPro-0.6.2.2\\pkgs-0.6.2.2\\v0.6\\Compat\\src\\Compat.jl:385\u001b[22m\u001b[22m\n",
      " [11] \u001b[1meventloop\u001b[22m\u001b[22m\u001b[1m(\u001b[22m\u001b[22m::ZMQ.Socket\u001b[1m)\u001b[22m\u001b[22m at \u001b[1mC:\\JuliaPro-0.6.2.2\\pkgs-0.6.2.2\\v0.6\\IJulia\\src\\eventloop.jl:8\u001b[22m\u001b[22m\n",
      " [12] \u001b[1m(::IJulia.##14#17)\u001b[22m\u001b[22m\u001b[1m(\u001b[22m\u001b[22m\u001b[1m)\u001b[22m\u001b[22m at \u001b[1m.\\task.jl:335\u001b[22m\u001b[22m\n",
      "while loading In[22], in expression starting on line 1\n",
      "\u001b[1m\u001b[33mWARNING: \u001b[39m\u001b[22m\u001b[33mexp(x::AbstractArray{T}) where T <: Number is deprecated, use exp.(x) instead.\u001b[39m\n",
      "Stacktrace:\n",
      " [1] \u001b[1mdepwarn\u001b[22m\u001b[22m\u001b[1m(\u001b[22m\u001b[22m::String, ::Symbol\u001b[1m)\u001b[22m\u001b[22m at \u001b[1m.\\deprecated.jl:70\u001b[22m\u001b[22m\n",
      " [2] \u001b[1mexp\u001b[22m\u001b[22m\u001b[1m(\u001b[22m\u001b[22m::Array{Float64,1}\u001b[1m)\u001b[22m\u001b[22m at \u001b[1m.\\deprecated.jl:57\u001b[22m\u001b[22m\n",
      " [3] \u001b[1msoftmax\u001b[22m\u001b[22m\u001b[1m(\u001b[22m\u001b[22m::Array{Float64,1}\u001b[1m)\u001b[22m\u001b[22m at \u001b[1mC:\\Users\\veer\\.julia\\v0.6\\ANN\\src\\base.jl:55\u001b[22m\u001b[22m\n",
      " [4] \u001b[1mforward_propagate\u001b[22m\u001b[22m\u001b[1m(\u001b[22m\u001b[22m::ANN.NeuralLayer, ::Array{Float64,1}\u001b[1m)\u001b[22m\u001b[22m at \u001b[1mC:\\Users\\veer\\.julia\\v0.6\\ANN\\src\\base.jl:68\u001b[22m\u001b[22m\n",
      " [5] \u001b[1mpredict\u001b[22m\u001b[22m\u001b[1m(\u001b[22m\u001b[22m::ANN.ArtificialNeuralNetwork, ::Array{Float64,1}\u001b[1m)\u001b[22m\u001b[22m at \u001b[1mC:\\Users\\veer\\.julia\\v0.6\\ANN\\src\\base.jl:136\u001b[22m\u001b[22m\n",
      " [6] \u001b[1mpredict\u001b[22m\u001b[22m\u001b[1m(\u001b[22m\u001b[22m::ANN.ArtificialNeuralNetwork, ::Array{Float64,2}\u001b[1m)\u001b[22m\u001b[22m at \u001b[1mC:\\Users\\veer\\.julia\\v0.6\\ANN\\src\\base.jl:146\u001b[22m\u001b[22m\n",
      " [7] \u001b[1minclude_string\u001b[22m\u001b[22m\u001b[1m(\u001b[22m\u001b[22m::String, ::String\u001b[1m)\u001b[22m\u001b[22m at \u001b[1m.\\loading.jl:522\u001b[22m\u001b[22m\n",
      " [8] \u001b[1minclude_string\u001b[22m\u001b[22m\u001b[1m(\u001b[22m\u001b[22m::Module, ::String, ::String\u001b[1m)\u001b[22m\u001b[22m at \u001b[1mC:\\\\\\\\\\\\\\\\\\\\\\\\\\\\\\\\\\\\\\\\\\\\\\\\\\\\\\\\\\\\\\\\\\\\\\\\\\\\\\\\\\\\\\\\\\\\\\\\\\\\\\\\\\\\\\\\\\\\\\\\\\\\\\\\\\\\\\\\\\\\\\\\\\\\\\\\\\\\\\\\\\JuliaPro-0.6.2.2\\pkgs-0.6.2.2\\v0.6\\Compat\\src\\Compat.jl:71\u001b[22m\u001b[22m\n",
      " [9] \u001b[1mexecute_request\u001b[22m\u001b[22m\u001b[1m(\u001b[22m\u001b[22m::ZMQ.Socket, ::IJulia.Msg\u001b[1m)\u001b[22m\u001b[22m at \u001b[1mC:\\JuliaPro-0.6.2.2\\pkgs-0.6.2.2\\v0.6\\IJulia\\src\\execute_request.jl:158\u001b[22m\u001b[22m\n",
      " [10] \u001b[1m(::Compat.#inner#17{Array{Any,1},IJulia.#execute_request,Tuple{ZMQ.Socket,IJulia.Msg}})\u001b[22m\u001b[22m\u001b[1m(\u001b[22m\u001b[22m\u001b[1m)\u001b[22m\u001b[22m at \u001b[1mC:\\\\\\\\\\\\\\\\\\\\\\\\\\\\\\\\\\\\\\\\\\\\\\\\\\\\\\\\\\\\\\\\\\\\\\\\\\\\\\\\\\\\\\\\\\\\\\\\\\\\\\\\\\\\\\\\\\\\\\\\\\\\\\\\\\\\\\\\\\\\\\\\\\\\\\\\\\\\\\\\\\JuliaPro-0.6.2.2\\pkgs-0.6.2.2\\v0.6\\Compat\\src\\Compat.jl:385\u001b[22m\u001b[22m\n",
      " [11] \u001b[1meventloop\u001b[22m\u001b[22m\u001b[1m(\u001b[22m\u001b[22m::ZMQ.Socket\u001b[1m)\u001b[22m\u001b[22m at \u001b[1mC:\\JuliaPro-0.6.2.2\\pkgs-0.6.2.2\\v0.6\\IJulia\\src\\eventloop.jl:8\u001b[22m\u001b[22m\n",
      " [12] \u001b[1m(::IJulia.##14#17)\u001b[22m\u001b[22m\u001b[1m(\u001b[22m\u001b[22m\u001b[1m)\u001b[22m\u001b[22m at \u001b[1m.\\task.jl:335\u001b[22m\u001b[22m\n",
      "while loading In[22], in expression starting on line 1\n"
     ]
    },
    {
     "data": {
      "text/plain": [
       "4928×2 Array{Float64,2}:\n",
       " 0.999298     0.000702128\n",
       " 0.00453598   0.995464   \n",
       " 0.960278     0.0397224  \n",
       " 0.917955     0.0820449  \n",
       " 0.99978      0.000219829\n",
       " 0.00444003   0.99556    \n",
       " 0.876659     0.123341   \n",
       " 2.20967e-11  1.0        \n",
       " 0.940728     0.0592724  \n",
       " 0.397855     0.602145   \n",
       " 0.00290874   0.997091   \n",
       " 2.94127e-15  1.0        \n",
       " 9.27742e-5   0.999907   \n",
       " ⋮                       \n",
       " 0.999971     2.87605e-5 \n",
       " 0.960553     0.0394471  \n",
       " 1.63191e-10  1.0        \n",
       " 0.961507     0.038493   \n",
       " 0.999955     4.51646e-5 \n",
       " 0.0434036    0.956596   \n",
       " 0.965299     0.0347006  \n",
       " 0.990748     0.00925243 \n",
       " 0.000495766  0.999504   \n",
       " 0.0134309    0.986569   \n",
       " 0.0115933    0.988407   \n",
       " 0.999957     4.25875e-5 "
      ]
     },
     "execution_count": 22,
     "metadata": {},
     "output_type": "execute_result"
    }
   ],
   "source": [
    "y_proba = predict(ann,X_test1)"
   ]
  },
  {
   "cell_type": "code",
   "execution_count": 23,
   "metadata": {},
   "outputs": [
    {
     "name": "stderr",
     "output_type": "stream",
     "text": [
      "\u001b[1m\u001b[33mWARNING: \u001b[39m\u001b[22m\u001b[33mArray(::Type{T}, m::Int) where T is deprecated, use Array{T}(m) instead.\u001b[39m\n",
      "Stacktrace:\n",
      " [1] \u001b[1mdepwarn\u001b[22m\u001b[22m\u001b[1m(\u001b[22m\u001b[22m::String, ::Symbol\u001b[1m)\u001b[22m\u001b[22m at \u001b[1m.\\deprecated.jl:70\u001b[22m\u001b[22m\n",
      " [2] \u001b[1mArray\u001b[22m\u001b[22m\u001b[1m(\u001b[22m\u001b[22m::Type{Int64}, ::Int64\u001b[1m)\u001b[22m\u001b[22m at \u001b[1m.\\deprecated.jl:57\u001b[22m\u001b[22m\n",
      " [3] \u001b[1minclude_string\u001b[22m\u001b[22m\u001b[1m(\u001b[22m\u001b[22m::String, ::String\u001b[1m)\u001b[22m\u001b[22m at \u001b[1m.\\loading.jl:522\u001b[22m\u001b[22m\n",
      " [4] \u001b[1minclude_string\u001b[22m\u001b[22m\u001b[1m(\u001b[22m\u001b[22m::Module, ::String, ::String\u001b[1m)\u001b[22m\u001b[22m at \u001b[1mC:\\\\\\\\\\\\\\\\\\\\\\\\\\\\\\\\\\\\\\\\\\\\\\\\\\\\\\\\\\\\\\\\\\\\\\\\\\\\\\\\\\\\\\\\\\\\\\\\\\\\\\\\\\\\\\\\\\\\\\\\\\\\\\\\\\\\\\\\\\\\\\\\\\\\\\\\\\\\\\\\\\JuliaPro-0.6.2.2\\pkgs-0.6.2.2\\v0.6\\Compat\\src\\Compat.jl:71\u001b[22m\u001b[22m\n",
      " [5] \u001b[1mexecute_request\u001b[22m\u001b[22m\u001b[1m(\u001b[22m\u001b[22m::ZMQ.Socket, ::IJulia.Msg\u001b[1m)\u001b[22m\u001b[22m at \u001b[1mC:\\JuliaPro-0.6.2.2\\pkgs-0.6.2.2\\v0.6\\IJulia\\src\\execute_request.jl:158\u001b[22m\u001b[22m\n",
      " [6] \u001b[1m(::Compat.#inner#17{Array{Any,1},IJulia.#execute_request,Tuple{ZMQ.Socket,IJulia.Msg}})\u001b[22m\u001b[22m\u001b[1m(\u001b[22m\u001b[22m\u001b[1m)\u001b[22m\u001b[22m at \u001b[1mC:\\\\\\\\\\\\\\\\\\\\\\\\\\\\\\\\\\\\\\\\\\\\\\\\\\\\\\\\\\\\\\\\\\\\\\\\\\\\\\\\\\\\\\\\\\\\\\\\\\\\\\\\\\\\\\\\\\\\\\\\\\\\\\\\\\\\\\\\\\\\\\\\\\\\\\\\\\\\\\\\\\JuliaPro-0.6.2.2\\pkgs-0.6.2.2\\v0.6\\Compat\\src\\Compat.jl:385\u001b[22m\u001b[22m\n",
      " [7] \u001b[1meventloop\u001b[22m\u001b[22m\u001b[1m(\u001b[22m\u001b[22m::ZMQ.Socket\u001b[1m)\u001b[22m\u001b[22m at \u001b[1mC:\\JuliaPro-0.6.2.2\\pkgs-0.6.2.2\\v0.6\\IJulia\\src\\eventloop.jl:8\u001b[22m\u001b[22m\n",
      " [8] \u001b[1m(::IJulia.##14#17)\u001b[22m\u001b[22m\u001b[1m(\u001b[22m\u001b[22m\u001b[1m)\u001b[22m\u001b[22m at \u001b[1m.\\task.jl:335\u001b[22m\u001b[22m\n",
      "while loading In[23], in expression starting on line 1\n"
     ]
    },
    {
     "data": {
      "text/plain": [
       "4928-element Array{Int64,1}:\n",
       "  930111576\n",
       "  930111592\n",
       "  930111640\n",
       "  930111814\n",
       " 4294967296\n",
       "          0\n",
       "          0\n",
       "          0\n",
       "          0\n",
       "          0\n",
       "          0\n",
       "  930111664\n",
       "  930111664\n",
       "          ⋮\n",
       "          0\n",
       "          0\n",
       "          0\n",
       "          0\n",
       "          0\n",
       "          0\n",
       "          0\n",
       "          0\n",
       "          0\n",
       "          0\n",
       "          0\n",
       "          0"
      ]
     },
     "execution_count": 23,
     "metadata": {},
     "output_type": "execute_result"
    }
   ],
   "source": [
    "y_pred = Array(Int64,length(y_test1))"
   ]
  },
  {
   "cell_type": "code",
   "execution_count": 24,
   "metadata": {},
   "outputs": [],
   "source": [
    "for i in 1:length(y_test1)\n",
    "    # must translate class index to label\n",
    "    y_pred[i] = ann.classes[indmax(y_proba[i,:])]\n",
    "end"
   ]
  },
  {
   "cell_type": "code",
   "execution_count": 25,
   "metadata": {},
   "outputs": [
    {
     "name": "stdout",
     "output_type": "stream",
     "text": [
      "Prediction accuracy: 0.9573863636363636\n"
     ]
    }
   ],
   "source": [
    "println(\"Prediction accuracy: \",mean(y_pred .== y_test1))"
   ]
  },
  {
   "cell_type": "code",
   "execution_count": null,
   "metadata": {},
   "outputs": [],
   "source": [
    "# Save Model in R format\n",
    "using RCall\n",
    "saveRDS(\"C:/Users/veer/Desktop/Projects/Credit_Risk_Modeling/inal/JuliaModelCreditLog.rds\",model_Log)"
   ]
  }
 ],
 "metadata": {
  "kernelspec": {
   "display_name": "Julia 0.6.2",
   "language": "julia",
   "name": "julia-0.6"
  },
  "language_info": {
   "file_extension": ".jl",
   "mimetype": "application/julia",
   "name": "julia",
   "version": "0.6.2"
  }
 },
 "nbformat": 4,
 "nbformat_minor": 2
}
