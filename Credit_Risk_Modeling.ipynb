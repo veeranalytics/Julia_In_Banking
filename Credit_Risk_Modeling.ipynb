{
 "cells": [
  {
   "cell_type": "code",
   "execution_count": 3,
   "metadata": {},
   "outputs": [
    {
     "name": "stderr",
     "output_type": "stream",
     "text": [
      "WARNING: Method definition ==(Base.Nullable"
     ]
    },
    {
     "data": {
      "text/plain": [
       "Plots.PyPlotBackend()"
      ]
     },
     "execution_count": 3,
     "metadata": {},
     "output_type": "execute_result"
    },
    {
     "name": "stderr",
     "output_type": "stream",
     "text": [
      "{S}, Base.Nullable{T}) in module Base at nullable.jl:238 overwritten in module NullableArrays at C:\\\\\\\\\\\\\\\\\\\\\\\\\\\\\\\\\\\\\\\\\\\\\\\\\\\\\\\\\\\\\\\\\\\\\\\\\\\\\\\\\\\\\\\\\\\\\\\\\\\\\\\\\\\\\\\\\\\\\\\\\\\\\\\\\\\\\\\\\\\\\\\\\\\\\\\\\\\\\\\\\\JuliaPro-0.6.2.2\\pkgs-0.6.2.2\\v0.6\\NullableArrays\\src\\operators.jl:99.\n",
      "WARNING: Method definition append!(NullableArrays.NullableArray{WeakRefStrings.WeakRefString{T}, 1}, NullableArrays.NullableArray{WeakRefStrings.WeakRefString{T}, 1}) in module Data at C:\\\\\\\\\\\\\\\\\\\\\\\\\\\\\\\\\\\\\\\\\\\\\\\\\\\\\\\\\\\\\\\\\\\\\\\\\\\\\\\\\\\\\\\\\\\\\\\\\\\\\\\\\\\\\\\\\\\\\\\\\\\\\\\\\\\\\\\\\\\\\\\\\\\\\\\\\\\\\\\\\\JuliaPro-0.6.2.2\\pkgs-0.6.2.2\\v0.6\\DataStreams\\src\\DataStreams.jl:344 overwritten in module DataTables at C:\\JuliaPro-0.6.2.2\\pkgs-0.6.2.2\\v0.6\\DataTables\\src\\abstractdatatable\\io.jl:318.\n",
      "WARNING: Method definition describe(AbstractArray{T, N} where N where T) in module StatsBase at C:\\\\\\\\\\\\\\\\\\\\\\\\\\\\\\\\\\\\\\\\\\\\\\\\\\\\\\\\\\\\\\\\\\\\\\\\\\\\\\\\\\\\\\\\\\\\\\\\\\\\\\\\\\\\\\\\\\\\\\\\\\\\\\\\\\\\\\\\\\\\\\\\\\\\\\\\\\\\\\\\\\JuliaPro-0.6.2.2\\pkgs-0.6.2.2\\v0.6\\StatsBase\\src\\scalarstats.jl:587 overwritten in module DataTables at C:\\JuliaPro-0.6.2.2\\pkgs-0.6.2.2\\v0.6\\DataTables\\src\\abstractdatatable\\abstractdatatable.jl:381.\n"
     ]
    }
   ],
   "source": [
    "# import required packages \n",
    "using DataFrames\n",
    "using FreqTables\n",
    "using Plots, StatPlots\n",
    "using DecisionTree\n",
    "using StatsModels\n",
    "using MLDataUtils\n",
    "\n",
    "#Set the backend as matplotlib.pyplot\n",
    "pyplot()"
   ]
  },
  {
   "cell_type": "code",
   "execution_count": 30,
   "metadata": {},
   "outputs": [
    {
     "data": {
      "text/html": [
       "<table class=\"data-frame\"><thead><tr><th></th><th>loan_id</th><th>member_id</th><th>home_ownership</th><th>annual_inc</th><th>loan_status</th><th>loan_amnt</th><th>term</th><th>int_rate</th><th>cibil_score</th><th>inq_last_6mths</th><th>age</th><th>emp_length</th><th>marital</th><th>job</th></tr></thead><tbody><tr><th>1</th><td>57245</td><td>138150</td><td>OWN</td><td>54000.0</td><td>Fully Paid</td><td>1200.0</td><td>36 months</td><td>0.1311</td><td>679</td><td>0</td><td>36</td><td>5</td><td>married</td><td>freelance</td></tr><tr><th>2</th><td>61390</td><td>182594</td><td>MORTGAGE</td><td>148000.0</td><td>Fully Paid</td><td>4000.0</td><td>36 months</td><td>0.0788</td><td>729</td><td>0</td><td>25</td><td>8</td><td>single</td><td>partime</td></tr><tr><th>3</th><td>61419</td><td>182917</td><td>RENT</td><td>45000.0</td><td>Charged Off</td><td>5600.0</td><td>36 months</td><td>0.1496</td><td>669</td><td>0</td><td>22</td><td>2</td><td>married</td><td>fixed</td></tr><tr><th>4</th><td>62102</td><td>191024</td><td>RENT</td><td>54000.0</td><td>Fully Paid</td><td>3200.0</td><td>36 months</td><td>0.0988</td><td>744</td><td>0</td><td>25</td><td>4</td><td>married</td><td>fixed</td></tr><tr><th>5</th><td>66943</td><td>247802</td><td>RENT</td><td>24000.0</td><td>Fully Paid</td><td>2800.0</td><td>60 months</td><td>0.1149</td><td>709</td><td>0</td><td>26</td><td>17</td><td>married</td><td>fixed</td></tr><tr><th>6</th><td>68163</td><td>258249</td><td>MORTGAGE</td><td>100000.0</td><td>Fully Paid</td><td>3000.0</td><td>36 months</td><td>0.0714</td><td>749</td><td>0</td><td>22</td><td>8</td><td>married</td><td>freelance</td></tr><tr><th>7</th><td>69990</td><td>275254</td><td>RENT</td><td>125000.0</td><td>Fully Paid</td><td>15500.0</td><td>36 months</td><td>0.0788</td><td>784</td><td>1</td><td>29</td><td>3</td><td>single</td><td>freelance</td></tr><tr><th>8</th><td>290807</td><td>290804</td><td>RENT</td><td>84996.0</td><td>Fully Paid</td><td>15000.0</td><td>36 months</td><td>0.157</td><td>674</td><td>1</td><td>29</td><td>13</td><td>separated</td><td>freelance</td></tr><tr><th>9</th><td>347648</td><td>348254</td><td>RENT</td><td>60000.0</td><td>Fully Paid</td><td>10000.0</td><td>36 months</td><td>0.1273</td><td>714</td><td>0</td><td>22</td><td>15</td><td>single</td><td>fixed</td></tr><tr><th>10</th><td>348340</td><td>349269</td><td>RENT</td><td>71000.0</td><td>Fully Paid</td><td>8000.0</td><td>36 months</td><td>0.1112</td><td>714</td><td>0</td><td>26</td><td>5</td><td>married</td><td>fixed</td></tr><tr><th>11</th><td>357509</td><td>363601</td><td>RENT</td><td>60000.0</td><td>Charged Off</td><td>7500.0</td><td>36 months</td><td>0.1025</td><td>719</td><td>2</td><td>23</td><td>24</td><td>married</td><td>freelance</td></tr><tr><th>12</th><td>358960</td><td>365900</td><td>RENT</td><td>65000.0</td><td>Fully Paid</td><td>4800.0</td><td>36 months</td><td>0.0788</td><td>719</td><td>0</td><td>37</td><td>3</td><td>married</td><td>fixed</td></tr><tr><th>13</th><td>362601</td><td>372102</td><td>RENT</td><td>45000.0</td><td>Fully Paid</td><td>4000.0</td><td>36 months</td><td>0.1323</td><td>679</td><td>1</td><td>24</td><td>5</td><td>married</td><td>fixed</td></tr><tr><th>14</th><td>363593</td><td>373319</td><td>MORTGAGE</td><td>59450.0</td><td>Fully Paid</td><td>3000.0</td><td>36 months</td><td>0.1038</td><td>714</td><td>2</td><td>24</td><td>0</td><td>married</td><td>fixed</td></tr><tr><th>15</th><td>364636</td><td>375321</td><td>MORTGAGE</td><td>70000.0</td><td>Fully Paid</td><td>10000.0</td><td>36 months</td><td>0.0988</td><td>734</td><td>3</td><td>27</td><td>3</td><td>married</td><td>fixed</td></tr><tr><th>16</th><td>365196</td><td>376105</td><td>MORTGAGE</td><td>55728.0</td><td>Fully Paid</td><td>13000.0</td><td>36 months</td><td>0.1062</td><td>784</td><td>0</td><td>52</td><td>1</td><td>married</td><td>freelance</td></tr><tr><th>17</th><td>366004</td><td>377347</td><td>RENT</td><td>50000.0</td><td>Fully Paid</td><td>4000.0</td><td>36 months</td><td>0.1261</td><td>674</td><td>1</td><td>23</td><td>4</td><td>single</td><td>freelance</td></tr><tr><th>18</th><td>368492</td><td>379221</td><td>RENT</td><td>21000.0</td><td>Fully Paid</td><td>4500.0</td><td>36 months</td><td>0.0962</td><td>714</td><td>0</td><td>24</td><td>4</td><td>married</td><td>partime</td></tr><tr><th>19</th><td>370141</td><td>386685</td><td>MORTGAGE</td><td>58000.0</td><td>Fully Paid</td><td>14000.0</td><td>36 months</td><td>0.0751</td><td>784</td><td>1</td><td>26</td><td>20</td><td>single</td><td>fixed</td></tr><tr><th>20</th><td>370866</td><td>387172</td><td>RENT</td><td>60000.0</td><td>Fully Paid</td><td>15000.0</td><td>36 months</td><td>0.1422</td><td>704</td><td>3</td><td>28</td><td>6</td><td>married</td><td>fixed</td></tr><tr><th>21</th><td>376257</td><td>399200</td><td>MORTGAGE</td><td>114400.0</td><td>Fully Paid</td><td>20000.0</td><td>36 months</td><td>0.1348</td><td>704</td><td>3</td><td>37</td><td>0</td><td>married</td><td>fixed</td></tr><tr><th>22</th><td>377346</td><td>401437</td><td>RENT</td><td>31875.0</td><td>Fully Paid</td><td>7500.0</td><td>36 months</td><td>0.1311</td><td>684</td><td>0</td><td>24</td><td>6</td><td>single</td><td>partime</td></tr><tr><th>23</th><td>377437</td><td>401596</td><td>MORTGAGE</td><td>65000.0</td><td>Fully Paid</td><td>14000.0</td><td>36 months</td><td>0.1531</td><td>684</td><td>0</td><td>23</td><td>1</td><td>married</td><td>fixed</td></tr><tr><th>24</th><td>380713</td><td>408422</td><td>MORTGAGE</td><td>25000.0</td><td>Fully Paid</td><td>13000.0</td><td>60 months</td><td>0.1595</td><td>689</td><td>0</td><td>33</td><td>4</td><td>single</td><td>fixed</td></tr><tr><th>25</th><td>381025</td><td>409016</td><td>RENT</td><td>130606.0</td><td>Fully Paid</td><td>20000.0</td><td>36 months</td><td>0.183</td><td>699</td><td>2</td><td>23</td><td>16</td><td>married</td><td>fixed</td></tr><tr><th>26</th><td>381219</td><td>409439</td><td>OWN</td><td>34800.0</td><td>Fully Paid</td><td>7350.0</td><td>36 months</td><td>0.1422</td><td>689</td><td>2</td><td>26</td><td>12</td><td>married</td><td>fixed</td></tr><tr><th>27</th><td>382096</td><td>411142</td><td>RENT</td><td>33996.0</td><td>Fully Paid</td><td>9600.0</td><td>36 months</td><td>0.0988</td><td>734</td><td>1</td><td>25</td><td>12</td><td>married</td><td>fixed</td></tr><tr><th>28</th><td>386071</td><td>390208</td><td>RENT</td><td>61000.0</td><td>Fully Paid</td><td>10000.0</td><td>36 months</td><td>0.1607</td><td>669</td><td>1</td><td>35</td><td>18</td><td>married</td><td>fixed</td></tr><tr><th>29</th><td>391358</td><td>427297</td><td>MORTGAGE</td><td>45000.0</td><td>Fully Paid</td><td>8000.0</td><td>36 months</td><td>0.0751</td><td>769</td><td>1</td><td>23</td><td>1</td><td>divorced</td><td>partime</td></tr><tr><th>30</th><td>391439</td><td>427448</td><td>RENT</td><td>160000.0</td><td>Fully Paid</td><td>15000.0</td><td>36 months</td><td>0.1682</td><td>684</td><td>0</td><td>26</td><td>2</td><td>married</td><td>fixed</td></tr><tr><th>&vellip;</th><td>&vellip;</td><td>&vellip;</td><td>&vellip;</td><td>&vellip;</td><td>&vellip;</td><td>&vellip;</td><td>&vellip;</td><td>&vellip;</td><td>&vellip;</td><td>&vellip;</td><td>&vellip;</td><td>&vellip;</td><td>&vellip;</td><td>&vellip;</td></tr></tbody></table>"
      ],
      "text/plain": [
       "10542×14 DataFrames.DataFrame\n",
       "│ Row   │ loan_id │ member_id │ home_ownership │ annual_inc │ loan_status   │\n",
       "├───────┼─────────┼───────────┼────────────────┼────────────┼───────────────┤\n",
       "│ 1     │ 57245   │ 138150    │ \"OWN\"          │ 54000.0    │ \"Fully Paid\"  │\n",
       "│ 2     │ 61390   │ 182594    │ \"MORTGAGE\"     │ 148000.0   │ \"Fully Paid\"  │\n",
       "│ 3     │ 61419   │ 182917    │ \"RENT\"         │ 45000.0    │ \"Charged Off\" │\n",
       "│ 4     │ 62102   │ 191024    │ \"RENT\"         │ 54000.0    │ \"Fully Paid\"  │\n",
       "│ 5     │ 66943   │ 247802    │ \"RENT\"         │ 24000.0    │ \"Fully Paid\"  │\n",
       "│ 6     │ 68163   │ 258249    │ \"MORTGAGE\"     │ 100000.0   │ \"Fully Paid\"  │\n",
       "│ 7     │ 69990   │ 275254    │ \"RENT\"         │ 125000.0   │ \"Fully Paid\"  │\n",
       "│ 8     │ 290807  │ 290804    │ \"RENT\"         │ 84996.0    │ \"Fully Paid\"  │\n",
       "│ 9     │ 347648  │ 348254    │ \"RENT\"         │ 60000.0    │ \"Fully Paid\"  │\n",
       "│ 10    │ 348340  │ 349269    │ \"RENT\"         │ 71000.0    │ \"Fully Paid\"  │\n",
       "│ 11    │ 357509  │ 363601    │ \"RENT\"         │ 60000.0    │ \"Charged Off\" │\n",
       "⋮\n",
       "│ 10531 │ 643636  │ 823701    │ \"OWN\"          │ 56400.0    │ \"Charged Off\" │\n",
       "│ 10532 │ 643749  │ 823839    │ \"MORTGAGE\"     │ 75000.0    │ \"Fully Paid\"  │\n",
       "│ 10533 │ 643774  │ 823868    │ \"RENT\"         │ 58000.0    │ \"Fully Paid\"  │\n",
       "│ 10534 │ 643778  │ 823873    │ \"MORTGAGE\"     │ 63000.0    │ \"Fully Paid\"  │\n",
       "│ 10535 │ 643791  │ 823890    │ \"MORTGAGE\"     │ 55000.0    │ \"Fully Paid\"  │\n",
       "│ 10536 │ 643800  │ 823901    │ \"RENT\"         │ 55000.0    │ \"Charged Off\" │\n",
       "│ 10537 │ 643806  │ 823909    │ \"RENT\"         │ 80000.0    │ \"Fully Paid\"  │\n",
       "│ 10538 │ 643822  │ 823926    │ \"MORTGAGE\"     │ 48000.0    │ \"Charged Off\" │\n",
       "│ 10539 │ 643840  │ 823946    │ \"RENT\"         │ 55000.0    │ \"Fully Paid\"  │\n",
       "│ 10540 │ 643848  │ 823955    │ \"RENT\"         │ 53000.0    │ \"Charged Off\" │\n",
       "│ 10541 │ 643860  │ 823969    │ \"MORTGAGE\"     │ 43200.0    │ \"Charged Off\" │\n",
       "│ 10542 │ 643926  │ 824049    │ \"MORTGAGE\"     │ 948000.0   │ \"Fully Paid\"  │\n",
       "\n",
       "│ Row   │ loan_amnt │ term        │ int_rate │ cibil_score │ inq_last_6mths │\n",
       "├───────┼───────────┼─────────────┼──────────┼─────────────┼────────────────┤\n",
       "│ 1     │ 1200.0    │ \"36 months\" │ 0.1311   │ 679         │ 0              │\n",
       "│ 2     │ 4000.0    │ \"36 months\" │ 0.0788   │ 729         │ 0              │\n",
       "│ 3     │ 5600.0    │ \"36 months\" │ 0.1496   │ 669         │ 0              │\n",
       "│ 4     │ 3200.0    │ \"36 months\" │ 0.0988   │ 744         │ 0              │\n",
       "│ 5     │ 2800.0    │ \"60 months\" │ 0.1149   │ 709         │ 0              │\n",
       "│ 6     │ 3000.0    │ \"36 months\" │ 0.0714   │ 749         │ 0              │\n",
       "│ 7     │ 15500.0   │ \"36 months\" │ 0.0788   │ 784         │ 1              │\n",
       "│ 8     │ 15000.0   │ \"36 months\" │ 0.157    │ 674         │ 1              │\n",
       "│ 9     │ 10000.0   │ \"36 months\" │ 0.1273   │ 714         │ 0              │\n",
       "│ 10    │ 8000.0    │ \"36 months\" │ 0.1112   │ 714         │ 0              │\n",
       "│ 11    │ 7500.0    │ \"36 months\" │ 0.1025   │ 719         │ 2              │\n",
       "⋮\n",
       "│ 10531 │ 5000.0    │ \"36 months\" │ 0.0654   │ 729         │ 0              │\n",
       "│ 10532 │ 12000.0   │ \"36 months\" │ 0.1261   │ 684         │ 1              │\n",
       "│ 10533 │ 10000.0   │ \"36 months\" │ 0.0654   │ 734         │ 1              │\n",
       "│ 10534 │ 10000.0   │ \"36 months\" │ 0.0691   │ 719         │ 1              │\n",
       "│ 10535 │ 15000.0   │ \"36 months\" │ 0.0617   │ 804         │ 2              │\n",
       "│ 10536 │ 18000.0   │ \"60 months\" │ 0.1632   │ 694         │ 0              │\n",
       "│ 10537 │ 25000.0   │ \"36 months\" │ 0.1409   │ 709         │ 2              │\n",
       "│ 10538 │ 10000.0   │ \"60 months\" │ 0.1557   │ 714         │ 3              │\n",
       "│ 10539 │ 3200.0    │ \"36 months\" │ 0.1298   │ 674         │ 3              │\n",
       "│ 10540 │ 15000.0   │ \"60 months\" │ 0.152    │ 704         │ 0              │\n",
       "│ 10541 │ 16800.0   │ \"36 months\" │ 0.0617   │ 754         │ 2              │\n",
       "│ 10542 │ 2000.0    │ \"36 months\" │ 0.0999   │ 689         │ 2              │\n",
       "\n",
       "│ Row   │ age │ emp_length │ marital     │ job         │\n",
       "├───────┼─────┼────────────┼─────────────┼─────────────┤\n",
       "│ 1     │ 36  │ 5          │ \"married\"   │ \"freelance\" │\n",
       "│ 2     │ 25  │ 8          │ \"single\"    │ \"partime\"   │\n",
       "│ 3     │ 22  │ 2          │ \"married\"   │ \"fixed\"     │\n",
       "│ 4     │ 25  │ 4          │ \"married\"   │ \"fixed\"     │\n",
       "│ 5     │ 26  │ 17         │ \"married\"   │ \"fixed\"     │\n",
       "│ 6     │ 22  │ 8          │ \"married\"   │ \"freelance\" │\n",
       "│ 7     │ 29  │ 3          │ \"single\"    │ \"freelance\" │\n",
       "│ 8     │ 29  │ 13         │ \"separated\" │ \"freelance\" │\n",
       "│ 9     │ 22  │ 15         │ \"single\"    │ \"fixed\"     │\n",
       "│ 10    │ 26  │ 5          │ \"married\"   │ \"fixed\"     │\n",
       "│ 11    │ 23  │ 24         │ \"married\"   │ \"freelance\" │\n",
       "⋮\n",
       "│ 10531 │ 27  │ 2          │ \"single\"    │ \"fixed\"     │\n",
       "│ 10532 │ 29  │ 15         │ \"married\"   │ \"fixed\"     │\n",
       "│ 10533 │ 38  │ NA         │ \"married\"   │ \"fixed\"     │\n",
       "│ 10534 │ 23  │ 11         │ \"single\"    │ \"freelance\" │\n",
       "│ 10535 │ 28  │ 8          │ \"married\"   │ \"fixed\"     │\n",
       "│ 10536 │ 25  │ 4          │ \"married\"   │ \"fixed\"     │\n",
       "│ 10537 │ 22  │ 4          │ \"married\"   │ \"fixed\"     │\n",
       "│ 10538 │ 22  │ 5          │ \"single\"    │ \"freelance\" │\n",
       "│ 10539 │ 28  │ 22         │ \"married\"   │ \"fixed\"     │\n",
       "│ 10540 │ 33  │ 3          │ \"single\"    │ \"partime\"   │\n",
       "│ 10541 │ 26  │ 0          │ \"single\"    │ \"fixed\"     │\n",
       "│ 10542 │ 24  │ 3          │ \"married\"   │ \"fixed\"     │"
      ]
     },
     "execution_count": 30,
     "metadata": {},
     "output_type": "execute_result"
    }
   ],
   "source": [
    "# Read Dataset\n",
    "data = readtable(\"C:/Users/veer/Desktop/Projects/Julia_In_Banking/Data/loan_data.csv\")"
   ]
  },
  {
   "cell_type": "code",
   "execution_count": 31,
   "metadata": {},
   "outputs": [
    {
     "data": {
      "text/html": [
       "<table class=\"data-frame\"><thead><tr><th></th><th>loan_id</th><th>member_id</th><th>home_ownership</th><th>annual_inc</th><th>loan_amnt</th><th>term</th><th>int_rate</th><th>cibil_score</th><th>inq_last_6mths</th><th>age</th><th>emp_length</th><th>marital</th><th>job</th><th>loan_status_new</th></tr></thead><tbody><tr><th>1</th><td>57245</td><td>138150</td><td>OWN</td><td>54000.0</td><td>1200.0</td><td>36 months</td><td>0.1311</td><td>679</td><td>0</td><td>36</td><td>5</td><td>married</td><td>freelance</td><td>0</td></tr><tr><th>2</th><td>61390</td><td>182594</td><td>MORTGAGE</td><td>148000.0</td><td>4000.0</td><td>36 months</td><td>0.0788</td><td>729</td><td>0</td><td>25</td><td>8</td><td>single</td><td>partime</td><td>0</td></tr><tr><th>3</th><td>61419</td><td>182917</td><td>RENT</td><td>45000.0</td><td>5600.0</td><td>36 months</td><td>0.1496</td><td>669</td><td>0</td><td>22</td><td>2</td><td>married</td><td>fixed</td><td>1</td></tr><tr><th>4</th><td>62102</td><td>191024</td><td>RENT</td><td>54000.0</td><td>3200.0</td><td>36 months</td><td>0.0988</td><td>744</td><td>0</td><td>25</td><td>4</td><td>married</td><td>fixed</td><td>0</td></tr><tr><th>5</th><td>66943</td><td>247802</td><td>RENT</td><td>24000.0</td><td>2800.0</td><td>60 months</td><td>0.1149</td><td>709</td><td>0</td><td>26</td><td>17</td><td>married</td><td>fixed</td><td>0</td></tr><tr><th>6</th><td>68163</td><td>258249</td><td>MORTGAGE</td><td>100000.0</td><td>3000.0</td><td>36 months</td><td>0.0714</td><td>749</td><td>0</td><td>22</td><td>8</td><td>married</td><td>freelance</td><td>0</td></tr><tr><th>7</th><td>69990</td><td>275254</td><td>RENT</td><td>125000.0</td><td>15500.0</td><td>36 months</td><td>0.0788</td><td>784</td><td>1</td><td>29</td><td>3</td><td>single</td><td>freelance</td><td>0</td></tr><tr><th>8</th><td>290807</td><td>290804</td><td>RENT</td><td>84996.0</td><td>15000.0</td><td>36 months</td><td>0.157</td><td>674</td><td>1</td><td>29</td><td>13</td><td>separated</td><td>freelance</td><td>0</td></tr><tr><th>9</th><td>347648</td><td>348254</td><td>RENT</td><td>60000.0</td><td>10000.0</td><td>36 months</td><td>0.1273</td><td>714</td><td>0</td><td>22</td><td>15</td><td>single</td><td>fixed</td><td>0</td></tr><tr><th>10</th><td>348340</td><td>349269</td><td>RENT</td><td>71000.0</td><td>8000.0</td><td>36 months</td><td>0.1112</td><td>714</td><td>0</td><td>26</td><td>5</td><td>married</td><td>fixed</td><td>0</td></tr><tr><th>11</th><td>357509</td><td>363601</td><td>RENT</td><td>60000.0</td><td>7500.0</td><td>36 months</td><td>0.1025</td><td>719</td><td>2</td><td>23</td><td>24</td><td>married</td><td>freelance</td><td>1</td></tr><tr><th>12</th><td>358960</td><td>365900</td><td>RENT</td><td>65000.0</td><td>4800.0</td><td>36 months</td><td>0.0788</td><td>719</td><td>0</td><td>37</td><td>3</td><td>married</td><td>fixed</td><td>0</td></tr><tr><th>13</th><td>362601</td><td>372102</td><td>RENT</td><td>45000.0</td><td>4000.0</td><td>36 months</td><td>0.1323</td><td>679</td><td>1</td><td>24</td><td>5</td><td>married</td><td>fixed</td><td>0</td></tr><tr><th>14</th><td>363593</td><td>373319</td><td>MORTGAGE</td><td>59450.0</td><td>3000.0</td><td>36 months</td><td>0.1038</td><td>714</td><td>2</td><td>24</td><td>0</td><td>married</td><td>fixed</td><td>0</td></tr><tr><th>15</th><td>364636</td><td>375321</td><td>MORTGAGE</td><td>70000.0</td><td>10000.0</td><td>36 months</td><td>0.0988</td><td>734</td><td>3</td><td>27</td><td>3</td><td>married</td><td>fixed</td><td>0</td></tr><tr><th>16</th><td>365196</td><td>376105</td><td>MORTGAGE</td><td>55728.0</td><td>13000.0</td><td>36 months</td><td>0.1062</td><td>784</td><td>0</td><td>52</td><td>1</td><td>married</td><td>freelance</td><td>0</td></tr><tr><th>17</th><td>366004</td><td>377347</td><td>RENT</td><td>50000.0</td><td>4000.0</td><td>36 months</td><td>0.1261</td><td>674</td><td>1</td><td>23</td><td>4</td><td>single</td><td>freelance</td><td>0</td></tr><tr><th>18</th><td>368492</td><td>379221</td><td>RENT</td><td>21000.0</td><td>4500.0</td><td>36 months</td><td>0.0962</td><td>714</td><td>0</td><td>24</td><td>4</td><td>married</td><td>partime</td><td>0</td></tr><tr><th>19</th><td>370141</td><td>386685</td><td>MORTGAGE</td><td>58000.0</td><td>14000.0</td><td>36 months</td><td>0.0751</td><td>784</td><td>1</td><td>26</td><td>20</td><td>single</td><td>fixed</td><td>0</td></tr><tr><th>20</th><td>370866</td><td>387172</td><td>RENT</td><td>60000.0</td><td>15000.0</td><td>36 months</td><td>0.1422</td><td>704</td><td>3</td><td>28</td><td>6</td><td>married</td><td>fixed</td><td>0</td></tr><tr><th>21</th><td>376257</td><td>399200</td><td>MORTGAGE</td><td>114400.0</td><td>20000.0</td><td>36 months</td><td>0.1348</td><td>704</td><td>3</td><td>37</td><td>0</td><td>married</td><td>fixed</td><td>0</td></tr><tr><th>22</th><td>377346</td><td>401437</td><td>RENT</td><td>31875.0</td><td>7500.0</td><td>36 months</td><td>0.1311</td><td>684</td><td>0</td><td>24</td><td>6</td><td>single</td><td>partime</td><td>0</td></tr><tr><th>23</th><td>377437</td><td>401596</td><td>MORTGAGE</td><td>65000.0</td><td>14000.0</td><td>36 months</td><td>0.1531</td><td>684</td><td>0</td><td>23</td><td>1</td><td>married</td><td>fixed</td><td>0</td></tr><tr><th>24</th><td>380713</td><td>408422</td><td>MORTGAGE</td><td>25000.0</td><td>13000.0</td><td>60 months</td><td>0.1595</td><td>689</td><td>0</td><td>33</td><td>4</td><td>single</td><td>fixed</td><td>0</td></tr><tr><th>25</th><td>381025</td><td>409016</td><td>RENT</td><td>130606.0</td><td>20000.0</td><td>36 months</td><td>0.183</td><td>699</td><td>2</td><td>23</td><td>16</td><td>married</td><td>fixed</td><td>0</td></tr><tr><th>26</th><td>381219</td><td>409439</td><td>OWN</td><td>34800.0</td><td>7350.0</td><td>36 months</td><td>0.1422</td><td>689</td><td>2</td><td>26</td><td>12</td><td>married</td><td>fixed</td><td>0</td></tr><tr><th>27</th><td>382096</td><td>411142</td><td>RENT</td><td>33996.0</td><td>9600.0</td><td>36 months</td><td>0.0988</td><td>734</td><td>1</td><td>25</td><td>12</td><td>married</td><td>fixed</td><td>0</td></tr><tr><th>28</th><td>386071</td><td>390208</td><td>RENT</td><td>61000.0</td><td>10000.0</td><td>36 months</td><td>0.1607</td><td>669</td><td>1</td><td>35</td><td>18</td><td>married</td><td>fixed</td><td>0</td></tr><tr><th>29</th><td>391358</td><td>427297</td><td>MORTGAGE</td><td>45000.0</td><td>8000.0</td><td>36 months</td><td>0.0751</td><td>769</td><td>1</td><td>23</td><td>1</td><td>divorced</td><td>partime</td><td>0</td></tr><tr><th>30</th><td>391439</td><td>427448</td><td>RENT</td><td>160000.0</td><td>15000.0</td><td>36 months</td><td>0.1682</td><td>684</td><td>0</td><td>26</td><td>2</td><td>married</td><td>fixed</td><td>0</td></tr><tr><th>&vellip;</th><td>&vellip;</td><td>&vellip;</td><td>&vellip;</td><td>&vellip;</td><td>&vellip;</td><td>&vellip;</td><td>&vellip;</td><td>&vellip;</td><td>&vellip;</td><td>&vellip;</td><td>&vellip;</td><td>&vellip;</td><td>&vellip;</td><td>&vellip;</td></tr></tbody></table>"
      ],
      "text/plain": [
       "10542×14 DataFrames.DataFrame\n",
       "│ Row   │ loan_id │ member_id │ home_ownership │ annual_inc │ loan_amnt │\n",
       "├───────┼─────────┼───────────┼────────────────┼────────────┼───────────┤\n",
       "│ 1     │ 57245   │ 138150    │ \"OWN\"          │ 54000.0    │ 1200.0    │\n",
       "│ 2     │ 61390   │ 182594    │ \"MORTGAGE\"     │ 148000.0   │ 4000.0    │\n",
       "│ 3     │ 61419   │ 182917    │ \"RENT\"         │ 45000.0    │ 5600.0    │\n",
       "│ 4     │ 62102   │ 191024    │ \"RENT\"         │ 54000.0    │ 3200.0    │\n",
       "│ 5     │ 66943   │ 247802    │ \"RENT\"         │ 24000.0    │ 2800.0    │\n",
       "│ 6     │ 68163   │ 258249    │ \"MORTGAGE\"     │ 100000.0   │ 3000.0    │\n",
       "│ 7     │ 69990   │ 275254    │ \"RENT\"         │ 125000.0   │ 15500.0   │\n",
       "│ 8     │ 290807  │ 290804    │ \"RENT\"         │ 84996.0    │ 15000.0   │\n",
       "│ 9     │ 347648  │ 348254    │ \"RENT\"         │ 60000.0    │ 10000.0   │\n",
       "│ 10    │ 348340  │ 349269    │ \"RENT\"         │ 71000.0    │ 8000.0    │\n",
       "│ 11    │ 357509  │ 363601    │ \"RENT\"         │ 60000.0    │ 7500.0    │\n",
       "⋮\n",
       "│ 10531 │ 643636  │ 823701    │ \"OWN\"          │ 56400.0    │ 5000.0    │\n",
       "│ 10532 │ 643749  │ 823839    │ \"MORTGAGE\"     │ 75000.0    │ 12000.0   │\n",
       "│ 10533 │ 643774  │ 823868    │ \"RENT\"         │ 58000.0    │ 10000.0   │\n",
       "│ 10534 │ 643778  │ 823873    │ \"MORTGAGE\"     │ 63000.0    │ 10000.0   │\n",
       "│ 10535 │ 643791  │ 823890    │ \"MORTGAGE\"     │ 55000.0    │ 15000.0   │\n",
       "│ 10536 │ 643800  │ 823901    │ \"RENT\"         │ 55000.0    │ 18000.0   │\n",
       "│ 10537 │ 643806  │ 823909    │ \"RENT\"         │ 80000.0    │ 25000.0   │\n",
       "│ 10538 │ 643822  │ 823926    │ \"MORTGAGE\"     │ 48000.0    │ 10000.0   │\n",
       "│ 10539 │ 643840  │ 823946    │ \"RENT\"         │ 55000.0    │ 3200.0    │\n",
       "│ 10540 │ 643848  │ 823955    │ \"RENT\"         │ 53000.0    │ 15000.0   │\n",
       "│ 10541 │ 643860  │ 823969    │ \"MORTGAGE\"     │ 43200.0    │ 16800.0   │\n",
       "│ 10542 │ 643926  │ 824049    │ \"MORTGAGE\"     │ 948000.0   │ 2000.0    │\n",
       "\n",
       "│ Row   │ term        │ int_rate │ cibil_score │ inq_last_6mths │ age │\n",
       "├───────┼─────────────┼──────────┼─────────────┼────────────────┼─────┤\n",
       "│ 1     │ \"36 months\" │ 0.1311   │ 679         │ 0              │ 36  │\n",
       "│ 2     │ \"36 months\" │ 0.0788   │ 729         │ 0              │ 25  │\n",
       "│ 3     │ \"36 months\" │ 0.1496   │ 669         │ 0              │ 22  │\n",
       "│ 4     │ \"36 months\" │ 0.0988   │ 744         │ 0              │ 25  │\n",
       "│ 5     │ \"60 months\" │ 0.1149   │ 709         │ 0              │ 26  │\n",
       "│ 6     │ \"36 months\" │ 0.0714   │ 749         │ 0              │ 22  │\n",
       "│ 7     │ \"36 months\" │ 0.0788   │ 784         │ 1              │ 29  │\n",
       "│ 8     │ \"36 months\" │ 0.157    │ 674         │ 1              │ 29  │\n",
       "│ 9     │ \"36 months\" │ 0.1273   │ 714         │ 0              │ 22  │\n",
       "│ 10    │ \"36 months\" │ 0.1112   │ 714         │ 0              │ 26  │\n",
       "│ 11    │ \"36 months\" │ 0.1025   │ 719         │ 2              │ 23  │\n",
       "⋮\n",
       "│ 10531 │ \"36 months\" │ 0.0654   │ 729         │ 0              │ 27  │\n",
       "│ 10532 │ \"36 months\" │ 0.1261   │ 684         │ 1              │ 29  │\n",
       "│ 10533 │ \"36 months\" │ 0.0654   │ 734         │ 1              │ 38  │\n",
       "│ 10534 │ \"36 months\" │ 0.0691   │ 719         │ 1              │ 23  │\n",
       "│ 10535 │ \"36 months\" │ 0.0617   │ 804         │ 2              │ 28  │\n",
       "│ 10536 │ \"60 months\" │ 0.1632   │ 694         │ 0              │ 25  │\n",
       "│ 10537 │ \"36 months\" │ 0.1409   │ 709         │ 2              │ 22  │\n",
       "│ 10538 │ \"60 months\" │ 0.1557   │ 714         │ 3              │ 22  │\n",
       "│ 10539 │ \"36 months\" │ 0.1298   │ 674         │ 3              │ 28  │\n",
       "│ 10540 │ \"60 months\" │ 0.152    │ 704         │ 0              │ 33  │\n",
       "│ 10541 │ \"36 months\" │ 0.0617   │ 754         │ 2              │ 26  │\n",
       "│ 10542 │ \"36 months\" │ 0.0999   │ 689         │ 2              │ 24  │\n",
       "\n",
       "│ Row   │ emp_length │ marital     │ job         │ loan_status_new │\n",
       "├───────┼────────────┼─────────────┼─────────────┼─────────────────┤\n",
       "│ 1     │ 5          │ \"married\"   │ \"freelance\" │ 0               │\n",
       "│ 2     │ 8          │ \"single\"    │ \"partime\"   │ 0               │\n",
       "│ 3     │ 2          │ \"married\"   │ \"fixed\"     │ 1               │\n",
       "│ 4     │ 4          │ \"married\"   │ \"fixed\"     │ 0               │\n",
       "│ 5     │ 17         │ \"married\"   │ \"fixed\"     │ 0               │\n",
       "│ 6     │ 8          │ \"married\"   │ \"freelance\" │ 0               │\n",
       "│ 7     │ 3          │ \"single\"    │ \"freelance\" │ 0               │\n",
       "│ 8     │ 13         │ \"separated\" │ \"freelance\" │ 0               │\n",
       "│ 9     │ 15         │ \"single\"    │ \"fixed\"     │ 0               │\n",
       "│ 10    │ 5          │ \"married\"   │ \"fixed\"     │ 0               │\n",
       "│ 11    │ 24         │ \"married\"   │ \"freelance\" │ 1               │\n",
       "⋮\n",
       "│ 10531 │ 2          │ \"single\"    │ \"fixed\"     │ 1               │\n",
       "│ 10532 │ 15         │ \"married\"   │ \"fixed\"     │ 0               │\n",
       "│ 10533 │ NA         │ \"married\"   │ \"fixed\"     │ 0               │\n",
       "│ 10534 │ 11         │ \"single\"    │ \"freelance\" │ 0               │\n",
       "│ 10535 │ 8          │ \"married\"   │ \"fixed\"     │ 0               │\n",
       "│ 10536 │ 4          │ \"married\"   │ \"fixed\"     │ 1               │\n",
       "│ 10537 │ 4          │ \"married\"   │ \"fixed\"     │ 0               │\n",
       "│ 10538 │ 5          │ \"single\"    │ \"freelance\" │ 1               │\n",
       "│ 10539 │ 22         │ \"married\"   │ \"fixed\"     │ 0               │\n",
       "│ 10540 │ 3          │ \"single\"    │ \"partime\"   │ 1               │\n",
       "│ 10541 │ 0          │ \"single\"    │ \"fixed\"     │ 1               │\n",
       "│ 10542 │ 3          │ \"married\"   │ \"fixed\"     │ 0               │"
      ]
     },
     "execution_count": 31,
     "metadata": {},
     "output_type": "execute_result"
    }
   ],
   "source": [
    "# Create 02 categories for loan status\n",
    "data[:loan_status_new] = ifelse.(data[:loan_status] .== \"Fully Paid\",0,1)\n",
    "delete!(data,:loan_status)"
   ]
  },
  {
   "cell_type": "code",
   "execution_count": 32,
   "metadata": {},
   "outputs": [
    {
     "data": {
      "text/html": [
       "<table class=\"data-frame\"><thead><tr><th></th><th>loan_id</th><th>member_id</th><th>home_ownership</th><th>annual_inc</th><th>loan_amnt</th><th>term</th><th>int_rate</th><th>cibil_score</th><th>inq_last_6mths</th><th>age</th><th>emp_length</th><th>marital</th><th>job</th><th>loan_status</th></tr></thead><tbody><tr><th>1</th><td>57245</td><td>138150</td><td>OWN</td><td>54000.0</td><td>1200.0</td><td>36 months</td><td>0.1311</td><td>679</td><td>0</td><td>36</td><td>5</td><td>married</td><td>freelance</td><td>0</td></tr><tr><th>2</th><td>61390</td><td>182594</td><td>MORTGAGE</td><td>148000.0</td><td>4000.0</td><td>36 months</td><td>0.0788</td><td>729</td><td>0</td><td>25</td><td>8</td><td>single</td><td>partime</td><td>0</td></tr><tr><th>3</th><td>61419</td><td>182917</td><td>RENT</td><td>45000.0</td><td>5600.0</td><td>36 months</td><td>0.1496</td><td>669</td><td>0</td><td>22</td><td>2</td><td>married</td><td>fixed</td><td>1</td></tr><tr><th>4</th><td>62102</td><td>191024</td><td>RENT</td><td>54000.0</td><td>3200.0</td><td>36 months</td><td>0.0988</td><td>744</td><td>0</td><td>25</td><td>4</td><td>married</td><td>fixed</td><td>0</td></tr><tr><th>5</th><td>66943</td><td>247802</td><td>RENT</td><td>24000.0</td><td>2800.0</td><td>60 months</td><td>0.1149</td><td>709</td><td>0</td><td>26</td><td>17</td><td>married</td><td>fixed</td><td>0</td></tr><tr><th>6</th><td>68163</td><td>258249</td><td>MORTGAGE</td><td>100000.0</td><td>3000.0</td><td>36 months</td><td>0.0714</td><td>749</td><td>0</td><td>22</td><td>8</td><td>married</td><td>freelance</td><td>0</td></tr><tr><th>7</th><td>69990</td><td>275254</td><td>RENT</td><td>125000.0</td><td>15500.0</td><td>36 months</td><td>0.0788</td><td>784</td><td>1</td><td>29</td><td>3</td><td>single</td><td>freelance</td><td>0</td></tr><tr><th>8</th><td>290807</td><td>290804</td><td>RENT</td><td>84996.0</td><td>15000.0</td><td>36 months</td><td>0.157</td><td>674</td><td>1</td><td>29</td><td>13</td><td>separated</td><td>freelance</td><td>0</td></tr><tr><th>9</th><td>347648</td><td>348254</td><td>RENT</td><td>60000.0</td><td>10000.0</td><td>36 months</td><td>0.1273</td><td>714</td><td>0</td><td>22</td><td>15</td><td>single</td><td>fixed</td><td>0</td></tr><tr><th>10</th><td>348340</td><td>349269</td><td>RENT</td><td>71000.0</td><td>8000.0</td><td>36 months</td><td>0.1112</td><td>714</td><td>0</td><td>26</td><td>5</td><td>married</td><td>fixed</td><td>0</td></tr><tr><th>11</th><td>357509</td><td>363601</td><td>RENT</td><td>60000.0</td><td>7500.0</td><td>36 months</td><td>0.1025</td><td>719</td><td>2</td><td>23</td><td>24</td><td>married</td><td>freelance</td><td>1</td></tr><tr><th>12</th><td>358960</td><td>365900</td><td>RENT</td><td>65000.0</td><td>4800.0</td><td>36 months</td><td>0.0788</td><td>719</td><td>0</td><td>37</td><td>3</td><td>married</td><td>fixed</td><td>0</td></tr><tr><th>13</th><td>362601</td><td>372102</td><td>RENT</td><td>45000.0</td><td>4000.0</td><td>36 months</td><td>0.1323</td><td>679</td><td>1</td><td>24</td><td>5</td><td>married</td><td>fixed</td><td>0</td></tr><tr><th>14</th><td>363593</td><td>373319</td><td>MORTGAGE</td><td>59450.0</td><td>3000.0</td><td>36 months</td><td>0.1038</td><td>714</td><td>2</td><td>24</td><td>0</td><td>married</td><td>fixed</td><td>0</td></tr><tr><th>15</th><td>364636</td><td>375321</td><td>MORTGAGE</td><td>70000.0</td><td>10000.0</td><td>36 months</td><td>0.0988</td><td>734</td><td>3</td><td>27</td><td>3</td><td>married</td><td>fixed</td><td>0</td></tr><tr><th>16</th><td>365196</td><td>376105</td><td>MORTGAGE</td><td>55728.0</td><td>13000.0</td><td>36 months</td><td>0.1062</td><td>784</td><td>0</td><td>52</td><td>1</td><td>married</td><td>freelance</td><td>0</td></tr><tr><th>17</th><td>366004</td><td>377347</td><td>RENT</td><td>50000.0</td><td>4000.0</td><td>36 months</td><td>0.1261</td><td>674</td><td>1</td><td>23</td><td>4</td><td>single</td><td>freelance</td><td>0</td></tr><tr><th>18</th><td>368492</td><td>379221</td><td>RENT</td><td>21000.0</td><td>4500.0</td><td>36 months</td><td>0.0962</td><td>714</td><td>0</td><td>24</td><td>4</td><td>married</td><td>partime</td><td>0</td></tr><tr><th>19</th><td>370141</td><td>386685</td><td>MORTGAGE</td><td>58000.0</td><td>14000.0</td><td>36 months</td><td>0.0751</td><td>784</td><td>1</td><td>26</td><td>20</td><td>single</td><td>fixed</td><td>0</td></tr><tr><th>20</th><td>370866</td><td>387172</td><td>RENT</td><td>60000.0</td><td>15000.0</td><td>36 months</td><td>0.1422</td><td>704</td><td>3</td><td>28</td><td>6</td><td>married</td><td>fixed</td><td>0</td></tr><tr><th>21</th><td>376257</td><td>399200</td><td>MORTGAGE</td><td>114400.0</td><td>20000.0</td><td>36 months</td><td>0.1348</td><td>704</td><td>3</td><td>37</td><td>0</td><td>married</td><td>fixed</td><td>0</td></tr><tr><th>22</th><td>377346</td><td>401437</td><td>RENT</td><td>31875.0</td><td>7500.0</td><td>36 months</td><td>0.1311</td><td>684</td><td>0</td><td>24</td><td>6</td><td>single</td><td>partime</td><td>0</td></tr><tr><th>23</th><td>377437</td><td>401596</td><td>MORTGAGE</td><td>65000.0</td><td>14000.0</td><td>36 months</td><td>0.1531</td><td>684</td><td>0</td><td>23</td><td>1</td><td>married</td><td>fixed</td><td>0</td></tr><tr><th>24</th><td>380713</td><td>408422</td><td>MORTGAGE</td><td>25000.0</td><td>13000.0</td><td>60 months</td><td>0.1595</td><td>689</td><td>0</td><td>33</td><td>4</td><td>single</td><td>fixed</td><td>0</td></tr><tr><th>25</th><td>381025</td><td>409016</td><td>RENT</td><td>130606.0</td><td>20000.0</td><td>36 months</td><td>0.183</td><td>699</td><td>2</td><td>23</td><td>16</td><td>married</td><td>fixed</td><td>0</td></tr><tr><th>26</th><td>381219</td><td>409439</td><td>OWN</td><td>34800.0</td><td>7350.0</td><td>36 months</td><td>0.1422</td><td>689</td><td>2</td><td>26</td><td>12</td><td>married</td><td>fixed</td><td>0</td></tr><tr><th>27</th><td>382096</td><td>411142</td><td>RENT</td><td>33996.0</td><td>9600.0</td><td>36 months</td><td>0.0988</td><td>734</td><td>1</td><td>25</td><td>12</td><td>married</td><td>fixed</td><td>0</td></tr><tr><th>28</th><td>386071</td><td>390208</td><td>RENT</td><td>61000.0</td><td>10000.0</td><td>36 months</td><td>0.1607</td><td>669</td><td>1</td><td>35</td><td>18</td><td>married</td><td>fixed</td><td>0</td></tr><tr><th>29</th><td>391358</td><td>427297</td><td>MORTGAGE</td><td>45000.0</td><td>8000.0</td><td>36 months</td><td>0.0751</td><td>769</td><td>1</td><td>23</td><td>1</td><td>divorced</td><td>partime</td><td>0</td></tr><tr><th>30</th><td>391439</td><td>427448</td><td>RENT</td><td>160000.0</td><td>15000.0</td><td>36 months</td><td>0.1682</td><td>684</td><td>0</td><td>26</td><td>2</td><td>married</td><td>fixed</td><td>0</td></tr><tr><th>&vellip;</th><td>&vellip;</td><td>&vellip;</td><td>&vellip;</td><td>&vellip;</td><td>&vellip;</td><td>&vellip;</td><td>&vellip;</td><td>&vellip;</td><td>&vellip;</td><td>&vellip;</td><td>&vellip;</td><td>&vellip;</td><td>&vellip;</td><td>&vellip;</td></tr></tbody></table>"
      ],
      "text/plain": [
       "10542×14 DataFrames.DataFrame\n",
       "│ Row   │ loan_id │ member_id │ home_ownership │ annual_inc │ loan_amnt │\n",
       "├───────┼─────────┼───────────┼────────────────┼────────────┼───────────┤\n",
       "│ 1     │ 57245   │ 138150    │ \"OWN\"          │ 54000.0    │ 1200.0    │\n",
       "│ 2     │ 61390   │ 182594    │ \"MORTGAGE\"     │ 148000.0   │ 4000.0    │\n",
       "│ 3     │ 61419   │ 182917    │ \"RENT\"         │ 45000.0    │ 5600.0    │\n",
       "│ 4     │ 62102   │ 191024    │ \"RENT\"         │ 54000.0    │ 3200.0    │\n",
       "│ 5     │ 66943   │ 247802    │ \"RENT\"         │ 24000.0    │ 2800.0    │\n",
       "│ 6     │ 68163   │ 258249    │ \"MORTGAGE\"     │ 100000.0   │ 3000.0    │\n",
       "│ 7     │ 69990   │ 275254    │ \"RENT\"         │ 125000.0   │ 15500.0   │\n",
       "│ 8     │ 290807  │ 290804    │ \"RENT\"         │ 84996.0    │ 15000.0   │\n",
       "│ 9     │ 347648  │ 348254    │ \"RENT\"         │ 60000.0    │ 10000.0   │\n",
       "│ 10    │ 348340  │ 349269    │ \"RENT\"         │ 71000.0    │ 8000.0    │\n",
       "│ 11    │ 357509  │ 363601    │ \"RENT\"         │ 60000.0    │ 7500.0    │\n",
       "⋮\n",
       "│ 10531 │ 643636  │ 823701    │ \"OWN\"          │ 56400.0    │ 5000.0    │\n",
       "│ 10532 │ 643749  │ 823839    │ \"MORTGAGE\"     │ 75000.0    │ 12000.0   │\n",
       "│ 10533 │ 643774  │ 823868    │ \"RENT\"         │ 58000.0    │ 10000.0   │\n",
       "│ 10534 │ 643778  │ 823873    │ \"MORTGAGE\"     │ 63000.0    │ 10000.0   │\n",
       "│ 10535 │ 643791  │ 823890    │ \"MORTGAGE\"     │ 55000.0    │ 15000.0   │\n",
       "│ 10536 │ 643800  │ 823901    │ \"RENT\"         │ 55000.0    │ 18000.0   │\n",
       "│ 10537 │ 643806  │ 823909    │ \"RENT\"         │ 80000.0    │ 25000.0   │\n",
       "│ 10538 │ 643822  │ 823926    │ \"MORTGAGE\"     │ 48000.0    │ 10000.0   │\n",
       "│ 10539 │ 643840  │ 823946    │ \"RENT\"         │ 55000.0    │ 3200.0    │\n",
       "│ 10540 │ 643848  │ 823955    │ \"RENT\"         │ 53000.0    │ 15000.0   │\n",
       "│ 10541 │ 643860  │ 823969    │ \"MORTGAGE\"     │ 43200.0    │ 16800.0   │\n",
       "│ 10542 │ 643926  │ 824049    │ \"MORTGAGE\"     │ 948000.0   │ 2000.0    │\n",
       "\n",
       "│ Row   │ term        │ int_rate │ cibil_score │ inq_last_6mths │ age │\n",
       "├───────┼─────────────┼──────────┼─────────────┼────────────────┼─────┤\n",
       "│ 1     │ \"36 months\" │ 0.1311   │ 679         │ 0              │ 36  │\n",
       "│ 2     │ \"36 months\" │ 0.0788   │ 729         │ 0              │ 25  │\n",
       "│ 3     │ \"36 months\" │ 0.1496   │ 669         │ 0              │ 22  │\n",
       "│ 4     │ \"36 months\" │ 0.0988   │ 744         │ 0              │ 25  │\n",
       "│ 5     │ \"60 months\" │ 0.1149   │ 709         │ 0              │ 26  │\n",
       "│ 6     │ \"36 months\" │ 0.0714   │ 749         │ 0              │ 22  │\n",
       "│ 7     │ \"36 months\" │ 0.0788   │ 784         │ 1              │ 29  │\n",
       "│ 8     │ \"36 months\" │ 0.157    │ 674         │ 1              │ 29  │\n",
       "│ 9     │ \"36 months\" │ 0.1273   │ 714         │ 0              │ 22  │\n",
       "│ 10    │ \"36 months\" │ 0.1112   │ 714         │ 0              │ 26  │\n",
       "│ 11    │ \"36 months\" │ 0.1025   │ 719         │ 2              │ 23  │\n",
       "⋮\n",
       "│ 10531 │ \"36 months\" │ 0.0654   │ 729         │ 0              │ 27  │\n",
       "│ 10532 │ \"36 months\" │ 0.1261   │ 684         │ 1              │ 29  │\n",
       "│ 10533 │ \"36 months\" │ 0.0654   │ 734         │ 1              │ 38  │\n",
       "│ 10534 │ \"36 months\" │ 0.0691   │ 719         │ 1              │ 23  │\n",
       "│ 10535 │ \"36 months\" │ 0.0617   │ 804         │ 2              │ 28  │\n",
       "│ 10536 │ \"60 months\" │ 0.1632   │ 694         │ 0              │ 25  │\n",
       "│ 10537 │ \"36 months\" │ 0.1409   │ 709         │ 2              │ 22  │\n",
       "│ 10538 │ \"60 months\" │ 0.1557   │ 714         │ 3              │ 22  │\n",
       "│ 10539 │ \"36 months\" │ 0.1298   │ 674         │ 3              │ 28  │\n",
       "│ 10540 │ \"60 months\" │ 0.152    │ 704         │ 0              │ 33  │\n",
       "│ 10541 │ \"36 months\" │ 0.0617   │ 754         │ 2              │ 26  │\n",
       "│ 10542 │ \"36 months\" │ 0.0999   │ 689         │ 2              │ 24  │\n",
       "\n",
       "│ Row   │ emp_length │ marital     │ job         │ loan_status │\n",
       "├───────┼────────────┼─────────────┼─────────────┼─────────────┤\n",
       "│ 1     │ 5          │ \"married\"   │ \"freelance\" │ 0           │\n",
       "│ 2     │ 8          │ \"single\"    │ \"partime\"   │ 0           │\n",
       "│ 3     │ 2          │ \"married\"   │ \"fixed\"     │ 1           │\n",
       "│ 4     │ 4          │ \"married\"   │ \"fixed\"     │ 0           │\n",
       "│ 5     │ 17         │ \"married\"   │ \"fixed\"     │ 0           │\n",
       "│ 6     │ 8          │ \"married\"   │ \"freelance\" │ 0           │\n",
       "│ 7     │ 3          │ \"single\"    │ \"freelance\" │ 0           │\n",
       "│ 8     │ 13         │ \"separated\" │ \"freelance\" │ 0           │\n",
       "│ 9     │ 15         │ \"single\"    │ \"fixed\"     │ 0           │\n",
       "│ 10    │ 5          │ \"married\"   │ \"fixed\"     │ 0           │\n",
       "│ 11    │ 24         │ \"married\"   │ \"freelance\" │ 1           │\n",
       "⋮\n",
       "│ 10531 │ 2          │ \"single\"    │ \"fixed\"     │ 1           │\n",
       "│ 10532 │ 15         │ \"married\"   │ \"fixed\"     │ 0           │\n",
       "│ 10533 │ NA         │ \"married\"   │ \"fixed\"     │ 0           │\n",
       "│ 10534 │ 11         │ \"single\"    │ \"freelance\" │ 0           │\n",
       "│ 10535 │ 8          │ \"married\"   │ \"fixed\"     │ 0           │\n",
       "│ 10536 │ 4          │ \"married\"   │ \"fixed\"     │ 1           │\n",
       "│ 10537 │ 4          │ \"married\"   │ \"fixed\"     │ 0           │\n",
       "│ 10538 │ 5          │ \"single\"    │ \"freelance\" │ 1           │\n",
       "│ 10539 │ 22         │ \"married\"   │ \"fixed\"     │ 0           │\n",
       "│ 10540 │ 3          │ \"single\"    │ \"partime\"   │ 1           │\n",
       "│ 10541 │ 0          │ \"single\"    │ \"fixed\"     │ 1           │\n",
       "│ 10542 │ 3          │ \"married\"   │ \"fixed\"     │ 0           │"
      ]
     },
     "execution_count": 32,
     "metadata": {},
     "output_type": "execute_result"
    }
   ],
   "source": [
    "rename!(data, :loan_status_new, :loan_status)"
   ]
  },
  {
   "cell_type": "code",
   "execution_count": 33,
   "metadata": {},
   "outputs": [
    {
     "data": {
      "text/html": [
       "<table class=\"data-frame\"><thead><tr><th></th><th>home_ownership</th><th>annual_inc</th><th>loan_amnt</th><th>term</th><th>int_rate</th><th>cibil_score</th><th>inq_last_6mths</th><th>age</th><th>emp_length</th><th>marital</th><th>job</th><th>loan_status</th></tr></thead><tbody><tr><th>1</th><td>OWN</td><td>54000.0</td><td>1200.0</td><td>36 months</td><td>0.1311</td><td>679</td><td>0</td><td>36</td><td>5</td><td>married</td><td>freelance</td><td>0</td></tr><tr><th>2</th><td>MORTGAGE</td><td>148000.0</td><td>4000.0</td><td>36 months</td><td>0.0788</td><td>729</td><td>0</td><td>25</td><td>8</td><td>single</td><td>partime</td><td>0</td></tr><tr><th>3</th><td>RENT</td><td>45000.0</td><td>5600.0</td><td>36 months</td><td>0.1496</td><td>669</td><td>0</td><td>22</td><td>2</td><td>married</td><td>fixed</td><td>1</td></tr><tr><th>4</th><td>RENT</td><td>54000.0</td><td>3200.0</td><td>36 months</td><td>0.0988</td><td>744</td><td>0</td><td>25</td><td>4</td><td>married</td><td>fixed</td><td>0</td></tr><tr><th>5</th><td>RENT</td><td>24000.0</td><td>2800.0</td><td>60 months</td><td>0.1149</td><td>709</td><td>0</td><td>26</td><td>17</td><td>married</td><td>fixed</td><td>0</td></tr><tr><th>6</th><td>MORTGAGE</td><td>100000.0</td><td>3000.0</td><td>36 months</td><td>0.0714</td><td>749</td><td>0</td><td>22</td><td>8</td><td>married</td><td>freelance</td><td>0</td></tr><tr><th>7</th><td>RENT</td><td>125000.0</td><td>15500.0</td><td>36 months</td><td>0.0788</td><td>784</td><td>1</td><td>29</td><td>3</td><td>single</td><td>freelance</td><td>0</td></tr><tr><th>8</th><td>RENT</td><td>84996.0</td><td>15000.0</td><td>36 months</td><td>0.157</td><td>674</td><td>1</td><td>29</td><td>13</td><td>separated</td><td>freelance</td><td>0</td></tr><tr><th>9</th><td>RENT</td><td>60000.0</td><td>10000.0</td><td>36 months</td><td>0.1273</td><td>714</td><td>0</td><td>22</td><td>15</td><td>single</td><td>fixed</td><td>0</td></tr><tr><th>10</th><td>RENT</td><td>71000.0</td><td>8000.0</td><td>36 months</td><td>0.1112</td><td>714</td><td>0</td><td>26</td><td>5</td><td>married</td><td>fixed</td><td>0</td></tr><tr><th>11</th><td>RENT</td><td>60000.0</td><td>7500.0</td><td>36 months</td><td>0.1025</td><td>719</td><td>2</td><td>23</td><td>24</td><td>married</td><td>freelance</td><td>1</td></tr><tr><th>12</th><td>RENT</td><td>65000.0</td><td>4800.0</td><td>36 months</td><td>0.0788</td><td>719</td><td>0</td><td>37</td><td>3</td><td>married</td><td>fixed</td><td>0</td></tr><tr><th>13</th><td>RENT</td><td>45000.0</td><td>4000.0</td><td>36 months</td><td>0.1323</td><td>679</td><td>1</td><td>24</td><td>5</td><td>married</td><td>fixed</td><td>0</td></tr><tr><th>14</th><td>MORTGAGE</td><td>59450.0</td><td>3000.0</td><td>36 months</td><td>0.1038</td><td>714</td><td>2</td><td>24</td><td>0</td><td>married</td><td>fixed</td><td>0</td></tr><tr><th>15</th><td>MORTGAGE</td><td>70000.0</td><td>10000.0</td><td>36 months</td><td>0.0988</td><td>734</td><td>3</td><td>27</td><td>3</td><td>married</td><td>fixed</td><td>0</td></tr><tr><th>16</th><td>MORTGAGE</td><td>55728.0</td><td>13000.0</td><td>36 months</td><td>0.1062</td><td>784</td><td>0</td><td>52</td><td>1</td><td>married</td><td>freelance</td><td>0</td></tr><tr><th>17</th><td>RENT</td><td>50000.0</td><td>4000.0</td><td>36 months</td><td>0.1261</td><td>674</td><td>1</td><td>23</td><td>4</td><td>single</td><td>freelance</td><td>0</td></tr><tr><th>18</th><td>RENT</td><td>21000.0</td><td>4500.0</td><td>36 months</td><td>0.0962</td><td>714</td><td>0</td><td>24</td><td>4</td><td>married</td><td>partime</td><td>0</td></tr><tr><th>19</th><td>MORTGAGE</td><td>58000.0</td><td>14000.0</td><td>36 months</td><td>0.0751</td><td>784</td><td>1</td><td>26</td><td>20</td><td>single</td><td>fixed</td><td>0</td></tr><tr><th>20</th><td>RENT</td><td>60000.0</td><td>15000.0</td><td>36 months</td><td>0.1422</td><td>704</td><td>3</td><td>28</td><td>6</td><td>married</td><td>fixed</td><td>0</td></tr><tr><th>21</th><td>MORTGAGE</td><td>114400.0</td><td>20000.0</td><td>36 months</td><td>0.1348</td><td>704</td><td>3</td><td>37</td><td>0</td><td>married</td><td>fixed</td><td>0</td></tr><tr><th>22</th><td>RENT</td><td>31875.0</td><td>7500.0</td><td>36 months</td><td>0.1311</td><td>684</td><td>0</td><td>24</td><td>6</td><td>single</td><td>partime</td><td>0</td></tr><tr><th>23</th><td>MORTGAGE</td><td>65000.0</td><td>14000.0</td><td>36 months</td><td>0.1531</td><td>684</td><td>0</td><td>23</td><td>1</td><td>married</td><td>fixed</td><td>0</td></tr><tr><th>24</th><td>MORTGAGE</td><td>25000.0</td><td>13000.0</td><td>60 months</td><td>0.1595</td><td>689</td><td>0</td><td>33</td><td>4</td><td>single</td><td>fixed</td><td>0</td></tr><tr><th>25</th><td>RENT</td><td>130606.0</td><td>20000.0</td><td>36 months</td><td>0.183</td><td>699</td><td>2</td><td>23</td><td>16</td><td>married</td><td>fixed</td><td>0</td></tr><tr><th>26</th><td>OWN</td><td>34800.0</td><td>7350.0</td><td>36 months</td><td>0.1422</td><td>689</td><td>2</td><td>26</td><td>12</td><td>married</td><td>fixed</td><td>0</td></tr><tr><th>27</th><td>RENT</td><td>33996.0</td><td>9600.0</td><td>36 months</td><td>0.0988</td><td>734</td><td>1</td><td>25</td><td>12</td><td>married</td><td>fixed</td><td>0</td></tr><tr><th>28</th><td>RENT</td><td>61000.0</td><td>10000.0</td><td>36 months</td><td>0.1607</td><td>669</td><td>1</td><td>35</td><td>18</td><td>married</td><td>fixed</td><td>0</td></tr><tr><th>29</th><td>MORTGAGE</td><td>45000.0</td><td>8000.0</td><td>36 months</td><td>0.0751</td><td>769</td><td>1</td><td>23</td><td>1</td><td>divorced</td><td>partime</td><td>0</td></tr><tr><th>30</th><td>RENT</td><td>160000.0</td><td>15000.0</td><td>36 months</td><td>0.1682</td><td>684</td><td>0</td><td>26</td><td>2</td><td>married</td><td>fixed</td><td>0</td></tr><tr><th>&vellip;</th><td>&vellip;</td><td>&vellip;</td><td>&vellip;</td><td>&vellip;</td><td>&vellip;</td><td>&vellip;</td><td>&vellip;</td><td>&vellip;</td><td>&vellip;</td><td>&vellip;</td><td>&vellip;</td><td>&vellip;</td></tr></tbody></table>"
      ],
      "text/plain": [
       "10542×12 DataFrames.DataFrame\n",
       "│ Row   │ home_ownership │ annual_inc │ loan_amnt │ term        │ int_rate │\n",
       "├───────┼────────────────┼────────────┼───────────┼─────────────┼──────────┤\n",
       "│ 1     │ \"OWN\"          │ 54000.0    │ 1200.0    │ \"36 months\" │ 0.1311   │\n",
       "│ 2     │ \"MORTGAGE\"     │ 148000.0   │ 4000.0    │ \"36 months\" │ 0.0788   │\n",
       "│ 3     │ \"RENT\"         │ 45000.0    │ 5600.0    │ \"36 months\" │ 0.1496   │\n",
       "│ 4     │ \"RENT\"         │ 54000.0    │ 3200.0    │ \"36 months\" │ 0.0988   │\n",
       "│ 5     │ \"RENT\"         │ 24000.0    │ 2800.0    │ \"60 months\" │ 0.1149   │\n",
       "│ 6     │ \"MORTGAGE\"     │ 100000.0   │ 3000.0    │ \"36 months\" │ 0.0714   │\n",
       "│ 7     │ \"RENT\"         │ 125000.0   │ 15500.0   │ \"36 months\" │ 0.0788   │\n",
       "│ 8     │ \"RENT\"         │ 84996.0    │ 15000.0   │ \"36 months\" │ 0.157    │\n",
       "│ 9     │ \"RENT\"         │ 60000.0    │ 10000.0   │ \"36 months\" │ 0.1273   │\n",
       "│ 10    │ \"RENT\"         │ 71000.0    │ 8000.0    │ \"36 months\" │ 0.1112   │\n",
       "│ 11    │ \"RENT\"         │ 60000.0    │ 7500.0    │ \"36 months\" │ 0.1025   │\n",
       "⋮\n",
       "│ 10531 │ \"OWN\"          │ 56400.0    │ 5000.0    │ \"36 months\" │ 0.0654   │\n",
       "│ 10532 │ \"MORTGAGE\"     │ 75000.0    │ 12000.0   │ \"36 months\" │ 0.1261   │\n",
       "│ 10533 │ \"RENT\"         │ 58000.0    │ 10000.0   │ \"36 months\" │ 0.0654   │\n",
       "│ 10534 │ \"MORTGAGE\"     │ 63000.0    │ 10000.0   │ \"36 months\" │ 0.0691   │\n",
       "│ 10535 │ \"MORTGAGE\"     │ 55000.0    │ 15000.0   │ \"36 months\" │ 0.0617   │\n",
       "│ 10536 │ \"RENT\"         │ 55000.0    │ 18000.0   │ \"60 months\" │ 0.1632   │\n",
       "│ 10537 │ \"RENT\"         │ 80000.0    │ 25000.0   │ \"36 months\" │ 0.1409   │\n",
       "│ 10538 │ \"MORTGAGE\"     │ 48000.0    │ 10000.0   │ \"60 months\" │ 0.1557   │\n",
       "│ 10539 │ \"RENT\"         │ 55000.0    │ 3200.0    │ \"36 months\" │ 0.1298   │\n",
       "│ 10540 │ \"RENT\"         │ 53000.0    │ 15000.0   │ \"60 months\" │ 0.152    │\n",
       "│ 10541 │ \"MORTGAGE\"     │ 43200.0    │ 16800.0   │ \"36 months\" │ 0.0617   │\n",
       "│ 10542 │ \"MORTGAGE\"     │ 948000.0   │ 2000.0    │ \"36 months\" │ 0.0999   │\n",
       "\n",
       "│ Row   │ cibil_score │ inq_last_6mths │ age │ emp_length │ marital     │\n",
       "├───────┼─────────────┼────────────────┼─────┼────────────┼─────────────┤\n",
       "│ 1     │ 679         │ 0              │ 36  │ 5          │ \"married\"   │\n",
       "│ 2     │ 729         │ 0              │ 25  │ 8          │ \"single\"    │\n",
       "│ 3     │ 669         │ 0              │ 22  │ 2          │ \"married\"   │\n",
       "│ 4     │ 744         │ 0              │ 25  │ 4          │ \"married\"   │\n",
       "│ 5     │ 709         │ 0              │ 26  │ 17         │ \"married\"   │\n",
       "│ 6     │ 749         │ 0              │ 22  │ 8          │ \"married\"   │\n",
       "│ 7     │ 784         │ 1              │ 29  │ 3          │ \"single\"    │\n",
       "│ 8     │ 674         │ 1              │ 29  │ 13         │ \"separated\" │\n",
       "│ 9     │ 714         │ 0              │ 22  │ 15         │ \"single\"    │\n",
       "│ 10    │ 714         │ 0              │ 26  │ 5          │ \"married\"   │\n",
       "│ 11    │ 719         │ 2              │ 23  │ 24         │ \"married\"   │\n",
       "⋮\n",
       "│ 10531 │ 729         │ 0              │ 27  │ 2          │ \"single\"    │\n",
       "│ 10532 │ 684         │ 1              │ 29  │ 15         │ \"married\"   │\n",
       "│ 10533 │ 734         │ 1              │ 38  │ NA         │ \"married\"   │\n",
       "│ 10534 │ 719         │ 1              │ 23  │ 11         │ \"single\"    │\n",
       "│ 10535 │ 804         │ 2              │ 28  │ 8          │ \"married\"   │\n",
       "│ 10536 │ 694         │ 0              │ 25  │ 4          │ \"married\"   │\n",
       "│ 10537 │ 709         │ 2              │ 22  │ 4          │ \"married\"   │\n",
       "│ 10538 │ 714         │ 3              │ 22  │ 5          │ \"single\"    │\n",
       "│ 10539 │ 674         │ 3              │ 28  │ 22         │ \"married\"   │\n",
       "│ 10540 │ 704         │ 0              │ 33  │ 3          │ \"single\"    │\n",
       "│ 10541 │ 754         │ 2              │ 26  │ 0          │ \"single\"    │\n",
       "│ 10542 │ 689         │ 2              │ 24  │ 3          │ \"married\"   │\n",
       "\n",
       "│ Row   │ job         │ loan_status │\n",
       "├───────┼─────────────┼─────────────┤\n",
       "│ 1     │ \"freelance\" │ 0           │\n",
       "│ 2     │ \"partime\"   │ 0           │\n",
       "│ 3     │ \"fixed\"     │ 1           │\n",
       "│ 4     │ \"fixed\"     │ 0           │\n",
       "│ 5     │ \"fixed\"     │ 0           │\n",
       "│ 6     │ \"freelance\" │ 0           │\n",
       "│ 7     │ \"freelance\" │ 0           │\n",
       "│ 8     │ \"freelance\" │ 0           │\n",
       "│ 9     │ \"fixed\"     │ 0           │\n",
       "│ 10    │ \"fixed\"     │ 0           │\n",
       "│ 11    │ \"freelance\" │ 1           │\n",
       "⋮\n",
       "│ 10531 │ \"fixed\"     │ 1           │\n",
       "│ 10532 │ \"fixed\"     │ 0           │\n",
       "│ 10533 │ \"fixed\"     │ 0           │\n",
       "│ 10534 │ \"freelance\" │ 0           │\n",
       "│ 10535 │ \"fixed\"     │ 0           │\n",
       "│ 10536 │ \"fixed\"     │ 1           │\n",
       "│ 10537 │ \"fixed\"     │ 0           │\n",
       "│ 10538 │ \"freelance\" │ 1           │\n",
       "│ 10539 │ \"fixed\"     │ 0           │\n",
       "│ 10540 │ \"partime\"   │ 1           │\n",
       "│ 10541 │ \"fixed\"     │ 1           │\n",
       "│ 10542 │ \"fixed\"     │ 0           │"
      ]
     },
     "execution_count": 33,
     "metadata": {},
     "output_type": "execute_result"
    }
   ],
   "source": [
    "# Delete Loan ID and Customer ID columns\n",
    "delete!(data,:loan_id)\n",
    "delete!(data,:member_id)"
   ]
  },
  {
   "cell_type": "code",
   "execution_count": 34,
   "metadata": {},
   "outputs": [
    {
     "data": {
      "text/plain": [
       "2-element Named Array{Int64,1}\n",
       "Dim1  │ \n",
       "──────┼─────\n",
       "0     │ 9113\n",
       "1     │ 1429"
      ]
     },
     "execution_count": 34,
     "metadata": {},
     "output_type": "execute_result"
    }
   ],
   "source": [
    "# Explore Loan Amount\n",
    "freqtable(data[:loan_status])"
   ]
  },
  {
   "cell_type": "code",
   "execution_count": 35,
   "metadata": {},
   "outputs": [
    {
     "name": "stdout",
     "output_type": "stream",
     "text": [
      "Summary Stats:\n",
      "Mean:           68835.898406\n",
      "Minimum:        4080.000000\n",
      "1st Quartile:   40000.000000\n",
      "Median:         57600.000000\n",
      "3rd Quartile:   81000.000000\n",
      "Maximum:        6000000.000000\n",
      "Length:         10542\n",
      "Type:           Float64\n",
      "Number Missing: 0\n",
      "% Missing:      0.000000\n"
     ]
    }
   ],
   "source": [
    "describe(data[:annual_inc])"
   ]
  },
  {
   "cell_type": "code",
   "execution_count": 10,
   "metadata": {},
   "outputs": [
    {
     "data": {
      "image/png": "[encoded data removed]"
     },
     "execution_count": 10,
     "metadata": {},
     "output_type": "execute_result"
    }
   ],
   "source": [
    "# Plot Histogram for Applicant Income\n",
    "Plots.histogram(data[:annual_inc], bins = 1000, xlabel = \"annual_inc\", labels = \"Frequency\")"
   ]
  },
  {
   "cell_type": "code",
   "execution_count": 36,
   "metadata": {},
   "outputs": [
    {
     "data": {
      "text/plain": [
       "12-element Array{Type,1}:\n",
       " String \n",
       " Float64\n",
       " Float64\n",
       " String \n",
       " Float64\n",
       " Int64  \n",
       " Int64  \n",
       " Int64  \n",
       " Int64  \n",
       " String \n",
       " String \n",
       " Int64  "
      ]
     },
     "execution_count": 36,
     "metadata": {},
     "output_type": "execute_result"
    }
   ],
   "source": [
    "eltypes(data)"
   ]
  },
  {
   "cell_type": "code",
   "execution_count": 37,
   "metadata": {},
   "outputs": [
    {
     "data": {
      "text/plain": [
       "3-element Named Array{Int64,1}\n",
       "Dim1     │ \n",
       "─────────┼─────\n",
       "MORTGAGE │ 4540\n",
       "OWN      │  883\n",
       "RENT     │ 5119"
      ]
     },
     "execution_count": 37,
     "metadata": {},
     "output_type": "execute_result"
    }
   ],
   "source": [
    "freqtable(data[:home_ownership])"
   ]
  },
  {
   "cell_type": "code",
   "execution_count": 38,
   "metadata": {},
   "outputs": [
    {
     "data": {
      "text/plain": [
       "(7379×12 DataFrames.DataFrame\n",
       "│ Row  │ home_ownership │ annual_inc │ loan_amnt │ term        │ int_rate │\n",
       "├──────┼────────────────┼────────────┼───────────┼─────────────┼──────────┤\n",
       "│ 1    │ \"RENT\"         │ 10200.0    │ 1000.0    │ \"36 months\" │ 0.1496   │\n",
       "│ 2    │ \"RENT\"         │ 33000.0    │ 2000.0    │ \"36 months\" │ 0.0988   │\n",
       "│ 3    │ \"MORTGAGE\"     │ 71500.0    │ 9250.0    │ \"36 months\" │ 0.1253   │\n",
       "│ 4    │ \"MORTGAGE\"     │ 185000.0   │ 12000.0   │ \"36 months\" │ 0.0579   │\n",
       "│ 5    │ \"MORTGAGE\"     │ 80000.0    │ 25000.0   │ \"36 months\" │ 0.178    │\n",
       "│ 6    │ \"RENT\"         │ 38400.0    │ 23500.0   │ \"36 months\" │ 0.1496   │\n",
       "│ 7    │ \"MORTGAGE\"     │ 55920.0    │ 22000.0   │ \"36 months\" │ 0.0788   │\n",
       "│ 8    │ \"MORTGAGE\"     │ 105997.0   │ 12025.0   │ \"60 months\" │ 0.1036   │\n",
       "│ 9    │ \"MORTGAGE\"     │ 28800.0    │ 5500.0    │ \"36 months\" │ 0.1273   │\n",
       "│ 10   │ \"MORTGAGE\"     │ 73000.0    │ 17000.0   │ \"36 months\" │ 0.0788   │\n",
       "│ 11   │ \"RENT\"         │ 54000.0    │ 15000.0   │ \"36 months\" │ 0.1521   │\n",
       "⋮\n",
       "│ 7368 │ \"RENT\"         │ 90000.0    │ 7000.0    │ \"36 months\" │ 0.0925   │\n",
       "│ 7369 │ \"MORTGAGE\"     │ 88992.0    │ 25000.0   │ \"60 months\" │ 0.1398   │\n",
       "│ 7370 │ \"RENT\"         │ 50000.0    │ 10000.0   │ \"36 months\" │ 0.0788   │\n",
       "│ 7371 │ \"RENT\"         │ 72000.0    │ 15000.0   │ \"36 months\" │ 0.0654   │\n",
       "│ 7372 │ \"OWN\"          │ 31000.0    │ 1000.0    │ \"36 months\" │ 0.074    │\n",
       "│ 7373 │ \"RENT\"         │ 19200.0    │ 6000.0    │ \"36 months\" │ 0.0714   │\n",
       "│ 7374 │ \"MORTGAGE\"     │ 90000.0    │ 15000.0   │ \"60 months\" │ 0.1521   │\n",
       "│ 7375 │ \"RENT\"         │ 40000.0    │ 9500.0    │ \"36 months\" │ 0.1446   │\n",
       "│ 7376 │ \"RENT\"         │ 13200.0    │ 4000.0    │ \"36 months\" │ 0.0639   │\n",
       "│ 7377 │ \"MORTGAGE\"     │ 67222.0    │ 10000.0   │ \"36 months\" │ 0.1114   │\n",
       "│ 7378 │ \"MORTGAGE\"     │ 78000.0    │ 5750.0    │ \"60 months\" │ 0.0999   │\n",
       "│ 7379 │ \"MORTGAGE\"     │ 65000.0    │ 7750.0    │ \"36 months\" │ 0.0751   │\n",
       "\n",
       "│ Row  │ cibil_score │ inq_last_6mths │ age │ emp_length │ marital     │\n",
       "├──────┼─────────────┼────────────────┼─────┼────────────┼─────────────┤\n",
       "│ 1    │ 689         │ 0              │ 28  │ 12         │ \"widow\"     │\n",
       "│ 2    │ 709         │ 1              │ 26  │ 16         │ \"married\"   │\n",
       "│ 3    │ 694         │ 1              │ 21  │ 1          │ \"married\"   │\n",
       "│ 4    │ 759         │ 0              │ 23  │ 7          │ \"married\"   │\n",
       "│ 5    │ 674         │ 1              │ 33  │ 0          │ \"married\"   │\n",
       "│ 6    │ 704         │ 2              │ 28  │ 6          │ \"married\"   │\n",
       "│ 7    │ 794         │ 0              │ 30  │ 13         │ \"single\"    │\n",
       "│ 8    │ 714         │ 0              │ 23  │ 3          │ \"married\"   │\n",
       "│ 9    │ 689         │ 0              │ 22  │ 2          │ \"single\"    │\n",
       "│ 10   │ 774         │ 1              │ 41  │ 2          │ \"married\"   │\n",
       "│ 11   │ 679         │ 0              │ 42  │ 19         │ \"married\"   │\n",
       "⋮\n",
       "│ 7368 │ 704         │ 1              │ 38  │ 0          │ \"married\"   │\n",
       "│ 7369 │ 719         │ 0              │ 35  │ 8          │ \"married\"   │\n",
       "│ 7370 │ 744         │ 0              │ 24  │ 12         │ \"single\"    │\n",
       "│ 7371 │ 754         │ 0              │ 39  │ 11         │ \"single\"    │\n",
       "│ 7372 │ 814         │ 0              │ 24  │ NA         │ \"married\"   │\n",
       "│ 7373 │ 769         │ 0              │ 27  │ 0          │ \"married\"   │\n",
       "│ 7374 │ 704         │ 0              │ 24  │ 6          │ \"separated\" │\n",
       "│ 7375 │ 664         │ 0              │ 22  │ 1          │ \"separated\" │\n",
       "│ 7376 │ 774         │ 0              │ 24  │ 36         │ \"married\"   │\n",
       "│ 7377 │ 759         │ 5              │ 25  │ NA         │ \"married\"   │\n",
       "│ 7378 │ 734         │ 1              │ 28  │ 0          │ \"married\"   │\n",
       "│ 7379 │ 744         │ 2              │ 25  │ 9          │ \"single\"    │\n",
       "\n",
       "│ Row  │ job         │ loan_status │\n",
       "├──────┼─────────────┼─────────────┤\n",
       "│ 1    │ \"fixed\"     │ 1           │\n",
       "│ 2    │ \"others\"    │ 0           │\n",
       "│ 3    │ \"fixed\"     │ 0           │\n",
       "│ 4    │ \"fixed\"     │ 0           │\n",
       "│ 5    │ \"fixed\"     │ 1           │\n",
       "│ 6    │ \"freelance\" │ 0           │\n",
       "│ 7    │ \"fixed\"     │ 0           │\n",
       "│ 8    │ \"fixed\"     │ 0           │\n",
       "│ 9    │ \"partime\"   │ 0           │\n",
       "│ 10   │ \"freelance\" │ 0           │\n",
       "│ 11   │ \"fixed\"     │ 1           │\n",
       "⋮\n",
       "│ 7368 │ \"fixed\"     │ 0           │\n",
       "│ 7369 │ \"partime\"   │ 1           │\n",
       "│ 7370 │ \"freelance\" │ 0           │\n",
       "│ 7371 │ \"fixed\"     │ 0           │\n",
       "│ 7372 │ \"fixed\"     │ 0           │\n",
       "│ 7373 │ \"fixed\"     │ 0           │\n",
       "│ 7374 │ \"partime\"   │ 0           │\n",
       "│ 7375 │ \"freelance\" │ 0           │\n",
       "│ 7376 │ \"fixed\"     │ 0           │\n",
       "│ 7377 │ \"fixed\"     │ 0           │\n",
       "│ 7378 │ \"freelance\" │ 0           │\n",
       "│ 7379 │ \"fixed\"     │ 0           │, 3163×12 DataFrames.DataFrame\n",
       "│ Row  │ home_ownership │ annual_inc │ loan_amnt │ term        │ int_rate │\n",
       "├──────┼────────────────┼────────────┼───────────┼─────────────┼──────────┤\n",
       "│ 1    │ \"RENT\"         │ 140004.0   │ 25000.0   │ \"36 months\" │ 0.1558   │\n",
       "│ 2    │ \"MORTGAGE\"     │ 120000.0   │ 10000.0   │ \"36 months\" │ 0.0788   │\n",
       "│ 3    │ \"MORTGAGE\"     │ 68903.0    │ 25000.0   │ \"36 months\" │ 0.157    │\n",
       "│ 4    │ \"RENT\"         │ 69996.0    │ 19200.0   │ \"36 months\" │ 0.0788   │\n",
       "│ 5    │ \"RENT\"         │ 55000.0    │ 5000.0    │ \"36 months\" │ 0.0714   │\n",
       "│ 6    │ \"OWN\"          │ 30000.0    │ 10000.0   │ \"36 months\" │ 0.1261   │\n",
       "│ 7    │ \"MORTGAGE\"     │ 110196.0   │ 25000.0   │ \"36 months\" │ 0.1149   │\n",
       "│ 8    │ \"RENT\"         │ 96000.0    │ 20000.0   │ \"36 months\" │ 0.0788   │\n",
       "│ 9    │ \"OWN\"          │ 76800.0    │ 2400.0    │ \"36 months\" │ 0.0962   │\n",
       "│ 10   │ \"RENT\"         │ 55404.0    │ 15000.0   │ \"60 months\" │ 0.1743   │\n",
       "│ 11   │ \"MORTGAGE\"     │ 50000.0    │ 9000.0    │ \"36 months\" │ 0.0714   │\n",
       "⋮\n",
       "│ 3152 │ \"MORTGAGE\"     │ 85500.0    │ 12000.0   │ \"36 months\" │ 0.1149   │\n",
       "│ 3153 │ \"RENT\"         │ 60000.0    │ 11000.0   │ \"36 months\" │ 0.1422   │\n",
       "│ 3154 │ \"MORTGAGE\"     │ 66000.0    │ 20000.0   │ \"36 months\" │ 0.1025   │\n",
       "│ 3155 │ \"MORTGAGE\"     │ 35004.0    │ 9600.0    │ \"36 months\" │ 0.0788   │\n",
       "│ 3156 │ \"RENT\"         │ 63450.0    │ 6000.0    │ \"60 months\" │ 0.1446   │\n",
       "│ 3157 │ \"MORTGAGE\"     │ 96996.0    │ 13000.0   │ \"36 months\" │ 0.0579   │\n",
       "│ 3158 │ \"RENT\"         │ 42000.0    │ 6550.0    │ \"36 months\" │ 0.0788   │\n",
       "│ 3159 │ \"RENT\"         │ 24000.0    │ 3500.0    │ \"36 months\" │ 0.1472   │\n",
       "│ 3160 │ \"RENT\"         │ 60000.0    │ 5000.0    │ \"36 months\" │ 0.0617   │\n",
       "│ 3161 │ \"RENT\"         │ 75000.0    │ 5625.0    │ \"36 months\" │ 0.0691   │\n",
       "│ 3162 │ \"MORTGAGE\"     │ 58951.0    │ 3000.0    │ \"36 months\" │ 0.0751   │\n",
       "│ 3163 │ \"RENT\"         │ 6000.0     │ 1000.0    │ \"60 months\" │ 0.157    │\n",
       "\n",
       "│ Row  │ cibil_score │ inq_last_6mths │ age │ emp_length │ marital   │\n",
       "├──────┼─────────────┼────────────────┼─────┼────────────┼───────────┤\n",
       "│ 1    │ 699         │ 1              │ 37  │ 0          │ \"married\" │\n",
       "│ 2    │ 754         │ 4              │ 34  │ 3          │ \"married\" │\n",
       "│ 3    │ 694         │ 0              │ 30  │ 19         │ \"married\" │\n",
       "│ 4    │ 769         │ 0              │ 44  │ 1          │ \"single\"  │\n",
       "│ 5    │ 754         │ 0              │ 33  │ 4          │ \"single\"  │\n",
       "│ 6    │ 704         │ 0              │ 22  │ 6          │ \"single\"  │\n",
       "│ 7    │ 734         │ 0              │ 26  │ 8          │ \"single\"  │\n",
       "│ 8    │ 774         │ 1              │ 23  │ 2          │ \"married\" │\n",
       "│ 9    │ 724         │ 1              │ 21  │ 7          │ \"married\" │\n",
       "│ 10   │ 694         │ 0              │ 25  │ 0          │ \"married\" │\n",
       "│ 11   │ 759         │ 0              │ 24  │ 2          │ \"single\"  │\n",
       "⋮\n",
       "│ 3152 │ 709         │ 2              │ 24  │ 3          │ \"married\" │\n",
       "│ 3153 │ 684         │ 0              │ 23  │ 32         │ \"single\"  │\n",
       "│ 3154 │ 749         │ 0              │ 42  │ 6          │ \"married\" │\n",
       "│ 3155 │ 739         │ 3              │ 28  │ 3          │ \"married\" │\n",
       "│ 3156 │ 704         │ 2              │ 31  │ 5          │ \"married\" │\n",
       "│ 3157 │ 779         │ 3              │ 24  │ 0          │ \"single\"  │\n",
       "│ 3158 │ 739         │ 0              │ 22  │ 21         │ \"married\" │\n",
       "│ 3159 │ 679         │ 1              │ 22  │ 3          │ \"married\" │\n",
       "│ 3160 │ 754         │ 0              │ 28  │ 5          │ \"married\" │\n",
       "│ 3161 │ 729         │ 0              │ 36  │ 16         │ \"married\" │\n",
       "│ 3162 │ 729         │ 0              │ 22  │ 12         │ \"married\" │\n",
       "│ 3163 │ 669         │ 0              │ 33  │ 3          │ \"married\" │\n",
       "\n",
       "│ Row  │ job         │ loan_status │\n",
       "├──────┼─────────────┼─────────────┤\n",
       "│ 1    │ \"freelance\" │ 0           │\n",
       "│ 2    │ \"partime\"   │ 0           │\n",
       "│ 3    │ \"freelance\" │ 0           │\n",
       "│ 4    │ \"fixed\"     │ 0           │\n",
       "│ 5    │ \"fixed\"     │ 0           │\n",
       "│ 6    │ \"fixed\"     │ 1           │\n",
       "│ 7    │ \"freelance\" │ 0           │\n",
       "│ 8    │ \"fixed\"     │ 0           │\n",
       "│ 9    │ \"fixed\"     │ 0           │\n",
       "│ 10   │ \"fixed\"     │ 0           │\n",
       "│ 11   │ \"partime\"   │ 0           │\n",
       "⋮\n",
       "│ 3152 │ \"fixed\"     │ 0           │\n",
       "│ 3153 │ \"fixed\"     │ 0           │\n",
       "│ 3154 │ \"fixed\"     │ 0           │\n",
       "│ 3155 │ \"others\"    │ 0           │\n",
       "│ 3156 │ \"fixed\"     │ 0           │\n",
       "│ 3157 │ \"fixed\"     │ 0           │\n",
       "│ 3158 │ \"fixed\"     │ 0           │\n",
       "│ 3159 │ \"fixed\"     │ 1           │\n",
       "│ 3160 │ \"freelance\" │ 1           │\n",
       "│ 3161 │ \"fixed\"     │ 0           │\n",
       "│ 3162 │ \"fixed\"     │ 0           │\n",
       "│ 3163 │ \"fixed\"     │ 1           │)"
      ]
     },
     "execution_count": 38,
     "metadata": {},
     "output_type": "execute_result"
    }
   ],
   "source": [
    "# Partition Data into Train and Test datasets\n",
    "function partitionTrainTest(data, at = 0.7)\n",
    "    n = nrow(data)\n",
    "    idx = shuffle(1:n)\n",
    "    train_idx = view(idx, 1:floor(Int, at*n))\n",
    "    test_idx = view(idx, (floor(Int, at*n)+1):n)\n",
    "    data[train_idx,:], data[test_idx,:]\n",
    "end\n",
    "\n",
    "train,test = partitionTrainTest(data, 0.7) # 70% train"
   ]
  },
  {
   "cell_type": "code",
   "execution_count": 39,
   "metadata": {},
   "outputs": [
    {
     "name": "stdout",
     "output_type": "stream",
     "text": [
      "7379×12 DataFrames.DataFrame\n",
      "│ Col # │ Name           │ Eltype  │ Missing │\n",
      "├───────┼────────────────┼─────────┼─────────┤\n",
      "│ 1     │ home_ownership │ String  │ 0       │\n",
      "│ 2     │ annual_inc     │ Float64 │ 0       │\n",
      "│ 3     │ loan_amnt      │ Float64 │ 0       │\n",
      "│ 4     │ term           │ String  │ 0       │\n",
      "│ 5     │ int_rate       │ Float64 │ 0       │\n",
      "│ 6     │ cibil_score    │ Int64   │ 0       │\n",
      "│ 7     │ inq_last_6mths │ Int64   │ 0       │\n",
      "│ 8     │ age            │ Int64   │ 0       │\n",
      "│ 9     │ emp_length     │ Int64   │ 113     │\n",
      "│ 10    │ marital        │ String  │ 0       │\n",
      "│ 11    │ job            │ String  │ 0       │\n",
      "│ 12    │ loan_status    │ Int64   │ 0       │"
     ]
    },
    {
     "data": {
      "text/html": [
       "5.0"
      ],
      "text/plain": [
       "5.0"
      ]
     },
     "execution_count": 39,
     "metadata": {},
     "output_type": "execute_result"
    }
   ],
   "source": [
    "# Missing value imputation-- train\n",
    "# Replace missing loan amount with median of loan amount\n",
    "showcols(train)\n",
    "train[isna.(train[:emp_length]),:emp_length] = floor(median(dropna(train[:emp_length])))"
   ]
  },
  {
   "cell_type": "code",
   "execution_count": 40,
   "metadata": {},
   "outputs": [
    {
     "name": "stdout",
     "output_type": "stream",
     "text": [
      "3163×12 DataFrames.DataFrame\n",
      "│ Col # │ Name           │ Eltype  │ Missing │\n",
      "├───────┼────────────────┼─────────┼─────────┤\n",
      "│ 1     │ home_ownership │ String  │ 0       │\n",
      "│ 2     │ annual_inc     │ Float64 │ 0       │\n",
      "│ 3     │ loan_amnt      │ Float64 │ 0       │\n",
      "│ 4     │ term           │ String  │ 0       │\n",
      "│ 5     │ int_rate       │ Float64 │ 0       │\n",
      "│ 6     │ cibil_score    │ Int64   │ 0       │\n",
      "│ 7     │ inq_last_6mths │ Int64   │ 0       │\n",
      "│ 8     │ age            │ Int64   │ 0       │\n",
      "│ 9     │ emp_length     │ Int64   │ 48      │\n",
      "│ 10    │ marital        │ String  │ 0       │\n",
      "│ 11    │ job            │ String  │ 0       │\n",
      "│ 12    │ loan_status    │ Int64   │ 0       │"
     ]
    },
    {
     "data": {
      "text/html": [
       "5.0"
      ],
      "text/plain": [
       "5.0"
      ]
     },
     "execution_count": 40,
     "metadata": {},
     "output_type": "execute_result"
    }
   ],
   "source": [
    "# Missing value imputation-- test\n",
    "# Replace missing loan amount with median of loan amount\n",
    "showcols(test)\n",
    "test[isna.(test[:emp_length]),:emp_length] = floor(median(dropna(test[:emp_length])))"
   ]
  },
  {
   "cell_type": "code",
   "execution_count": 44,
   "metadata": {},
   "outputs": [],
   "source": [
    "# Build Logistic Regression Model\n",
    "# Pkg.add(\"GLM\")\n",
    "# Load GLM Library\n",
    "using GLM"
   ]
  },
  {
   "cell_type": "code",
   "execution_count": null,
   "metadata": {},
   "outputs": [],
   "source": [
    "# Build Logistic Regression Model\n",
    "model_LG = glm(@formula(loan_status ~ annual_inc + loan_amnt + int_rate + cibil_score + inq_last_6mths\n",
    "        + age + emp_length + Rent + Mortgage + _36_months + married + single + job_fixed + job_freelance\n",
    "        + job_parttime), train, Binomial(), ProbitLink())"
   ]
  },
  {
   "cell_type": "code",
   "execution_count": null,
   "metadata": {},
   "outputs": [],
   "source": [
    "# Confusion Matrix\n",
    "confint(model_LG)"
   ]
  },
  {
   "cell_type": "code",
   "execution_count": 48,
   "metadata": {},
   "outputs": [
    {
     "data": {
      "text/html": [
       "<table class=\"data-frame\"><thead><tr><th></th><th>home_ownership</th><th>annual_inc</th><th>loan_amnt</th><th>term</th><th>int_rate</th><th>cibil_score</th><th>inq_last_6mths</th><th>age</th><th>emp_length</th><th>marital</th><th>job</th><th>loan_status</th></tr></thead><tbody><tr><th>1</th><td>RENT</td><td>10200.0</td><td>1000.0</td><td>36 months</td><td>0.1496</td><td>689</td><td>0</td><td>28</td><td>12</td><td>widow</td><td>fixed</td><td>1</td></tr><tr><th>2</th><td>RENT</td><td>33000.0</td><td>2000.0</td><td>36 months</td><td>0.0988</td><td>709</td><td>1</td><td>26</td><td>16</td><td>married</td><td>others</td><td>0</td></tr><tr><th>3</th><td>MORTGAGE</td><td>71500.0</td><td>9250.0</td><td>36 months</td><td>0.1253</td><td>694</td><td>1</td><td>21</td><td>1</td><td>married</td><td>fixed</td><td>0</td></tr><tr><th>4</th><td>MORTGAGE</td><td>185000.0</td><td>12000.0</td><td>36 months</td><td>0.0579</td><td>759</td><td>0</td><td>23</td><td>7</td><td>married</td><td>fixed</td><td>0</td></tr><tr><th>5</th><td>MORTGAGE</td><td>80000.0</td><td>25000.0</td><td>36 months</td><td>0.178</td><td>674</td><td>1</td><td>33</td><td>0</td><td>married</td><td>fixed</td><td>1</td></tr><tr><th>6</th><td>RENT</td><td>38400.0</td><td>23500.0</td><td>36 months</td><td>0.1496</td><td>704</td><td>2</td><td>28</td><td>6</td><td>married</td><td>freelance</td><td>0</td></tr><tr><th>7</th><td>MORTGAGE</td><td>55920.0</td><td>22000.0</td><td>36 months</td><td>0.0788</td><td>794</td><td>0</td><td>30</td><td>13</td><td>single</td><td>fixed</td><td>0</td></tr><tr><th>8</th><td>MORTGAGE</td><td>105997.0</td><td>12025.0</td><td>60 months</td><td>0.1036</td><td>714</td><td>0</td><td>23</td><td>3</td><td>married</td><td>fixed</td><td>0</td></tr><tr><th>9</th><td>MORTGAGE</td><td>28800.0</td><td>5500.0</td><td>36 months</td><td>0.1273</td><td>689</td><td>0</td><td>22</td><td>2</td><td>single</td><td>partime</td><td>0</td></tr><tr><th>10</th><td>MORTGAGE</td><td>73000.0</td><td>17000.0</td><td>36 months</td><td>0.0788</td><td>774</td><td>1</td><td>41</td><td>2</td><td>married</td><td>freelance</td><td>0</td></tr><tr><th>11</th><td>RENT</td><td>54000.0</td><td>15000.0</td><td>36 months</td><td>0.1521</td><td>679</td><td>0</td><td>42</td><td>19</td><td>married</td><td>fixed</td><td>1</td></tr><tr><th>12</th><td>MORTGAGE</td><td>55000.0</td><td>4000.0</td><td>60 months</td><td>0.1521</td><td>694</td><td>1</td><td>36</td><td>2</td><td>married</td><td>freelance</td><td>1</td></tr><tr><th>13</th><td>RENT</td><td>82000.0</td><td>22000.0</td><td>36 months</td><td>0.1099</td><td>749</td><td>0</td><td>35</td><td>12</td><td>married</td><td>freelance</td><td>0</td></tr><tr><th>14</th><td>RENT</td><td>26400.0</td><td>7000.0</td><td>36 months</td><td>0.074</td><td>789</td><td>2</td><td>32</td><td>2</td><td>married</td><td>partime</td><td>0</td></tr><tr><th>15</th><td>MORTGAGE</td><td>241875.0</td><td>16000.0</td><td>36 months</td><td>0.0705</td><td>804</td><td>0</td><td>23</td><td>4</td><td>married</td><td>fixed</td><td>0</td></tr><tr><th>16</th><td>MORTGAGE</td><td>74500.0</td><td>9800.0</td><td>36 months</td><td>0.1484</td><td>679</td><td>0</td><td>23</td><td>5</td><td>married</td><td>fixed</td><td>1</td></tr><tr><th>17</th><td>OWN</td><td>140000.0</td><td>4000.0</td><td>36 months</td><td>0.0788</td><td>719</td><td>1</td><td>31</td><td>13</td><td>single</td><td>partime</td><td>0</td></tr><tr><th>18</th><td>RENT</td><td>60000.0</td><td>15000.0</td><td>36 months</td><td>0.0788</td><td>774</td><td>0</td><td>25</td><td>4</td><td>married</td><td>fixed</td><td>0</td></tr><tr><th>19</th><td>RENT</td><td>14400.0</td><td>1000.0</td><td>36 months</td><td>0.1632</td><td>664</td><td>0</td><td>45</td><td>5</td><td>married</td><td>fixed</td><td>1</td></tr><tr><th>20</th><td>RENT</td><td>40000.0</td><td>2800.0</td><td>36 months</td><td>0.1435</td><td>674</td><td>0</td><td>23</td><td>5</td><td>married</td><td>fixed</td><td>0</td></tr><tr><th>21</th><td>OWN</td><td>100000.0</td><td>20000.0</td><td>60 months</td><td>0.1632</td><td>694</td><td>3</td><td>40</td><td>1</td><td>married</td><td>freelance</td><td>1</td></tr><tr><th>22</th><td>MORTGAGE</td><td>168000.0</td><td>15750.0</td><td>36 months</td><td>0.1075</td><td>729</td><td>0</td><td>22</td><td>3</td><td>married</td><td>fixed</td><td>0</td></tr><tr><th>23</th><td>RENT</td><td>36000.0</td><td>6000.0</td><td>36 months</td><td>0.1186</td><td>704</td><td>0</td><td>27</td><td>8</td><td>married</td><td>fixed</td><td>0</td></tr><tr><th>24</th><td>MORTGAGE</td><td>64800.0</td><td>23500.0</td><td>36 months</td><td>0.1533</td><td>684</td><td>1</td><td>25</td><td>16</td><td>married</td><td>fixed</td><td>1</td></tr><tr><th>25</th><td>MORTGAGE</td><td>61000.0</td><td>5000.0</td><td>36 months</td><td>0.1273</td><td>684</td><td>1</td><td>31</td><td>1</td><td>married</td><td>freelance</td><td>1</td></tr><tr><th>26</th><td>MORTGAGE</td><td>46800.0</td><td>5000.0</td><td>60 months</td><td>0.1261</td><td>779</td><td>3</td><td>22</td><td>1</td><td>married</td><td>fixed</td><td>1</td></tr><tr><th>27</th><td>MORTGAGE</td><td>54257.0</td><td>7000.0</td><td>36 months</td><td>0.1521</td><td>664</td><td>0</td><td>36</td><td>11</td><td>married</td><td>partime</td><td>1</td></tr><tr><th>28</th><td>OWN</td><td>48000.0</td><td>4200.0</td><td>36 months</td><td>0.1361</td><td>704</td><td>0</td><td>32</td><td>0</td><td>married</td><td>fixed</td><td>0</td></tr><tr><th>29</th><td>RENT</td><td>28800.0</td><td>1500.0</td><td>36 months</td><td>0.0774</td><td>744</td><td>0</td><td>24</td><td>6</td><td>single</td><td>partime</td><td>0</td></tr><tr><th>30</th><td>OWN</td><td>57600.0</td><td>24000.0</td><td>60 months</td><td>0.1645</td><td>704</td><td>3</td><td>33</td><td>13</td><td>single</td><td>others</td><td>0</td></tr><tr><th>&vellip;</th><td>&vellip;</td><td>&vellip;</td><td>&vellip;</td><td>&vellip;</td><td>&vellip;</td><td>&vellip;</td><td>&vellip;</td><td>&vellip;</td><td>&vellip;</td><td>&vellip;</td><td>&vellip;</td><td>&vellip;</td></tr></tbody></table>"
      ],
      "text/plain": [
       "7379×12 DataFrames.DataFrame\n",
       "│ Row  │ home_ownership │ annual_inc │ loan_amnt │ term        │ int_rate │\n",
       "├──────┼────────────────┼────────────┼───────────┼─────────────┼──────────┤\n",
       "│ 1    │ \"RENT\"         │ 10200.0    │ 1000.0    │ \"36 months\" │ 0.1496   │\n",
       "│ 2    │ \"RENT\"         │ 33000.0    │ 2000.0    │ \"36 months\" │ 0.0988   │\n",
       "│ 3    │ \"MORTGAGE\"     │ 71500.0    │ 9250.0    │ \"36 months\" │ 0.1253   │\n",
       "│ 4    │ \"MORTGAGE\"     │ 185000.0   │ 12000.0   │ \"36 months\" │ 0.0579   │\n",
       "│ 5    │ \"MORTGAGE\"     │ 80000.0    │ 25000.0   │ \"36 months\" │ 0.178    │\n",
       "│ 6    │ \"RENT\"         │ 38400.0    │ 23500.0   │ \"36 months\" │ 0.1496   │\n",
       "│ 7    │ \"MORTGAGE\"     │ 55920.0    │ 22000.0   │ \"36 months\" │ 0.0788   │\n",
       "│ 8    │ \"MORTGAGE\"     │ 105997.0   │ 12025.0   │ \"60 months\" │ 0.1036   │\n",
       "│ 9    │ \"MORTGAGE\"     │ 28800.0    │ 5500.0    │ \"36 months\" │ 0.1273   │\n",
       "│ 10   │ \"MORTGAGE\"     │ 73000.0    │ 17000.0   │ \"36 months\" │ 0.0788   │\n",
       "│ 11   │ \"RENT\"         │ 54000.0    │ 15000.0   │ \"36 months\" │ 0.1521   │\n",
       "⋮\n",
       "│ 7368 │ \"RENT\"         │ 90000.0    │ 7000.0    │ \"36 months\" │ 0.0925   │\n",
       "│ 7369 │ \"MORTGAGE\"     │ 88992.0    │ 25000.0   │ \"60 months\" │ 0.1398   │\n",
       "│ 7370 │ \"RENT\"         │ 50000.0    │ 10000.0   │ \"36 months\" │ 0.0788   │\n",
       "│ 7371 │ \"RENT\"         │ 72000.0    │ 15000.0   │ \"36 months\" │ 0.0654   │\n",
       "│ 7372 │ \"OWN\"          │ 31000.0    │ 1000.0    │ \"36 months\" │ 0.074    │\n",
       "│ 7373 │ \"RENT\"         │ 19200.0    │ 6000.0    │ \"36 months\" │ 0.0714   │\n",
       "│ 7374 │ \"MORTGAGE\"     │ 90000.0    │ 15000.0   │ \"60 months\" │ 0.1521   │\n",
       "│ 7375 │ \"RENT\"         │ 40000.0    │ 9500.0    │ \"36 months\" │ 0.1446   │\n",
       "│ 7376 │ \"RENT\"         │ 13200.0    │ 4000.0    │ \"36 months\" │ 0.0639   │\n",
       "│ 7377 │ \"MORTGAGE\"     │ 67222.0    │ 10000.0   │ \"36 months\" │ 0.1114   │\n",
       "│ 7378 │ \"MORTGAGE\"     │ 78000.0    │ 5750.0    │ \"60 months\" │ 0.0999   │\n",
       "│ 7379 │ \"MORTGAGE\"     │ 65000.0    │ 7750.0    │ \"36 months\" │ 0.0751   │\n",
       "\n",
       "│ Row  │ cibil_score │ inq_last_6mths │ age │ emp_length │ marital     │\n",
       "├──────┼─────────────┼────────────────┼─────┼────────────┼─────────────┤\n",
       "│ 1    │ 689         │ 0              │ 28  │ 12         │ \"widow\"     │\n",
       "│ 2    │ 709         │ 1              │ 26  │ 16         │ \"married\"   │\n",
       "│ 3    │ 694         │ 1              │ 21  │ 1          │ \"married\"   │\n",
       "│ 4    │ 759         │ 0              │ 23  │ 7          │ \"married\"   │\n",
       "│ 5    │ 674         │ 1              │ 33  │ 0          │ \"married\"   │\n",
       "│ 6    │ 704         │ 2              │ 28  │ 6          │ \"married\"   │\n",
       "│ 7    │ 794         │ 0              │ 30  │ 13         │ \"single\"    │\n",
       "│ 8    │ 714         │ 0              │ 23  │ 3          │ \"married\"   │\n",
       "│ 9    │ 689         │ 0              │ 22  │ 2          │ \"single\"    │\n",
       "│ 10   │ 774         │ 1              │ 41  │ 2          │ \"married\"   │\n",
       "│ 11   │ 679         │ 0              │ 42  │ 19         │ \"married\"   │\n",
       "⋮\n",
       "│ 7368 │ 704         │ 1              │ 38  │ 0          │ \"married\"   │\n",
       "│ 7369 │ 719         │ 0              │ 35  │ 8          │ \"married\"   │\n",
       "│ 7370 │ 744         │ 0              │ 24  │ 12         │ \"single\"    │\n",
       "│ 7371 │ 754         │ 0              │ 39  │ 11         │ \"single\"    │\n",
       "│ 7372 │ 814         │ 0              │ 24  │ 5          │ \"married\"   │\n",
       "│ 7373 │ 769         │ 0              │ 27  │ 0          │ \"married\"   │\n",
       "│ 7374 │ 704         │ 0              │ 24  │ 6          │ \"separated\" │\n",
       "│ 7375 │ 664         │ 0              │ 22  │ 1          │ \"separated\" │\n",
       "│ 7376 │ 774         │ 0              │ 24  │ 36         │ \"married\"   │\n",
       "│ 7377 │ 759         │ 5              │ 25  │ 5          │ \"married\"   │\n",
       "│ 7378 │ 734         │ 1              │ 28  │ 0          │ \"married\"   │\n",
       "│ 7379 │ 744         │ 2              │ 25  │ 9          │ \"single\"    │\n",
       "\n",
       "│ Row  │ job         │ loan_status │\n",
       "├──────┼─────────────┼─────────────┤\n",
       "│ 1    │ \"fixed\"     │ 1           │\n",
       "│ 2    │ \"others\"    │ 0           │\n",
       "│ 3    │ \"fixed\"     │ 0           │\n",
       "│ 4    │ \"fixed\"     │ 0           │\n",
       "│ 5    │ \"fixed\"     │ 1           │\n",
       "│ 6    │ \"freelance\" │ 0           │\n",
       "│ 7    │ \"fixed\"     │ 0           │\n",
       "│ 8    │ \"fixed\"     │ 0           │\n",
       "│ 9    │ \"partime\"   │ 0           │\n",
       "│ 10   │ \"freelance\" │ 0           │\n",
       "│ 11   │ \"fixed\"     │ 1           │\n",
       "⋮\n",
       "│ 7368 │ \"fixed\"     │ 0           │\n",
       "│ 7369 │ \"partime\"   │ 1           │\n",
       "│ 7370 │ \"freelance\" │ 0           │\n",
       "│ 7371 │ \"fixed\"     │ 0           │\n",
       "│ 7372 │ \"fixed\"     │ 0           │\n",
       "│ 7373 │ \"fixed\"     │ 0           │\n",
       "│ 7374 │ \"partime\"   │ 0           │\n",
       "│ 7375 │ \"freelance\" │ 0           │\n",
       "│ 7376 │ \"fixed\"     │ 0           │\n",
       "│ 7377 │ \"fixed\"     │ 0           │\n",
       "│ 7378 │ \"freelance\" │ 0           │\n",
       "│ 7379 │ \"fixed\"     │ 0           │"
      ]
     },
     "execution_count": 48,
     "metadata": {},
     "output_type": "execute_result"
    }
   ],
   "source": [
    "train"
   ]
  },
  {
   "cell_type": "code",
   "execution_count": null,
   "metadata": {},
   "outputs": [],
   "source": [
    "# Build Decision Tree Model\n",
    "y_train = train[:,:loan_status]\n",
    "X_train = train[:,[1,2,3,4,5,6,7,8,9,10,11]]\n",
    "y_test = test[:,:loan_status]\n",
    "X_test = test[:,[1,2,3,4,5,6,7,8,9,10,11]]"
   ]
  },
  {
   "cell_type": "code",
   "execution_count": null,
   "metadata": {},
   "outputs": [],
   "source": [
    "# Undersampling the training dataset\n",
    "X_train, y_train = undersample((X_train, y_train), shuffle = true)"
   ]
  },
  {
   "cell_type": "code",
   "execution_count": null,
   "metadata": {},
   "outputs": [],
   "source": [
    "# Build Tree\n",
    "# Train full-tree classifier\n",
    "model_DT = build_tree(y_train, X_train)\n",
    "\n",
    "# Prune tree: merge leaves having >= 90% combined purity (default: 100%)\n",
    "model_DT = prune_tree(model, 0.9)\n",
    "\n",
    "# print the tree, to a depth of 5 nodes\n",
    "print_tree(model_DT, 5)"
   ]
  },
  {
   "cell_type": "code",
   "execution_count": null,
   "metadata": {},
   "outputs": [],
   "source": [
    "# test on the Test dataset\n",
    "y_pred1 = apply_tree(model_DT, X_test1)"
   ]
  },
  {
   "cell_type": "code",
   "execution_count": null,
   "metadata": {},
   "outputs": [],
   "source": [
    "freqtable(y_test1,y_pred1)"
   ]
  },
  {
   "cell_type": "code",
   "execution_count": null,
   "metadata": {},
   "outputs": [],
   "source": [
    "using RCall"
   ]
  },
  {
   "cell_type": "code",
   "execution_count": null,
   "metadata": {},
   "outputs": [],
   "source": [
    "saveRDS(\"C:/Users/veer/Desktop/Projects/Credit_Risk_Modeling/inal/JuliaModelCreditLog.rds\",model_Log)"
   ]
  },
  {
   "cell_type": "code",
   "execution_count": null,
   "metadata": {},
   "outputs": [],
   "source": [
    "saveRDS(\"C:/Users/veer/Desktop/Projects/Credit_Risk_Modeling/inal/JuliaModelCreditDT.rds\",model_DT)"
   ]
  }
 ],
 "metadata": {
  "kernelspec": {
   "display_name": "Julia 0.6.2",
   "language": "julia",
   "name": "julia-0.6"
  },
  "language_info": {
   "file_extension": ".jl",
   "mimetype": "application/julia",
   "name": "julia",
   "version": "0.6.2"
  }
 },
 "nbformat": 4,
 "nbformat_minor": 2
}
