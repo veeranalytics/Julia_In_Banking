{
 "cells": [
  {
   "cell_type": "code",
   "execution_count": 1,
   "metadata": {},
   "outputs": [
    {
     "name": "stderr",
     "output_type": "stream",
     "text": [
      "WARNING: Method definition ==(Base"
     ]
    },
    {
     "data": {
      "text/plain": [
       "Plots.PyPlotBackend()"
      ]
     },
     "execution_count": 1,
     "metadata": {},
     "output_type": "execute_result"
    },
    {
     "name": "stderr",
     "output_type": "stream",
     "text": [
      ".Nullable{S}, Base.Nullable{T}) in module Base at nullable.jl:238 overwritten in module NullableArrays at C:\\\\\\\\\\\\\\\\\\\\\\\\\\\\\\\\\\\\\\\\\\\\\\\\\\\\\\\\\\\\\\\\\\\\\\\\\\\\\\\\\\\\\\\\\\\\\\\\\\\\\\\\\\\\\\\\\\\\\\\\\\\\\\\\\\\\\\\\\\\\\\\\\\\\\\\\\\\\\\\\\\JuliaPro-0.6.2.2\\pkgs-0.6.2.2\\v0.6\\NullableArrays\\src\\operators.jl:99.\n",
      "WARNING: Method definition append!(NullableArrays.NullableArray{WeakRefStrings.WeakRefString{T}, 1}, NullableArrays.NullableArray{WeakRefStrings.WeakRefString{T}, 1}) in module Data at C:\\\\\\\\\\\\\\\\\\\\\\\\\\\\\\\\\\\\\\\\\\\\\\\\\\\\\\\\\\\\\\\\\\\\\\\\\\\\\\\\\\\\\\\\\\\\\\\\\\\\\\\\\\\\\\\\\\\\\\\\\\\\\\\\\\\\\\\\\\\\\\\\\\\\\\\\\\\\\\\\\\JuliaPro-0.6.2.2\\pkgs-0.6.2.2\\v0.6\\DataStreams\\src\\DataStreams.jl:344 overwritten in module DataTables at C:\\JuliaPro-0.6.2.2\\pkgs-0.6.2.2\\v0.6\\DataTables\\src\\abstractdatatable\\io.jl:318.\n",
      "WARNING: Method definition describe(AbstractArray{T, N} where N where T) in module StatsBase at C:\\\\\\\\\\\\\\\\\\\\\\\\\\\\\\\\\\\\\\\\\\\\\\\\\\\\\\\\\\\\\\\\\\\\\\\\\\\\\\\\\\\\\\\\\\\\\\\\\\\\\\\\\\\\\\\\\\\\\\\\\\\\\\\\\\\\\\\\\\\\\\\\\\\\\\\\\\\\\\\\\\JuliaPro-0.6.2.2\\pkgs-0.6.2.2\\v0.6\\StatsBase\\src\\scalarstats.jl:587 overwritten in module DataTables at C:\\JuliaPro-0.6.2.2\\pkgs-0.6.2.2\\v0.6\\DataTables\\src\\abstractdatatable\\abstractdatatable.jl:381.\n"
     ]
    }
   ],
   "source": [
    "# import required packages \n",
    "using DataFrames\n",
    "using FreqTables\n",
    "using Plots, StatPlots\n",
    "using DecisionTree\n",
    "using StatsModels\n",
    "using MLDataUtils\n",
    "\n",
    "#Set the backend as matplotlib.pyplot\n",
    "pyplot()"
   ]
  },
  {
   "cell_type": "code",
   "execution_count": 2,
   "metadata": {},
   "outputs": [
    {
     "data": {
      "text/html": [
       "<table class=\"data-frame\"><thead><tr><th></th><th>isFraud</th><th>_type</th><th>step</th><th>amount</th><th>oldbalanceOrg</th><th>newbalanceOrig</th><th>oldbalanceDest</th><th>newbalanceDest</th></tr></thead><tbody><tr><th>1</th><td>No</td><td>CASH_OUT</td><td>1</td><td>95636.49</td><td>0.0</td><td>0.0</td><td>359141.7</td><td>1.36336851e6</td></tr><tr><th>2</th><td>Yes</td><td>TRANSFER</td><td>1</td><td>181.0</td><td>181.0</td><td>0.0</td><td>0.0</td><td>0.0</td></tr><tr><th>3</th><td>Yes</td><td>CASH_OUT</td><td>1</td><td>181.0</td><td>181.0</td><td>0.0</td><td>21182.0</td><td>0.0</td></tr><tr><th>4</th><td>Yes</td><td>TRANSFER</td><td>1</td><td>2806.0</td><td>2806.0</td><td>0.0</td><td>0.0</td><td>0.0</td></tr><tr><th>5</th><td>Yes</td><td>CASH_OUT</td><td>1</td><td>2806.0</td><td>2806.0</td><td>0.0</td><td>26202.0</td><td>0.0</td></tr><tr><th>6</th><td>Yes</td><td>TRANSFER</td><td>1</td><td>20128.0</td><td>20128.0</td><td>0.0</td><td>0.0</td><td>0.0</td></tr><tr><th>7</th><td>Yes</td><td>CASH_OUT</td><td>1</td><td>20128.0</td><td>20128.0</td><td>0.0</td><td>6268.0</td><td>12145.85</td></tr><tr><th>8</th><td>Yes</td><td>CASH_OUT</td><td>1</td><td>416001.33</td><td>0.0</td><td>0.0</td><td>102.0</td><td>9.29161962e6</td></tr><tr><th>9</th><td>Yes</td><td>TRANSFER</td><td>1</td><td>1.27721277e6</td><td>1.27721277e6</td><td>0.0</td><td>0.0</td><td>0.0</td></tr><tr><th>10</th><td>Yes</td><td>CASH_OUT</td><td>1</td><td>1.27721277e6</td><td>1.27721277e6</td><td>0.0</td><td>0.0</td><td>2.44498519e6</td></tr><tr><th>11</th><td>Yes</td><td>TRANSFER</td><td>1</td><td>35063.63</td><td>35063.63</td><td>0.0</td><td>0.0</td><td>0.0</td></tr><tr><th>12</th><td>Yes</td><td>CASH_OUT</td><td>1</td><td>35063.63</td><td>35063.63</td><td>0.0</td><td>31140.0</td><td>7550.03</td></tr><tr><th>13</th><td>Yes</td><td>TRANSFER</td><td>1</td><td>25071.46</td><td>25071.46</td><td>0.0</td><td>0.0</td><td>0.0</td></tr><tr><th>14</th><td>Yes</td><td>CASH_OUT</td><td>1</td><td>25071.46</td><td>25071.46</td><td>0.0</td><td>9083.76</td><td>34155.22</td></tr><tr><th>15</th><td>Yes</td><td>CASH_OUT</td><td>1</td><td>132842.64</td><td>4499.08</td><td>0.0</td><td>0.0</td><td>132842.64</td></tr><tr><th>16</th><td>Yes</td><td>TRANSFER</td><td>1</td><td>235238.66</td><td>235238.66</td><td>0.0</td><td>0.0</td><td>0.0</td></tr><tr><th>17</th><td>Yes</td><td>CASH_OUT</td><td>1</td><td>235238.66</td><td>235238.66</td><td>0.0</td><td>0.0</td><td>235238.66</td></tr><tr><th>18</th><td>Yes</td><td>TRANSFER</td><td>2</td><td>1.09618724e6</td><td>1.09618724e6</td><td>0.0</td><td>0.0</td><td>0.0</td></tr><tr><th>19</th><td>Yes</td><td>CASH_OUT</td><td>2</td><td>1.09618724e6</td><td>1.09618724e6</td><td>0.0</td><td>0.0</td><td>1.09618724e6</td></tr><tr><th>20</th><td>Yes</td><td>TRANSFER</td><td>2</td><td>963532.14</td><td>963532.14</td><td>0.0</td><td>0.0</td><td>0.0</td></tr><tr><th>21</th><td>Yes</td><td>CASH_OUT</td><td>2</td><td>963532.14</td><td>963532.14</td><td>0.0</td><td>132382.57</td><td>1.09591471e6</td></tr><tr><th>22</th><td>Yes</td><td>TRANSFER</td><td>2</td><td>14949.84</td><td>14949.84</td><td>0.0</td><td>0.0</td><td>0.0</td></tr><tr><th>23</th><td>Yes</td><td>CASH_OUT</td><td>2</td><td>14949.84</td><td>14949.84</td><td>0.0</td><td>18161.79</td><td>33111.63</td></tr><tr><th>24</th><td>Yes</td><td>TRANSFER</td><td>2</td><td>18627.02</td><td>18627.02</td><td>0.0</td><td>0.0</td><td>0.0</td></tr><tr><th>25</th><td>Yes</td><td>CASH_OUT</td><td>2</td><td>18627.02</td><td>18627.02</td><td>0.0</td><td>147251.58</td><td>165878.6</td></tr><tr><th>26</th><td>Yes</td><td>TRANSFER</td><td>3</td><td>10539.37</td><td>10539.37</td><td>0.0</td><td>0.0</td><td>0.0</td></tr><tr><th>27</th><td>Yes</td><td>CASH_OUT</td><td>3</td><td>10539.37</td><td>10539.37</td><td>0.0</td><td>0.0</td><td>10539.37</td></tr><tr><th>28</th><td>Yes</td><td>TRANSFER</td><td>3</td><td>22877.0</td><td>22877.0</td><td>0.0</td><td>0.0</td><td>0.0</td></tr><tr><th>29</th><td>Yes</td><td>CASH_OUT</td><td>3</td><td>22877.0</td><td>22877.0</td><td>0.0</td><td>0.0</td><td>22877.0</td></tr><tr><th>30</th><td>Yes</td><td>TRANSFER</td><td>4</td><td>1.0e7</td><td>1.293041844e7</td><td>2.93041844e6</td><td>0.0</td><td>0.0</td></tr><tr><th>&vellip;</th><td>&vellip;</td><td>&vellip;</td><td>&vellip;</td><td>&vellip;</td><td>&vellip;</td><td>&vellip;</td><td>&vellip;</td><td>&vellip;</td></tr></tbody></table>"
      ],
      "text/plain": [
       "16426×8 DataFrames.DataFrame\n",
       "│ Row   │ isFraud │ _type      │ step │ amount    │ oldbalanceOrg │\n",
       "├───────┼─────────┼────────────┼──────┼───────────┼───────────────┤\n",
       "│ 1     │ \"No\"    │ \"CASH_OUT\" │ 1    │ 95636.5   │ 0.0           │\n",
       "│ 2     │ \"Yes\"   │ \"TRANSFER\" │ 1    │ 181.0     │ 181.0         │\n",
       "│ 3     │ \"Yes\"   │ \"CASH_OUT\" │ 1    │ 181.0     │ 181.0         │\n",
       "│ 4     │ \"Yes\"   │ \"TRANSFER\" │ 1    │ 2806.0    │ 2806.0        │\n",
       "│ 5     │ \"Yes\"   │ \"CASH_OUT\" │ 1    │ 2806.0    │ 2806.0        │\n",
       "│ 6     │ \"Yes\"   │ \"TRANSFER\" │ 1    │ 20128.0   │ 20128.0       │\n",
       "│ 7     │ \"Yes\"   │ \"CASH_OUT\" │ 1    │ 20128.0   │ 20128.0       │\n",
       "│ 8     │ \"Yes\"   │ \"CASH_OUT\" │ 1    │ 4.16001e5 │ 0.0           │\n",
       "│ 9     │ \"Yes\"   │ \"TRANSFER\" │ 1    │ 1.27721e6 │ 1.27721e6     │\n",
       "│ 10    │ \"Yes\"   │ \"CASH_OUT\" │ 1    │ 1.27721e6 │ 1.27721e6     │\n",
       "│ 11    │ \"Yes\"   │ \"TRANSFER\" │ 1    │ 35063.6   │ 35063.6       │\n",
       "⋮\n",
       "│ 16415 │ \"Yes\"   │ \"TRANSFER\" │ 742  │ 2.58355e5 │ 2.58355e5     │\n",
       "│ 16416 │ \"Yes\"   │ \"CASH_OUT\" │ 742  │ 2.58355e5 │ 2.58355e5     │\n",
       "│ 16417 │ \"Yes\"   │ \"TRANSFER\" │ 742  │ 63417.0   │ 63417.0       │\n",
       "│ 16418 │ \"Yes\"   │ \"CASH_OUT\" │ 742  │ 63417.0   │ 63417.0       │\n",
       "│ 16419 │ \"Yes\"   │ \"TRANSFER\" │ 743  │ 1.25882e6 │ 1.25882e6     │\n",
       "│ 16420 │ \"Yes\"   │ \"CASH_OUT\" │ 743  │ 1.25882e6 │ 1.25882e6     │\n",
       "│ 16421 │ \"Yes\"   │ \"TRANSFER\" │ 743  │ 3.39682e5 │ 3.39682e5     │\n",
       "│ 16422 │ \"Yes\"   │ \"CASH_OUT\" │ 743  │ 3.39682e5 │ 3.39682e5     │\n",
       "│ 16423 │ \"Yes\"   │ \"TRANSFER\" │ 743  │ 6.31141e6 │ 6.31141e6     │\n",
       "│ 16424 │ \"Yes\"   │ \"CASH_OUT\" │ 743  │ 6.31141e6 │ 6.31141e6     │\n",
       "│ 16425 │ \"Yes\"   │ \"TRANSFER\" │ 743  │ 8.50003e5 │ 8.50003e5     │\n",
       "│ 16426 │ \"Yes\"   │ \"CASH_OUT\" │ 743  │ 8.50003e5 │ 8.50003e5     │\n",
       "\n",
       "│ Row   │ newbalanceOrig │ oldbalanceDest │ newbalanceDest │\n",
       "├───────┼────────────────┼────────────────┼────────────────┤\n",
       "│ 1     │ 0.0            │ 3.59142e5      │ 1.36337e6      │\n",
       "│ 2     │ 0.0            │ 0.0            │ 0.0            │\n",
       "│ 3     │ 0.0            │ 21182.0        │ 0.0            │\n",
       "│ 4     │ 0.0            │ 0.0            │ 0.0            │\n",
       "│ 5     │ 0.0            │ 26202.0        │ 0.0            │\n",
       "│ 6     │ 0.0            │ 0.0            │ 0.0            │\n",
       "│ 7     │ 0.0            │ 6268.0         │ 12145.9        │\n",
       "│ 8     │ 0.0            │ 102.0          │ 9.29162e6      │\n",
       "│ 9     │ 0.0            │ 0.0            │ 0.0            │\n",
       "│ 10    │ 0.0            │ 0.0            │ 2.44499e6      │\n",
       "│ 11    │ 0.0            │ 0.0            │ 0.0            │\n",
       "⋮\n",
       "│ 16415 │ 0.0            │ 0.0            │ 0.0            │\n",
       "│ 16416 │ 0.0            │ 25176.7        │ 2.83532e5      │\n",
       "│ 16417 │ 0.0            │ 0.0            │ 0.0            │\n",
       "│ 16418 │ 0.0            │ 2.76433e5      │ 3.3985e5       │\n",
       "│ 16419 │ 0.0            │ 0.0            │ 0.0            │\n",
       "│ 16420 │ 0.0            │ 5.03465e5      │ 1.76228e6      │\n",
       "│ 16421 │ 0.0            │ 0.0            │ 0.0            │\n",
       "│ 16422 │ 0.0            │ 0.0            │ 3.39682e5      │\n",
       "│ 16423 │ 0.0            │ 0.0            │ 0.0            │\n",
       "│ 16424 │ 0.0            │ 68488.8        │ 6.3799e6       │\n",
       "│ 16425 │ 0.0            │ 0.0            │ 0.0            │\n",
       "│ 16426 │ 0.0            │ 6.5101e6       │ 7.3601e6       │"
      ]
     },
     "execution_count": 2,
     "metadata": {},
     "output_type": "execute_result"
    }
   ],
   "source": [
    "# Read Dataset\n",
    "data = readtable(\"C:/Users/veer/Desktop/Projects/Julia_In_Banking/Data/fraud_full_sample.csv\")"
   ]
  },
  {
   "cell_type": "code",
   "execution_count": 3,
   "metadata": {},
   "outputs": [
    {
     "data": {
      "text/html": [
       "<table class=\"data-frame\"><thead><tr><th></th><th>_type</th><th>step</th><th>amount</th><th>oldbalanceOrg</th><th>newbalanceOrig</th><th>oldbalanceDest</th><th>newbalanceDest</th><th>fraud_status</th></tr></thead><tbody><tr><th>1</th><td>CASH_OUT</td><td>1</td><td>95636.49</td><td>0.0</td><td>0.0</td><td>359141.7</td><td>1.36336851e6</td><td>0</td></tr><tr><th>2</th><td>TRANSFER</td><td>1</td><td>181.0</td><td>181.0</td><td>0.0</td><td>0.0</td><td>0.0</td><td>1</td></tr><tr><th>3</th><td>CASH_OUT</td><td>1</td><td>181.0</td><td>181.0</td><td>0.0</td><td>21182.0</td><td>0.0</td><td>1</td></tr><tr><th>4</th><td>TRANSFER</td><td>1</td><td>2806.0</td><td>2806.0</td><td>0.0</td><td>0.0</td><td>0.0</td><td>1</td></tr><tr><th>5</th><td>CASH_OUT</td><td>1</td><td>2806.0</td><td>2806.0</td><td>0.0</td><td>26202.0</td><td>0.0</td><td>1</td></tr><tr><th>6</th><td>TRANSFER</td><td>1</td><td>20128.0</td><td>20128.0</td><td>0.0</td><td>0.0</td><td>0.0</td><td>1</td></tr><tr><th>7</th><td>CASH_OUT</td><td>1</td><td>20128.0</td><td>20128.0</td><td>0.0</td><td>6268.0</td><td>12145.85</td><td>1</td></tr><tr><th>8</th><td>CASH_OUT</td><td>1</td><td>416001.33</td><td>0.0</td><td>0.0</td><td>102.0</td><td>9.29161962e6</td><td>1</td></tr><tr><th>9</th><td>TRANSFER</td><td>1</td><td>1.27721277e6</td><td>1.27721277e6</td><td>0.0</td><td>0.0</td><td>0.0</td><td>1</td></tr><tr><th>10</th><td>CASH_OUT</td><td>1</td><td>1.27721277e6</td><td>1.27721277e6</td><td>0.0</td><td>0.0</td><td>2.44498519e6</td><td>1</td></tr><tr><th>11</th><td>TRANSFER</td><td>1</td><td>35063.63</td><td>35063.63</td><td>0.0</td><td>0.0</td><td>0.0</td><td>1</td></tr><tr><th>12</th><td>CASH_OUT</td><td>1</td><td>35063.63</td><td>35063.63</td><td>0.0</td><td>31140.0</td><td>7550.03</td><td>1</td></tr><tr><th>13</th><td>TRANSFER</td><td>1</td><td>25071.46</td><td>25071.46</td><td>0.0</td><td>0.0</td><td>0.0</td><td>1</td></tr><tr><th>14</th><td>CASH_OUT</td><td>1</td><td>25071.46</td><td>25071.46</td><td>0.0</td><td>9083.76</td><td>34155.22</td><td>1</td></tr><tr><th>15</th><td>CASH_OUT</td><td>1</td><td>132842.64</td><td>4499.08</td><td>0.0</td><td>0.0</td><td>132842.64</td><td>1</td></tr><tr><th>16</th><td>TRANSFER</td><td>1</td><td>235238.66</td><td>235238.66</td><td>0.0</td><td>0.0</td><td>0.0</td><td>1</td></tr><tr><th>17</th><td>CASH_OUT</td><td>1</td><td>235238.66</td><td>235238.66</td><td>0.0</td><td>0.0</td><td>235238.66</td><td>1</td></tr><tr><th>18</th><td>TRANSFER</td><td>2</td><td>1.09618724e6</td><td>1.09618724e6</td><td>0.0</td><td>0.0</td><td>0.0</td><td>1</td></tr><tr><th>19</th><td>CASH_OUT</td><td>2</td><td>1.09618724e6</td><td>1.09618724e6</td><td>0.0</td><td>0.0</td><td>1.09618724e6</td><td>1</td></tr><tr><th>20</th><td>TRANSFER</td><td>2</td><td>963532.14</td><td>963532.14</td><td>0.0</td><td>0.0</td><td>0.0</td><td>1</td></tr><tr><th>21</th><td>CASH_OUT</td><td>2</td><td>963532.14</td><td>963532.14</td><td>0.0</td><td>132382.57</td><td>1.09591471e6</td><td>1</td></tr><tr><th>22</th><td>TRANSFER</td><td>2</td><td>14949.84</td><td>14949.84</td><td>0.0</td><td>0.0</td><td>0.0</td><td>1</td></tr><tr><th>23</th><td>CASH_OUT</td><td>2</td><td>14949.84</td><td>14949.84</td><td>0.0</td><td>18161.79</td><td>33111.63</td><td>1</td></tr><tr><th>24</th><td>TRANSFER</td><td>2</td><td>18627.02</td><td>18627.02</td><td>0.0</td><td>0.0</td><td>0.0</td><td>1</td></tr><tr><th>25</th><td>CASH_OUT</td><td>2</td><td>18627.02</td><td>18627.02</td><td>0.0</td><td>147251.58</td><td>165878.6</td><td>1</td></tr><tr><th>26</th><td>TRANSFER</td><td>3</td><td>10539.37</td><td>10539.37</td><td>0.0</td><td>0.0</td><td>0.0</td><td>1</td></tr><tr><th>27</th><td>CASH_OUT</td><td>3</td><td>10539.37</td><td>10539.37</td><td>0.0</td><td>0.0</td><td>10539.37</td><td>1</td></tr><tr><th>28</th><td>TRANSFER</td><td>3</td><td>22877.0</td><td>22877.0</td><td>0.0</td><td>0.0</td><td>0.0</td><td>1</td></tr><tr><th>29</th><td>CASH_OUT</td><td>3</td><td>22877.0</td><td>22877.0</td><td>0.0</td><td>0.0</td><td>22877.0</td><td>1</td></tr><tr><th>30</th><td>TRANSFER</td><td>4</td><td>1.0e7</td><td>1.293041844e7</td><td>2.93041844e6</td><td>0.0</td><td>0.0</td><td>1</td></tr><tr><th>&vellip;</th><td>&vellip;</td><td>&vellip;</td><td>&vellip;</td><td>&vellip;</td><td>&vellip;</td><td>&vellip;</td><td>&vellip;</td><td>&vellip;</td></tr></tbody></table>"
      ],
      "text/plain": [
       "16426×8 DataFrames.DataFrame\n",
       "│ Row   │ _type      │ step │ amount    │ oldbalanceOrg │ newbalanceOrig │\n",
       "├───────┼────────────┼──────┼───────────┼───────────────┼────────────────┤\n",
       "│ 1     │ \"CASH_OUT\" │ 1    │ 95636.5   │ 0.0           │ 0.0            │\n",
       "│ 2     │ \"TRANSFER\" │ 1    │ 181.0     │ 181.0         │ 0.0            │\n",
       "│ 3     │ \"CASH_OUT\" │ 1    │ 181.0     │ 181.0         │ 0.0            │\n",
       "│ 4     │ \"TRANSFER\" │ 1    │ 2806.0    │ 2806.0        │ 0.0            │\n",
       "│ 5     │ \"CASH_OUT\" │ 1    │ 2806.0    │ 2806.0        │ 0.0            │\n",
       "│ 6     │ \"TRANSFER\" │ 1    │ 20128.0   │ 20128.0       │ 0.0            │\n",
       "│ 7     │ \"CASH_OUT\" │ 1    │ 20128.0   │ 20128.0       │ 0.0            │\n",
       "│ 8     │ \"CASH_OUT\" │ 1    │ 4.16001e5 │ 0.0           │ 0.0            │\n",
       "│ 9     │ \"TRANSFER\" │ 1    │ 1.27721e6 │ 1.27721e6     │ 0.0            │\n",
       "│ 10    │ \"CASH_OUT\" │ 1    │ 1.27721e6 │ 1.27721e6     │ 0.0            │\n",
       "│ 11    │ \"TRANSFER\" │ 1    │ 35063.6   │ 35063.6       │ 0.0            │\n",
       "⋮\n",
       "│ 16415 │ \"TRANSFER\" │ 742  │ 2.58355e5 │ 2.58355e5     │ 0.0            │\n",
       "│ 16416 │ \"CASH_OUT\" │ 742  │ 2.58355e5 │ 2.58355e5     │ 0.0            │\n",
       "│ 16417 │ \"TRANSFER\" │ 742  │ 63417.0   │ 63417.0       │ 0.0            │\n",
       "│ 16418 │ \"CASH_OUT\" │ 742  │ 63417.0   │ 63417.0       │ 0.0            │\n",
       "│ 16419 │ \"TRANSFER\" │ 743  │ 1.25882e6 │ 1.25882e6     │ 0.0            │\n",
       "│ 16420 │ \"CASH_OUT\" │ 743  │ 1.25882e6 │ 1.25882e6     │ 0.0            │\n",
       "│ 16421 │ \"TRANSFER\" │ 743  │ 3.39682e5 │ 3.39682e5     │ 0.0            │\n",
       "│ 16422 │ \"CASH_OUT\" │ 743  │ 3.39682e5 │ 3.39682e5     │ 0.0            │\n",
       "│ 16423 │ \"TRANSFER\" │ 743  │ 6.31141e6 │ 6.31141e6     │ 0.0            │\n",
       "│ 16424 │ \"CASH_OUT\" │ 743  │ 6.31141e6 │ 6.31141e6     │ 0.0            │\n",
       "│ 16425 │ \"TRANSFER\" │ 743  │ 8.50003e5 │ 8.50003e5     │ 0.0            │\n",
       "│ 16426 │ \"CASH_OUT\" │ 743  │ 8.50003e5 │ 8.50003e5     │ 0.0            │\n",
       "\n",
       "│ Row   │ oldbalanceDest │ newbalanceDest │ fraud_status │\n",
       "├───────┼────────────────┼────────────────┼──────────────┤\n",
       "│ 1     │ 3.59142e5      │ 1.36337e6      │ 0            │\n",
       "│ 2     │ 0.0            │ 0.0            │ 1            │\n",
       "│ 3     │ 21182.0        │ 0.0            │ 1            │\n",
       "│ 4     │ 0.0            │ 0.0            │ 1            │\n",
       "│ 5     │ 26202.0        │ 0.0            │ 1            │\n",
       "│ 6     │ 0.0            │ 0.0            │ 1            │\n",
       "│ 7     │ 6268.0         │ 12145.9        │ 1            │\n",
       "│ 8     │ 102.0          │ 9.29162e6      │ 1            │\n",
       "│ 9     │ 0.0            │ 0.0            │ 1            │\n",
       "│ 10    │ 0.0            │ 2.44499e6      │ 1            │\n",
       "│ 11    │ 0.0            │ 0.0            │ 1            │\n",
       "⋮\n",
       "│ 16415 │ 0.0            │ 0.0            │ 1            │\n",
       "│ 16416 │ 25176.7        │ 2.83532e5      │ 1            │\n",
       "│ 16417 │ 0.0            │ 0.0            │ 1            │\n",
       "│ 16418 │ 2.76433e5      │ 3.3985e5       │ 1            │\n",
       "│ 16419 │ 0.0            │ 0.0            │ 1            │\n",
       "│ 16420 │ 5.03465e5      │ 1.76228e6      │ 1            │\n",
       "│ 16421 │ 0.0            │ 0.0            │ 1            │\n",
       "│ 16422 │ 0.0            │ 3.39682e5      │ 1            │\n",
       "│ 16423 │ 0.0            │ 0.0            │ 1            │\n",
       "│ 16424 │ 68488.8        │ 6.3799e6       │ 1            │\n",
       "│ 16425 │ 0.0            │ 0.0            │ 1            │\n",
       "│ 16426 │ 6.5101e6       │ 7.3601e6       │ 1            │"
      ]
     },
     "execution_count": 3,
     "metadata": {},
     "output_type": "execute_result"
    }
   ],
   "source": [
    "# Create 02 categories (numeric) for loan status\n",
    "data[:fraud_status] = ifelse.(data[:isFraud] .== \"Yes\",1,0)\n",
    "delete!(data,:isFraud)"
   ]
  },
  {
   "cell_type": "code",
   "execution_count": 4,
   "metadata": {},
   "outputs": [
    {
     "data": {
      "text/html": [
       "<table class=\"data-frame\"><thead><tr><th></th><th>_type</th><th>step</th><th>amount</th><th>oldbalanceOrg</th><th>newbalanceOrig</th><th>oldbalanceDest</th><th>newbalanceDest</th><th>isFraud</th></tr></thead><tbody><tr><th>1</th><td>CASH_OUT</td><td>1</td><td>95636.49</td><td>0.0</td><td>0.0</td><td>359141.7</td><td>1.36336851e6</td><td>0</td></tr><tr><th>2</th><td>TRANSFER</td><td>1</td><td>181.0</td><td>181.0</td><td>0.0</td><td>0.0</td><td>0.0</td><td>1</td></tr><tr><th>3</th><td>CASH_OUT</td><td>1</td><td>181.0</td><td>181.0</td><td>0.0</td><td>21182.0</td><td>0.0</td><td>1</td></tr><tr><th>4</th><td>TRANSFER</td><td>1</td><td>2806.0</td><td>2806.0</td><td>0.0</td><td>0.0</td><td>0.0</td><td>1</td></tr><tr><th>5</th><td>CASH_OUT</td><td>1</td><td>2806.0</td><td>2806.0</td><td>0.0</td><td>26202.0</td><td>0.0</td><td>1</td></tr><tr><th>6</th><td>TRANSFER</td><td>1</td><td>20128.0</td><td>20128.0</td><td>0.0</td><td>0.0</td><td>0.0</td><td>1</td></tr><tr><th>7</th><td>CASH_OUT</td><td>1</td><td>20128.0</td><td>20128.0</td><td>0.0</td><td>6268.0</td><td>12145.85</td><td>1</td></tr><tr><th>8</th><td>CASH_OUT</td><td>1</td><td>416001.33</td><td>0.0</td><td>0.0</td><td>102.0</td><td>9.29161962e6</td><td>1</td></tr><tr><th>9</th><td>TRANSFER</td><td>1</td><td>1.27721277e6</td><td>1.27721277e6</td><td>0.0</td><td>0.0</td><td>0.0</td><td>1</td></tr><tr><th>10</th><td>CASH_OUT</td><td>1</td><td>1.27721277e6</td><td>1.27721277e6</td><td>0.0</td><td>0.0</td><td>2.44498519e6</td><td>1</td></tr><tr><th>11</th><td>TRANSFER</td><td>1</td><td>35063.63</td><td>35063.63</td><td>0.0</td><td>0.0</td><td>0.0</td><td>1</td></tr><tr><th>12</th><td>CASH_OUT</td><td>1</td><td>35063.63</td><td>35063.63</td><td>0.0</td><td>31140.0</td><td>7550.03</td><td>1</td></tr><tr><th>13</th><td>TRANSFER</td><td>1</td><td>25071.46</td><td>25071.46</td><td>0.0</td><td>0.0</td><td>0.0</td><td>1</td></tr><tr><th>14</th><td>CASH_OUT</td><td>1</td><td>25071.46</td><td>25071.46</td><td>0.0</td><td>9083.76</td><td>34155.22</td><td>1</td></tr><tr><th>15</th><td>CASH_OUT</td><td>1</td><td>132842.64</td><td>4499.08</td><td>0.0</td><td>0.0</td><td>132842.64</td><td>1</td></tr><tr><th>16</th><td>TRANSFER</td><td>1</td><td>235238.66</td><td>235238.66</td><td>0.0</td><td>0.0</td><td>0.0</td><td>1</td></tr><tr><th>17</th><td>CASH_OUT</td><td>1</td><td>235238.66</td><td>235238.66</td><td>0.0</td><td>0.0</td><td>235238.66</td><td>1</td></tr><tr><th>18</th><td>TRANSFER</td><td>2</td><td>1.09618724e6</td><td>1.09618724e6</td><td>0.0</td><td>0.0</td><td>0.0</td><td>1</td></tr><tr><th>19</th><td>CASH_OUT</td><td>2</td><td>1.09618724e6</td><td>1.09618724e6</td><td>0.0</td><td>0.0</td><td>1.09618724e6</td><td>1</td></tr><tr><th>20</th><td>TRANSFER</td><td>2</td><td>963532.14</td><td>963532.14</td><td>0.0</td><td>0.0</td><td>0.0</td><td>1</td></tr><tr><th>21</th><td>CASH_OUT</td><td>2</td><td>963532.14</td><td>963532.14</td><td>0.0</td><td>132382.57</td><td>1.09591471e6</td><td>1</td></tr><tr><th>22</th><td>TRANSFER</td><td>2</td><td>14949.84</td><td>14949.84</td><td>0.0</td><td>0.0</td><td>0.0</td><td>1</td></tr><tr><th>23</th><td>CASH_OUT</td><td>2</td><td>14949.84</td><td>14949.84</td><td>0.0</td><td>18161.79</td><td>33111.63</td><td>1</td></tr><tr><th>24</th><td>TRANSFER</td><td>2</td><td>18627.02</td><td>18627.02</td><td>0.0</td><td>0.0</td><td>0.0</td><td>1</td></tr><tr><th>25</th><td>CASH_OUT</td><td>2</td><td>18627.02</td><td>18627.02</td><td>0.0</td><td>147251.58</td><td>165878.6</td><td>1</td></tr><tr><th>26</th><td>TRANSFER</td><td>3</td><td>10539.37</td><td>10539.37</td><td>0.0</td><td>0.0</td><td>0.0</td><td>1</td></tr><tr><th>27</th><td>CASH_OUT</td><td>3</td><td>10539.37</td><td>10539.37</td><td>0.0</td><td>0.0</td><td>10539.37</td><td>1</td></tr><tr><th>28</th><td>TRANSFER</td><td>3</td><td>22877.0</td><td>22877.0</td><td>0.0</td><td>0.0</td><td>0.0</td><td>1</td></tr><tr><th>29</th><td>CASH_OUT</td><td>3</td><td>22877.0</td><td>22877.0</td><td>0.0</td><td>0.0</td><td>22877.0</td><td>1</td></tr><tr><th>30</th><td>TRANSFER</td><td>4</td><td>1.0e7</td><td>1.293041844e7</td><td>2.93041844e6</td><td>0.0</td><td>0.0</td><td>1</td></tr><tr><th>&vellip;</th><td>&vellip;</td><td>&vellip;</td><td>&vellip;</td><td>&vellip;</td><td>&vellip;</td><td>&vellip;</td><td>&vellip;</td><td>&vellip;</td></tr></tbody></table>"
      ],
      "text/plain": [
       "16426×8 DataFrames.DataFrame\n",
       "│ Row   │ _type      │ step │ amount    │ oldbalanceOrg │ newbalanceOrig │\n",
       "├───────┼────────────┼──────┼───────────┼───────────────┼────────────────┤\n",
       "│ 1     │ \"CASH_OUT\" │ 1    │ 95636.5   │ 0.0           │ 0.0            │\n",
       "│ 2     │ \"TRANSFER\" │ 1    │ 181.0     │ 181.0         │ 0.0            │\n",
       "│ 3     │ \"CASH_OUT\" │ 1    │ 181.0     │ 181.0         │ 0.0            │\n",
       "│ 4     │ \"TRANSFER\" │ 1    │ 2806.0    │ 2806.0        │ 0.0            │\n",
       "│ 5     │ \"CASH_OUT\" │ 1    │ 2806.0    │ 2806.0        │ 0.0            │\n",
       "│ 6     │ \"TRANSFER\" │ 1    │ 20128.0   │ 20128.0       │ 0.0            │\n",
       "│ 7     │ \"CASH_OUT\" │ 1    │ 20128.0   │ 20128.0       │ 0.0            │\n",
       "│ 8     │ \"CASH_OUT\" │ 1    │ 4.16001e5 │ 0.0           │ 0.0            │\n",
       "│ 9     │ \"TRANSFER\" │ 1    │ 1.27721e6 │ 1.27721e6     │ 0.0            │\n",
       "│ 10    │ \"CASH_OUT\" │ 1    │ 1.27721e6 │ 1.27721e6     │ 0.0            │\n",
       "│ 11    │ \"TRANSFER\" │ 1    │ 35063.6   │ 35063.6       │ 0.0            │\n",
       "⋮\n",
       "│ 16415 │ \"TRANSFER\" │ 742  │ 2.58355e5 │ 2.58355e5     │ 0.0            │\n",
       "│ 16416 │ \"CASH_OUT\" │ 742  │ 2.58355e5 │ 2.58355e5     │ 0.0            │\n",
       "│ 16417 │ \"TRANSFER\" │ 742  │ 63417.0   │ 63417.0       │ 0.0            │\n",
       "│ 16418 │ \"CASH_OUT\" │ 742  │ 63417.0   │ 63417.0       │ 0.0            │\n",
       "│ 16419 │ \"TRANSFER\" │ 743  │ 1.25882e6 │ 1.25882e6     │ 0.0            │\n",
       "│ 16420 │ \"CASH_OUT\" │ 743  │ 1.25882e6 │ 1.25882e6     │ 0.0            │\n",
       "│ 16421 │ \"TRANSFER\" │ 743  │ 3.39682e5 │ 3.39682e5     │ 0.0            │\n",
       "│ 16422 │ \"CASH_OUT\" │ 743  │ 3.39682e5 │ 3.39682e5     │ 0.0            │\n",
       "│ 16423 │ \"TRANSFER\" │ 743  │ 6.31141e6 │ 6.31141e6     │ 0.0            │\n",
       "│ 16424 │ \"CASH_OUT\" │ 743  │ 6.31141e6 │ 6.31141e6     │ 0.0            │\n",
       "│ 16425 │ \"TRANSFER\" │ 743  │ 8.50003e5 │ 8.50003e5     │ 0.0            │\n",
       "│ 16426 │ \"CASH_OUT\" │ 743  │ 8.50003e5 │ 8.50003e5     │ 0.0            │\n",
       "\n",
       "│ Row   │ oldbalanceDest │ newbalanceDest │ isFraud │\n",
       "├───────┼────────────────┼────────────────┼─────────┤\n",
       "│ 1     │ 3.59142e5      │ 1.36337e6      │ 0       │\n",
       "│ 2     │ 0.0            │ 0.0            │ 1       │\n",
       "│ 3     │ 21182.0        │ 0.0            │ 1       │\n",
       "│ 4     │ 0.0            │ 0.0            │ 1       │\n",
       "│ 5     │ 26202.0        │ 0.0            │ 1       │\n",
       "│ 6     │ 0.0            │ 0.0            │ 1       │\n",
       "│ 7     │ 6268.0         │ 12145.9        │ 1       │\n",
       "│ 8     │ 102.0          │ 9.29162e6      │ 1       │\n",
       "│ 9     │ 0.0            │ 0.0            │ 1       │\n",
       "│ 10    │ 0.0            │ 2.44499e6      │ 1       │\n",
       "│ 11    │ 0.0            │ 0.0            │ 1       │\n",
       "⋮\n",
       "│ 16415 │ 0.0            │ 0.0            │ 1       │\n",
       "│ 16416 │ 25176.7        │ 2.83532e5      │ 1       │\n",
       "│ 16417 │ 0.0            │ 0.0            │ 1       │\n",
       "│ 16418 │ 2.76433e5      │ 3.3985e5       │ 1       │\n",
       "│ 16419 │ 0.0            │ 0.0            │ 1       │\n",
       "│ 16420 │ 5.03465e5      │ 1.76228e6      │ 1       │\n",
       "│ 16421 │ 0.0            │ 0.0            │ 1       │\n",
       "│ 16422 │ 0.0            │ 3.39682e5      │ 1       │\n",
       "│ 16423 │ 0.0            │ 0.0            │ 1       │\n",
       "│ 16424 │ 68488.8        │ 6.3799e6       │ 1       │\n",
       "│ 16425 │ 0.0            │ 0.0            │ 1       │\n",
       "│ 16426 │ 6.5101e6       │ 7.3601e6       │ 1       │"
      ]
     },
     "execution_count": 4,
     "metadata": {},
     "output_type": "execute_result"
    }
   ],
   "source": [
    "rename!(data, :fraud_status, :isFraud)"
   ]
  },
  {
   "cell_type": "code",
   "execution_count": 5,
   "metadata": {},
   "outputs": [
    {
     "data": {
      "text/plain": [
       "2-element Named Array{Int64,1}\n",
       "Dim1  │ \n",
       "──────┼─────\n",
       "0     │ 8213\n",
       "1     │ 8213"
      ]
     },
     "execution_count": 5,
     "metadata": {},
     "output_type": "execute_result"
    }
   ],
   "source": [
    "# Explore Loan Amount\n",
    "freqtable(data[:isFraud])"
   ]
  },
  {
   "cell_type": "code",
   "execution_count": 6,
   "metadata": {},
   "outputs": [
    {
     "name": "stdout",
     "output_type": "stream",
     "text": [
      "Summary Stats:\n",
      "Mean:           884267.745135\n",
      "Minimum:        0.000000\n",
      "1st Quartile:   96961.040000\n",
      "Median:         234740.010000\n",
      "3rd Quartile:   635409.320000\n",
      "Maximum:        10000000.000000\n",
      "Length:         16426\n",
      "Type:           Float64\n",
      "Number Missing: 0\n",
      "% Missing:      0.000000\n"
     ]
    }
   ],
   "source": [
    "describe(data[:amount])"
   ]
  },
  {
   "cell_type": "code",
   "execution_count": 7,
   "metadata": {},
   "outputs": [
    {
     "data": {
      "image/png": "[encoded data removed]"
     },
     "execution_count": 7,
     "metadata": {},
     "output_type": "execute_result"
    }
   ],
   "source": [
    "# Plot Histogram for Applicant Income\n",
    "Plots.histogram(data[:amount], bins = 1000, xlabel = \"Transaction_Amount\", labels = \"Frequency\")"
   ]
  },
  {
   "cell_type": "code",
   "execution_count": 8,
   "metadata": {},
   "outputs": [
    {
     "data": {
      "text/plain": [
       "8-element Array{Type,1}:\n",
       " String \n",
       " Int64  \n",
       " Float64\n",
       " Float64\n",
       " Float64\n",
       " Float64\n",
       " Float64\n",
       " Int64  "
      ]
     },
     "execution_count": 8,
     "metadata": {},
     "output_type": "execute_result"
    }
   ],
   "source": [
    "eltypes(data)"
   ]
  },
  {
   "cell_type": "code",
   "execution_count": 9,
   "metadata": {},
   "outputs": [
    {
     "data": {
      "text/plain": [
       "2-element Named Array{Int64,1}\n",
       "Dim1     │ \n",
       "─────────┼──────\n",
       "CASH_OUT │ 10759\n",
       "TRANSFER │  5667"
      ]
     },
     "execution_count": 9,
     "metadata": {},
     "output_type": "execute_result"
    }
   ],
   "source": [
    "freqtable(data[:_type])"
   ]
  },
  {
   "cell_type": "code",
   "execution_count": 22,
   "metadata": {},
   "outputs": [
    {
     "data": {
      "text/html": [
       "<table class=\"data-frame\"><thead><tr><th></th><th>step</th><th>amount</th><th>oldbalanceOrg</th><th>newbalanceOrig</th><th>oldbalanceDest</th><th>newbalanceDest</th><th>isFraud</th><th>CASH_OUT</th></tr></thead><tbody><tr><th>1</th><td>1</td><td>95636.49</td><td>0.0</td><td>0.0</td><td>359141.7</td><td>1.36336851e6</td><td>0</td><td>1</td></tr><tr><th>2</th><td>1</td><td>181.0</td><td>181.0</td><td>0.0</td><td>0.0</td><td>0.0</td><td>1</td><td>0</td></tr><tr><th>3</th><td>1</td><td>181.0</td><td>181.0</td><td>0.0</td><td>21182.0</td><td>0.0</td><td>1</td><td>1</td></tr><tr><th>4</th><td>1</td><td>2806.0</td><td>2806.0</td><td>0.0</td><td>0.0</td><td>0.0</td><td>1</td><td>0</td></tr><tr><th>5</th><td>1</td><td>2806.0</td><td>2806.0</td><td>0.0</td><td>26202.0</td><td>0.0</td><td>1</td><td>1</td></tr><tr><th>6</th><td>1</td><td>20128.0</td><td>20128.0</td><td>0.0</td><td>0.0</td><td>0.0</td><td>1</td><td>0</td></tr><tr><th>7</th><td>1</td><td>20128.0</td><td>20128.0</td><td>0.0</td><td>6268.0</td><td>12145.85</td><td>1</td><td>1</td></tr><tr><th>8</th><td>1</td><td>416001.33</td><td>0.0</td><td>0.0</td><td>102.0</td><td>9.29161962e6</td><td>1</td><td>1</td></tr><tr><th>9</th><td>1</td><td>1.27721277e6</td><td>1.27721277e6</td><td>0.0</td><td>0.0</td><td>0.0</td><td>1</td><td>0</td></tr><tr><th>10</th><td>1</td><td>1.27721277e6</td><td>1.27721277e6</td><td>0.0</td><td>0.0</td><td>2.44498519e6</td><td>1</td><td>1</td></tr><tr><th>11</th><td>1</td><td>35063.63</td><td>35063.63</td><td>0.0</td><td>0.0</td><td>0.0</td><td>1</td><td>0</td></tr><tr><th>12</th><td>1</td><td>35063.63</td><td>35063.63</td><td>0.0</td><td>31140.0</td><td>7550.03</td><td>1</td><td>1</td></tr><tr><th>13</th><td>1</td><td>25071.46</td><td>25071.46</td><td>0.0</td><td>0.0</td><td>0.0</td><td>1</td><td>0</td></tr><tr><th>14</th><td>1</td><td>25071.46</td><td>25071.46</td><td>0.0</td><td>9083.76</td><td>34155.22</td><td>1</td><td>1</td></tr><tr><th>15</th><td>1</td><td>132842.64</td><td>4499.08</td><td>0.0</td><td>0.0</td><td>132842.64</td><td>1</td><td>1</td></tr><tr><th>16</th><td>1</td><td>235238.66</td><td>235238.66</td><td>0.0</td><td>0.0</td><td>0.0</td><td>1</td><td>0</td></tr><tr><th>17</th><td>1</td><td>235238.66</td><td>235238.66</td><td>0.0</td><td>0.0</td><td>235238.66</td><td>1</td><td>1</td></tr><tr><th>18</th><td>2</td><td>1.09618724e6</td><td>1.09618724e6</td><td>0.0</td><td>0.0</td><td>0.0</td><td>1</td><td>0</td></tr><tr><th>19</th><td>2</td><td>1.09618724e6</td><td>1.09618724e6</td><td>0.0</td><td>0.0</td><td>1.09618724e6</td><td>1</td><td>1</td></tr><tr><th>20</th><td>2</td><td>963532.14</td><td>963532.14</td><td>0.0</td><td>0.0</td><td>0.0</td><td>1</td><td>0</td></tr><tr><th>21</th><td>2</td><td>963532.14</td><td>963532.14</td><td>0.0</td><td>132382.57</td><td>1.09591471e6</td><td>1</td><td>1</td></tr><tr><th>22</th><td>2</td><td>14949.84</td><td>14949.84</td><td>0.0</td><td>0.0</td><td>0.0</td><td>1</td><td>0</td></tr><tr><th>23</th><td>2</td><td>14949.84</td><td>14949.84</td><td>0.0</td><td>18161.79</td><td>33111.63</td><td>1</td><td>1</td></tr><tr><th>24</th><td>2</td><td>18627.02</td><td>18627.02</td><td>0.0</td><td>0.0</td><td>0.0</td><td>1</td><td>0</td></tr><tr><th>25</th><td>2</td><td>18627.02</td><td>18627.02</td><td>0.0</td><td>147251.58</td><td>165878.6</td><td>1</td><td>1</td></tr><tr><th>26</th><td>3</td><td>10539.37</td><td>10539.37</td><td>0.0</td><td>0.0</td><td>0.0</td><td>1</td><td>0</td></tr><tr><th>27</th><td>3</td><td>10539.37</td><td>10539.37</td><td>0.0</td><td>0.0</td><td>10539.37</td><td>1</td><td>1</td></tr><tr><th>28</th><td>3</td><td>22877.0</td><td>22877.0</td><td>0.0</td><td>0.0</td><td>0.0</td><td>1</td><td>0</td></tr><tr><th>29</th><td>3</td><td>22877.0</td><td>22877.0</td><td>0.0</td><td>0.0</td><td>22877.0</td><td>1</td><td>1</td></tr><tr><th>30</th><td>4</td><td>1.0e7</td><td>1.293041844e7</td><td>2.93041844e6</td><td>0.0</td><td>0.0</td><td>1</td><td>0</td></tr><tr><th>&vellip;</th><td>&vellip;</td><td>&vellip;</td><td>&vellip;</td><td>&vellip;</td><td>&vellip;</td><td>&vellip;</td><td>&vellip;</td><td>&vellip;</td></tr></tbody></table>"
      ],
      "text/plain": [
       "16426×8 DataFrames.DataFrame\n",
       "│ Row   │ step │ amount    │ oldbalanceOrg │ newbalanceOrig │ oldbalanceDest │\n",
       "├───────┼──────┼───────────┼───────────────┼────────────────┼────────────────┤\n",
       "│ 1     │ 1    │ 95636.5   │ 0.0           │ 0.0            │ 3.59142e5      │\n",
       "│ 2     │ 1    │ 181.0     │ 181.0         │ 0.0            │ 0.0            │\n",
       "│ 3     │ 1    │ 181.0     │ 181.0         │ 0.0            │ 21182.0        │\n",
       "│ 4     │ 1    │ 2806.0    │ 2806.0        │ 0.0            │ 0.0            │\n",
       "│ 5     │ 1    │ 2806.0    │ 2806.0        │ 0.0            │ 26202.0        │\n",
       "│ 6     │ 1    │ 20128.0   │ 20128.0       │ 0.0            │ 0.0            │\n",
       "│ 7     │ 1    │ 20128.0   │ 20128.0       │ 0.0            │ 6268.0         │\n",
       "│ 8     │ 1    │ 4.16001e5 │ 0.0           │ 0.0            │ 102.0          │\n",
       "│ 9     │ 1    │ 1.27721e6 │ 1.27721e6     │ 0.0            │ 0.0            │\n",
       "│ 10    │ 1    │ 1.27721e6 │ 1.27721e6     │ 0.0            │ 0.0            │\n",
       "│ 11    │ 1    │ 35063.6   │ 35063.6       │ 0.0            │ 0.0            │\n",
       "⋮\n",
       "│ 16415 │ 742  │ 2.58355e5 │ 2.58355e5     │ 0.0            │ 0.0            │\n",
       "│ 16416 │ 742  │ 2.58355e5 │ 2.58355e5     │ 0.0            │ 25176.7        │\n",
       "│ 16417 │ 742  │ 63417.0   │ 63417.0       │ 0.0            │ 0.0            │\n",
       "│ 16418 │ 742  │ 63417.0   │ 63417.0       │ 0.0            │ 2.76433e5      │\n",
       "│ 16419 │ 743  │ 1.25882e6 │ 1.25882e6     │ 0.0            │ 0.0            │\n",
       "│ 16420 │ 743  │ 1.25882e6 │ 1.25882e6     │ 0.0            │ 5.03465e5      │\n",
       "│ 16421 │ 743  │ 3.39682e5 │ 3.39682e5     │ 0.0            │ 0.0            │\n",
       "│ 16422 │ 743  │ 3.39682e5 │ 3.39682e5     │ 0.0            │ 0.0            │\n",
       "│ 16423 │ 743  │ 6.31141e6 │ 6.31141e6     │ 0.0            │ 0.0            │\n",
       "│ 16424 │ 743  │ 6.31141e6 │ 6.31141e6     │ 0.0            │ 68488.8        │\n",
       "│ 16425 │ 743  │ 8.50003e5 │ 8.50003e5     │ 0.0            │ 0.0            │\n",
       "│ 16426 │ 743  │ 8.50003e5 │ 8.50003e5     │ 0.0            │ 6.5101e6       │\n",
       "\n",
       "│ Row   │ newbalanceDest │ isFraud │ CASH_OUT │\n",
       "├───────┼────────────────┼─────────┼──────────┤\n",
       "│ 1     │ 1.36337e6      │ 0       │ 1        │\n",
       "│ 2     │ 0.0            │ 1       │ 0        │\n",
       "│ 3     │ 0.0            │ 1       │ 1        │\n",
       "│ 4     │ 0.0            │ 1       │ 0        │\n",
       "│ 5     │ 0.0            │ 1       │ 1        │\n",
       "│ 6     │ 0.0            │ 1       │ 0        │\n",
       "│ 7     │ 12145.9        │ 1       │ 1        │\n",
       "│ 8     │ 9.29162e6      │ 1       │ 1        │\n",
       "│ 9     │ 0.0            │ 1       │ 0        │\n",
       "│ 10    │ 2.44499e6      │ 1       │ 1        │\n",
       "│ 11    │ 0.0            │ 1       │ 0        │\n",
       "⋮\n",
       "│ 16415 │ 0.0            │ 1       │ 0        │\n",
       "│ 16416 │ 2.83532e5      │ 1       │ 1        │\n",
       "│ 16417 │ 0.0            │ 1       │ 0        │\n",
       "│ 16418 │ 3.3985e5       │ 1       │ 1        │\n",
       "│ 16419 │ 0.0            │ 1       │ 0        │\n",
       "│ 16420 │ 1.76228e6      │ 1       │ 1        │\n",
       "│ 16421 │ 0.0            │ 1       │ 0        │\n",
       "│ 16422 │ 3.39682e5      │ 1       │ 1        │\n",
       "│ 16423 │ 0.0            │ 1       │ 0        │\n",
       "│ 16424 │ 6.3799e6       │ 1       │ 1        │\n",
       "│ 16425 │ 0.0            │ 1       │ 0        │\n",
       "│ 16426 │ 7.3601e6       │ 1       │ 1        │"
      ]
     },
     "execution_count": 22,
     "metadata": {},
     "output_type": "execute_result"
    }
   ],
   "source": [
    "# Label Encoding-- Transaction Type\n",
    "data[:CASH_OUT] = ifelse.(data[:_type] .== \"CASH_OUT\",1,0) # The value 0 is for Transfer type transaction\n",
    "delete!(data,:_type)"
   ]
  },
  {
   "cell_type": "code",
   "execution_count": 23,
   "metadata": {},
   "outputs": [
    {
     "data": {
      "text/plain": [
       "(11498×8 DataFrames.DataFrame\n",
       "│ Row   │ step │ amount    │ oldbalanceOrg │ newbalanceOrig │ oldbalanceDest │\n",
       "├───────┼──────┼───────────┼───────────────┼────────────────┼────────────────┤\n",
       "│ 1     │ 35   │ 3.60694e6 │ 3.60694e6     │ 0.0            │ 0.0            │\n",
       "│ 2     │ 260  │ 67547.3   │ 0.0           │ 0.0            │ 4.30923e5      │\n",
       "│ 3     │ 329  │ 1.74977e5 │ 49822.0       │ 0.0            │ 0.0            │\n",
       "│ 4     │ 133  │ 4.58179e5 │ 104236.0      │ 0.0            │ 0.0            │\n",
       "│ 5     │ 642  │ 330665.0  │ 330665.0      │ 0.0            │ 7.51482e5      │\n",
       "│ 6     │ 275  │ 2.71502e5 │ 0.0           │ 0.0            │ 4.75124e6      │\n",
       "│ 7     │ 636  │ 89657.4   │ 89657.4       │ 0.0            │ 0.0            │\n",
       "│ 8     │ 332  │ 942572.0  │ 21784.0       │ 0.0            │ 0.0            │\n",
       "│ 9     │ 14   │ 1.56189e6 │ 1.56189e6     │ 0.0            │ 3.47193e6      │\n",
       "│ 10    │ 248  │ 1.0e7     │ 1.40113e7     │ 4.01131e6      │ 0.0            │\n",
       "│ 11    │ 357  │ 2.35811e5 │ 0.0           │ 0.0            │ 9.33798e5      │\n",
       "⋮\n",
       "│ 11487 │ 107  │ 1.29986e6 │ 1.29986e6     │ 0.0            │ 0.0            │\n",
       "│ 11488 │ 240  │ 74076.5   │ 74076.5       │ 0.0            │ 5.26176e5      │\n",
       "│ 11489 │ 226  │ 5772.0    │ 5772.0        │ 0.0            │ 2.5275e5       │\n",
       "│ 11490 │ 379  │ 4.59547e5 │ 0.0           │ 0.0            │ 6.27711e5      │\n",
       "│ 11491 │ 395  │ 1.17683e5 │ 1.17683e5     │ 0.0            │ 1.20624e6      │\n",
       "│ 11492 │ 614  │ 1.76055e6 │ 1.76055e6     │ 0.0            │ 0.0            │\n",
       "│ 11493 │ 372  │ 1.51217e5 │ 0.0           │ 0.0            │ 7.56129e5      │\n",
       "│ 11494 │ 494  │ 503621.0  │ 503621.0      │ 0.0            │ 0.0            │\n",
       "│ 11495 │ 739  │ 8116.53   │ 8116.53       │ 0.0            │ 0.0            │\n",
       "│ 11496 │ 135  │ 5.15645e5 │ 5.15645e5     │ 0.0            │ 0.0            │\n",
       "│ 11497 │ 15   │ 7.47282e5 │ 7.47282e5     │ 0.0            │ 5.34092e6      │\n",
       "│ 11498 │ 226  │ 2.67287e5 │ 177520.0      │ 0.0            │ 4.60133e6      │\n",
       "\n",
       "│ Row   │ newbalanceDest │ isFraud │ CASH_OUT │\n",
       "├───────┼────────────────┼─────────┼──────────┤\n",
       "│ 1     │ 0.0            │ 1       │ 0        │\n",
       "│ 2     │ 498470.0       │ 0       │ 1        │\n",
       "│ 3     │ 1.74977e5      │ 0       │ 1        │\n",
       "│ 4     │ 4.58179e5      │ 0       │ 1        │\n",
       "│ 5     │ 1.08215e6      │ 1       │ 1        │\n",
       "│ 6     │ 5.02274e6      │ 0       │ 0        │\n",
       "│ 7     │ 0.0            │ 1       │ 0        │\n",
       "│ 8     │ 942572.0       │ 0       │ 0        │\n",
       "│ 9     │ 6.44318e6      │ 1       │ 1        │\n",
       "│ 10    │ 0.0            │ 1       │ 0        │\n",
       "│ 11    │ 1.16961e6      │ 0       │ 1        │\n",
       "⋮\n",
       "│ 11487 │ 1.29986e6      │ 1       │ 1        │\n",
       "│ 11488 │ 6.00252e5      │ 1       │ 1        │\n",
       "│ 11489 │ 2.58522e5      │ 1       │ 1        │\n",
       "│ 11490 │ 1.08726e6      │ 0       │ 1        │\n",
       "│ 11491 │ 1.32393e6      │ 1       │ 1        │\n",
       "│ 11492 │ 0.0            │ 1       │ 0        │\n",
       "│ 11493 │ 907346.0       │ 0       │ 1        │\n",
       "│ 11494 │ 503621.0       │ 1       │ 1        │\n",
       "│ 11495 │ 0.0            │ 1       │ 0        │\n",
       "│ 11496 │ 0.0            │ 1       │ 0        │\n",
       "│ 11497 │ 6.0882e6       │ 1       │ 1        │\n",
       "│ 11498 │ 4.86862e6      │ 0       │ 1        │, 4928×8 DataFrames.DataFrame\n",
       "│ Row  │ step │ amount    │ oldbalanceOrg │ newbalanceOrig │ oldbalanceDest │\n",
       "├──────┼──────┼───────────┼───────────────┼────────────────┼────────────────┤\n",
       "│ 1    │ 223  │ 3.34891e5 │ 3.34891e5     │ 0.0            │ 0.0            │\n",
       "│ 2    │ 631  │ 3.12069e6 │ 3.12069e6     │ 0.0            │ 3.88144e6      │\n",
       "│ 3    │ 470  │ 8.64994e5 │ 8.64994e5     │ 0.0            │ 0.0            │\n",
       "│ 4    │ 640  │ 46974.0   │ 46974.0       │ 0.0            │ 0.0            │\n",
       "│ 5    │ 182  │ 2.11674e5 │ 21652.0       │ 0.0            │ 7.69329e5      │\n",
       "│ 6    │ 156  │ 5.09599e5 │ 0.0           │ 0.0            │ 4.20061e6      │\n",
       "│ 7    │ 737  │ 1.28111e6 │ 1.28111e6     │ 0.0            │ 0.0            │\n",
       "│ 8    │ 236  │ 2238.01   │ 3414.6        │ 1176.59        │ 1.28849e6      │\n",
       "│ 9    │ 279  │ 1.45982e5 │ 1.45982e5     │ 0.0            │ 0.0            │\n",
       "│ 10   │ 348  │ 130597.0  │ 13000.0       │ 0.0            │ 0.0            │\n",
       "│ 11   │ 426  │ 3.08108e5 │ 30324.0       │ 0.0            │ 7.69277e6      │\n",
       "⋮\n",
       "│ 4917 │ 504  │ 2.19279e5 │ 2.19279e5     │ 0.0            │ 0.0            │\n",
       "│ 4918 │ 343  │ 2.37944e5 │ 2.37944e5     │ 0.0            │ 2.39122e6      │\n",
       "│ 4919 │ 546  │ 1.54208e5 │ 213.0         │ 0.0            │ 1.02274e6      │\n",
       "│ 4920 │ 159  │ 8.09208e5 │ 0.0           │ 0.0            │ 3.4e6          │\n",
       "│ 4921 │ 16   │ 8.28721e5 │ 8.28721e5     │ 0.0            │ 0.0            │\n",
       "│ 4922 │ 404  │ 97315.1   │ 194289.0      │ 96973.9        │ 0.0            │\n",
       "│ 4923 │ 7    │ 5.46e6    │ 5.46e6        │ 0.0            │ 0.0            │\n",
       "│ 4924 │ 571  │ 972724.0  │ 972724.0      │ 0.0            │ 0.0            │\n",
       "│ 4925 │ 301  │ 2.01291e5 │ 202515.0      │ 1224.24        │ 82290.4        │\n",
       "│ 4926 │ 204  │ 1.35113e5 │ 845.0         │ 0.0            │ 27372.4        │\n",
       "│ 4927 │ 645  │ 1.57687e6 │ 1.57687e6     │ 0.0            │ 0.0            │\n",
       "│ 4928 │ 352  │ 7.45455e6 │ 7.45455e6     │ 0.0            │ 0.0            │\n",
       "\n",
       "│ Row  │ newbalanceDest │ isFraud │ CASH_OUT │\n",
       "├──────┼────────────────┼─────────┼──────────┤\n",
       "│ 1    │ 0.0            │ 1       │ 0        │\n",
       "│ 2    │ 7.00214e6      │ 1       │ 1        │\n",
       "│ 3    │ 0.0            │ 1       │ 0        │\n",
       "│ 4    │ 46974.0        │ 1       │ 1        │\n",
       "│ 5    │ 9.81003e5      │ 0       │ 0        │\n",
       "│ 6    │ 4.71021e6      │ 0       │ 1        │\n",
       "│ 7    │ 0.0            │ 1       │ 0        │\n",
       "│ 8    │ 1.29072e6      │ 0       │ 1        │\n",
       "│ 9    │ 0.0            │ 1       │ 0        │\n",
       "│ 10   │ 130597.0       │ 0       │ 1        │\n",
       "│ 11   │ 8.00088e6      │ 0       │ 1        │\n",
       "⋮\n",
       "│ 4917 │ 0.0            │ 1       │ 0        │\n",
       "│ 4918 │ 2.62916e6      │ 1       │ 1        │\n",
       "│ 4919 │ 1.17694e6      │ 0       │ 1        │\n",
       "│ 4920 │ 4.20921e6      │ 0       │ 0        │\n",
       "│ 4921 │ 0.0            │ 1       │ 0        │\n",
       "│ 4922 │ 97315.1        │ 0       │ 1        │\n",
       "│ 4923 │ 0.0            │ 1       │ 0        │\n",
       "│ 4924 │ 972724.0       │ 1       │ 1        │\n",
       "│ 4925 │ 2.83581e5      │ 0       │ 0        │\n",
       "│ 4926 │ 1.62485e5      │ 0       │ 1        │\n",
       "│ 4927 │ 0.0            │ 1       │ 0        │\n",
       "│ 4928 │ 0.0            │ 1       │ 0        │)"
      ]
     },
     "execution_count": 23,
     "metadata": {},
     "output_type": "execute_result"
    }
   ],
   "source": [
    "# Partition Data into Train and Test datasets\n",
    "function partitionTrainTest(data, at = 0.7)\n",
    "    n = nrow(data)\n",
    "    idx = shuffle(1:n)\n",
    "    train_idx = view(idx, 1:floor(Int, at*n))\n",
    "    test_idx = view(idx, (floor(Int, at*n)+1):n)\n",
    "    data[train_idx,:], data[test_idx,:]\n",
    "end\n",
    "\n",
    "train,test = partitionTrainTest(data, 0.7) # 70% train"
   ]
  },
  {
   "cell_type": "code",
   "execution_count": 24,
   "metadata": {},
   "outputs": [
    {
     "name": "stdout",
     "output_type": "stream",
     "text": [
      "11498×8 DataFrames.DataFrame\n",
      "│ Col # │ Name           │ Eltype  │ Missing │\n",
      "├───────┼────────────────┼─────────┼─────────┤\n",
      "│ 1     │ step           │ Int64   │ 0       │\n",
      "│ 2     │ amount         │ Float64 │ 0       │\n",
      "│ 3     │ oldbalanceOrg  │ Float64 │ 0       │\n",
      "│ 4     │ newbalanceOrig │ Float64 │ 0       │\n",
      "│ 5     │ oldbalanceDest │ Float64 │ 0       │\n",
      "│ 6     │ newbalanceDest │ Float64 │ 0       │\n",
      "│ 7     │ isFraud        │ Int64   │ 0       │\n",
      "│ 8     │ CASH_OUT       │ Int64   │ 0       │"
     ]
    }
   ],
   "source": [
    "# Missing value imputation\n",
    "showcols(train)\n",
    "# There is no missing value, therefore this step is not required"
   ]
  },
  {
   "cell_type": "code",
   "execution_count": 25,
   "metadata": {},
   "outputs": [
    {
     "data": {
      "text/html": [
       "<table class=\"data-frame\"><thead><tr><th></th><th>step</th><th>amount</th><th>oldbalanceOrg</th><th>newbalanceOrig</th><th>oldbalanceDest</th><th>newbalanceDest</th><th>CASH_OUT</th></tr></thead><tbody><tr><th>1</th><td>223</td><td>334890.91</td><td>334890.91</td><td>0.0</td><td>0.0</td><td>0.0</td><td>0</td></tr><tr><th>2</th><td>631</td><td>3.12069098e6</td><td>3.12069098e6</td><td>0.0</td><td>3.8814446e6</td><td>7.00213558e6</td><td>1</td></tr><tr><th>3</th><td>470</td><td>864994.24</td><td>864994.24</td><td>0.0</td><td>0.0</td><td>0.0</td><td>0</td></tr><tr><th>4</th><td>640</td><td>46973.96</td><td>46973.96</td><td>0.0</td><td>0.0</td><td>46973.96</td><td>1</td></tr><tr><th>5</th><td>182</td><td>211674.08</td><td>21652.0</td><td>0.0</td><td>769329.27</td><td>981003.35</td><td>0</td></tr><tr><th>6</th><td>156</td><td>509599.19</td><td>0.0</td><td>0.0</td><td>4.20060973e6</td><td>4.71020892e6</td><td>1</td></tr><tr><th>7</th><td>737</td><td>1.28111384e6</td><td>1.28111384e6</td><td>0.0</td><td>0.0</td><td>0.0</td><td>0</td></tr><tr><th>8</th><td>236</td><td>2238.01</td><td>3414.6</td><td>1176.59</td><td>1.28848627e6</td><td>1.29072428e6</td><td>1</td></tr><tr><th>9</th><td>279</td><td>145982.36</td><td>145982.36</td><td>0.0</td><td>0.0</td><td>0.0</td><td>0</td></tr><tr><th>10</th><td>348</td><td>130597.03</td><td>13000.0</td><td>0.0</td><td>0.0</td><td>130597.03</td><td>1</td></tr><tr><th>11</th><td>426</td><td>308107.51</td><td>30324.0</td><td>0.0</td><td>7.69276822e6</td><td>8.00087573e6</td><td>1</td></tr><tr><th>12</th><td>256</td><td>70696.74</td><td>70696.74</td><td>0.0</td><td>0.0</td><td>0.0</td><td>0</td></tr><tr><th>13</th><td>731</td><td>81677.17</td><td>81677.17</td><td>0.0</td><td>130887.69</td><td>212564.86</td><td>1</td></tr><tr><th>14</th><td>588</td><td>13421.28</td><td>13421.28</td><td>0.0</td><td>0.0</td><td>0.0</td><td>0</td></tr><tr><th>15</th><td>351</td><td>1.55266433e6</td><td>1.55266433e6</td><td>0.0</td><td>0.0</td><td>0.0</td><td>0</td></tr><tr><th>16</th><td>636</td><td>729078.34</td><td>729078.34</td><td>0.0</td><td>0.0</td><td>0.0</td><td>0</td></tr><tr><th>17</th><td>138</td><td>69314.35</td><td>0.0</td><td>0.0</td><td>144192.23</td><td>213506.58</td><td>1</td></tr><tr><th>18</th><td>559</td><td>2.51718806e6</td><td>2.51718806e6</td><td>0.0</td><td>0.0</td><td>0.0</td><td>0</td></tr><tr><th>19</th><td>109</td><td>177344.53</td><td>177344.53</td><td>0.0</td><td>0.0</td><td>0.0</td><td>0</td></tr><tr><th>20</th><td>155</td><td>49372.94</td><td>49372.94</td><td>0.0</td><td>517116.46</td><td>566489.4</td><td>1</td></tr><tr><th>21</th><td>242</td><td>3.13942335e6</td><td>3.13942335e6</td><td>0.0</td><td>2.59364194e6</td><td>5.73306529e6</td><td>1</td></tr><tr><th>22</th><td>483</td><td>22990.73</td><td>22990.73</td><td>0.0</td><td>3.27984064e6</td><td>3.30283137e6</td><td>1</td></tr><tr><th>23</th><td>178</td><td>763913.96</td><td>763913.96</td><td>0.0</td><td>0.0</td><td>0.0</td><td>0</td></tr><tr><th>24</th><td>282</td><td>281397.01</td><td>0.0</td><td>0.0</td><td>1.09226536e6</td><td>1.37366237e6</td><td>1</td></tr><tr><th>25</th><td>324</td><td>312653.01</td><td>31967.0</td><td>0.0</td><td>58648.59</td><td>371301.6</td><td>1</td></tr><tr><th>26</th><td>354</td><td>60080.1</td><td>42.0</td><td>0.0</td><td>7842.83</td><td>67922.93</td><td>1</td></tr><tr><th>27</th><td>204</td><td>54212.85</td><td>0.0</td><td>0.0</td><td>248485.73</td><td>302698.58</td><td>1</td></tr><tr><th>28</th><td>360</td><td>758848.47</td><td>758848.47</td><td>0.0</td><td>9.50746584e6</td><td>1.026631431e7</td><td>1</td></tr><tr><th>29</th><td>637</td><td>246280.14</td><td>246280.14</td><td>0.0</td><td>2.17673528e6</td><td>2.42301543e6</td><td>1</td></tr><tr><th>30</th><td>540</td><td>4512.27</td><td>4069.0</td><td>0.0</td><td>101802.7</td><td>106314.97</td><td>0</td></tr><tr><th>&vellip;</th><td>&vellip;</td><td>&vellip;</td><td>&vellip;</td><td>&vellip;</td><td>&vellip;</td><td>&vellip;</td><td>&vellip;</td></tr></tbody></table>"
      ],
      "text/plain": [
       "4928×7 DataFrames.DataFrame\n",
       "│ Row  │ step │ amount    │ oldbalanceOrg │ newbalanceOrig │ oldbalanceDest │\n",
       "├──────┼──────┼───────────┼───────────────┼────────────────┼────────────────┤\n",
       "│ 1    │ 223  │ 3.34891e5 │ 3.34891e5     │ 0.0            │ 0.0            │\n",
       "│ 2    │ 631  │ 3.12069e6 │ 3.12069e6     │ 0.0            │ 3.88144e6      │\n",
       "│ 3    │ 470  │ 8.64994e5 │ 8.64994e5     │ 0.0            │ 0.0            │\n",
       "│ 4    │ 640  │ 46974.0   │ 46974.0       │ 0.0            │ 0.0            │\n",
       "│ 5    │ 182  │ 2.11674e5 │ 21652.0       │ 0.0            │ 7.69329e5      │\n",
       "│ 6    │ 156  │ 5.09599e5 │ 0.0           │ 0.0            │ 4.20061e6      │\n",
       "│ 7    │ 737  │ 1.28111e6 │ 1.28111e6     │ 0.0            │ 0.0            │\n",
       "│ 8    │ 236  │ 2238.01   │ 3414.6        │ 1176.59        │ 1.28849e6      │\n",
       "│ 9    │ 279  │ 1.45982e5 │ 1.45982e5     │ 0.0            │ 0.0            │\n",
       "│ 10   │ 348  │ 130597.0  │ 13000.0       │ 0.0            │ 0.0            │\n",
       "│ 11   │ 426  │ 3.08108e5 │ 30324.0       │ 0.0            │ 7.69277e6      │\n",
       "⋮\n",
       "│ 4917 │ 504  │ 2.19279e5 │ 2.19279e5     │ 0.0            │ 0.0            │\n",
       "│ 4918 │ 343  │ 2.37944e5 │ 2.37944e5     │ 0.0            │ 2.39122e6      │\n",
       "│ 4919 │ 546  │ 1.54208e5 │ 213.0         │ 0.0            │ 1.02274e6      │\n",
       "│ 4920 │ 159  │ 8.09208e5 │ 0.0           │ 0.0            │ 3.4e6          │\n",
       "│ 4921 │ 16   │ 8.28721e5 │ 8.28721e5     │ 0.0            │ 0.0            │\n",
       "│ 4922 │ 404  │ 97315.1   │ 194289.0      │ 96973.9        │ 0.0            │\n",
       "│ 4923 │ 7    │ 5.46e6    │ 5.46e6        │ 0.0            │ 0.0            │\n",
       "│ 4924 │ 571  │ 972724.0  │ 972724.0      │ 0.0            │ 0.0            │\n",
       "│ 4925 │ 301  │ 2.01291e5 │ 202515.0      │ 1224.24        │ 82290.4        │\n",
       "│ 4926 │ 204  │ 1.35113e5 │ 845.0         │ 0.0            │ 27372.4        │\n",
       "│ 4927 │ 645  │ 1.57687e6 │ 1.57687e6     │ 0.0            │ 0.0            │\n",
       "│ 4928 │ 352  │ 7.45455e6 │ 7.45455e6     │ 0.0            │ 0.0            │\n",
       "\n",
       "│ Row  │ newbalanceDest │ CASH_OUT │\n",
       "├──────┼────────────────┼──────────┤\n",
       "│ 1    │ 0.0            │ 0        │\n",
       "│ 2    │ 7.00214e6      │ 1        │\n",
       "│ 3    │ 0.0            │ 0        │\n",
       "│ 4    │ 46974.0        │ 1        │\n",
       "│ 5    │ 9.81003e5      │ 0        │\n",
       "│ 6    │ 4.71021e6      │ 1        │\n",
       "│ 7    │ 0.0            │ 0        │\n",
       "│ 8    │ 1.29072e6      │ 1        │\n",
       "│ 9    │ 0.0            │ 0        │\n",
       "│ 10   │ 130597.0       │ 1        │\n",
       "│ 11   │ 8.00088e6      │ 1        │\n",
       "⋮\n",
       "│ 4917 │ 0.0            │ 0        │\n",
       "│ 4918 │ 2.62916e6      │ 1        │\n",
       "│ 4919 │ 1.17694e6      │ 1        │\n",
       "│ 4920 │ 4.20921e6      │ 0        │\n",
       "│ 4921 │ 0.0            │ 0        │\n",
       "│ 4922 │ 97315.1        │ 1        │\n",
       "│ 4923 │ 0.0            │ 0        │\n",
       "│ 4924 │ 972724.0       │ 1        │\n",
       "│ 4925 │ 2.83581e5      │ 0        │\n",
       "│ 4926 │ 1.62485e5      │ 1        │\n",
       "│ 4927 │ 0.0            │ 0        │\n",
       "│ 4928 │ 0.0            │ 0        │"
      ]
     },
     "execution_count": 25,
     "metadata": {},
     "output_type": "execute_result"
    }
   ],
   "source": [
    "y_train = train[:,:isFraud]\n",
    "X_train = train[:,[1,2,3,4,5,6,8]]\n",
    "y_test = test[:,:isFraud]\n",
    "X_test = test[:,[1,2,3,4,5,6,8]]"
   ]
  },
  {
   "cell_type": "code",
   "execution_count": 26,
   "metadata": {},
   "outputs": [
    {
     "data": {
      "text/plain": [
       "4928-element Array{Int64,1}:\n",
       " 1\n",
       " 1\n",
       " 1\n",
       " 1\n",
       " 0\n",
       " 0\n",
       " 1\n",
       " 0\n",
       " 1\n",
       " 0\n",
       " 0\n",
       " 1\n",
       " 1\n",
       " ⋮\n",
       " 1\n",
       " 1\n",
       " 0\n",
       " 0\n",
       " 1\n",
       " 0\n",
       " 1\n",
       " 1\n",
       " 0\n",
       " 0\n",
       " 1\n",
       " 1"
      ]
     },
     "execution_count": 26,
     "metadata": {},
     "output_type": "execute_result"
    }
   ],
   "source": [
    "# Convert all the datasets in to arrays\n",
    "# Convert data types for all the columns in training dataset to float type\n",
    "for c = eachcol(X_train)\n",
    "  if eltype(c[2]) <: Integer\n",
    "    X_train[c[1]] = X_train[c[1]] .* 1.0\n",
    "  end\n",
    "end\n",
    "\n",
    "for c = eachcol(X_test)\n",
    "  if eltype(c[2]) <: Integer\n",
    "    X_test[c[1]] = X_test[c[1]] .* 1.0\n",
    "  end\n",
    "end\n",
    "\n",
    "X_train1 = convert(Array, X_train)\n",
    "X_test1 = convert(Array, X_test)\n",
    "y_train1 = convert(Array, y_train)\n",
    "y_test1 = convert(Array, y_test)"
   ]
  },
  {
   "cell_type": "code",
   "execution_count": 27,
   "metadata": {},
   "outputs": [
    {
     "data": {
      "text/plain": [
       "fit_transform! (generic function with 1 method)"
      ]
     },
     "execution_count": 27,
     "metadata": {},
     "output_type": "execute_result"
    }
   ],
   "source": [
    "# Build a standard scaler\n",
    "type StandardScalar\n",
    "    mean::Vector{Float64}\n",
    "    std::Vector{Float64}\n",
    "end\n",
    "\n",
    "# Helper function to initialize an empty scalar\n",
    "function StandardScalar()\n",
    "    StandardScalar(Array(Float64,0),Array(Float64,0))\n",
    "end\n",
    "\n",
    "# Compute mean and standard deviation of each column\n",
    "function fit_std_scalar!(std_scalar::StandardScalar,X::Matrix{Float64})\n",
    "    n_rows, n_cols = size(X)\n",
    "    std_scalar.std = zeros(n_cols)\n",
    "    std_scalar.mean = zeros(n_cols)\n",
    "    # for loops are fast again!\n",
    "    for i = 1:n_cols\n",
    "        std_scalar.mean[i] = mean(X[:,i])\n",
    "        std_scalar.std[i] = std(X[:,i])\n",
    "    end\n",
    "end\n",
    "\n",
    "function transform(std_scalar::StandardScalar,X::Matrix{Float64})\n",
    "    (X .- std_scalar.mean') ./ std_scalar.std' # broadcasting\n",
    "end\n",
    "\n",
    "# fit and transform in one function\n",
    "function fit_transform!(std_scalar::StandardScalar,X::Matrix{Float64})\n",
    "    fit_std_scalar!(std_scalar,X)\n",
    "    transform(std_scalar,X)\n",
    "end"
   ]
  },
  {
   "cell_type": "code",
   "execution_count": 28,
   "metadata": {},
   "outputs": [
    {
     "name": "stderr",
     "output_type": "stream",
     "text": [
      "\u001b[1m\u001b[33mWARNING: \u001b[39m\u001b[22m\u001b[33mArray(::Type{T}, m::Int) where T is deprecated, use Array{T}(m) instead.\u001b[39m\n",
      "Stacktrace:\n",
      " [1] \u001b[1mdepwarn\u001b[22m\u001b[22m\u001b[1m(\u001b[22m\u001b[22m::String, ::Symbol\u001b[1m)\u001b[22m\u001b[22m at \u001b[1m.\\deprecated.jl:70\u001b[22m\u001b[22m\n",
      " [2] \u001b[1mArray\u001b[22m\u001b[22m\u001b[1m(\u001b[22m\u001b[22m::Type{Float64}, ::Int64\u001b[1m)\u001b[22m\u001b[22m at \u001b[1m.\\deprecated.jl:57\u001b[22m\u001b[22m\n",
      " [3] \u001b[1mStandardScalar\u001b[22m\u001b[22m\u001b[1m(\u001b[22m\u001b[22m\u001b[1m)\u001b[22m\u001b[22m at \u001b[1m.\\In[27]:9\u001b[22m\u001b[22m\n",
      " [4] \u001b[1minclude_string\u001b[22m\u001b[22m\u001b[1m(\u001b[22m\u001b[22m::String, ::String\u001b[1m)\u001b[22m\u001b[22m at \u001b[1m.\\loading.jl:522\u001b[22m\u001b[22m\n",
      " [5] \u001b[1minclude_string\u001b[22m\u001b[22m\u001b[1m(\u001b[22m\u001b[22m::Module, ::String, ::String\u001b[1m)\u001b[22m\u001b[22m at \u001b[1mC:\\\\\\\\\\\\\\\\\\\\\\\\\\\\\\\\\\\\\\\\\\\\\\\\\\\\\\\\\\\\\\\\\\\\\\\\\\\\\\\\\\\\\\\\\\\\\\\\\\\\\\\\\\\\\\\\\\\\\\\\\\\\\\\\\\\\\\\\\\\\\\\\\\\\\\\\\\\\\\\\\\JuliaPro-0.6.2.2\\pkgs-0.6.2.2\\v0.6\\Compat\\src\\Compat.jl:71\u001b[22m\u001b[22m\n",
      " [6] \u001b[1mexecute_request\u001b[22m\u001b[22m\u001b[1m(\u001b[22m\u001b[22m::ZMQ.Socket, ::IJulia.Msg\u001b[1m)\u001b[22m\u001b[22m at \u001b[1mC:\\JuliaPro-0.6.2.2\\pkgs-0.6.2.2\\v0.6\\IJulia\\src\\execute_request.jl:158\u001b[22m\u001b[22m\n",
      " [7] \u001b[1m(::Compat.#inner#17{Array{Any,1},IJulia.#execute_request,Tuple{ZMQ.Socket,IJulia.Msg}})\u001b[22m\u001b[22m\u001b[1m(\u001b[22m\u001b[22m\u001b[1m)\u001b[22m\u001b[22m at \u001b[1mC:\\\\\\\\\\\\\\\\\\\\\\\\\\\\\\\\\\\\\\\\\\\\\\\\\\\\\\\\\\\\\\\\\\\\\\\\\\\\\\\\\\\\\\\\\\\\\\\\\\\\\\\\\\\\\\\\\\\\\\\\\\\\\\\\\\\\\\\\\\\\\\\\\\\\\\\\\\\\\\\\\\JuliaPro-0.6.2.2\\pkgs-0.6.2.2\\v0.6\\Compat\\src\\Compat.jl:385\u001b[22m\u001b[22m\n",
      " [8] \u001b[1meventloop\u001b[22m\u001b[22m\u001b[1m(\u001b[22m\u001b[22m::ZMQ.Socket\u001b[1m)\u001b[22m\u001b[22m at \u001b[1mC:\\JuliaPro-0.6.2.2\\pkgs-0.6.2.2\\v0.6\\IJulia\\src\\eventloop.jl:8\u001b[22m\u001b[22m\n",
      " [9] \u001b[1m(::IJulia.##14#17)\u001b[22m\u001b[22m\u001b[1m(\u001b[22m\u001b[22m\u001b[1m)\u001b[22m\u001b[22m at \u001b[1m.\\task.jl:335\u001b[22m\u001b[22m\n",
      "while loading In[28], in expression starting on line 2\n"
     ]
    },
    {
     "data": {
      "text/plain": [
       "4928×7 Array{Float64,2}:\n",
       " -0.410819    -0.292168     -0.191709    …  -0.294814   -0.399961   -1.39437 \n",
       "  1.70195      1.24723       0.943131        0.725798    1.29428     0.717109\n",
       "  0.868236     0.000760173   0.0242371      -0.294814   -0.399961   -1.39437 \n",
       "  1.74856     -0.451267     -0.308997       -0.294814   -0.388595    0.717109\n",
       " -0.623132    -0.360256     -0.319312       -0.0925213  -0.162596   -1.39437 \n",
       " -0.757769    -0.195627     -0.328132    …   0.809721    0.739726    0.717109\n",
       "  2.25086      0.230702      0.19375        -0.294814   -0.399961   -1.39437 \n",
       " -0.3435      -0.475988     -0.326741        0.0439891  -0.0876559   0.717109\n",
       " -0.120831    -0.396556     -0.268664       -0.294814   -0.399961   -1.39437 \n",
       "  0.236476    -0.405058     -0.322836       -0.294814   -0.368362    0.717109\n",
       "  0.640388    -0.306968     -0.315779    …   1.72797     1.53594     0.717109\n",
       " -0.239933    -0.438158     -0.299333       -0.294814   -0.399961   -1.39437 \n",
       "  2.21979     -0.432091     -0.29486        -0.260397   -0.348528    0.717109\n",
       "  ⋮                                      ⋱               ⋮                   \n",
       "  1.0443      -0.356054     -0.238806       -0.294814   -0.399961   -1.39437 \n",
       "  0.210584    -0.34574      -0.231202        0.333949    0.236195    0.717109\n",
       "  1.26179     -0.392011     -0.328045       -0.0258892  -0.115186    0.717109\n",
       " -0.742234    -0.0300664    -0.328132        0.599203    0.618503   -1.39437 \n",
       " -1.48274     -0.019284      0.00946053  …  -0.294814   -0.399961   -1.39437 \n",
       "  0.526464    -0.423449     -0.248986       -0.294814   -0.376414    0.717109\n",
       " -1.52935      2.5399        1.89609        -0.294814   -0.399961   -1.39437 \n",
       "  1.39125      0.0602902     0.0681225      -0.294814   -0.1646      0.717109\n",
       " -0.00690688  -0.365994     -0.245635       -0.273176   -0.331345   -1.39437 \n",
       " -0.509208    -0.402563     -0.327788    …  -0.287616   -0.360646    0.717109\n",
       "  1.77445      0.394136      0.314233       -0.294814   -0.399961   -1.39437 \n",
       "  0.25719      3.64206       2.7086         -0.294814   -0.399961   -1.39437 "
      ]
     },
     "execution_count": 28,
     "metadata": {},
     "output_type": "execute_result"
    }
   ],
   "source": [
    "# Perform Standard Scaling for all X variables\n",
    "std_scalar = StandardScalar()\n",
    "\n",
    "X_train1 = fit_transform!(std_scalar,X_train1)\n",
    "X_test1 = transform(std_scalar,X_test1)"
   ]
  },
  {
   "cell_type": "code",
   "execution_count": 29,
   "metadata": {},
   "outputs": [
    {
     "data": {
      "text/plain": [
       "11498×7 Array{Float64,2}:\n",
       " -1.38435    1.51593     1.14121    …  -0.294814   -0.399961   -1.39437 \n",
       " -0.21922   -0.439899   -0.328132      -0.181504   -0.279351    0.717109\n",
       "  0.138087  -0.380534   -0.307836      -0.294814   -0.357623    0.717109\n",
       " -0.876872  -0.22404    -0.28567       -0.294814   -0.289099    0.717109\n",
       "  1.75891   -0.294503   -0.193431      -0.0972142  -0.138123    0.717109\n",
       " -0.141544  -0.327196   -0.328132   …   0.954506    0.815346   -1.39437 \n",
       "  1.72784   -0.427681   -0.291609      -0.294814   -0.399961   -1.39437 \n",
       "  0.153622   0.0436287  -0.319258      -0.294814   -0.171895   -1.39437 \n",
       " -1.4931     0.385857    0.308129       0.618117    1.15904     0.717109\n",
       " -0.28136    5.04865     5.3796        -0.294814   -0.399961   -1.39437 \n",
       "  0.283081  -0.346918   -0.328132   …  -0.049275   -0.116961    0.717109\n",
       "  0.712885   5.04865     4.5248        -0.294814   -0.399961   -1.39437 \n",
       "  0.899306  -0.47255    -0.328132      -0.265043   -0.370519   -1.39437 \n",
       "  ⋮                                 ⋱               ⋮                   \n",
       " -1.01151    0.241062    0.201387      -0.294814   -0.0854452   0.717109\n",
       " -0.322787  -0.436291   -0.297956      -0.156458   -0.254723    0.717109\n",
       " -0.395284  -0.474035   -0.325781      -0.228354   -0.337409    0.717109\n",
       "  0.397005  -0.223285   -0.328132      -0.129759   -0.136887    0.717109\n",
       "  0.479859  -0.412194   -0.280192   …   0.0223636  -0.0796221   0.717109\n",
       "  1.61392    0.495631    0.389055      -0.294814   -0.399961   -1.39437 \n",
       "  0.360757  -0.393664   -0.328132      -0.0959924  -0.180419    0.717109\n",
       "  0.992517  -0.19893    -0.122974      -0.294814   -0.278104    0.717109\n",
       "  2.26122   -0.472739   -0.324826      -0.294814   -0.399961   -1.39437 \n",
       " -0.866515  -0.192286   -0.118076   …  -0.294814   -0.399961   -1.39437 \n",
       " -1.48792   -0.0642859  -0.0237147      1.10956     1.07315     0.717109\n",
       " -0.395284  -0.329525   -0.255817       0.91509     0.778056    0.717109"
      ]
     },
     "execution_count": 29,
     "metadata": {},
     "output_type": "execute_result"
    }
   ],
   "source": [
    "labels= y_train1\n",
    "features= X_train1"
   ]
  },
  {
   "cell_type": "code",
   "execution_count": 39,
   "metadata": {},
   "outputs": [
    {
     "data": {
      "text/plain": [
       "Ensemble of Decision Trees\n",
       "Trees:      100\n",
       "Avg Leaves: 89.73\n",
       "Avg Depth:  10.0"
      ]
     },
     "execution_count": 39,
     "metadata": {},
     "output_type": "execute_result"
    }
   ],
   "source": [
    "# train random forest classifier\n",
    "# using 2 random features, 10 trees, 0.5 portion of samples per tree (optional), and a maximum tree depth of 6 (optional)\n",
    "model = build_forest(labels, features, 2, 100, 0.5, 10)"
   ]
  },
  {
   "cell_type": "code",
   "execution_count": 40,
   "metadata": {},
   "outputs": [
    {
     "data": {
      "text/plain": [
       "4928-element Array{Any,1}:\n",
       " 1\n",
       " 1\n",
       " 1\n",
       " 1\n",
       " 0\n",
       " 0\n",
       " 1\n",
       " 0\n",
       " 1\n",
       " 0\n",
       " 0\n",
       " 1\n",
       " 1\n",
       " ⋮\n",
       " 1\n",
       " 1\n",
       " 0\n",
       " 0\n",
       " 1\n",
       " 0\n",
       " 1\n",
       " 1\n",
       " 0\n",
       " 0\n",
       " 1\n",
       " 1"
      ]
     },
     "execution_count": 40,
     "metadata": {},
     "output_type": "execute_result"
    }
   ],
   "source": [
    "# test on the Test dataset\n",
    "y_pred1 = apply_forest(model, X_test1)"
   ]
  },
  {
   "cell_type": "code",
   "execution_count": 41,
   "metadata": {},
   "outputs": [
    {
     "data": {
      "text/plain": [
       "2×2 Named Array{Int64,2}\n",
       "Dim1 ╲ Dim2 │    0     1\n",
       "────────────┼───────────\n",
       "0           │ 2337    47\n",
       "1           │   76  2468"
      ]
     },
     "execution_count": 41,
     "metadata": {},
     "output_type": "execute_result"
    }
   ],
   "source": [
    "freqtable(y_test1,y_pred1)"
   ]
  },
  {
   "cell_type": "code",
   "execution_count": 42,
   "metadata": {},
   "outputs": [
    {
     "data": {
      "text/html": [
       "0.9750405844155844"
      ],
      "text/plain": [
       "0.9750405844155844"
      ]
     },
     "execution_count": 42,
     "metadata": {},
     "output_type": "execute_result"
    }
   ],
   "source": [
    "accuracy = (2337 + 2468)/length(y_test1)"
   ]
  },
  {
   "cell_type": "code",
   "execution_count": null,
   "metadata": {},
   "outputs": [],
   "source": [
    "using RCall"
   ]
  },
  {
   "cell_type": "code",
   "execution_count": null,
   "metadata": {},
   "outputs": [],
   "source": [
    "saveRDS(\"C:/Users/veer/Desktop/Projects/Credit_Risk_Modeling/inal/JuliaModelCreditLog.rds\",model)"
   ]
  }
 ],
 "metadata": {
  "kernelspec": {
   "display_name": "Julia 0.6.2",
   "language": "julia",
   "name": "julia-0.6"
  },
  "language_info": {
   "file_extension": ".jl",
   "mimetype": "application/julia",
   "name": "julia",
   "version": "0.6.2"
  }
 },
 "nbformat": 4,
 "nbformat_minor": 2
}
