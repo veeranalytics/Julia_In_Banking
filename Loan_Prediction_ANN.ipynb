{
 "cells": [
  {
   "cell_type": "code",
   "execution_count": 2,
   "metadata": {},
   "outputs": [
    {
     "name": "stderr",
     "output_type": "stream",
     "text": [
      "WARNING: Method definition ==("
     ]
    },
    {
     "data": {
      "text/plain": [
       "Plots.PyPlotBackend()"
      ]
     },
     "execution_count": 2,
     "metadata": {},
     "output_type": "execute_result"
    },
    {
     "name": "stderr",
     "output_type": "stream",
     "text": [
      "Base.Nullable{S}, Base.Nullable{T}) in module Base at nullable.jl:238 overwritten in module NullableArrays at C:\\\\\\\\\\\\\\\\\\\\\\\\\\\\\\\\\\\\\\\\\\\\\\\\\\\\\\\\\\\\\\\\\\\\\\\\\\\\\\\\\\\\\\\\\\\\\\\\\\\\\\\\\\\\\\\\\\\\\\\\\\\\\\\\\\\\\\\\\\\\\\\\\\\\\\\\\\\\\\\\\\JuliaPro-0.6.2.2\\pkgs-0.6.2.2\\v0.6\\NullableArrays\\src\\operators.jl:99.\n",
      "WARNING: Method definition append!(NullableArrays.NullableArray{WeakRefStrings.WeakRefString{T}, 1}, NullableArrays.NullableArray{WeakRefStrings.WeakRefString{T}, 1}) in module Data at C:\\\\\\\\\\\\\\\\\\\\\\\\\\\\\\\\\\\\\\\\\\\\\\\\\\\\\\\\\\\\\\\\\\\\\\\\\\\\\\\\\\\\\\\\\\\\\\\\\\\\\\\\\\\\\\\\\\\\\\\\\\\\\\\\\\\\\\\\\\\\\\\\\\\\\\\\\\\\\\\\\\JuliaPro-0.6.2.2\\pkgs-0.6.2.2\\v0.6\\DataStreams\\src\\DataStreams.jl:344 overwritten in module DataTables at C:\\JuliaPro-0.6.2.2\\pkgs-0.6.2.2\\v0.6\\DataTables\\src\\abstractdatatable\\io.jl:318.\n",
      "WARNING: Method definition describe(AbstractArray{T, N} where N where T) in module StatsBase at C:\\\\\\\\\\\\\\\\\\\\\\\\\\\\\\\\\\\\\\\\\\\\\\\\\\\\\\\\\\\\\\\\\\\\\\\\\\\\\\\\\\\\\\\\\\\\\\\\\\\\\\\\\\\\\\\\\\\\\\\\\\\\\\\\\\\\\\\\\\\\\\\\\\\\\\\\\\\\\\\\\\JuliaPro-0.6.2.2\\pkgs-0.6.2.2\\v0.6\\StatsBase\\src\\scalarstats.jl:587 overwritten in module DataTables at C:\\JuliaPro-0.6.2.2\\pkgs-0.6.2.2\\v0.6\\DataTables\\src\\abstractdatatable\\abstractdatatable.jl:381.\n"
     ]
    }
   ],
   "source": [
    "# import required packages \n",
    "using DataFrames\n",
    "using FreqTables\n",
    "using Plots, StatPlots\n",
    "using DecisionTree\n",
    "using StatsModels\n",
    "using MLDataUtils\n",
    "\n",
    "#Set the backend as matplotlib.pyplot\n",
    "pyplot()"
   ]
  },
  {
   "cell_type": "code",
   "execution_count": 3,
   "metadata": {},
   "outputs": [
    {
     "data": {
      "text/html": [
       "<table class=\"data-frame\"><thead><tr><th></th><th>loan_id</th><th>member_id</th><th>home_ownership</th><th>annual_inc</th><th>loan_status</th><th>loan_amnt</th><th>term</th><th>int_rate</th><th>cibil_score</th><th>inq_last_6mths</th><th>age</th><th>emp_length</th><th>marital</th><th>job</th></tr></thead><tbody><tr><th>1</th><td>57245</td><td>138150</td><td>OWN</td><td>54000.0</td><td>Fully Paid</td><td>1200.0</td><td>36 months</td><td>0.1311</td><td>679</td><td>0</td><td>36</td><td>5</td><td>married</td><td>freelance</td></tr><tr><th>2</th><td>61390</td><td>182594</td><td>MORTGAGE</td><td>148000.0</td><td>Fully Paid</td><td>4000.0</td><td>36 months</td><td>0.0788</td><td>729</td><td>0</td><td>25</td><td>8</td><td>single</td><td>partime</td></tr><tr><th>3</th><td>61419</td><td>182917</td><td>RENT</td><td>45000.0</td><td>Charged Off</td><td>5600.0</td><td>36 months</td><td>0.1496</td><td>669</td><td>0</td><td>22</td><td>2</td><td>married</td><td>fixed</td></tr><tr><th>4</th><td>62102</td><td>191024</td><td>RENT</td><td>54000.0</td><td>Fully Paid</td><td>3200.0</td><td>36 months</td><td>0.0988</td><td>744</td><td>0</td><td>25</td><td>4</td><td>married</td><td>fixed</td></tr><tr><th>5</th><td>66943</td><td>247802</td><td>RENT</td><td>24000.0</td><td>Fully Paid</td><td>2800.0</td><td>60 months</td><td>0.1149</td><td>709</td><td>0</td><td>26</td><td>17</td><td>married</td><td>fixed</td></tr><tr><th>6</th><td>68163</td><td>258249</td><td>MORTGAGE</td><td>100000.0</td><td>Fully Paid</td><td>3000.0</td><td>36 months</td><td>0.0714</td><td>749</td><td>0</td><td>22</td><td>8</td><td>married</td><td>freelance</td></tr><tr><th>7</th><td>69990</td><td>275254</td><td>RENT</td><td>125000.0</td><td>Fully Paid</td><td>15500.0</td><td>36 months</td><td>0.0788</td><td>784</td><td>1</td><td>29</td><td>3</td><td>single</td><td>freelance</td></tr><tr><th>8</th><td>290807</td><td>290804</td><td>RENT</td><td>84996.0</td><td>Fully Paid</td><td>15000.0</td><td>36 months</td><td>0.157</td><td>674</td><td>1</td><td>29</td><td>13</td><td>separated</td><td>freelance</td></tr><tr><th>9</th><td>347648</td><td>348254</td><td>RENT</td><td>60000.0</td><td>Fully Paid</td><td>10000.0</td><td>36 months</td><td>0.1273</td><td>714</td><td>0</td><td>22</td><td>15</td><td>single</td><td>fixed</td></tr><tr><th>10</th><td>348340</td><td>349269</td><td>RENT</td><td>71000.0</td><td>Fully Paid</td><td>8000.0</td><td>36 months</td><td>0.1112</td><td>714</td><td>0</td><td>26</td><td>5</td><td>married</td><td>fixed</td></tr><tr><th>11</th><td>357509</td><td>363601</td><td>RENT</td><td>60000.0</td><td>Charged Off</td><td>7500.0</td><td>36 months</td><td>0.1025</td><td>719</td><td>2</td><td>23</td><td>24</td><td>married</td><td>freelance</td></tr><tr><th>12</th><td>358960</td><td>365900</td><td>RENT</td><td>65000.0</td><td>Fully Paid</td><td>4800.0</td><td>36 months</td><td>0.0788</td><td>719</td><td>0</td><td>37</td><td>3</td><td>married</td><td>fixed</td></tr><tr><th>13</th><td>362601</td><td>372102</td><td>RENT</td><td>45000.0</td><td>Fully Paid</td><td>4000.0</td><td>36 months</td><td>0.1323</td><td>679</td><td>1</td><td>24</td><td>5</td><td>married</td><td>fixed</td></tr><tr><th>14</th><td>363593</td><td>373319</td><td>MORTGAGE</td><td>59450.0</td><td>Fully Paid</td><td>3000.0</td><td>36 months</td><td>0.1038</td><td>714</td><td>2</td><td>24</td><td>0</td><td>married</td><td>fixed</td></tr><tr><th>15</th><td>364636</td><td>375321</td><td>MORTGAGE</td><td>70000.0</td><td>Fully Paid</td><td>10000.0</td><td>36 months</td><td>0.0988</td><td>734</td><td>3</td><td>27</td><td>3</td><td>married</td><td>fixed</td></tr><tr><th>16</th><td>365196</td><td>376105</td><td>MORTGAGE</td><td>55728.0</td><td>Fully Paid</td><td>13000.0</td><td>36 months</td><td>0.1062</td><td>784</td><td>0</td><td>52</td><td>1</td><td>married</td><td>freelance</td></tr><tr><th>17</th><td>366004</td><td>377347</td><td>RENT</td><td>50000.0</td><td>Fully Paid</td><td>4000.0</td><td>36 months</td><td>0.1261</td><td>674</td><td>1</td><td>23</td><td>4</td><td>single</td><td>freelance</td></tr><tr><th>18</th><td>368492</td><td>379221</td><td>RENT</td><td>21000.0</td><td>Fully Paid</td><td>4500.0</td><td>36 months</td><td>0.0962</td><td>714</td><td>0</td><td>24</td><td>4</td><td>married</td><td>partime</td></tr><tr><th>19</th><td>370141</td><td>386685</td><td>MORTGAGE</td><td>58000.0</td><td>Fully Paid</td><td>14000.0</td><td>36 months</td><td>0.0751</td><td>784</td><td>1</td><td>26</td><td>20</td><td>single</td><td>fixed</td></tr><tr><th>20</th><td>370866</td><td>387172</td><td>RENT</td><td>60000.0</td><td>Fully Paid</td><td>15000.0</td><td>36 months</td><td>0.1422</td><td>704</td><td>3</td><td>28</td><td>6</td><td>married</td><td>fixed</td></tr><tr><th>21</th><td>376257</td><td>399200</td><td>MORTGAGE</td><td>114400.0</td><td>Fully Paid</td><td>20000.0</td><td>36 months</td><td>0.1348</td><td>704</td><td>3</td><td>37</td><td>0</td><td>married</td><td>fixed</td></tr><tr><th>22</th><td>377346</td><td>401437</td><td>RENT</td><td>31875.0</td><td>Fully Paid</td><td>7500.0</td><td>36 months</td><td>0.1311</td><td>684</td><td>0</td><td>24</td><td>6</td><td>single</td><td>partime</td></tr><tr><th>23</th><td>377437</td><td>401596</td><td>MORTGAGE</td><td>65000.0</td><td>Fully Paid</td><td>14000.0</td><td>36 months</td><td>0.1531</td><td>684</td><td>0</td><td>23</td><td>1</td><td>married</td><td>fixed</td></tr><tr><th>24</th><td>380713</td><td>408422</td><td>MORTGAGE</td><td>25000.0</td><td>Fully Paid</td><td>13000.0</td><td>60 months</td><td>0.1595</td><td>689</td><td>0</td><td>33</td><td>4</td><td>single</td><td>fixed</td></tr><tr><th>25</th><td>381025</td><td>409016</td><td>RENT</td><td>130606.0</td><td>Fully Paid</td><td>20000.0</td><td>36 months</td><td>0.183</td><td>699</td><td>2</td><td>23</td><td>16</td><td>married</td><td>fixed</td></tr><tr><th>26</th><td>381219</td><td>409439</td><td>OWN</td><td>34800.0</td><td>Fully Paid</td><td>7350.0</td><td>36 months</td><td>0.1422</td><td>689</td><td>2</td><td>26</td><td>12</td><td>married</td><td>fixed</td></tr><tr><th>27</th><td>382096</td><td>411142</td><td>RENT</td><td>33996.0</td><td>Fully Paid</td><td>9600.0</td><td>36 months</td><td>0.0988</td><td>734</td><td>1</td><td>25</td><td>12</td><td>married</td><td>fixed</td></tr><tr><th>28</th><td>386071</td><td>390208</td><td>RENT</td><td>61000.0</td><td>Fully Paid</td><td>10000.0</td><td>36 months</td><td>0.1607</td><td>669</td><td>1</td><td>35</td><td>18</td><td>married</td><td>fixed</td></tr><tr><th>29</th><td>391358</td><td>427297</td><td>MORTGAGE</td><td>45000.0</td><td>Fully Paid</td><td>8000.0</td><td>36 months</td><td>0.0751</td><td>769</td><td>1</td><td>23</td><td>1</td><td>divorced</td><td>partime</td></tr><tr><th>30</th><td>391439</td><td>427448</td><td>RENT</td><td>160000.0</td><td>Fully Paid</td><td>15000.0</td><td>36 months</td><td>0.1682</td><td>684</td><td>0</td><td>26</td><td>2</td><td>married</td><td>fixed</td></tr><tr><th>&vellip;</th><td>&vellip;</td><td>&vellip;</td><td>&vellip;</td><td>&vellip;</td><td>&vellip;</td><td>&vellip;</td><td>&vellip;</td><td>&vellip;</td><td>&vellip;</td><td>&vellip;</td><td>&vellip;</td><td>&vellip;</td><td>&vellip;</td><td>&vellip;</td></tr></tbody></table>"
      ],
      "text/plain": [
       "10542×14 DataFrames.DataFrame\n",
       "│ Row   │ loan_id │ member_id │ home_ownership │ annual_inc │ loan_status   │\n",
       "├───────┼─────────┼───────────┼────────────────┼────────────┼───────────────┤\n",
       "│ 1     │ 57245   │ 138150    │ \"OWN\"          │ 54000.0    │ \"Fully Paid\"  │\n",
       "│ 2     │ 61390   │ 182594    │ \"MORTGAGE\"     │ 148000.0   │ \"Fully Paid\"  │\n",
       "│ 3     │ 61419   │ 182917    │ \"RENT\"         │ 45000.0    │ \"Charged Off\" │\n",
       "│ 4     │ 62102   │ 191024    │ \"RENT\"         │ 54000.0    │ \"Fully Paid\"  │\n",
       "│ 5     │ 66943   │ 247802    │ \"RENT\"         │ 24000.0    │ \"Fully Paid\"  │\n",
       "│ 6     │ 68163   │ 258249    │ \"MORTGAGE\"     │ 100000.0   │ \"Fully Paid\"  │\n",
       "│ 7     │ 69990   │ 275254    │ \"RENT\"         │ 125000.0   │ \"Fully Paid\"  │\n",
       "│ 8     │ 290807  │ 290804    │ \"RENT\"         │ 84996.0    │ \"Fully Paid\"  │\n",
       "│ 9     │ 347648  │ 348254    │ \"RENT\"         │ 60000.0    │ \"Fully Paid\"  │\n",
       "│ 10    │ 348340  │ 349269    │ \"RENT\"         │ 71000.0    │ \"Fully Paid\"  │\n",
       "│ 11    │ 357509  │ 363601    │ \"RENT\"         │ 60000.0    │ \"Charged Off\" │\n",
       "⋮\n",
       "│ 10531 │ 643636  │ 823701    │ \"OWN\"          │ 56400.0    │ \"Charged Off\" │\n",
       "│ 10532 │ 643749  │ 823839    │ \"MORTGAGE\"     │ 75000.0    │ \"Fully Paid\"  │\n",
       "│ 10533 │ 643774  │ 823868    │ \"RENT\"         │ 58000.0    │ \"Fully Paid\"  │\n",
       "│ 10534 │ 643778  │ 823873    │ \"MORTGAGE\"     │ 63000.0    │ \"Fully Paid\"  │\n",
       "│ 10535 │ 643791  │ 823890    │ \"MORTGAGE\"     │ 55000.0    │ \"Fully Paid\"  │\n",
       "│ 10536 │ 643800  │ 823901    │ \"RENT\"         │ 55000.0    │ \"Charged Off\" │\n",
       "│ 10537 │ 643806  │ 823909    │ \"RENT\"         │ 80000.0    │ \"Fully Paid\"  │\n",
       "│ 10538 │ 643822  │ 823926    │ \"MORTGAGE\"     │ 48000.0    │ \"Charged Off\" │\n",
       "│ 10539 │ 643840  │ 823946    │ \"RENT\"         │ 55000.0    │ \"Fully Paid\"  │\n",
       "│ 10540 │ 643848  │ 823955    │ \"RENT\"         │ 53000.0    │ \"Charged Off\" │\n",
       "│ 10541 │ 643860  │ 823969    │ \"MORTGAGE\"     │ 43200.0    │ \"Charged Off\" │\n",
       "│ 10542 │ 643926  │ 824049    │ \"MORTGAGE\"     │ 948000.0   │ \"Fully Paid\"  │\n",
       "\n",
       "│ Row   │ loan_amnt │ term        │ int_rate │ cibil_score │ inq_last_6mths │\n",
       "├───────┼───────────┼─────────────┼──────────┼─────────────┼────────────────┤\n",
       "│ 1     │ 1200.0    │ \"36 months\" │ 0.1311   │ 679         │ 0              │\n",
       "│ 2     │ 4000.0    │ \"36 months\" │ 0.0788   │ 729         │ 0              │\n",
       "│ 3     │ 5600.0    │ \"36 months\" │ 0.1496   │ 669         │ 0              │\n",
       "│ 4     │ 3200.0    │ \"36 months\" │ 0.0988   │ 744         │ 0              │\n",
       "│ 5     │ 2800.0    │ \"60 months\" │ 0.1149   │ 709         │ 0              │\n",
       "│ 6     │ 3000.0    │ \"36 months\" │ 0.0714   │ 749         │ 0              │\n",
       "│ 7     │ 15500.0   │ \"36 months\" │ 0.0788   │ 784         │ 1              │\n",
       "│ 8     │ 15000.0   │ \"36 months\" │ 0.157    │ 674         │ 1              │\n",
       "│ 9     │ 10000.0   │ \"36 months\" │ 0.1273   │ 714         │ 0              │\n",
       "│ 10    │ 8000.0    │ \"36 months\" │ 0.1112   │ 714         │ 0              │\n",
       "│ 11    │ 7500.0    │ \"36 months\" │ 0.1025   │ 719         │ 2              │\n",
       "⋮\n",
       "│ 10531 │ 5000.0    │ \"36 months\" │ 0.0654   │ 729         │ 0              │\n",
       "│ 10532 │ 12000.0   │ \"36 months\" │ 0.1261   │ 684         │ 1              │\n",
       "│ 10533 │ 10000.0   │ \"36 months\" │ 0.0654   │ 734         │ 1              │\n",
       "│ 10534 │ 10000.0   │ \"36 months\" │ 0.0691   │ 719         │ 1              │\n",
       "│ 10535 │ 15000.0   │ \"36 months\" │ 0.0617   │ 804         │ 2              │\n",
       "│ 10536 │ 18000.0   │ \"60 months\" │ 0.1632   │ 694         │ 0              │\n",
       "│ 10537 │ 25000.0   │ \"36 months\" │ 0.1409   │ 709         │ 2              │\n",
       "│ 10538 │ 10000.0   │ \"60 months\" │ 0.1557   │ 714         │ 3              │\n",
       "│ 10539 │ 3200.0    │ \"36 months\" │ 0.1298   │ 674         │ 3              │\n",
       "│ 10540 │ 15000.0   │ \"60 months\" │ 0.152    │ 704         │ 0              │\n",
       "│ 10541 │ 16800.0   │ \"36 months\" │ 0.0617   │ 754         │ 2              │\n",
       "│ 10542 │ 2000.0    │ \"36 months\" │ 0.0999   │ 689         │ 2              │\n",
       "\n",
       "│ Row   │ age │ emp_length │ marital     │ job         │\n",
       "├───────┼─────┼────────────┼─────────────┼─────────────┤\n",
       "│ 1     │ 36  │ 5          │ \"married\"   │ \"freelance\" │\n",
       "│ 2     │ 25  │ 8          │ \"single\"    │ \"partime\"   │\n",
       "│ 3     │ 22  │ 2          │ \"married\"   │ \"fixed\"     │\n",
       "│ 4     │ 25  │ 4          │ \"married\"   │ \"fixed\"     │\n",
       "│ 5     │ 26  │ 17         │ \"married\"   │ \"fixed\"     │\n",
       "│ 6     │ 22  │ 8          │ \"married\"   │ \"freelance\" │\n",
       "│ 7     │ 29  │ 3          │ \"single\"    │ \"freelance\" │\n",
       "│ 8     │ 29  │ 13         │ \"separated\" │ \"freelance\" │\n",
       "│ 9     │ 22  │ 15         │ \"single\"    │ \"fixed\"     │\n",
       "│ 10    │ 26  │ 5          │ \"married\"   │ \"fixed\"     │\n",
       "│ 11    │ 23  │ 24         │ \"married\"   │ \"freelance\" │\n",
       "⋮\n",
       "│ 10531 │ 27  │ 2          │ \"single\"    │ \"fixed\"     │\n",
       "│ 10532 │ 29  │ 15         │ \"married\"   │ \"fixed\"     │\n",
       "│ 10533 │ 38  │ NA         │ \"married\"   │ \"fixed\"     │\n",
       "│ 10534 │ 23  │ 11         │ \"single\"    │ \"freelance\" │\n",
       "│ 10535 │ 28  │ 8          │ \"married\"   │ \"fixed\"     │\n",
       "│ 10536 │ 25  │ 4          │ \"married\"   │ \"fixed\"     │\n",
       "│ 10537 │ 22  │ 4          │ \"married\"   │ \"fixed\"     │\n",
       "│ 10538 │ 22  │ 5          │ \"single\"    │ \"freelance\" │\n",
       "│ 10539 │ 28  │ 22         │ \"married\"   │ \"fixed\"     │\n",
       "│ 10540 │ 33  │ 3          │ \"single\"    │ \"partime\"   │\n",
       "│ 10541 │ 26  │ 0          │ \"single\"    │ \"fixed\"     │\n",
       "│ 10542 │ 24  │ 3          │ \"married\"   │ \"fixed\"     │"
      ]
     },
     "execution_count": 3,
     "metadata": {},
     "output_type": "execute_result"
    }
   ],
   "source": [
    "# Read Dataset\n",
    "data = readtable(\"C:/Users/veer/Desktop/Projects/Julia_In_Banking/Data/loan_data.csv\")"
   ]
  },
  {
   "cell_type": "code",
   "execution_count": 4,
   "metadata": {},
   "outputs": [
    {
     "data": {
      "text/html": [
       "<table class=\"data-frame\"><thead><tr><th></th><th>loan_id</th><th>member_id</th><th>home_ownership</th><th>annual_inc</th><th>loan_amnt</th><th>term</th><th>int_rate</th><th>cibil_score</th><th>inq_last_6mths</th><th>age</th><th>emp_length</th><th>marital</th><th>job</th><th>loan_status_new</th></tr></thead><tbody><tr><th>1</th><td>57245</td><td>138150</td><td>OWN</td><td>54000.0</td><td>1200.0</td><td>36 months</td><td>0.1311</td><td>679</td><td>0</td><td>36</td><td>5</td><td>married</td><td>freelance</td><td>0</td></tr><tr><th>2</th><td>61390</td><td>182594</td><td>MORTGAGE</td><td>148000.0</td><td>4000.0</td><td>36 months</td><td>0.0788</td><td>729</td><td>0</td><td>25</td><td>8</td><td>single</td><td>partime</td><td>0</td></tr><tr><th>3</th><td>61419</td><td>182917</td><td>RENT</td><td>45000.0</td><td>5600.0</td><td>36 months</td><td>0.1496</td><td>669</td><td>0</td><td>22</td><td>2</td><td>married</td><td>fixed</td><td>1</td></tr><tr><th>4</th><td>62102</td><td>191024</td><td>RENT</td><td>54000.0</td><td>3200.0</td><td>36 months</td><td>0.0988</td><td>744</td><td>0</td><td>25</td><td>4</td><td>married</td><td>fixed</td><td>0</td></tr><tr><th>5</th><td>66943</td><td>247802</td><td>RENT</td><td>24000.0</td><td>2800.0</td><td>60 months</td><td>0.1149</td><td>709</td><td>0</td><td>26</td><td>17</td><td>married</td><td>fixed</td><td>0</td></tr><tr><th>6</th><td>68163</td><td>258249</td><td>MORTGAGE</td><td>100000.0</td><td>3000.0</td><td>36 months</td><td>0.0714</td><td>749</td><td>0</td><td>22</td><td>8</td><td>married</td><td>freelance</td><td>0</td></tr><tr><th>7</th><td>69990</td><td>275254</td><td>RENT</td><td>125000.0</td><td>15500.0</td><td>36 months</td><td>0.0788</td><td>784</td><td>1</td><td>29</td><td>3</td><td>single</td><td>freelance</td><td>0</td></tr><tr><th>8</th><td>290807</td><td>290804</td><td>RENT</td><td>84996.0</td><td>15000.0</td><td>36 months</td><td>0.157</td><td>674</td><td>1</td><td>29</td><td>13</td><td>separated</td><td>freelance</td><td>0</td></tr><tr><th>9</th><td>347648</td><td>348254</td><td>RENT</td><td>60000.0</td><td>10000.0</td><td>36 months</td><td>0.1273</td><td>714</td><td>0</td><td>22</td><td>15</td><td>single</td><td>fixed</td><td>0</td></tr><tr><th>10</th><td>348340</td><td>349269</td><td>RENT</td><td>71000.0</td><td>8000.0</td><td>36 months</td><td>0.1112</td><td>714</td><td>0</td><td>26</td><td>5</td><td>married</td><td>fixed</td><td>0</td></tr><tr><th>11</th><td>357509</td><td>363601</td><td>RENT</td><td>60000.0</td><td>7500.0</td><td>36 months</td><td>0.1025</td><td>719</td><td>2</td><td>23</td><td>24</td><td>married</td><td>freelance</td><td>1</td></tr><tr><th>12</th><td>358960</td><td>365900</td><td>RENT</td><td>65000.0</td><td>4800.0</td><td>36 months</td><td>0.0788</td><td>719</td><td>0</td><td>37</td><td>3</td><td>married</td><td>fixed</td><td>0</td></tr><tr><th>13</th><td>362601</td><td>372102</td><td>RENT</td><td>45000.0</td><td>4000.0</td><td>36 months</td><td>0.1323</td><td>679</td><td>1</td><td>24</td><td>5</td><td>married</td><td>fixed</td><td>0</td></tr><tr><th>14</th><td>363593</td><td>373319</td><td>MORTGAGE</td><td>59450.0</td><td>3000.0</td><td>36 months</td><td>0.1038</td><td>714</td><td>2</td><td>24</td><td>0</td><td>married</td><td>fixed</td><td>0</td></tr><tr><th>15</th><td>364636</td><td>375321</td><td>MORTGAGE</td><td>70000.0</td><td>10000.0</td><td>36 months</td><td>0.0988</td><td>734</td><td>3</td><td>27</td><td>3</td><td>married</td><td>fixed</td><td>0</td></tr><tr><th>16</th><td>365196</td><td>376105</td><td>MORTGAGE</td><td>55728.0</td><td>13000.0</td><td>36 months</td><td>0.1062</td><td>784</td><td>0</td><td>52</td><td>1</td><td>married</td><td>freelance</td><td>0</td></tr><tr><th>17</th><td>366004</td><td>377347</td><td>RENT</td><td>50000.0</td><td>4000.0</td><td>36 months</td><td>0.1261</td><td>674</td><td>1</td><td>23</td><td>4</td><td>single</td><td>freelance</td><td>0</td></tr><tr><th>18</th><td>368492</td><td>379221</td><td>RENT</td><td>21000.0</td><td>4500.0</td><td>36 months</td><td>0.0962</td><td>714</td><td>0</td><td>24</td><td>4</td><td>married</td><td>partime</td><td>0</td></tr><tr><th>19</th><td>370141</td><td>386685</td><td>MORTGAGE</td><td>58000.0</td><td>14000.0</td><td>36 months</td><td>0.0751</td><td>784</td><td>1</td><td>26</td><td>20</td><td>single</td><td>fixed</td><td>0</td></tr><tr><th>20</th><td>370866</td><td>387172</td><td>RENT</td><td>60000.0</td><td>15000.0</td><td>36 months</td><td>0.1422</td><td>704</td><td>3</td><td>28</td><td>6</td><td>married</td><td>fixed</td><td>0</td></tr><tr><th>21</th><td>376257</td><td>399200</td><td>MORTGAGE</td><td>114400.0</td><td>20000.0</td><td>36 months</td><td>0.1348</td><td>704</td><td>3</td><td>37</td><td>0</td><td>married</td><td>fixed</td><td>0</td></tr><tr><th>22</th><td>377346</td><td>401437</td><td>RENT</td><td>31875.0</td><td>7500.0</td><td>36 months</td><td>0.1311</td><td>684</td><td>0</td><td>24</td><td>6</td><td>single</td><td>partime</td><td>0</td></tr><tr><th>23</th><td>377437</td><td>401596</td><td>MORTGAGE</td><td>65000.0</td><td>14000.0</td><td>36 months</td><td>0.1531</td><td>684</td><td>0</td><td>23</td><td>1</td><td>married</td><td>fixed</td><td>0</td></tr><tr><th>24</th><td>380713</td><td>408422</td><td>MORTGAGE</td><td>25000.0</td><td>13000.0</td><td>60 months</td><td>0.1595</td><td>689</td><td>0</td><td>33</td><td>4</td><td>single</td><td>fixed</td><td>0</td></tr><tr><th>25</th><td>381025</td><td>409016</td><td>RENT</td><td>130606.0</td><td>20000.0</td><td>36 months</td><td>0.183</td><td>699</td><td>2</td><td>23</td><td>16</td><td>married</td><td>fixed</td><td>0</td></tr><tr><th>26</th><td>381219</td><td>409439</td><td>OWN</td><td>34800.0</td><td>7350.0</td><td>36 months</td><td>0.1422</td><td>689</td><td>2</td><td>26</td><td>12</td><td>married</td><td>fixed</td><td>0</td></tr><tr><th>27</th><td>382096</td><td>411142</td><td>RENT</td><td>33996.0</td><td>9600.0</td><td>36 months</td><td>0.0988</td><td>734</td><td>1</td><td>25</td><td>12</td><td>married</td><td>fixed</td><td>0</td></tr><tr><th>28</th><td>386071</td><td>390208</td><td>RENT</td><td>61000.0</td><td>10000.0</td><td>36 months</td><td>0.1607</td><td>669</td><td>1</td><td>35</td><td>18</td><td>married</td><td>fixed</td><td>0</td></tr><tr><th>29</th><td>391358</td><td>427297</td><td>MORTGAGE</td><td>45000.0</td><td>8000.0</td><td>36 months</td><td>0.0751</td><td>769</td><td>1</td><td>23</td><td>1</td><td>divorced</td><td>partime</td><td>0</td></tr><tr><th>30</th><td>391439</td><td>427448</td><td>RENT</td><td>160000.0</td><td>15000.0</td><td>36 months</td><td>0.1682</td><td>684</td><td>0</td><td>26</td><td>2</td><td>married</td><td>fixed</td><td>0</td></tr><tr><th>&vellip;</th><td>&vellip;</td><td>&vellip;</td><td>&vellip;</td><td>&vellip;</td><td>&vellip;</td><td>&vellip;</td><td>&vellip;</td><td>&vellip;</td><td>&vellip;</td><td>&vellip;</td><td>&vellip;</td><td>&vellip;</td><td>&vellip;</td><td>&vellip;</td></tr></tbody></table>"
      ],
      "text/plain": [
       "10542×14 DataFrames.DataFrame\n",
       "│ Row   │ loan_id │ member_id │ home_ownership │ annual_inc │ loan_amnt │\n",
       "├───────┼─────────┼───────────┼────────────────┼────────────┼───────────┤\n",
       "│ 1     │ 57245   │ 138150    │ \"OWN\"          │ 54000.0    │ 1200.0    │\n",
       "│ 2     │ 61390   │ 182594    │ \"MORTGAGE\"     │ 148000.0   │ 4000.0    │\n",
       "│ 3     │ 61419   │ 182917    │ \"RENT\"         │ 45000.0    │ 5600.0    │\n",
       "│ 4     │ 62102   │ 191024    │ \"RENT\"         │ 54000.0    │ 3200.0    │\n",
       "│ 5     │ 66943   │ 247802    │ \"RENT\"         │ 24000.0    │ 2800.0    │\n",
       "│ 6     │ 68163   │ 258249    │ \"MORTGAGE\"     │ 100000.0   │ 3000.0    │\n",
       "│ 7     │ 69990   │ 275254    │ \"RENT\"         │ 125000.0   │ 15500.0   │\n",
       "│ 8     │ 290807  │ 290804    │ \"RENT\"         │ 84996.0    │ 15000.0   │\n",
       "│ 9     │ 347648  │ 348254    │ \"RENT\"         │ 60000.0    │ 10000.0   │\n",
       "│ 10    │ 348340  │ 349269    │ \"RENT\"         │ 71000.0    │ 8000.0    │\n",
       "│ 11    │ 357509  │ 363601    │ \"RENT\"         │ 60000.0    │ 7500.0    │\n",
       "⋮\n",
       "│ 10531 │ 643636  │ 823701    │ \"OWN\"          │ 56400.0    │ 5000.0    │\n",
       "│ 10532 │ 643749  │ 823839    │ \"MORTGAGE\"     │ 75000.0    │ 12000.0   │\n",
       "│ 10533 │ 643774  │ 823868    │ \"RENT\"         │ 58000.0    │ 10000.0   │\n",
       "│ 10534 │ 643778  │ 823873    │ \"MORTGAGE\"     │ 63000.0    │ 10000.0   │\n",
       "│ 10535 │ 643791  │ 823890    │ \"MORTGAGE\"     │ 55000.0    │ 15000.0   │\n",
       "│ 10536 │ 643800  │ 823901    │ \"RENT\"         │ 55000.0    │ 18000.0   │\n",
       "│ 10537 │ 643806  │ 823909    │ \"RENT\"         │ 80000.0    │ 25000.0   │\n",
       "│ 10538 │ 643822  │ 823926    │ \"MORTGAGE\"     │ 48000.0    │ 10000.0   │\n",
       "│ 10539 │ 643840  │ 823946    │ \"RENT\"         │ 55000.0    │ 3200.0    │\n",
       "│ 10540 │ 643848  │ 823955    │ \"RENT\"         │ 53000.0    │ 15000.0   │\n",
       "│ 10541 │ 643860  │ 823969    │ \"MORTGAGE\"     │ 43200.0    │ 16800.0   │\n",
       "│ 10542 │ 643926  │ 824049    │ \"MORTGAGE\"     │ 948000.0   │ 2000.0    │\n",
       "\n",
       "│ Row   │ term        │ int_rate │ cibil_score │ inq_last_6mths │ age │\n",
       "├───────┼─────────────┼──────────┼─────────────┼────────────────┼─────┤\n",
       "│ 1     │ \"36 months\" │ 0.1311   │ 679         │ 0              │ 36  │\n",
       "│ 2     │ \"36 months\" │ 0.0788   │ 729         │ 0              │ 25  │\n",
       "│ 3     │ \"36 months\" │ 0.1496   │ 669         │ 0              │ 22  │\n",
       "│ 4     │ \"36 months\" │ 0.0988   │ 744         │ 0              │ 25  │\n",
       "│ 5     │ \"60 months\" │ 0.1149   │ 709         │ 0              │ 26  │\n",
       "│ 6     │ \"36 months\" │ 0.0714   │ 749         │ 0              │ 22  │\n",
       "│ 7     │ \"36 months\" │ 0.0788   │ 784         │ 1              │ 29  │\n",
       "│ 8     │ \"36 months\" │ 0.157    │ 674         │ 1              │ 29  │\n",
       "│ 9     │ \"36 months\" │ 0.1273   │ 714         │ 0              │ 22  │\n",
       "│ 10    │ \"36 months\" │ 0.1112   │ 714         │ 0              │ 26  │\n",
       "│ 11    │ \"36 months\" │ 0.1025   │ 719         │ 2              │ 23  │\n",
       "⋮\n",
       "│ 10531 │ \"36 months\" │ 0.0654   │ 729         │ 0              │ 27  │\n",
       "│ 10532 │ \"36 months\" │ 0.1261   │ 684         │ 1              │ 29  │\n",
       "│ 10533 │ \"36 months\" │ 0.0654   │ 734         │ 1              │ 38  │\n",
       "│ 10534 │ \"36 months\" │ 0.0691   │ 719         │ 1              │ 23  │\n",
       "│ 10535 │ \"36 months\" │ 0.0617   │ 804         │ 2              │ 28  │\n",
       "│ 10536 │ \"60 months\" │ 0.1632   │ 694         │ 0              │ 25  │\n",
       "│ 10537 │ \"36 months\" │ 0.1409   │ 709         │ 2              │ 22  │\n",
       "│ 10538 │ \"60 months\" │ 0.1557   │ 714         │ 3              │ 22  │\n",
       "│ 10539 │ \"36 months\" │ 0.1298   │ 674         │ 3              │ 28  │\n",
       "│ 10540 │ \"60 months\" │ 0.152    │ 704         │ 0              │ 33  │\n",
       "│ 10541 │ \"36 months\" │ 0.0617   │ 754         │ 2              │ 26  │\n",
       "│ 10542 │ \"36 months\" │ 0.0999   │ 689         │ 2              │ 24  │\n",
       "\n",
       "│ Row   │ emp_length │ marital     │ job         │ loan_status_new │\n",
       "├───────┼────────────┼─────────────┼─────────────┼─────────────────┤\n",
       "│ 1     │ 5          │ \"married\"   │ \"freelance\" │ 0               │\n",
       "│ 2     │ 8          │ \"single\"    │ \"partime\"   │ 0               │\n",
       "│ 3     │ 2          │ \"married\"   │ \"fixed\"     │ 1               │\n",
       "│ 4     │ 4          │ \"married\"   │ \"fixed\"     │ 0               │\n",
       "│ 5     │ 17         │ \"married\"   │ \"fixed\"     │ 0               │\n",
       "│ 6     │ 8          │ \"married\"   │ \"freelance\" │ 0               │\n",
       "│ 7     │ 3          │ \"single\"    │ \"freelance\" │ 0               │\n",
       "│ 8     │ 13         │ \"separated\" │ \"freelance\" │ 0               │\n",
       "│ 9     │ 15         │ \"single\"    │ \"fixed\"     │ 0               │\n",
       "│ 10    │ 5          │ \"married\"   │ \"fixed\"     │ 0               │\n",
       "│ 11    │ 24         │ \"married\"   │ \"freelance\" │ 1               │\n",
       "⋮\n",
       "│ 10531 │ 2          │ \"single\"    │ \"fixed\"     │ 1               │\n",
       "│ 10532 │ 15         │ \"married\"   │ \"fixed\"     │ 0               │\n",
       "│ 10533 │ NA         │ \"married\"   │ \"fixed\"     │ 0               │\n",
       "│ 10534 │ 11         │ \"single\"    │ \"freelance\" │ 0               │\n",
       "│ 10535 │ 8          │ \"married\"   │ \"fixed\"     │ 0               │\n",
       "│ 10536 │ 4          │ \"married\"   │ \"fixed\"     │ 1               │\n",
       "│ 10537 │ 4          │ \"married\"   │ \"fixed\"     │ 0               │\n",
       "│ 10538 │ 5          │ \"single\"    │ \"freelance\" │ 1               │\n",
       "│ 10539 │ 22         │ \"married\"   │ \"fixed\"     │ 0               │\n",
       "│ 10540 │ 3          │ \"single\"    │ \"partime\"   │ 1               │\n",
       "│ 10541 │ 0          │ \"single\"    │ \"fixed\"     │ 1               │\n",
       "│ 10542 │ 3          │ \"married\"   │ \"fixed\"     │ 0               │"
      ]
     },
     "execution_count": 4,
     "metadata": {},
     "output_type": "execute_result"
    }
   ],
   "source": [
    "# Create 02 categories for loan status\n",
    "data[:loan_status_new] = ifelse.(data[:loan_status] .== \"Fully Paid\",0,1)\n",
    "delete!(data,:loan_status)"
   ]
  },
  {
   "cell_type": "code",
   "execution_count": 5,
   "metadata": {},
   "outputs": [
    {
     "data": {
      "text/html": [
       "<table class=\"data-frame\"><thead><tr><th></th><th>loan_id</th><th>member_id</th><th>home_ownership</th><th>annual_inc</th><th>loan_amnt</th><th>term</th><th>int_rate</th><th>cibil_score</th><th>inq_last_6mths</th><th>age</th><th>emp_length</th><th>marital</th><th>job</th><th>loan_status</th></tr></thead><tbody><tr><th>1</th><td>57245</td><td>138150</td><td>OWN</td><td>54000.0</td><td>1200.0</td><td>36 months</td><td>0.1311</td><td>679</td><td>0</td><td>36</td><td>5</td><td>married</td><td>freelance</td><td>0</td></tr><tr><th>2</th><td>61390</td><td>182594</td><td>MORTGAGE</td><td>148000.0</td><td>4000.0</td><td>36 months</td><td>0.0788</td><td>729</td><td>0</td><td>25</td><td>8</td><td>single</td><td>partime</td><td>0</td></tr><tr><th>3</th><td>61419</td><td>182917</td><td>RENT</td><td>45000.0</td><td>5600.0</td><td>36 months</td><td>0.1496</td><td>669</td><td>0</td><td>22</td><td>2</td><td>married</td><td>fixed</td><td>1</td></tr><tr><th>4</th><td>62102</td><td>191024</td><td>RENT</td><td>54000.0</td><td>3200.0</td><td>36 months</td><td>0.0988</td><td>744</td><td>0</td><td>25</td><td>4</td><td>married</td><td>fixed</td><td>0</td></tr><tr><th>5</th><td>66943</td><td>247802</td><td>RENT</td><td>24000.0</td><td>2800.0</td><td>60 months</td><td>0.1149</td><td>709</td><td>0</td><td>26</td><td>17</td><td>married</td><td>fixed</td><td>0</td></tr><tr><th>6</th><td>68163</td><td>258249</td><td>MORTGAGE</td><td>100000.0</td><td>3000.0</td><td>36 months</td><td>0.0714</td><td>749</td><td>0</td><td>22</td><td>8</td><td>married</td><td>freelance</td><td>0</td></tr><tr><th>7</th><td>69990</td><td>275254</td><td>RENT</td><td>125000.0</td><td>15500.0</td><td>36 months</td><td>0.0788</td><td>784</td><td>1</td><td>29</td><td>3</td><td>single</td><td>freelance</td><td>0</td></tr><tr><th>8</th><td>290807</td><td>290804</td><td>RENT</td><td>84996.0</td><td>15000.0</td><td>36 months</td><td>0.157</td><td>674</td><td>1</td><td>29</td><td>13</td><td>separated</td><td>freelance</td><td>0</td></tr><tr><th>9</th><td>347648</td><td>348254</td><td>RENT</td><td>60000.0</td><td>10000.0</td><td>36 months</td><td>0.1273</td><td>714</td><td>0</td><td>22</td><td>15</td><td>single</td><td>fixed</td><td>0</td></tr><tr><th>10</th><td>348340</td><td>349269</td><td>RENT</td><td>71000.0</td><td>8000.0</td><td>36 months</td><td>0.1112</td><td>714</td><td>0</td><td>26</td><td>5</td><td>married</td><td>fixed</td><td>0</td></tr><tr><th>11</th><td>357509</td><td>363601</td><td>RENT</td><td>60000.0</td><td>7500.0</td><td>36 months</td><td>0.1025</td><td>719</td><td>2</td><td>23</td><td>24</td><td>married</td><td>freelance</td><td>1</td></tr><tr><th>12</th><td>358960</td><td>365900</td><td>RENT</td><td>65000.0</td><td>4800.0</td><td>36 months</td><td>0.0788</td><td>719</td><td>0</td><td>37</td><td>3</td><td>married</td><td>fixed</td><td>0</td></tr><tr><th>13</th><td>362601</td><td>372102</td><td>RENT</td><td>45000.0</td><td>4000.0</td><td>36 months</td><td>0.1323</td><td>679</td><td>1</td><td>24</td><td>5</td><td>married</td><td>fixed</td><td>0</td></tr><tr><th>14</th><td>363593</td><td>373319</td><td>MORTGAGE</td><td>59450.0</td><td>3000.0</td><td>36 months</td><td>0.1038</td><td>714</td><td>2</td><td>24</td><td>0</td><td>married</td><td>fixed</td><td>0</td></tr><tr><th>15</th><td>364636</td><td>375321</td><td>MORTGAGE</td><td>70000.0</td><td>10000.0</td><td>36 months</td><td>0.0988</td><td>734</td><td>3</td><td>27</td><td>3</td><td>married</td><td>fixed</td><td>0</td></tr><tr><th>16</th><td>365196</td><td>376105</td><td>MORTGAGE</td><td>55728.0</td><td>13000.0</td><td>36 months</td><td>0.1062</td><td>784</td><td>0</td><td>52</td><td>1</td><td>married</td><td>freelance</td><td>0</td></tr><tr><th>17</th><td>366004</td><td>377347</td><td>RENT</td><td>50000.0</td><td>4000.0</td><td>36 months</td><td>0.1261</td><td>674</td><td>1</td><td>23</td><td>4</td><td>single</td><td>freelance</td><td>0</td></tr><tr><th>18</th><td>368492</td><td>379221</td><td>RENT</td><td>21000.0</td><td>4500.0</td><td>36 months</td><td>0.0962</td><td>714</td><td>0</td><td>24</td><td>4</td><td>married</td><td>partime</td><td>0</td></tr><tr><th>19</th><td>370141</td><td>386685</td><td>MORTGAGE</td><td>58000.0</td><td>14000.0</td><td>36 months</td><td>0.0751</td><td>784</td><td>1</td><td>26</td><td>20</td><td>single</td><td>fixed</td><td>0</td></tr><tr><th>20</th><td>370866</td><td>387172</td><td>RENT</td><td>60000.0</td><td>15000.0</td><td>36 months</td><td>0.1422</td><td>704</td><td>3</td><td>28</td><td>6</td><td>married</td><td>fixed</td><td>0</td></tr><tr><th>21</th><td>376257</td><td>399200</td><td>MORTGAGE</td><td>114400.0</td><td>20000.0</td><td>36 months</td><td>0.1348</td><td>704</td><td>3</td><td>37</td><td>0</td><td>married</td><td>fixed</td><td>0</td></tr><tr><th>22</th><td>377346</td><td>401437</td><td>RENT</td><td>31875.0</td><td>7500.0</td><td>36 months</td><td>0.1311</td><td>684</td><td>0</td><td>24</td><td>6</td><td>single</td><td>partime</td><td>0</td></tr><tr><th>23</th><td>377437</td><td>401596</td><td>MORTGAGE</td><td>65000.0</td><td>14000.0</td><td>36 months</td><td>0.1531</td><td>684</td><td>0</td><td>23</td><td>1</td><td>married</td><td>fixed</td><td>0</td></tr><tr><th>24</th><td>380713</td><td>408422</td><td>MORTGAGE</td><td>25000.0</td><td>13000.0</td><td>60 months</td><td>0.1595</td><td>689</td><td>0</td><td>33</td><td>4</td><td>single</td><td>fixed</td><td>0</td></tr><tr><th>25</th><td>381025</td><td>409016</td><td>RENT</td><td>130606.0</td><td>20000.0</td><td>36 months</td><td>0.183</td><td>699</td><td>2</td><td>23</td><td>16</td><td>married</td><td>fixed</td><td>0</td></tr><tr><th>26</th><td>381219</td><td>409439</td><td>OWN</td><td>34800.0</td><td>7350.0</td><td>36 months</td><td>0.1422</td><td>689</td><td>2</td><td>26</td><td>12</td><td>married</td><td>fixed</td><td>0</td></tr><tr><th>27</th><td>382096</td><td>411142</td><td>RENT</td><td>33996.0</td><td>9600.0</td><td>36 months</td><td>0.0988</td><td>734</td><td>1</td><td>25</td><td>12</td><td>married</td><td>fixed</td><td>0</td></tr><tr><th>28</th><td>386071</td><td>390208</td><td>RENT</td><td>61000.0</td><td>10000.0</td><td>36 months</td><td>0.1607</td><td>669</td><td>1</td><td>35</td><td>18</td><td>married</td><td>fixed</td><td>0</td></tr><tr><th>29</th><td>391358</td><td>427297</td><td>MORTGAGE</td><td>45000.0</td><td>8000.0</td><td>36 months</td><td>0.0751</td><td>769</td><td>1</td><td>23</td><td>1</td><td>divorced</td><td>partime</td><td>0</td></tr><tr><th>30</th><td>391439</td><td>427448</td><td>RENT</td><td>160000.0</td><td>15000.0</td><td>36 months</td><td>0.1682</td><td>684</td><td>0</td><td>26</td><td>2</td><td>married</td><td>fixed</td><td>0</td></tr><tr><th>&vellip;</th><td>&vellip;</td><td>&vellip;</td><td>&vellip;</td><td>&vellip;</td><td>&vellip;</td><td>&vellip;</td><td>&vellip;</td><td>&vellip;</td><td>&vellip;</td><td>&vellip;</td><td>&vellip;</td><td>&vellip;</td><td>&vellip;</td><td>&vellip;</td></tr></tbody></table>"
      ],
      "text/plain": [
       "10542×14 DataFrames.DataFrame\n",
       "│ Row   │ loan_id │ member_id │ home_ownership │ annual_inc │ loan_amnt │\n",
       "├───────┼─────────┼───────────┼────────────────┼────────────┼───────────┤\n",
       "│ 1     │ 57245   │ 138150    │ \"OWN\"          │ 54000.0    │ 1200.0    │\n",
       "│ 2     │ 61390   │ 182594    │ \"MORTGAGE\"     │ 148000.0   │ 4000.0    │\n",
       "│ 3     │ 61419   │ 182917    │ \"RENT\"         │ 45000.0    │ 5600.0    │\n",
       "│ 4     │ 62102   │ 191024    │ \"RENT\"         │ 54000.0    │ 3200.0    │\n",
       "│ 5     │ 66943   │ 247802    │ \"RENT\"         │ 24000.0    │ 2800.0    │\n",
       "│ 6     │ 68163   │ 258249    │ \"MORTGAGE\"     │ 100000.0   │ 3000.0    │\n",
       "│ 7     │ 69990   │ 275254    │ \"RENT\"         │ 125000.0   │ 15500.0   │\n",
       "│ 8     │ 290807  │ 290804    │ \"RENT\"         │ 84996.0    │ 15000.0   │\n",
       "│ 9     │ 347648  │ 348254    │ \"RENT\"         │ 60000.0    │ 10000.0   │\n",
       "│ 10    │ 348340  │ 349269    │ \"RENT\"         │ 71000.0    │ 8000.0    │\n",
       "│ 11    │ 357509  │ 363601    │ \"RENT\"         │ 60000.0    │ 7500.0    │\n",
       "⋮\n",
       "│ 10531 │ 643636  │ 823701    │ \"OWN\"          │ 56400.0    │ 5000.0    │\n",
       "│ 10532 │ 643749  │ 823839    │ \"MORTGAGE\"     │ 75000.0    │ 12000.0   │\n",
       "│ 10533 │ 643774  │ 823868    │ \"RENT\"         │ 58000.0    │ 10000.0   │\n",
       "│ 10534 │ 643778  │ 823873    │ \"MORTGAGE\"     │ 63000.0    │ 10000.0   │\n",
       "│ 10535 │ 643791  │ 823890    │ \"MORTGAGE\"     │ 55000.0    │ 15000.0   │\n",
       "│ 10536 │ 643800  │ 823901    │ \"RENT\"         │ 55000.0    │ 18000.0   │\n",
       "│ 10537 │ 643806  │ 823909    │ \"RENT\"         │ 80000.0    │ 25000.0   │\n",
       "│ 10538 │ 643822  │ 823926    │ \"MORTGAGE\"     │ 48000.0    │ 10000.0   │\n",
       "│ 10539 │ 643840  │ 823946    │ \"RENT\"         │ 55000.0    │ 3200.0    │\n",
       "│ 10540 │ 643848  │ 823955    │ \"RENT\"         │ 53000.0    │ 15000.0   │\n",
       "│ 10541 │ 643860  │ 823969    │ \"MORTGAGE\"     │ 43200.0    │ 16800.0   │\n",
       "│ 10542 │ 643926  │ 824049    │ \"MORTGAGE\"     │ 948000.0   │ 2000.0    │\n",
       "\n",
       "│ Row   │ term        │ int_rate │ cibil_score │ inq_last_6mths │ age │\n",
       "├───────┼─────────────┼──────────┼─────────────┼────────────────┼─────┤\n",
       "│ 1     │ \"36 months\" │ 0.1311   │ 679         │ 0              │ 36  │\n",
       "│ 2     │ \"36 months\" │ 0.0788   │ 729         │ 0              │ 25  │\n",
       "│ 3     │ \"36 months\" │ 0.1496   │ 669         │ 0              │ 22  │\n",
       "│ 4     │ \"36 months\" │ 0.0988   │ 744         │ 0              │ 25  │\n",
       "│ 5     │ \"60 months\" │ 0.1149   │ 709         │ 0              │ 26  │\n",
       "│ 6     │ \"36 months\" │ 0.0714   │ 749         │ 0              │ 22  │\n",
       "│ 7     │ \"36 months\" │ 0.0788   │ 784         │ 1              │ 29  │\n",
       "│ 8     │ \"36 months\" │ 0.157    │ 674         │ 1              │ 29  │\n",
       "│ 9     │ \"36 months\" │ 0.1273   │ 714         │ 0              │ 22  │\n",
       "│ 10    │ \"36 months\" │ 0.1112   │ 714         │ 0              │ 26  │\n",
       "│ 11    │ \"36 months\" │ 0.1025   │ 719         │ 2              │ 23  │\n",
       "⋮\n",
       "│ 10531 │ \"36 months\" │ 0.0654   │ 729         │ 0              │ 27  │\n",
       "│ 10532 │ \"36 months\" │ 0.1261   │ 684         │ 1              │ 29  │\n",
       "│ 10533 │ \"36 months\" │ 0.0654   │ 734         │ 1              │ 38  │\n",
       "│ 10534 │ \"36 months\" │ 0.0691   │ 719         │ 1              │ 23  │\n",
       "│ 10535 │ \"36 months\" │ 0.0617   │ 804         │ 2              │ 28  │\n",
       "│ 10536 │ \"60 months\" │ 0.1632   │ 694         │ 0              │ 25  │\n",
       "│ 10537 │ \"36 months\" │ 0.1409   │ 709         │ 2              │ 22  │\n",
       "│ 10538 │ \"60 months\" │ 0.1557   │ 714         │ 3              │ 22  │\n",
       "│ 10539 │ \"36 months\" │ 0.1298   │ 674         │ 3              │ 28  │\n",
       "│ 10540 │ \"60 months\" │ 0.152    │ 704         │ 0              │ 33  │\n",
       "│ 10541 │ \"36 months\" │ 0.0617   │ 754         │ 2              │ 26  │\n",
       "│ 10542 │ \"36 months\" │ 0.0999   │ 689         │ 2              │ 24  │\n",
       "\n",
       "│ Row   │ emp_length │ marital     │ job         │ loan_status │\n",
       "├───────┼────────────┼─────────────┼─────────────┼─────────────┤\n",
       "│ 1     │ 5          │ \"married\"   │ \"freelance\" │ 0           │\n",
       "│ 2     │ 8          │ \"single\"    │ \"partime\"   │ 0           │\n",
       "│ 3     │ 2          │ \"married\"   │ \"fixed\"     │ 1           │\n",
       "│ 4     │ 4          │ \"married\"   │ \"fixed\"     │ 0           │\n",
       "│ 5     │ 17         │ \"married\"   │ \"fixed\"     │ 0           │\n",
       "│ 6     │ 8          │ \"married\"   │ \"freelance\" │ 0           │\n",
       "│ 7     │ 3          │ \"single\"    │ \"freelance\" │ 0           │\n",
       "│ 8     │ 13         │ \"separated\" │ \"freelance\" │ 0           │\n",
       "│ 9     │ 15         │ \"single\"    │ \"fixed\"     │ 0           │\n",
       "│ 10    │ 5          │ \"married\"   │ \"fixed\"     │ 0           │\n",
       "│ 11    │ 24         │ \"married\"   │ \"freelance\" │ 1           │\n",
       "⋮\n",
       "│ 10531 │ 2          │ \"single\"    │ \"fixed\"     │ 1           │\n",
       "│ 10532 │ 15         │ \"married\"   │ \"fixed\"     │ 0           │\n",
       "│ 10533 │ NA         │ \"married\"   │ \"fixed\"     │ 0           │\n",
       "│ 10534 │ 11         │ \"single\"    │ \"freelance\" │ 0           │\n",
       "│ 10535 │ 8          │ \"married\"   │ \"fixed\"     │ 0           │\n",
       "│ 10536 │ 4          │ \"married\"   │ \"fixed\"     │ 1           │\n",
       "│ 10537 │ 4          │ \"married\"   │ \"fixed\"     │ 0           │\n",
       "│ 10538 │ 5          │ \"single\"    │ \"freelance\" │ 1           │\n",
       "│ 10539 │ 22         │ \"married\"   │ \"fixed\"     │ 0           │\n",
       "│ 10540 │ 3          │ \"single\"    │ \"partime\"   │ 1           │\n",
       "│ 10541 │ 0          │ \"single\"    │ \"fixed\"     │ 1           │\n",
       "│ 10542 │ 3          │ \"married\"   │ \"fixed\"     │ 0           │"
      ]
     },
     "execution_count": 5,
     "metadata": {},
     "output_type": "execute_result"
    }
   ],
   "source": [
    "rename!(data, :loan_status_new, :loan_status)"
   ]
  },
  {
   "cell_type": "code",
   "execution_count": 6,
   "metadata": {},
   "outputs": [
    {
     "data": {
      "text/html": [
       "<table class=\"data-frame\"><thead><tr><th></th><th>home_ownership</th><th>annual_inc</th><th>loan_amnt</th><th>term</th><th>int_rate</th><th>cibil_score</th><th>inq_last_6mths</th><th>age</th><th>emp_length</th><th>marital</th><th>job</th><th>loan_status</th></tr></thead><tbody><tr><th>1</th><td>OWN</td><td>54000.0</td><td>1200.0</td><td>36 months</td><td>0.1311</td><td>679</td><td>0</td><td>36</td><td>5</td><td>married</td><td>freelance</td><td>0</td></tr><tr><th>2</th><td>MORTGAGE</td><td>148000.0</td><td>4000.0</td><td>36 months</td><td>0.0788</td><td>729</td><td>0</td><td>25</td><td>8</td><td>single</td><td>partime</td><td>0</td></tr><tr><th>3</th><td>RENT</td><td>45000.0</td><td>5600.0</td><td>36 months</td><td>0.1496</td><td>669</td><td>0</td><td>22</td><td>2</td><td>married</td><td>fixed</td><td>1</td></tr><tr><th>4</th><td>RENT</td><td>54000.0</td><td>3200.0</td><td>36 months</td><td>0.0988</td><td>744</td><td>0</td><td>25</td><td>4</td><td>married</td><td>fixed</td><td>0</td></tr><tr><th>5</th><td>RENT</td><td>24000.0</td><td>2800.0</td><td>60 months</td><td>0.1149</td><td>709</td><td>0</td><td>26</td><td>17</td><td>married</td><td>fixed</td><td>0</td></tr><tr><th>6</th><td>MORTGAGE</td><td>100000.0</td><td>3000.0</td><td>36 months</td><td>0.0714</td><td>749</td><td>0</td><td>22</td><td>8</td><td>married</td><td>freelance</td><td>0</td></tr><tr><th>7</th><td>RENT</td><td>125000.0</td><td>15500.0</td><td>36 months</td><td>0.0788</td><td>784</td><td>1</td><td>29</td><td>3</td><td>single</td><td>freelance</td><td>0</td></tr><tr><th>8</th><td>RENT</td><td>84996.0</td><td>15000.0</td><td>36 months</td><td>0.157</td><td>674</td><td>1</td><td>29</td><td>13</td><td>separated</td><td>freelance</td><td>0</td></tr><tr><th>9</th><td>RENT</td><td>60000.0</td><td>10000.0</td><td>36 months</td><td>0.1273</td><td>714</td><td>0</td><td>22</td><td>15</td><td>single</td><td>fixed</td><td>0</td></tr><tr><th>10</th><td>RENT</td><td>71000.0</td><td>8000.0</td><td>36 months</td><td>0.1112</td><td>714</td><td>0</td><td>26</td><td>5</td><td>married</td><td>fixed</td><td>0</td></tr><tr><th>11</th><td>RENT</td><td>60000.0</td><td>7500.0</td><td>36 months</td><td>0.1025</td><td>719</td><td>2</td><td>23</td><td>24</td><td>married</td><td>freelance</td><td>1</td></tr><tr><th>12</th><td>RENT</td><td>65000.0</td><td>4800.0</td><td>36 months</td><td>0.0788</td><td>719</td><td>0</td><td>37</td><td>3</td><td>married</td><td>fixed</td><td>0</td></tr><tr><th>13</th><td>RENT</td><td>45000.0</td><td>4000.0</td><td>36 months</td><td>0.1323</td><td>679</td><td>1</td><td>24</td><td>5</td><td>married</td><td>fixed</td><td>0</td></tr><tr><th>14</th><td>MORTGAGE</td><td>59450.0</td><td>3000.0</td><td>36 months</td><td>0.1038</td><td>714</td><td>2</td><td>24</td><td>0</td><td>married</td><td>fixed</td><td>0</td></tr><tr><th>15</th><td>MORTGAGE</td><td>70000.0</td><td>10000.0</td><td>36 months</td><td>0.0988</td><td>734</td><td>3</td><td>27</td><td>3</td><td>married</td><td>fixed</td><td>0</td></tr><tr><th>16</th><td>MORTGAGE</td><td>55728.0</td><td>13000.0</td><td>36 months</td><td>0.1062</td><td>784</td><td>0</td><td>52</td><td>1</td><td>married</td><td>freelance</td><td>0</td></tr><tr><th>17</th><td>RENT</td><td>50000.0</td><td>4000.0</td><td>36 months</td><td>0.1261</td><td>674</td><td>1</td><td>23</td><td>4</td><td>single</td><td>freelance</td><td>0</td></tr><tr><th>18</th><td>RENT</td><td>21000.0</td><td>4500.0</td><td>36 months</td><td>0.0962</td><td>714</td><td>0</td><td>24</td><td>4</td><td>married</td><td>partime</td><td>0</td></tr><tr><th>19</th><td>MORTGAGE</td><td>58000.0</td><td>14000.0</td><td>36 months</td><td>0.0751</td><td>784</td><td>1</td><td>26</td><td>20</td><td>single</td><td>fixed</td><td>0</td></tr><tr><th>20</th><td>RENT</td><td>60000.0</td><td>15000.0</td><td>36 months</td><td>0.1422</td><td>704</td><td>3</td><td>28</td><td>6</td><td>married</td><td>fixed</td><td>0</td></tr><tr><th>21</th><td>MORTGAGE</td><td>114400.0</td><td>20000.0</td><td>36 months</td><td>0.1348</td><td>704</td><td>3</td><td>37</td><td>0</td><td>married</td><td>fixed</td><td>0</td></tr><tr><th>22</th><td>RENT</td><td>31875.0</td><td>7500.0</td><td>36 months</td><td>0.1311</td><td>684</td><td>0</td><td>24</td><td>6</td><td>single</td><td>partime</td><td>0</td></tr><tr><th>23</th><td>MORTGAGE</td><td>65000.0</td><td>14000.0</td><td>36 months</td><td>0.1531</td><td>684</td><td>0</td><td>23</td><td>1</td><td>married</td><td>fixed</td><td>0</td></tr><tr><th>24</th><td>MORTGAGE</td><td>25000.0</td><td>13000.0</td><td>60 months</td><td>0.1595</td><td>689</td><td>0</td><td>33</td><td>4</td><td>single</td><td>fixed</td><td>0</td></tr><tr><th>25</th><td>RENT</td><td>130606.0</td><td>20000.0</td><td>36 months</td><td>0.183</td><td>699</td><td>2</td><td>23</td><td>16</td><td>married</td><td>fixed</td><td>0</td></tr><tr><th>26</th><td>OWN</td><td>34800.0</td><td>7350.0</td><td>36 months</td><td>0.1422</td><td>689</td><td>2</td><td>26</td><td>12</td><td>married</td><td>fixed</td><td>0</td></tr><tr><th>27</th><td>RENT</td><td>33996.0</td><td>9600.0</td><td>36 months</td><td>0.0988</td><td>734</td><td>1</td><td>25</td><td>12</td><td>married</td><td>fixed</td><td>0</td></tr><tr><th>28</th><td>RENT</td><td>61000.0</td><td>10000.0</td><td>36 months</td><td>0.1607</td><td>669</td><td>1</td><td>35</td><td>18</td><td>married</td><td>fixed</td><td>0</td></tr><tr><th>29</th><td>MORTGAGE</td><td>45000.0</td><td>8000.0</td><td>36 months</td><td>0.0751</td><td>769</td><td>1</td><td>23</td><td>1</td><td>divorced</td><td>partime</td><td>0</td></tr><tr><th>30</th><td>RENT</td><td>160000.0</td><td>15000.0</td><td>36 months</td><td>0.1682</td><td>684</td><td>0</td><td>26</td><td>2</td><td>married</td><td>fixed</td><td>0</td></tr><tr><th>&vellip;</th><td>&vellip;</td><td>&vellip;</td><td>&vellip;</td><td>&vellip;</td><td>&vellip;</td><td>&vellip;</td><td>&vellip;</td><td>&vellip;</td><td>&vellip;</td><td>&vellip;</td><td>&vellip;</td><td>&vellip;</td></tr></tbody></table>"
      ],
      "text/plain": [
       "10542×12 DataFrames.DataFrame\n",
       "│ Row   │ home_ownership │ annual_inc │ loan_amnt │ term        │ int_rate │\n",
       "├───────┼────────────────┼────────────┼───────────┼─────────────┼──────────┤\n",
       "│ 1     │ \"OWN\"          │ 54000.0    │ 1200.0    │ \"36 months\" │ 0.1311   │\n",
       "│ 2     │ \"MORTGAGE\"     │ 148000.0   │ 4000.0    │ \"36 months\" │ 0.0788   │\n",
       "│ 3     │ \"RENT\"         │ 45000.0    │ 5600.0    │ \"36 months\" │ 0.1496   │\n",
       "│ 4     │ \"RENT\"         │ 54000.0    │ 3200.0    │ \"36 months\" │ 0.0988   │\n",
       "│ 5     │ \"RENT\"         │ 24000.0    │ 2800.0    │ \"60 months\" │ 0.1149   │\n",
       "│ 6     │ \"MORTGAGE\"     │ 100000.0   │ 3000.0    │ \"36 months\" │ 0.0714   │\n",
       "│ 7     │ \"RENT\"         │ 125000.0   │ 15500.0   │ \"36 months\" │ 0.0788   │\n",
       "│ 8     │ \"RENT\"         │ 84996.0    │ 15000.0   │ \"36 months\" │ 0.157    │\n",
       "│ 9     │ \"RENT\"         │ 60000.0    │ 10000.0   │ \"36 months\" │ 0.1273   │\n",
       "│ 10    │ \"RENT\"         │ 71000.0    │ 8000.0    │ \"36 months\" │ 0.1112   │\n",
       "│ 11    │ \"RENT\"         │ 60000.0    │ 7500.0    │ \"36 months\" │ 0.1025   │\n",
       "⋮\n",
       "│ 10531 │ \"OWN\"          │ 56400.0    │ 5000.0    │ \"36 months\" │ 0.0654   │\n",
       "│ 10532 │ \"MORTGAGE\"     │ 75000.0    │ 12000.0   │ \"36 months\" │ 0.1261   │\n",
       "│ 10533 │ \"RENT\"         │ 58000.0    │ 10000.0   │ \"36 months\" │ 0.0654   │\n",
       "│ 10534 │ \"MORTGAGE\"     │ 63000.0    │ 10000.0   │ \"36 months\" │ 0.0691   │\n",
       "│ 10535 │ \"MORTGAGE\"     │ 55000.0    │ 15000.0   │ \"36 months\" │ 0.0617   │\n",
       "│ 10536 │ \"RENT\"         │ 55000.0    │ 18000.0   │ \"60 months\" │ 0.1632   │\n",
       "│ 10537 │ \"RENT\"         │ 80000.0    │ 25000.0   │ \"36 months\" │ 0.1409   │\n",
       "│ 10538 │ \"MORTGAGE\"     │ 48000.0    │ 10000.0   │ \"60 months\" │ 0.1557   │\n",
       "│ 10539 │ \"RENT\"         │ 55000.0    │ 3200.0    │ \"36 months\" │ 0.1298   │\n",
       "│ 10540 │ \"RENT\"         │ 53000.0    │ 15000.0   │ \"60 months\" │ 0.152    │\n",
       "│ 10541 │ \"MORTGAGE\"     │ 43200.0    │ 16800.0   │ \"36 months\" │ 0.0617   │\n",
       "│ 10542 │ \"MORTGAGE\"     │ 948000.0   │ 2000.0    │ \"36 months\" │ 0.0999   │\n",
       "\n",
       "│ Row   │ cibil_score │ inq_last_6mths │ age │ emp_length │ marital     │\n",
       "├───────┼─────────────┼────────────────┼─────┼────────────┼─────────────┤\n",
       "│ 1     │ 679         │ 0              │ 36  │ 5          │ \"married\"   │\n",
       "│ 2     │ 729         │ 0              │ 25  │ 8          │ \"single\"    │\n",
       "│ 3     │ 669         │ 0              │ 22  │ 2          │ \"married\"   │\n",
       "│ 4     │ 744         │ 0              │ 25  │ 4          │ \"married\"   │\n",
       "│ 5     │ 709         │ 0              │ 26  │ 17         │ \"married\"   │\n",
       "│ 6     │ 749         │ 0              │ 22  │ 8          │ \"married\"   │\n",
       "│ 7     │ 784         │ 1              │ 29  │ 3          │ \"single\"    │\n",
       "│ 8     │ 674         │ 1              │ 29  │ 13         │ \"separated\" │\n",
       "│ 9     │ 714         │ 0              │ 22  │ 15         │ \"single\"    │\n",
       "│ 10    │ 714         │ 0              │ 26  │ 5          │ \"married\"   │\n",
       "│ 11    │ 719         │ 2              │ 23  │ 24         │ \"married\"   │\n",
       "⋮\n",
       "│ 10531 │ 729         │ 0              │ 27  │ 2          │ \"single\"    │\n",
       "│ 10532 │ 684         │ 1              │ 29  │ 15         │ \"married\"   │\n",
       "│ 10533 │ 734         │ 1              │ 38  │ NA         │ \"married\"   │\n",
       "│ 10534 │ 719         │ 1              │ 23  │ 11         │ \"single\"    │\n",
       "│ 10535 │ 804         │ 2              │ 28  │ 8          │ \"married\"   │\n",
       "│ 10536 │ 694         │ 0              │ 25  │ 4          │ \"married\"   │\n",
       "│ 10537 │ 709         │ 2              │ 22  │ 4          │ \"married\"   │\n",
       "│ 10538 │ 714         │ 3              │ 22  │ 5          │ \"single\"    │\n",
       "│ 10539 │ 674         │ 3              │ 28  │ 22         │ \"married\"   │\n",
       "│ 10540 │ 704         │ 0              │ 33  │ 3          │ \"single\"    │\n",
       "│ 10541 │ 754         │ 2              │ 26  │ 0          │ \"single\"    │\n",
       "│ 10542 │ 689         │ 2              │ 24  │ 3          │ \"married\"   │\n",
       "\n",
       "│ Row   │ job         │ loan_status │\n",
       "├───────┼─────────────┼─────────────┤\n",
       "│ 1     │ \"freelance\" │ 0           │\n",
       "│ 2     │ \"partime\"   │ 0           │\n",
       "│ 3     │ \"fixed\"     │ 1           │\n",
       "│ 4     │ \"fixed\"     │ 0           │\n",
       "│ 5     │ \"fixed\"     │ 0           │\n",
       "│ 6     │ \"freelance\" │ 0           │\n",
       "│ 7     │ \"freelance\" │ 0           │\n",
       "│ 8     │ \"freelance\" │ 0           │\n",
       "│ 9     │ \"fixed\"     │ 0           │\n",
       "│ 10    │ \"fixed\"     │ 0           │\n",
       "│ 11    │ \"freelance\" │ 1           │\n",
       "⋮\n",
       "│ 10531 │ \"fixed\"     │ 1           │\n",
       "│ 10532 │ \"fixed\"     │ 0           │\n",
       "│ 10533 │ \"fixed\"     │ 0           │\n",
       "│ 10534 │ \"freelance\" │ 0           │\n",
       "│ 10535 │ \"fixed\"     │ 0           │\n",
       "│ 10536 │ \"fixed\"     │ 1           │\n",
       "│ 10537 │ \"fixed\"     │ 0           │\n",
       "│ 10538 │ \"freelance\" │ 1           │\n",
       "│ 10539 │ \"fixed\"     │ 0           │\n",
       "│ 10540 │ \"partime\"   │ 1           │\n",
       "│ 10541 │ \"fixed\"     │ 1           │\n",
       "│ 10542 │ \"fixed\"     │ 0           │"
      ]
     },
     "execution_count": 6,
     "metadata": {},
     "output_type": "execute_result"
    }
   ],
   "source": [
    "# Delete Loan ID and Customer ID columns\n",
    "delete!(data,:loan_id)\n",
    "delete!(data,:member_id)"
   ]
  },
  {
   "cell_type": "code",
   "execution_count": 7,
   "metadata": {},
   "outputs": [
    {
     "data": {
      "text/plain": [
       "2-element Named Array{Int64,1}\n",
       "Dim1  │ \n",
       "──────┼─────\n",
       "0     │ 9113\n",
       "1     │ 1429"
      ]
     },
     "execution_count": 7,
     "metadata": {},
     "output_type": "execute_result"
    }
   ],
   "source": [
    "# Explore Loan Amount\n",
    "freqtable(data[:loan_status])"
   ]
  },
  {
   "cell_type": "code",
   "execution_count": 8,
   "metadata": {},
   "outputs": [
    {
     "name": "stdout",
     "output_type": "stream",
     "text": [
      "Summary Stats:\n",
      "Mean:           68835.898406\n",
      "Minimum:        4080.000000\n",
      "1st Quartile:   40000.000000\n",
      "Median:         57600.000000\n",
      "3rd Quartile:   81000.000000\n",
      "Maximum:        6000000.000000\n",
      "Length:         10542\n",
      "Type:           Float64\n",
      "Number Missing: 0\n",
      "% Missing:      0.000000\n"
     ]
    }
   ],
   "source": [
    "describe(data[:annual_inc])"
   ]
  },
  {
   "cell_type": "code",
   "execution_count": 9,
   "metadata": {},
   "outputs": [
    {
     "data": {
      "image/png": "[encoded data removed]"
     },
     "execution_count": 9,
     "metadata": {},
     "output_type": "execute_result"
    }
   ],
   "source": [
    "# Plot Histogram for Applicant Income\n",
    "Plots.histogram(data[:annual_inc], bins = 1000, xlabel = \"annual_inc\", labels = \"Frequency\")"
   ]
  },
  {
   "cell_type": "code",
   "execution_count": 12,
   "metadata": {},
   "outputs": [
    {
     "data": {
      "text/plain": [
       "12-element Array{Type,1}:\n",
       " String \n",
       " Float64\n",
       " Float64\n",
       " String \n",
       " Float64\n",
       " Int64  \n",
       " Int64  \n",
       " Int64  \n",
       " Int64  \n",
       " String \n",
       " String \n",
       " Int64  "
      ]
     },
     "execution_count": 12,
     "metadata": {},
     "output_type": "execute_result"
    }
   ],
   "source": [
    "eltypes(data)"
   ]
  },
  {
   "cell_type": "code",
   "execution_count": 13,
   "metadata": {},
   "outputs": [
    {
     "data": {
      "text/plain": [
       "3-element Named Array{Int64,1}\n",
       "Dim1     │ \n",
       "─────────┼─────\n",
       "MORTGAGE │ 4540\n",
       "OWN      │  883\n",
       "RENT     │ 5119"
      ]
     },
     "execution_count": 13,
     "metadata": {},
     "output_type": "execute_result"
    }
   ],
   "source": [
    "freqtable(data[:home_ownership])"
   ]
  },
  {
   "cell_type": "code",
   "execution_count": 14,
   "metadata": {},
   "outputs": [
    {
     "data": {
      "text/html": [
       "<table class=\"data-frame\"><thead><tr><th></th><th>annual_inc</th><th>loan_amnt</th><th>term</th><th>int_rate</th><th>cibil_score</th><th>inq_last_6mths</th><th>age</th><th>emp_length</th><th>marital</th><th>job</th><th>loan_status</th><th>Rent</th><th>Mortgage</th></tr></thead><tbody><tr><th>1</th><td>54000.0</td><td>1200.0</td><td>36 months</td><td>0.1311</td><td>679</td><td>0</td><td>36</td><td>5</td><td>married</td><td>freelance</td><td>0</td><td>0</td><td>0</td></tr><tr><th>2</th><td>148000.0</td><td>4000.0</td><td>36 months</td><td>0.0788</td><td>729</td><td>0</td><td>25</td><td>8</td><td>single</td><td>partime</td><td>0</td><td>0</td><td>1</td></tr><tr><th>3</th><td>45000.0</td><td>5600.0</td><td>36 months</td><td>0.1496</td><td>669</td><td>0</td><td>22</td><td>2</td><td>married</td><td>fixed</td><td>1</td><td>1</td><td>0</td></tr><tr><th>4</th><td>54000.0</td><td>3200.0</td><td>36 months</td><td>0.0988</td><td>744</td><td>0</td><td>25</td><td>4</td><td>married</td><td>fixed</td><td>0</td><td>1</td><td>0</td></tr><tr><th>5</th><td>24000.0</td><td>2800.0</td><td>60 months</td><td>0.1149</td><td>709</td><td>0</td><td>26</td><td>17</td><td>married</td><td>fixed</td><td>0</td><td>1</td><td>0</td></tr><tr><th>6</th><td>100000.0</td><td>3000.0</td><td>36 months</td><td>0.0714</td><td>749</td><td>0</td><td>22</td><td>8</td><td>married</td><td>freelance</td><td>0</td><td>0</td><td>1</td></tr><tr><th>7</th><td>125000.0</td><td>15500.0</td><td>36 months</td><td>0.0788</td><td>784</td><td>1</td><td>29</td><td>3</td><td>single</td><td>freelance</td><td>0</td><td>1</td><td>0</td></tr><tr><th>8</th><td>84996.0</td><td>15000.0</td><td>36 months</td><td>0.157</td><td>674</td><td>1</td><td>29</td><td>13</td><td>separated</td><td>freelance</td><td>0</td><td>1</td><td>0</td></tr><tr><th>9</th><td>60000.0</td><td>10000.0</td><td>36 months</td><td>0.1273</td><td>714</td><td>0</td><td>22</td><td>15</td><td>single</td><td>fixed</td><td>0</td><td>1</td><td>0</td></tr><tr><th>10</th><td>71000.0</td><td>8000.0</td><td>36 months</td><td>0.1112</td><td>714</td><td>0</td><td>26</td><td>5</td><td>married</td><td>fixed</td><td>0</td><td>1</td><td>0</td></tr><tr><th>11</th><td>60000.0</td><td>7500.0</td><td>36 months</td><td>0.1025</td><td>719</td><td>2</td><td>23</td><td>24</td><td>married</td><td>freelance</td><td>1</td><td>1</td><td>0</td></tr><tr><th>12</th><td>65000.0</td><td>4800.0</td><td>36 months</td><td>0.0788</td><td>719</td><td>0</td><td>37</td><td>3</td><td>married</td><td>fixed</td><td>0</td><td>1</td><td>0</td></tr><tr><th>13</th><td>45000.0</td><td>4000.0</td><td>36 months</td><td>0.1323</td><td>679</td><td>1</td><td>24</td><td>5</td><td>married</td><td>fixed</td><td>0</td><td>1</td><td>0</td></tr><tr><th>14</th><td>59450.0</td><td>3000.0</td><td>36 months</td><td>0.1038</td><td>714</td><td>2</td><td>24</td><td>0</td><td>married</td><td>fixed</td><td>0</td><td>0</td><td>1</td></tr><tr><th>15</th><td>70000.0</td><td>10000.0</td><td>36 months</td><td>0.0988</td><td>734</td><td>3</td><td>27</td><td>3</td><td>married</td><td>fixed</td><td>0</td><td>0</td><td>1</td></tr><tr><th>16</th><td>55728.0</td><td>13000.0</td><td>36 months</td><td>0.1062</td><td>784</td><td>0</td><td>52</td><td>1</td><td>married</td><td>freelance</td><td>0</td><td>0</td><td>1</td></tr><tr><th>17</th><td>50000.0</td><td>4000.0</td><td>36 months</td><td>0.1261</td><td>674</td><td>1</td><td>23</td><td>4</td><td>single</td><td>freelance</td><td>0</td><td>1</td><td>0</td></tr><tr><th>18</th><td>21000.0</td><td>4500.0</td><td>36 months</td><td>0.0962</td><td>714</td><td>0</td><td>24</td><td>4</td><td>married</td><td>partime</td><td>0</td><td>1</td><td>0</td></tr><tr><th>19</th><td>58000.0</td><td>14000.0</td><td>36 months</td><td>0.0751</td><td>784</td><td>1</td><td>26</td><td>20</td><td>single</td><td>fixed</td><td>0</td><td>0</td><td>1</td></tr><tr><th>20</th><td>60000.0</td><td>15000.0</td><td>36 months</td><td>0.1422</td><td>704</td><td>3</td><td>28</td><td>6</td><td>married</td><td>fixed</td><td>0</td><td>1</td><td>0</td></tr><tr><th>21</th><td>114400.0</td><td>20000.0</td><td>36 months</td><td>0.1348</td><td>704</td><td>3</td><td>37</td><td>0</td><td>married</td><td>fixed</td><td>0</td><td>0</td><td>1</td></tr><tr><th>22</th><td>31875.0</td><td>7500.0</td><td>36 months</td><td>0.1311</td><td>684</td><td>0</td><td>24</td><td>6</td><td>single</td><td>partime</td><td>0</td><td>1</td><td>0</td></tr><tr><th>23</th><td>65000.0</td><td>14000.0</td><td>36 months</td><td>0.1531</td><td>684</td><td>0</td><td>23</td><td>1</td><td>married</td><td>fixed</td><td>0</td><td>0</td><td>1</td></tr><tr><th>24</th><td>25000.0</td><td>13000.0</td><td>60 months</td><td>0.1595</td><td>689</td><td>0</td><td>33</td><td>4</td><td>single</td><td>fixed</td><td>0</td><td>0</td><td>1</td></tr><tr><th>25</th><td>130606.0</td><td>20000.0</td><td>36 months</td><td>0.183</td><td>699</td><td>2</td><td>23</td><td>16</td><td>married</td><td>fixed</td><td>0</td><td>1</td><td>0</td></tr><tr><th>26</th><td>34800.0</td><td>7350.0</td><td>36 months</td><td>0.1422</td><td>689</td><td>2</td><td>26</td><td>12</td><td>married</td><td>fixed</td><td>0</td><td>0</td><td>0</td></tr><tr><th>27</th><td>33996.0</td><td>9600.0</td><td>36 months</td><td>0.0988</td><td>734</td><td>1</td><td>25</td><td>12</td><td>married</td><td>fixed</td><td>0</td><td>1</td><td>0</td></tr><tr><th>28</th><td>61000.0</td><td>10000.0</td><td>36 months</td><td>0.1607</td><td>669</td><td>1</td><td>35</td><td>18</td><td>married</td><td>fixed</td><td>0</td><td>1</td><td>0</td></tr><tr><th>29</th><td>45000.0</td><td>8000.0</td><td>36 months</td><td>0.0751</td><td>769</td><td>1</td><td>23</td><td>1</td><td>divorced</td><td>partime</td><td>0</td><td>0</td><td>1</td></tr><tr><th>30</th><td>160000.0</td><td>15000.0</td><td>36 months</td><td>0.1682</td><td>684</td><td>0</td><td>26</td><td>2</td><td>married</td><td>fixed</td><td>0</td><td>1</td><td>0</td></tr><tr><th>&vellip;</th><td>&vellip;</td><td>&vellip;</td><td>&vellip;</td><td>&vellip;</td><td>&vellip;</td><td>&vellip;</td><td>&vellip;</td><td>&vellip;</td><td>&vellip;</td><td>&vellip;</td><td>&vellip;</td><td>&vellip;</td><td>&vellip;</td></tr></tbody></table>"
      ],
      "text/plain": [
       "10542×13 DataFrames.DataFrame\n",
       "│ Row   │ annual_inc │ loan_amnt │ term        │ int_rate │ cibil_score │\n",
       "├───────┼────────────┼───────────┼─────────────┼──────────┼─────────────┤\n",
       "│ 1     │ 54000.0    │ 1200.0    │ \"36 months\" │ 0.1311   │ 679         │\n",
       "│ 2     │ 148000.0   │ 4000.0    │ \"36 months\" │ 0.0788   │ 729         │\n",
       "│ 3     │ 45000.0    │ 5600.0    │ \"36 months\" │ 0.1496   │ 669         │\n",
       "│ 4     │ 54000.0    │ 3200.0    │ \"36 months\" │ 0.0988   │ 744         │\n",
       "│ 5     │ 24000.0    │ 2800.0    │ \"60 months\" │ 0.1149   │ 709         │\n",
       "│ 6     │ 100000.0   │ 3000.0    │ \"36 months\" │ 0.0714   │ 749         │\n",
       "│ 7     │ 125000.0   │ 15500.0   │ \"36 months\" │ 0.0788   │ 784         │\n",
       "│ 8     │ 84996.0    │ 15000.0   │ \"36 months\" │ 0.157    │ 674         │\n",
       "│ 9     │ 60000.0    │ 10000.0   │ \"36 months\" │ 0.1273   │ 714         │\n",
       "│ 10    │ 71000.0    │ 8000.0    │ \"36 months\" │ 0.1112   │ 714         │\n",
       "│ 11    │ 60000.0    │ 7500.0    │ \"36 months\" │ 0.1025   │ 719         │\n",
       "⋮\n",
       "│ 10531 │ 56400.0    │ 5000.0    │ \"36 months\" │ 0.0654   │ 729         │\n",
       "│ 10532 │ 75000.0    │ 12000.0   │ \"36 months\" │ 0.1261   │ 684         │\n",
       "│ 10533 │ 58000.0    │ 10000.0   │ \"36 months\" │ 0.0654   │ 734         │\n",
       "│ 10534 │ 63000.0    │ 10000.0   │ \"36 months\" │ 0.0691   │ 719         │\n",
       "│ 10535 │ 55000.0    │ 15000.0   │ \"36 months\" │ 0.0617   │ 804         │\n",
       "│ 10536 │ 55000.0    │ 18000.0   │ \"60 months\" │ 0.1632   │ 694         │\n",
       "│ 10537 │ 80000.0    │ 25000.0   │ \"36 months\" │ 0.1409   │ 709         │\n",
       "│ 10538 │ 48000.0    │ 10000.0   │ \"60 months\" │ 0.1557   │ 714         │\n",
       "│ 10539 │ 55000.0    │ 3200.0    │ \"36 months\" │ 0.1298   │ 674         │\n",
       "│ 10540 │ 53000.0    │ 15000.0   │ \"60 months\" │ 0.152    │ 704         │\n",
       "│ 10541 │ 43200.0    │ 16800.0   │ \"36 months\" │ 0.0617   │ 754         │\n",
       "│ 10542 │ 948000.0   │ 2000.0    │ \"36 months\" │ 0.0999   │ 689         │\n",
       "\n",
       "│ Row   │ inq_last_6mths │ age │ emp_length │ marital     │ job         │\n",
       "├───────┼────────────────┼─────┼────────────┼─────────────┼─────────────┤\n",
       "│ 1     │ 0              │ 36  │ 5          │ \"married\"   │ \"freelance\" │\n",
       "│ 2     │ 0              │ 25  │ 8          │ \"single\"    │ \"partime\"   │\n",
       "│ 3     │ 0              │ 22  │ 2          │ \"married\"   │ \"fixed\"     │\n",
       "│ 4     │ 0              │ 25  │ 4          │ \"married\"   │ \"fixed\"     │\n",
       "│ 5     │ 0              │ 26  │ 17         │ \"married\"   │ \"fixed\"     │\n",
       "│ 6     │ 0              │ 22  │ 8          │ \"married\"   │ \"freelance\" │\n",
       "│ 7     │ 1              │ 29  │ 3          │ \"single\"    │ \"freelance\" │\n",
       "│ 8     │ 1              │ 29  │ 13         │ \"separated\" │ \"freelance\" │\n",
       "│ 9     │ 0              │ 22  │ 15         │ \"single\"    │ \"fixed\"     │\n",
       "│ 10    │ 0              │ 26  │ 5          │ \"married\"   │ \"fixed\"     │\n",
       "│ 11    │ 2              │ 23  │ 24         │ \"married\"   │ \"freelance\" │\n",
       "⋮\n",
       "│ 10531 │ 0              │ 27  │ 2          │ \"single\"    │ \"fixed\"     │\n",
       "│ 10532 │ 1              │ 29  │ 15         │ \"married\"   │ \"fixed\"     │\n",
       "│ 10533 │ 1              │ 38  │ NA         │ \"married\"   │ \"fixed\"     │\n",
       "│ 10534 │ 1              │ 23  │ 11         │ \"single\"    │ \"freelance\" │\n",
       "│ 10535 │ 2              │ 28  │ 8          │ \"married\"   │ \"fixed\"     │\n",
       "│ 10536 │ 0              │ 25  │ 4          │ \"married\"   │ \"fixed\"     │\n",
       "│ 10537 │ 2              │ 22  │ 4          │ \"married\"   │ \"fixed\"     │\n",
       "│ 10538 │ 3              │ 22  │ 5          │ \"single\"    │ \"freelance\" │\n",
       "│ 10539 │ 3              │ 28  │ 22         │ \"married\"   │ \"fixed\"     │\n",
       "│ 10540 │ 0              │ 33  │ 3          │ \"single\"    │ \"partime\"   │\n",
       "│ 10541 │ 2              │ 26  │ 0          │ \"single\"    │ \"fixed\"     │\n",
       "│ 10542 │ 2              │ 24  │ 3          │ \"married\"   │ \"fixed\"     │\n",
       "\n",
       "│ Row   │ loan_status │ Rent │ Mortgage │\n",
       "├───────┼─────────────┼──────┼──────────┤\n",
       "│ 1     │ 0           │ 0    │ 0        │\n",
       "│ 2     │ 0           │ 0    │ 1        │\n",
       "│ 3     │ 1           │ 1    │ 0        │\n",
       "│ 4     │ 0           │ 1    │ 0        │\n",
       "│ 5     │ 0           │ 1    │ 0        │\n",
       "│ 6     │ 0           │ 0    │ 1        │\n",
       "│ 7     │ 0           │ 1    │ 0        │\n",
       "│ 8     │ 0           │ 1    │ 0        │\n",
       "│ 9     │ 0           │ 1    │ 0        │\n",
       "│ 10    │ 0           │ 1    │ 0        │\n",
       "│ 11    │ 1           │ 1    │ 0        │\n",
       "⋮\n",
       "│ 10531 │ 1           │ 0    │ 0        │\n",
       "│ 10532 │ 0           │ 0    │ 1        │\n",
       "│ 10533 │ 0           │ 1    │ 0        │\n",
       "│ 10534 │ 0           │ 0    │ 1        │\n",
       "│ 10535 │ 0           │ 0    │ 1        │\n",
       "│ 10536 │ 1           │ 1    │ 0        │\n",
       "│ 10537 │ 0           │ 1    │ 0        │\n",
       "│ 10538 │ 1           │ 0    │ 1        │\n",
       "│ 10539 │ 0           │ 1    │ 0        │\n",
       "│ 10540 │ 1           │ 1    │ 0        │\n",
       "│ 10541 │ 1           │ 0    │ 1        │\n",
       "│ 10542 │ 0           │ 0    │ 1        │"
      ]
     },
     "execution_count": 14,
     "metadata": {},
     "output_type": "execute_result"
    }
   ],
   "source": [
    "# Label Encoding-- Home Ownership\n",
    "data[:Rent] = ifelse.(data[:home_ownership] .== \"RENT\",1,0)\n",
    "data[:Mortgage] = ifelse.(data[:home_ownership] .== \"MORTGAGE\",1,0) # Zero values for both the home ownership type show OWN type\n",
    "delete!(data,:home_ownership)"
   ]
  },
  {
   "cell_type": "code",
   "execution_count": 15,
   "metadata": {},
   "outputs": [
    {
     "data": {
      "text/html": [
       "<table class=\"data-frame\"><thead><tr><th></th><th>annual_inc</th><th>loan_amnt</th><th>int_rate</th><th>cibil_score</th><th>inq_last_6mths</th><th>age</th><th>emp_length</th><th>marital</th><th>job</th><th>loan_status</th><th>Rent</th><th>Mortgage</th><th>_36_months</th></tr></thead><tbody><tr><th>1</th><td>54000.0</td><td>1200.0</td><td>0.1311</td><td>679</td><td>0</td><td>36</td><td>5</td><td>married</td><td>freelance</td><td>0</td><td>0</td><td>0</td><td>1</td></tr><tr><th>2</th><td>148000.0</td><td>4000.0</td><td>0.0788</td><td>729</td><td>0</td><td>25</td><td>8</td><td>single</td><td>partime</td><td>0</td><td>0</td><td>1</td><td>1</td></tr><tr><th>3</th><td>45000.0</td><td>5600.0</td><td>0.1496</td><td>669</td><td>0</td><td>22</td><td>2</td><td>married</td><td>fixed</td><td>1</td><td>1</td><td>0</td><td>1</td></tr><tr><th>4</th><td>54000.0</td><td>3200.0</td><td>0.0988</td><td>744</td><td>0</td><td>25</td><td>4</td><td>married</td><td>fixed</td><td>0</td><td>1</td><td>0</td><td>1</td></tr><tr><th>5</th><td>24000.0</td><td>2800.0</td><td>0.1149</td><td>709</td><td>0</td><td>26</td><td>17</td><td>married</td><td>fixed</td><td>0</td><td>1</td><td>0</td><td>0</td></tr><tr><th>6</th><td>100000.0</td><td>3000.0</td><td>0.0714</td><td>749</td><td>0</td><td>22</td><td>8</td><td>married</td><td>freelance</td><td>0</td><td>0</td><td>1</td><td>1</td></tr><tr><th>7</th><td>125000.0</td><td>15500.0</td><td>0.0788</td><td>784</td><td>1</td><td>29</td><td>3</td><td>single</td><td>freelance</td><td>0</td><td>1</td><td>0</td><td>1</td></tr><tr><th>8</th><td>84996.0</td><td>15000.0</td><td>0.157</td><td>674</td><td>1</td><td>29</td><td>13</td><td>separated</td><td>freelance</td><td>0</td><td>1</td><td>0</td><td>1</td></tr><tr><th>9</th><td>60000.0</td><td>10000.0</td><td>0.1273</td><td>714</td><td>0</td><td>22</td><td>15</td><td>single</td><td>fixed</td><td>0</td><td>1</td><td>0</td><td>1</td></tr><tr><th>10</th><td>71000.0</td><td>8000.0</td><td>0.1112</td><td>714</td><td>0</td><td>26</td><td>5</td><td>married</td><td>fixed</td><td>0</td><td>1</td><td>0</td><td>1</td></tr><tr><th>11</th><td>60000.0</td><td>7500.0</td><td>0.1025</td><td>719</td><td>2</td><td>23</td><td>24</td><td>married</td><td>freelance</td><td>1</td><td>1</td><td>0</td><td>1</td></tr><tr><th>12</th><td>65000.0</td><td>4800.0</td><td>0.0788</td><td>719</td><td>0</td><td>37</td><td>3</td><td>married</td><td>fixed</td><td>0</td><td>1</td><td>0</td><td>1</td></tr><tr><th>13</th><td>45000.0</td><td>4000.0</td><td>0.1323</td><td>679</td><td>1</td><td>24</td><td>5</td><td>married</td><td>fixed</td><td>0</td><td>1</td><td>0</td><td>1</td></tr><tr><th>14</th><td>59450.0</td><td>3000.0</td><td>0.1038</td><td>714</td><td>2</td><td>24</td><td>0</td><td>married</td><td>fixed</td><td>0</td><td>0</td><td>1</td><td>1</td></tr><tr><th>15</th><td>70000.0</td><td>10000.0</td><td>0.0988</td><td>734</td><td>3</td><td>27</td><td>3</td><td>married</td><td>fixed</td><td>0</td><td>0</td><td>1</td><td>1</td></tr><tr><th>16</th><td>55728.0</td><td>13000.0</td><td>0.1062</td><td>784</td><td>0</td><td>52</td><td>1</td><td>married</td><td>freelance</td><td>0</td><td>0</td><td>1</td><td>1</td></tr><tr><th>17</th><td>50000.0</td><td>4000.0</td><td>0.1261</td><td>674</td><td>1</td><td>23</td><td>4</td><td>single</td><td>freelance</td><td>0</td><td>1</td><td>0</td><td>1</td></tr><tr><th>18</th><td>21000.0</td><td>4500.0</td><td>0.0962</td><td>714</td><td>0</td><td>24</td><td>4</td><td>married</td><td>partime</td><td>0</td><td>1</td><td>0</td><td>1</td></tr><tr><th>19</th><td>58000.0</td><td>14000.0</td><td>0.0751</td><td>784</td><td>1</td><td>26</td><td>20</td><td>single</td><td>fixed</td><td>0</td><td>0</td><td>1</td><td>1</td></tr><tr><th>20</th><td>60000.0</td><td>15000.0</td><td>0.1422</td><td>704</td><td>3</td><td>28</td><td>6</td><td>married</td><td>fixed</td><td>0</td><td>1</td><td>0</td><td>1</td></tr><tr><th>21</th><td>114400.0</td><td>20000.0</td><td>0.1348</td><td>704</td><td>3</td><td>37</td><td>0</td><td>married</td><td>fixed</td><td>0</td><td>0</td><td>1</td><td>1</td></tr><tr><th>22</th><td>31875.0</td><td>7500.0</td><td>0.1311</td><td>684</td><td>0</td><td>24</td><td>6</td><td>single</td><td>partime</td><td>0</td><td>1</td><td>0</td><td>1</td></tr><tr><th>23</th><td>65000.0</td><td>14000.0</td><td>0.1531</td><td>684</td><td>0</td><td>23</td><td>1</td><td>married</td><td>fixed</td><td>0</td><td>0</td><td>1</td><td>1</td></tr><tr><th>24</th><td>25000.0</td><td>13000.0</td><td>0.1595</td><td>689</td><td>0</td><td>33</td><td>4</td><td>single</td><td>fixed</td><td>0</td><td>0</td><td>1</td><td>0</td></tr><tr><th>25</th><td>130606.0</td><td>20000.0</td><td>0.183</td><td>699</td><td>2</td><td>23</td><td>16</td><td>married</td><td>fixed</td><td>0</td><td>1</td><td>0</td><td>1</td></tr><tr><th>26</th><td>34800.0</td><td>7350.0</td><td>0.1422</td><td>689</td><td>2</td><td>26</td><td>12</td><td>married</td><td>fixed</td><td>0</td><td>0</td><td>0</td><td>1</td></tr><tr><th>27</th><td>33996.0</td><td>9600.0</td><td>0.0988</td><td>734</td><td>1</td><td>25</td><td>12</td><td>married</td><td>fixed</td><td>0</td><td>1</td><td>0</td><td>1</td></tr><tr><th>28</th><td>61000.0</td><td>10000.0</td><td>0.1607</td><td>669</td><td>1</td><td>35</td><td>18</td><td>married</td><td>fixed</td><td>0</td><td>1</td><td>0</td><td>1</td></tr><tr><th>29</th><td>45000.0</td><td>8000.0</td><td>0.0751</td><td>769</td><td>1</td><td>23</td><td>1</td><td>divorced</td><td>partime</td><td>0</td><td>0</td><td>1</td><td>1</td></tr><tr><th>30</th><td>160000.0</td><td>15000.0</td><td>0.1682</td><td>684</td><td>0</td><td>26</td><td>2</td><td>married</td><td>fixed</td><td>0</td><td>1</td><td>0</td><td>1</td></tr><tr><th>&vellip;</th><td>&vellip;</td><td>&vellip;</td><td>&vellip;</td><td>&vellip;</td><td>&vellip;</td><td>&vellip;</td><td>&vellip;</td><td>&vellip;</td><td>&vellip;</td><td>&vellip;</td><td>&vellip;</td><td>&vellip;</td><td>&vellip;</td></tr></tbody></table>"
      ],
      "text/plain": [
       "10542×13 DataFrames.DataFrame\n",
       "│ Row   │ annual_inc │ loan_amnt │ int_rate │ cibil_score │ inq_last_6mths │\n",
       "├───────┼────────────┼───────────┼──────────┼─────────────┼────────────────┤\n",
       "│ 1     │ 54000.0    │ 1200.0    │ 0.1311   │ 679         │ 0              │\n",
       "│ 2     │ 148000.0   │ 4000.0    │ 0.0788   │ 729         │ 0              │\n",
       "│ 3     │ 45000.0    │ 5600.0    │ 0.1496   │ 669         │ 0              │\n",
       "│ 4     │ 54000.0    │ 3200.0    │ 0.0988   │ 744         │ 0              │\n",
       "│ 5     │ 24000.0    │ 2800.0    │ 0.1149   │ 709         │ 0              │\n",
       "│ 6     │ 100000.0   │ 3000.0    │ 0.0714   │ 749         │ 0              │\n",
       "│ 7     │ 125000.0   │ 15500.0   │ 0.0788   │ 784         │ 1              │\n",
       "│ 8     │ 84996.0    │ 15000.0   │ 0.157    │ 674         │ 1              │\n",
       "│ 9     │ 60000.0    │ 10000.0   │ 0.1273   │ 714         │ 0              │\n",
       "│ 10    │ 71000.0    │ 8000.0    │ 0.1112   │ 714         │ 0              │\n",
       "│ 11    │ 60000.0    │ 7500.0    │ 0.1025   │ 719         │ 2              │\n",
       "⋮\n",
       "│ 10531 │ 56400.0    │ 5000.0    │ 0.0654   │ 729         │ 0              │\n",
       "│ 10532 │ 75000.0    │ 12000.0   │ 0.1261   │ 684         │ 1              │\n",
       "│ 10533 │ 58000.0    │ 10000.0   │ 0.0654   │ 734         │ 1              │\n",
       "│ 10534 │ 63000.0    │ 10000.0   │ 0.0691   │ 719         │ 1              │\n",
       "│ 10535 │ 55000.0    │ 15000.0   │ 0.0617   │ 804         │ 2              │\n",
       "│ 10536 │ 55000.0    │ 18000.0   │ 0.1632   │ 694         │ 0              │\n",
       "│ 10537 │ 80000.0    │ 25000.0   │ 0.1409   │ 709         │ 2              │\n",
       "│ 10538 │ 48000.0    │ 10000.0   │ 0.1557   │ 714         │ 3              │\n",
       "│ 10539 │ 55000.0    │ 3200.0    │ 0.1298   │ 674         │ 3              │\n",
       "│ 10540 │ 53000.0    │ 15000.0   │ 0.152    │ 704         │ 0              │\n",
       "│ 10541 │ 43200.0    │ 16800.0   │ 0.0617   │ 754         │ 2              │\n",
       "│ 10542 │ 948000.0   │ 2000.0    │ 0.0999   │ 689         │ 2              │\n",
       "\n",
       "│ Row   │ age │ emp_length │ marital     │ job         │ loan_status │ Rent │\n",
       "├───────┼─────┼────────────┼─────────────┼─────────────┼─────────────┼──────┤\n",
       "│ 1     │ 36  │ 5          │ \"married\"   │ \"freelance\" │ 0           │ 0    │\n",
       "│ 2     │ 25  │ 8          │ \"single\"    │ \"partime\"   │ 0           │ 0    │\n",
       "│ 3     │ 22  │ 2          │ \"married\"   │ \"fixed\"     │ 1           │ 1    │\n",
       "│ 4     │ 25  │ 4          │ \"married\"   │ \"fixed\"     │ 0           │ 1    │\n",
       "│ 5     │ 26  │ 17         │ \"married\"   │ \"fixed\"     │ 0           │ 1    │\n",
       "│ 6     │ 22  │ 8          │ \"married\"   │ \"freelance\" │ 0           │ 0    │\n",
       "│ 7     │ 29  │ 3          │ \"single\"    │ \"freelance\" │ 0           │ 1    │\n",
       "│ 8     │ 29  │ 13         │ \"separated\" │ \"freelance\" │ 0           │ 1    │\n",
       "│ 9     │ 22  │ 15         │ \"single\"    │ \"fixed\"     │ 0           │ 1    │\n",
       "│ 10    │ 26  │ 5          │ \"married\"   │ \"fixed\"     │ 0           │ 1    │\n",
       "│ 11    │ 23  │ 24         │ \"married\"   │ \"freelance\" │ 1           │ 1    │\n",
       "⋮\n",
       "│ 10531 │ 27  │ 2          │ \"single\"    │ \"fixed\"     │ 1           │ 0    │\n",
       "│ 10532 │ 29  │ 15         │ \"married\"   │ \"fixed\"     │ 0           │ 0    │\n",
       "│ 10533 │ 38  │ NA         │ \"married\"   │ \"fixed\"     │ 0           │ 1    │\n",
       "│ 10534 │ 23  │ 11         │ \"single\"    │ \"freelance\" │ 0           │ 0    │\n",
       "│ 10535 │ 28  │ 8          │ \"married\"   │ \"fixed\"     │ 0           │ 0    │\n",
       "│ 10536 │ 25  │ 4          │ \"married\"   │ \"fixed\"     │ 1           │ 1    │\n",
       "│ 10537 │ 22  │ 4          │ \"married\"   │ \"fixed\"     │ 0           │ 1    │\n",
       "│ 10538 │ 22  │ 5          │ \"single\"    │ \"freelance\" │ 1           │ 0    │\n",
       "│ 10539 │ 28  │ 22         │ \"married\"   │ \"fixed\"     │ 0           │ 1    │\n",
       "│ 10540 │ 33  │ 3          │ \"single\"    │ \"partime\"   │ 1           │ 1    │\n",
       "│ 10541 │ 26  │ 0          │ \"single\"    │ \"fixed\"     │ 1           │ 0    │\n",
       "│ 10542 │ 24  │ 3          │ \"married\"   │ \"fixed\"     │ 0           │ 0    │\n",
       "\n",
       "│ Row   │ Mortgage │ _36_months │\n",
       "├───────┼──────────┼────────────┤\n",
       "│ 1     │ 0        │ 1          │\n",
       "│ 2     │ 1        │ 1          │\n",
       "│ 3     │ 0        │ 1          │\n",
       "│ 4     │ 0        │ 1          │\n",
       "│ 5     │ 0        │ 0          │\n",
       "│ 6     │ 1        │ 1          │\n",
       "│ 7     │ 0        │ 1          │\n",
       "│ 8     │ 0        │ 1          │\n",
       "│ 9     │ 0        │ 1          │\n",
       "│ 10    │ 0        │ 1          │\n",
       "│ 11    │ 0        │ 1          │\n",
       "⋮\n",
       "│ 10531 │ 0        │ 1          │\n",
       "│ 10532 │ 1        │ 1          │\n",
       "│ 10533 │ 0        │ 1          │\n",
       "│ 10534 │ 1        │ 1          │\n",
       "│ 10535 │ 1        │ 1          │\n",
       "│ 10536 │ 0        │ 0          │\n",
       "│ 10537 │ 0        │ 1          │\n",
       "│ 10538 │ 1        │ 0          │\n",
       "│ 10539 │ 0        │ 1          │\n",
       "│ 10540 │ 0        │ 0          │\n",
       "│ 10541 │ 1        │ 1          │\n",
       "│ 10542 │ 1        │ 1          │"
      ]
     },
     "execution_count": 15,
     "metadata": {},
     "output_type": "execute_result"
    }
   ],
   "source": [
    "# Label Encoding-- term\n",
    "data[:_36_months] = ifelse.(data[:term] .== \"36 months\",1,0)\n",
    "delete!(data,:term)"
   ]
  },
  {
   "cell_type": "code",
   "execution_count": 16,
   "metadata": {},
   "outputs": [
    {
     "data": {
      "text/html": [
       "<table class=\"data-frame\"><thead><tr><th></th><th>annual_inc</th><th>loan_amnt</th><th>int_rate</th><th>cibil_score</th><th>inq_last_6mths</th><th>age</th><th>emp_length</th><th>job</th><th>loan_status</th><th>Rent</th><th>Mortgage</th><th>_36_months</th><th>married</th><th>single</th></tr></thead><tbody><tr><th>1</th><td>54000.0</td><td>1200.0</td><td>0.1311</td><td>679</td><td>0</td><td>36</td><td>5</td><td>freelance</td><td>0</td><td>0</td><td>0</td><td>1</td><td>1</td><td>0</td></tr><tr><th>2</th><td>148000.0</td><td>4000.0</td><td>0.0788</td><td>729</td><td>0</td><td>25</td><td>8</td><td>partime</td><td>0</td><td>0</td><td>1</td><td>1</td><td>0</td><td>1</td></tr><tr><th>3</th><td>45000.0</td><td>5600.0</td><td>0.1496</td><td>669</td><td>0</td><td>22</td><td>2</td><td>fixed</td><td>1</td><td>1</td><td>0</td><td>1</td><td>1</td><td>0</td></tr><tr><th>4</th><td>54000.0</td><td>3200.0</td><td>0.0988</td><td>744</td><td>0</td><td>25</td><td>4</td><td>fixed</td><td>0</td><td>1</td><td>0</td><td>1</td><td>1</td><td>0</td></tr><tr><th>5</th><td>24000.0</td><td>2800.0</td><td>0.1149</td><td>709</td><td>0</td><td>26</td><td>17</td><td>fixed</td><td>0</td><td>1</td><td>0</td><td>0</td><td>1</td><td>0</td></tr><tr><th>6</th><td>100000.0</td><td>3000.0</td><td>0.0714</td><td>749</td><td>0</td><td>22</td><td>8</td><td>freelance</td><td>0</td><td>0</td><td>1</td><td>1</td><td>1</td><td>0</td></tr><tr><th>7</th><td>125000.0</td><td>15500.0</td><td>0.0788</td><td>784</td><td>1</td><td>29</td><td>3</td><td>freelance</td><td>0</td><td>1</td><td>0</td><td>1</td><td>0</td><td>1</td></tr><tr><th>8</th><td>84996.0</td><td>15000.0</td><td>0.157</td><td>674</td><td>1</td><td>29</td><td>13</td><td>freelance</td><td>0</td><td>1</td><td>0</td><td>1</td><td>0</td><td>0</td></tr><tr><th>9</th><td>60000.0</td><td>10000.0</td><td>0.1273</td><td>714</td><td>0</td><td>22</td><td>15</td><td>fixed</td><td>0</td><td>1</td><td>0</td><td>1</td><td>0</td><td>1</td></tr><tr><th>10</th><td>71000.0</td><td>8000.0</td><td>0.1112</td><td>714</td><td>0</td><td>26</td><td>5</td><td>fixed</td><td>0</td><td>1</td><td>0</td><td>1</td><td>1</td><td>0</td></tr><tr><th>11</th><td>60000.0</td><td>7500.0</td><td>0.1025</td><td>719</td><td>2</td><td>23</td><td>24</td><td>freelance</td><td>1</td><td>1</td><td>0</td><td>1</td><td>1</td><td>0</td></tr><tr><th>12</th><td>65000.0</td><td>4800.0</td><td>0.0788</td><td>719</td><td>0</td><td>37</td><td>3</td><td>fixed</td><td>0</td><td>1</td><td>0</td><td>1</td><td>1</td><td>0</td></tr><tr><th>13</th><td>45000.0</td><td>4000.0</td><td>0.1323</td><td>679</td><td>1</td><td>24</td><td>5</td><td>fixed</td><td>0</td><td>1</td><td>0</td><td>1</td><td>1</td><td>0</td></tr><tr><th>14</th><td>59450.0</td><td>3000.0</td><td>0.1038</td><td>714</td><td>2</td><td>24</td><td>0</td><td>fixed</td><td>0</td><td>0</td><td>1</td><td>1</td><td>1</td><td>0</td></tr><tr><th>15</th><td>70000.0</td><td>10000.0</td><td>0.0988</td><td>734</td><td>3</td><td>27</td><td>3</td><td>fixed</td><td>0</td><td>0</td><td>1</td><td>1</td><td>1</td><td>0</td></tr><tr><th>16</th><td>55728.0</td><td>13000.0</td><td>0.1062</td><td>784</td><td>0</td><td>52</td><td>1</td><td>freelance</td><td>0</td><td>0</td><td>1</td><td>1</td><td>1</td><td>0</td></tr><tr><th>17</th><td>50000.0</td><td>4000.0</td><td>0.1261</td><td>674</td><td>1</td><td>23</td><td>4</td><td>freelance</td><td>0</td><td>1</td><td>0</td><td>1</td><td>0</td><td>1</td></tr><tr><th>18</th><td>21000.0</td><td>4500.0</td><td>0.0962</td><td>714</td><td>0</td><td>24</td><td>4</td><td>partime</td><td>0</td><td>1</td><td>0</td><td>1</td><td>1</td><td>0</td></tr><tr><th>19</th><td>58000.0</td><td>14000.0</td><td>0.0751</td><td>784</td><td>1</td><td>26</td><td>20</td><td>fixed</td><td>0</td><td>0</td><td>1</td><td>1</td><td>0</td><td>1</td></tr><tr><th>20</th><td>60000.0</td><td>15000.0</td><td>0.1422</td><td>704</td><td>3</td><td>28</td><td>6</td><td>fixed</td><td>0</td><td>1</td><td>0</td><td>1</td><td>1</td><td>0</td></tr><tr><th>21</th><td>114400.0</td><td>20000.0</td><td>0.1348</td><td>704</td><td>3</td><td>37</td><td>0</td><td>fixed</td><td>0</td><td>0</td><td>1</td><td>1</td><td>1</td><td>0</td></tr><tr><th>22</th><td>31875.0</td><td>7500.0</td><td>0.1311</td><td>684</td><td>0</td><td>24</td><td>6</td><td>partime</td><td>0</td><td>1</td><td>0</td><td>1</td><td>0</td><td>1</td></tr><tr><th>23</th><td>65000.0</td><td>14000.0</td><td>0.1531</td><td>684</td><td>0</td><td>23</td><td>1</td><td>fixed</td><td>0</td><td>0</td><td>1</td><td>1</td><td>1</td><td>0</td></tr><tr><th>24</th><td>25000.0</td><td>13000.0</td><td>0.1595</td><td>689</td><td>0</td><td>33</td><td>4</td><td>fixed</td><td>0</td><td>0</td><td>1</td><td>0</td><td>0</td><td>1</td></tr><tr><th>25</th><td>130606.0</td><td>20000.0</td><td>0.183</td><td>699</td><td>2</td><td>23</td><td>16</td><td>fixed</td><td>0</td><td>1</td><td>0</td><td>1</td><td>1</td><td>0</td></tr><tr><th>26</th><td>34800.0</td><td>7350.0</td><td>0.1422</td><td>689</td><td>2</td><td>26</td><td>12</td><td>fixed</td><td>0</td><td>0</td><td>0</td><td>1</td><td>1</td><td>0</td></tr><tr><th>27</th><td>33996.0</td><td>9600.0</td><td>0.0988</td><td>734</td><td>1</td><td>25</td><td>12</td><td>fixed</td><td>0</td><td>1</td><td>0</td><td>1</td><td>1</td><td>0</td></tr><tr><th>28</th><td>61000.0</td><td>10000.0</td><td>0.1607</td><td>669</td><td>1</td><td>35</td><td>18</td><td>fixed</td><td>0</td><td>1</td><td>0</td><td>1</td><td>1</td><td>0</td></tr><tr><th>29</th><td>45000.0</td><td>8000.0</td><td>0.0751</td><td>769</td><td>1</td><td>23</td><td>1</td><td>partime</td><td>0</td><td>0</td><td>1</td><td>1</td><td>0</td><td>0</td></tr><tr><th>30</th><td>160000.0</td><td>15000.0</td><td>0.1682</td><td>684</td><td>0</td><td>26</td><td>2</td><td>fixed</td><td>0</td><td>1</td><td>0</td><td>1</td><td>1</td><td>0</td></tr><tr><th>&vellip;</th><td>&vellip;</td><td>&vellip;</td><td>&vellip;</td><td>&vellip;</td><td>&vellip;</td><td>&vellip;</td><td>&vellip;</td><td>&vellip;</td><td>&vellip;</td><td>&vellip;</td><td>&vellip;</td><td>&vellip;</td><td>&vellip;</td><td>&vellip;</td></tr></tbody></table>"
      ],
      "text/plain": [
       "10542×14 DataFrames.DataFrame\n",
       "│ Row   │ annual_inc │ loan_amnt │ int_rate │ cibil_score │ inq_last_6mths │\n",
       "├───────┼────────────┼───────────┼──────────┼─────────────┼────────────────┤\n",
       "│ 1     │ 54000.0    │ 1200.0    │ 0.1311   │ 679         │ 0              │\n",
       "│ 2     │ 148000.0   │ 4000.0    │ 0.0788   │ 729         │ 0              │\n",
       "│ 3     │ 45000.0    │ 5600.0    │ 0.1496   │ 669         │ 0              │\n",
       "│ 4     │ 54000.0    │ 3200.0    │ 0.0988   │ 744         │ 0              │\n",
       "│ 5     │ 24000.0    │ 2800.0    │ 0.1149   │ 709         │ 0              │\n",
       "│ 6     │ 100000.0   │ 3000.0    │ 0.0714   │ 749         │ 0              │\n",
       "│ 7     │ 125000.0   │ 15500.0   │ 0.0788   │ 784         │ 1              │\n",
       "│ 8     │ 84996.0    │ 15000.0   │ 0.157    │ 674         │ 1              │\n",
       "│ 9     │ 60000.0    │ 10000.0   │ 0.1273   │ 714         │ 0              │\n",
       "│ 10    │ 71000.0    │ 8000.0    │ 0.1112   │ 714         │ 0              │\n",
       "│ 11    │ 60000.0    │ 7500.0    │ 0.1025   │ 719         │ 2              │\n",
       "⋮\n",
       "│ 10531 │ 56400.0    │ 5000.0    │ 0.0654   │ 729         │ 0              │\n",
       "│ 10532 │ 75000.0    │ 12000.0   │ 0.1261   │ 684         │ 1              │\n",
       "│ 10533 │ 58000.0    │ 10000.0   │ 0.0654   │ 734         │ 1              │\n",
       "│ 10534 │ 63000.0    │ 10000.0   │ 0.0691   │ 719         │ 1              │\n",
       "│ 10535 │ 55000.0    │ 15000.0   │ 0.0617   │ 804         │ 2              │\n",
       "│ 10536 │ 55000.0    │ 18000.0   │ 0.1632   │ 694         │ 0              │\n",
       "│ 10537 │ 80000.0    │ 25000.0   │ 0.1409   │ 709         │ 2              │\n",
       "│ 10538 │ 48000.0    │ 10000.0   │ 0.1557   │ 714         │ 3              │\n",
       "│ 10539 │ 55000.0    │ 3200.0    │ 0.1298   │ 674         │ 3              │\n",
       "│ 10540 │ 53000.0    │ 15000.0   │ 0.152    │ 704         │ 0              │\n",
       "│ 10541 │ 43200.0    │ 16800.0   │ 0.0617   │ 754         │ 2              │\n",
       "│ 10542 │ 948000.0   │ 2000.0    │ 0.0999   │ 689         │ 2              │\n",
       "\n",
       "│ Row   │ age │ emp_length │ job         │ loan_status │ Rent │ Mortgage │\n",
       "├───────┼─────┼────────────┼─────────────┼─────────────┼──────┼──────────┤\n",
       "│ 1     │ 36  │ 5          │ \"freelance\" │ 0           │ 0    │ 0        │\n",
       "│ 2     │ 25  │ 8          │ \"partime\"   │ 0           │ 0    │ 1        │\n",
       "│ 3     │ 22  │ 2          │ \"fixed\"     │ 1           │ 1    │ 0        │\n",
       "│ 4     │ 25  │ 4          │ \"fixed\"     │ 0           │ 1    │ 0        │\n",
       "│ 5     │ 26  │ 17         │ \"fixed\"     │ 0           │ 1    │ 0        │\n",
       "│ 6     │ 22  │ 8          │ \"freelance\" │ 0           │ 0    │ 1        │\n",
       "│ 7     │ 29  │ 3          │ \"freelance\" │ 0           │ 1    │ 0        │\n",
       "│ 8     │ 29  │ 13         │ \"freelance\" │ 0           │ 1    │ 0        │\n",
       "│ 9     │ 22  │ 15         │ \"fixed\"     │ 0           │ 1    │ 0        │\n",
       "│ 10    │ 26  │ 5          │ \"fixed\"     │ 0           │ 1    │ 0        │\n",
       "│ 11    │ 23  │ 24         │ \"freelance\" │ 1           │ 1    │ 0        │\n",
       "⋮\n",
       "│ 10531 │ 27  │ 2          │ \"fixed\"     │ 1           │ 0    │ 0        │\n",
       "│ 10532 │ 29  │ 15         │ \"fixed\"     │ 0           │ 0    │ 1        │\n",
       "│ 10533 │ 38  │ NA         │ \"fixed\"     │ 0           │ 1    │ 0        │\n",
       "│ 10534 │ 23  │ 11         │ \"freelance\" │ 0           │ 0    │ 1        │\n",
       "│ 10535 │ 28  │ 8          │ \"fixed\"     │ 0           │ 0    │ 1        │\n",
       "│ 10536 │ 25  │ 4          │ \"fixed\"     │ 1           │ 1    │ 0        │\n",
       "│ 10537 │ 22  │ 4          │ \"fixed\"     │ 0           │ 1    │ 0        │\n",
       "│ 10538 │ 22  │ 5          │ \"freelance\" │ 1           │ 0    │ 1        │\n",
       "│ 10539 │ 28  │ 22         │ \"fixed\"     │ 0           │ 1    │ 0        │\n",
       "│ 10540 │ 33  │ 3          │ \"partime\"   │ 1           │ 1    │ 0        │\n",
       "│ 10541 │ 26  │ 0          │ \"fixed\"     │ 1           │ 0    │ 1        │\n",
       "│ 10542 │ 24  │ 3          │ \"fixed\"     │ 0           │ 0    │ 1        │\n",
       "\n",
       "│ Row   │ _36_months │ married │ single │\n",
       "├───────┼────────────┼─────────┼────────┤\n",
       "│ 1     │ 1          │ 1       │ 0      │\n",
       "│ 2     │ 1          │ 0       │ 1      │\n",
       "│ 3     │ 1          │ 1       │ 0      │\n",
       "│ 4     │ 1          │ 1       │ 0      │\n",
       "│ 5     │ 0          │ 1       │ 0      │\n",
       "│ 6     │ 1          │ 1       │ 0      │\n",
       "│ 7     │ 1          │ 0       │ 1      │\n",
       "│ 8     │ 1          │ 0       │ 0      │\n",
       "│ 9     │ 1          │ 0       │ 1      │\n",
       "│ 10    │ 1          │ 1       │ 0      │\n",
       "│ 11    │ 1          │ 1       │ 0      │\n",
       "⋮\n",
       "│ 10531 │ 1          │ 0       │ 1      │\n",
       "│ 10532 │ 1          │ 1       │ 0      │\n",
       "│ 10533 │ 1          │ 1       │ 0      │\n",
       "│ 10534 │ 1          │ 0       │ 1      │\n",
       "│ 10535 │ 1          │ 1       │ 0      │\n",
       "│ 10536 │ 0          │ 1       │ 0      │\n",
       "│ 10537 │ 1          │ 1       │ 0      │\n",
       "│ 10538 │ 0          │ 0       │ 1      │\n",
       "│ 10539 │ 1          │ 1       │ 0      │\n",
       "│ 10540 │ 0          │ 0       │ 1      │\n",
       "│ 10541 │ 1          │ 0       │ 1      │\n",
       "│ 10542 │ 1          │ 1       │ 0      │"
      ]
     },
     "execution_count": 16,
     "metadata": {},
     "output_type": "execute_result"
    }
   ],
   "source": [
    "# Label Encoding-- marital\n",
    "data[:married] = ifelse.(data[:marital] .== \"married\",1,0)\n",
    "data[:single] = ifelse.(data[:marital] .== \"single\",1,0)\n",
    "delete!(data,:marital)"
   ]
  },
  {
   "cell_type": "code",
   "execution_count": 17,
   "metadata": {},
   "outputs": [
    {
     "data": {
      "text/html": [
       "<table class=\"data-frame\"><thead><tr><th></th><th>annual_inc</th><th>loan_amnt</th><th>int_rate</th><th>cibil_score</th><th>inq_last_6mths</th><th>age</th><th>emp_length</th><th>loan_status</th><th>Rent</th><th>Mortgage</th><th>_36_months</th><th>married</th><th>single</th><th>job_fixed</th><th>job_freelance</th><th>job_parttime</th></tr></thead><tbody><tr><th>1</th><td>54000.0</td><td>1200.0</td><td>0.1311</td><td>679</td><td>0</td><td>36</td><td>5</td><td>0</td><td>0</td><td>0</td><td>1</td><td>1</td><td>0</td><td>0</td><td>1</td><td>0</td></tr><tr><th>2</th><td>148000.0</td><td>4000.0</td><td>0.0788</td><td>729</td><td>0</td><td>25</td><td>8</td><td>0</td><td>0</td><td>1</td><td>1</td><td>0</td><td>1</td><td>0</td><td>0</td><td>1</td></tr><tr><th>3</th><td>45000.0</td><td>5600.0</td><td>0.1496</td><td>669</td><td>0</td><td>22</td><td>2</td><td>1</td><td>1</td><td>0</td><td>1</td><td>1</td><td>0</td><td>1</td><td>0</td><td>0</td></tr><tr><th>4</th><td>54000.0</td><td>3200.0</td><td>0.0988</td><td>744</td><td>0</td><td>25</td><td>4</td><td>0</td><td>1</td><td>0</td><td>1</td><td>1</td><td>0</td><td>1</td><td>0</td><td>0</td></tr><tr><th>5</th><td>24000.0</td><td>2800.0</td><td>0.1149</td><td>709</td><td>0</td><td>26</td><td>17</td><td>0</td><td>1</td><td>0</td><td>0</td><td>1</td><td>0</td><td>1</td><td>0</td><td>0</td></tr><tr><th>6</th><td>100000.0</td><td>3000.0</td><td>0.0714</td><td>749</td><td>0</td><td>22</td><td>8</td><td>0</td><td>0</td><td>1</td><td>1</td><td>1</td><td>0</td><td>0</td><td>1</td><td>0</td></tr><tr><th>7</th><td>125000.0</td><td>15500.0</td><td>0.0788</td><td>784</td><td>1</td><td>29</td><td>3</td><td>0</td><td>1</td><td>0</td><td>1</td><td>0</td><td>1</td><td>0</td><td>1</td><td>0</td></tr><tr><th>8</th><td>84996.0</td><td>15000.0</td><td>0.157</td><td>674</td><td>1</td><td>29</td><td>13</td><td>0</td><td>1</td><td>0</td><td>1</td><td>0</td><td>0</td><td>0</td><td>1</td><td>0</td></tr><tr><th>9</th><td>60000.0</td><td>10000.0</td><td>0.1273</td><td>714</td><td>0</td><td>22</td><td>15</td><td>0</td><td>1</td><td>0</td><td>1</td><td>0</td><td>1</td><td>1</td><td>0</td><td>0</td></tr><tr><th>10</th><td>71000.0</td><td>8000.0</td><td>0.1112</td><td>714</td><td>0</td><td>26</td><td>5</td><td>0</td><td>1</td><td>0</td><td>1</td><td>1</td><td>0</td><td>1</td><td>0</td><td>0</td></tr><tr><th>11</th><td>60000.0</td><td>7500.0</td><td>0.1025</td><td>719</td><td>2</td><td>23</td><td>24</td><td>1</td><td>1</td><td>0</td><td>1</td><td>1</td><td>0</td><td>0</td><td>1</td><td>0</td></tr><tr><th>12</th><td>65000.0</td><td>4800.0</td><td>0.0788</td><td>719</td><td>0</td><td>37</td><td>3</td><td>0</td><td>1</td><td>0</td><td>1</td><td>1</td><td>0</td><td>1</td><td>0</td><td>0</td></tr><tr><th>13</th><td>45000.0</td><td>4000.0</td><td>0.1323</td><td>679</td><td>1</td><td>24</td><td>5</td><td>0</td><td>1</td><td>0</td><td>1</td><td>1</td><td>0</td><td>1</td><td>0</td><td>0</td></tr><tr><th>14</th><td>59450.0</td><td>3000.0</td><td>0.1038</td><td>714</td><td>2</td><td>24</td><td>0</td><td>0</td><td>0</td><td>1</td><td>1</td><td>1</td><td>0</td><td>1</td><td>0</td><td>0</td></tr><tr><th>15</th><td>70000.0</td><td>10000.0</td><td>0.0988</td><td>734</td><td>3</td><td>27</td><td>3</td><td>0</td><td>0</td><td>1</td><td>1</td><td>1</td><td>0</td><td>1</td><td>0</td><td>0</td></tr><tr><th>16</th><td>55728.0</td><td>13000.0</td><td>0.1062</td><td>784</td><td>0</td><td>52</td><td>1</td><td>0</td><td>0</td><td>1</td><td>1</td><td>1</td><td>0</td><td>0</td><td>1</td><td>0</td></tr><tr><th>17</th><td>50000.0</td><td>4000.0</td><td>0.1261</td><td>674</td><td>1</td><td>23</td><td>4</td><td>0</td><td>1</td><td>0</td><td>1</td><td>0</td><td>1</td><td>0</td><td>1</td><td>0</td></tr><tr><th>18</th><td>21000.0</td><td>4500.0</td><td>0.0962</td><td>714</td><td>0</td><td>24</td><td>4</td><td>0</td><td>1</td><td>0</td><td>1</td><td>1</td><td>0</td><td>0</td><td>0</td><td>1</td></tr><tr><th>19</th><td>58000.0</td><td>14000.0</td><td>0.0751</td><td>784</td><td>1</td><td>26</td><td>20</td><td>0</td><td>0</td><td>1</td><td>1</td><td>0</td><td>1</td><td>1</td><td>0</td><td>0</td></tr><tr><th>20</th><td>60000.0</td><td>15000.0</td><td>0.1422</td><td>704</td><td>3</td><td>28</td><td>6</td><td>0</td><td>1</td><td>0</td><td>1</td><td>1</td><td>0</td><td>1</td><td>0</td><td>0</td></tr><tr><th>21</th><td>114400.0</td><td>20000.0</td><td>0.1348</td><td>704</td><td>3</td><td>37</td><td>0</td><td>0</td><td>0</td><td>1</td><td>1</td><td>1</td><td>0</td><td>1</td><td>0</td><td>0</td></tr><tr><th>22</th><td>31875.0</td><td>7500.0</td><td>0.1311</td><td>684</td><td>0</td><td>24</td><td>6</td><td>0</td><td>1</td><td>0</td><td>1</td><td>0</td><td>1</td><td>0</td><td>0</td><td>1</td></tr><tr><th>23</th><td>65000.0</td><td>14000.0</td><td>0.1531</td><td>684</td><td>0</td><td>23</td><td>1</td><td>0</td><td>0</td><td>1</td><td>1</td><td>1</td><td>0</td><td>1</td><td>0</td><td>0</td></tr><tr><th>24</th><td>25000.0</td><td>13000.0</td><td>0.1595</td><td>689</td><td>0</td><td>33</td><td>4</td><td>0</td><td>0</td><td>1</td><td>0</td><td>0</td><td>1</td><td>1</td><td>0</td><td>0</td></tr><tr><th>25</th><td>130606.0</td><td>20000.0</td><td>0.183</td><td>699</td><td>2</td><td>23</td><td>16</td><td>0</td><td>1</td><td>0</td><td>1</td><td>1</td><td>0</td><td>1</td><td>0</td><td>0</td></tr><tr><th>26</th><td>34800.0</td><td>7350.0</td><td>0.1422</td><td>689</td><td>2</td><td>26</td><td>12</td><td>0</td><td>0</td><td>0</td><td>1</td><td>1</td><td>0</td><td>1</td><td>0</td><td>0</td></tr><tr><th>27</th><td>33996.0</td><td>9600.0</td><td>0.0988</td><td>734</td><td>1</td><td>25</td><td>12</td><td>0</td><td>1</td><td>0</td><td>1</td><td>1</td><td>0</td><td>1</td><td>0</td><td>0</td></tr><tr><th>28</th><td>61000.0</td><td>10000.0</td><td>0.1607</td><td>669</td><td>1</td><td>35</td><td>18</td><td>0</td><td>1</td><td>0</td><td>1</td><td>1</td><td>0</td><td>1</td><td>0</td><td>0</td></tr><tr><th>29</th><td>45000.0</td><td>8000.0</td><td>0.0751</td><td>769</td><td>1</td><td>23</td><td>1</td><td>0</td><td>0</td><td>1</td><td>1</td><td>0</td><td>0</td><td>0</td><td>0</td><td>1</td></tr><tr><th>30</th><td>160000.0</td><td>15000.0</td><td>0.1682</td><td>684</td><td>0</td><td>26</td><td>2</td><td>0</td><td>1</td><td>0</td><td>1</td><td>1</td><td>0</td><td>1</td><td>0</td><td>0</td></tr><tr><th>&vellip;</th><td>&vellip;</td><td>&vellip;</td><td>&vellip;</td><td>&vellip;</td><td>&vellip;</td><td>&vellip;</td><td>&vellip;</td><td>&vellip;</td><td>&vellip;</td><td>&vellip;</td><td>&vellip;</td><td>&vellip;</td><td>&vellip;</td><td>&vellip;</td><td>&vellip;</td><td>&vellip;</td></tr></tbody></table>"
      ],
      "text/plain": [
       "10542×16 DataFrames.DataFrame\n",
       "│ Row   │ annual_inc │ loan_amnt │ int_rate │ cibil_score │ inq_last_6mths │\n",
       "├───────┼────────────┼───────────┼──────────┼─────────────┼────────────────┤\n",
       "│ 1     │ 54000.0    │ 1200.0    │ 0.1311   │ 679         │ 0              │\n",
       "│ 2     │ 148000.0   │ 4000.0    │ 0.0788   │ 729         │ 0              │\n",
       "│ 3     │ 45000.0    │ 5600.0    │ 0.1496   │ 669         │ 0              │\n",
       "│ 4     │ 54000.0    │ 3200.0    │ 0.0988   │ 744         │ 0              │\n",
       "│ 5     │ 24000.0    │ 2800.0    │ 0.1149   │ 709         │ 0              │\n",
       "│ 6     │ 100000.0   │ 3000.0    │ 0.0714   │ 749         │ 0              │\n",
       "│ 7     │ 125000.0   │ 15500.0   │ 0.0788   │ 784         │ 1              │\n",
       "│ 8     │ 84996.0    │ 15000.0   │ 0.157    │ 674         │ 1              │\n",
       "│ 9     │ 60000.0    │ 10000.0   │ 0.1273   │ 714         │ 0              │\n",
       "│ 10    │ 71000.0    │ 8000.0    │ 0.1112   │ 714         │ 0              │\n",
       "│ 11    │ 60000.0    │ 7500.0    │ 0.1025   │ 719         │ 2              │\n",
       "⋮\n",
       "│ 10531 │ 56400.0    │ 5000.0    │ 0.0654   │ 729         │ 0              │\n",
       "│ 10532 │ 75000.0    │ 12000.0   │ 0.1261   │ 684         │ 1              │\n",
       "│ 10533 │ 58000.0    │ 10000.0   │ 0.0654   │ 734         │ 1              │\n",
       "│ 10534 │ 63000.0    │ 10000.0   │ 0.0691   │ 719         │ 1              │\n",
       "│ 10535 │ 55000.0    │ 15000.0   │ 0.0617   │ 804         │ 2              │\n",
       "│ 10536 │ 55000.0    │ 18000.0   │ 0.1632   │ 694         │ 0              │\n",
       "│ 10537 │ 80000.0    │ 25000.0   │ 0.1409   │ 709         │ 2              │\n",
       "│ 10538 │ 48000.0    │ 10000.0   │ 0.1557   │ 714         │ 3              │\n",
       "│ 10539 │ 55000.0    │ 3200.0    │ 0.1298   │ 674         │ 3              │\n",
       "│ 10540 │ 53000.0    │ 15000.0   │ 0.152    │ 704         │ 0              │\n",
       "│ 10541 │ 43200.0    │ 16800.0   │ 0.0617   │ 754         │ 2              │\n",
       "│ 10542 │ 948000.0   │ 2000.0    │ 0.0999   │ 689         │ 2              │\n",
       "\n",
       "│ Row   │ age │ emp_length │ loan_status │ Rent │ Mortgage │ _36_months │\n",
       "├───────┼─────┼────────────┼─────────────┼──────┼──────────┼────────────┤\n",
       "│ 1     │ 36  │ 5          │ 0           │ 0    │ 0        │ 1          │\n",
       "│ 2     │ 25  │ 8          │ 0           │ 0    │ 1        │ 1          │\n",
       "│ 3     │ 22  │ 2          │ 1           │ 1    │ 0        │ 1          │\n",
       "│ 4     │ 25  │ 4          │ 0           │ 1    │ 0        │ 1          │\n",
       "│ 5     │ 26  │ 17         │ 0           │ 1    │ 0        │ 0          │\n",
       "│ 6     │ 22  │ 8          │ 0           │ 0    │ 1        │ 1          │\n",
       "│ 7     │ 29  │ 3          │ 0           │ 1    │ 0        │ 1          │\n",
       "│ 8     │ 29  │ 13         │ 0           │ 1    │ 0        │ 1          │\n",
       "│ 9     │ 22  │ 15         │ 0           │ 1    │ 0        │ 1          │\n",
       "│ 10    │ 26  │ 5          │ 0           │ 1    │ 0        │ 1          │\n",
       "│ 11    │ 23  │ 24         │ 1           │ 1    │ 0        │ 1          │\n",
       "⋮\n",
       "│ 10531 │ 27  │ 2          │ 1           │ 0    │ 0        │ 1          │\n",
       "│ 10532 │ 29  │ 15         │ 0           │ 0    │ 1        │ 1          │\n",
       "│ 10533 │ 38  │ NA         │ 0           │ 1    │ 0        │ 1          │\n",
       "│ 10534 │ 23  │ 11         │ 0           │ 0    │ 1        │ 1          │\n",
       "│ 10535 │ 28  │ 8          │ 0           │ 0    │ 1        │ 1          │\n",
       "│ 10536 │ 25  │ 4          │ 1           │ 1    │ 0        │ 0          │\n",
       "│ 10537 │ 22  │ 4          │ 0           │ 1    │ 0        │ 1          │\n",
       "│ 10538 │ 22  │ 5          │ 1           │ 0    │ 1        │ 0          │\n",
       "│ 10539 │ 28  │ 22         │ 0           │ 1    │ 0        │ 1          │\n",
       "│ 10540 │ 33  │ 3          │ 1           │ 1    │ 0        │ 0          │\n",
       "│ 10541 │ 26  │ 0          │ 1           │ 0    │ 1        │ 1          │\n",
       "│ 10542 │ 24  │ 3          │ 0           │ 0    │ 1        │ 1          │\n",
       "\n",
       "│ Row   │ married │ single │ job_fixed │ job_freelance │ job_parttime │\n",
       "├───────┼─────────┼────────┼───────────┼───────────────┼──────────────┤\n",
       "│ 1     │ 1       │ 0      │ 0         │ 1             │ 0            │\n",
       "│ 2     │ 0       │ 1      │ 0         │ 0             │ 1            │\n",
       "│ 3     │ 1       │ 0      │ 1         │ 0             │ 0            │\n",
       "│ 4     │ 1       │ 0      │ 1         │ 0             │ 0            │\n",
       "│ 5     │ 1       │ 0      │ 1         │ 0             │ 0            │\n",
       "│ 6     │ 1       │ 0      │ 0         │ 1             │ 0            │\n",
       "│ 7     │ 0       │ 1      │ 0         │ 1             │ 0            │\n",
       "│ 8     │ 0       │ 0      │ 0         │ 1             │ 0            │\n",
       "│ 9     │ 0       │ 1      │ 1         │ 0             │ 0            │\n",
       "│ 10    │ 1       │ 0      │ 1         │ 0             │ 0            │\n",
       "│ 11    │ 1       │ 0      │ 0         │ 1             │ 0            │\n",
       "⋮\n",
       "│ 10531 │ 0       │ 1      │ 1         │ 0             │ 0            │\n",
       "│ 10532 │ 1       │ 0      │ 1         │ 0             │ 0            │\n",
       "│ 10533 │ 1       │ 0      │ 1         │ 0             │ 0            │\n",
       "│ 10534 │ 0       │ 1      │ 0         │ 1             │ 0            │\n",
       "│ 10535 │ 1       │ 0      │ 1         │ 0             │ 0            │\n",
       "│ 10536 │ 1       │ 0      │ 1         │ 0             │ 0            │\n",
       "│ 10537 │ 1       │ 0      │ 1         │ 0             │ 0            │\n",
       "│ 10538 │ 0       │ 1      │ 0         │ 1             │ 0            │\n",
       "│ 10539 │ 1       │ 0      │ 1         │ 0             │ 0            │\n",
       "│ 10540 │ 0       │ 1      │ 0         │ 0             │ 1            │\n",
       "│ 10541 │ 0       │ 1      │ 1         │ 0             │ 0            │\n",
       "│ 10542 │ 1       │ 0      │ 1         │ 0             │ 0            │"
      ]
     },
     "execution_count": 17,
     "metadata": {},
     "output_type": "execute_result"
    }
   ],
   "source": [
    "# Label Encoding-- marital\n",
    "data[:job_fixed] = ifelse.(data[:job] .== \"fixed\",1,0)\n",
    "data[:job_freelance] = ifelse.(data[:job] .== \"freelance\",1,0)\n",
    "data[:job_parttime] = ifelse.(data[:job] .== \"partime\",1,0)\n",
    "delete!(data,:job)"
   ]
  },
  {
   "cell_type": "code",
   "execution_count": 18,
   "metadata": {},
   "outputs": [
    {
     "data": {
      "text/plain": [
       "(7379×16 DataFrames.DataFrame\n",
       "│ Row  │ annual_inc │ loan_amnt │ int_rate │ cibil_score │ inq_last_6mths │\n",
       "├──────┼────────────┼───────────┼──────────┼─────────────┼────────────────┤\n",
       "│ 1    │ 12000.0    │ 2200.0    │ 0.1323   │ 679         │ 0              │\n",
       "│ 2    │ 58000.0    │ 3625.0    │ 0.0617   │ 754         │ 0              │\n",
       "│ 3    │ 63000.0    │ 4500.0    │ 0.0888   │ 714         │ 2              │\n",
       "│ 4    │ 65000.0    │ 6000.0    │ 0.0788   │ 784         │ 0              │\n",
       "│ 5    │ 54996.0    │ 4200.0    │ 0.1595   │ 664         │ 1              │\n",
       "│ 6    │ 150000.0   │ 24000.0   │ 0.1183   │ 814         │ 0              │\n",
       "│ 7    │ 66924.0    │ 5000.0    │ 0.1186   │ 719         │ 0              │\n",
       "│ 8    │ 74000.0    │ 25000.0   │ 0.1719   │ 684         │ 3              │\n",
       "│ 9    │ 33600.0    │ 4000.0    │ 0.0639   │ 784         │ 1              │\n",
       "│ 10   │ 60000.0    │ 12000.0   │ 0.1682   │ 669         │ 0              │\n",
       "│ 11   │ 55000.0    │ 19200.0   │ 0.1521   │ 699         │ 0              │\n",
       "⋮\n",
       "│ 7368 │ 48000.0    │ 2850.0    │ 0.1348   │ 674         │ 1              │\n",
       "│ 7369 │ 120000.0   │ 6000.0    │ 0.0774   │ 769         │ 0              │\n",
       "│ 7370 │ 8412.0     │ 2500.0    │ 0.0714   │ 759         │ 2              │\n",
       "│ 7371 │ 45000.0    │ 4800.0    │ 0.0751   │ 729         │ 2              │\n",
       "│ 7372 │ 110004.0   │ 14000.0   │ 0.0788   │ 739         │ 0              │\n",
       "│ 7373 │ 53000.0    │ 8000.0    │ 0.0542   │ 774         │ 0              │\n",
       "│ 7374 │ 39600.0    │ 4800.0    │ 0.0676   │ 784         │ 1              │\n",
       "│ 7375 │ 60000.0    │ 10000.0   │ 0.0988   │ 759         │ 1              │\n",
       "│ 7376 │ 30000.0    │ 11500.0   │ 0.1398   │ 714         │ 0              │\n",
       "│ 7377 │ 44712.0    │ 15000.0   │ 0.1398   │ 714         │ 0              │\n",
       "│ 7378 │ 52000.0    │ 19000.0   │ 0.1075   │ 764         │ 1              │\n",
       "│ 7379 │ 55000.0    │ 10500.0   │ 0.0579   │ 754         │ 0              │\n",
       "\n",
       "│ Row  │ age │ emp_length │ loan_status │ Rent │ Mortgage │ _36_months │\n",
       "├──────┼─────┼────────────┼─────────────┼──────┼──────────┼────────────┤\n",
       "│ 1    │ 23  │ 14         │ 0           │ 1    │ 0        │ 1          │\n",
       "│ 2    │ 23  │ 2          │ 0           │ 0    │ 1        │ 1          │\n",
       "│ 3    │ 29  │ NA         │ 0           │ 0    │ 1        │ 1          │\n",
       "│ 4    │ 25  │ NA         │ 0           │ 0    │ 1        │ 0          │\n",
       "│ 5    │ 29  │ 22         │ 0           │ 1    │ 0        │ 1          │\n",
       "│ 6    │ 23  │ 2          │ 0           │ 0    │ 0        │ 1          │\n",
       "│ 7    │ 27  │ 6          │ 0           │ 1    │ 0        │ 1          │\n",
       "│ 8    │ 34  │ 9          │ 0           │ 1    │ 0        │ 1          │\n",
       "│ 9    │ 29  │ 4          │ 0           │ 0    │ 0        │ 1          │\n",
       "│ 10   │ 22  │ 4          │ 1           │ 0    │ 1        │ 0          │\n",
       "│ 11   │ 27  │ 28         │ 0           │ 1    │ 0        │ 1          │\n",
       "⋮\n",
       "│ 7368 │ 22  │ 1          │ 1           │ 0    │ 1        │ 1          │\n",
       "│ 7369 │ 26  │ 4          │ 0           │ 0    │ 1        │ 1          │\n",
       "│ 7370 │ 26  │ 5          │ 1           │ 0    │ 0        │ 1          │\n",
       "│ 7371 │ 27  │ 8          │ 0           │ 1    │ 0        │ 1          │\n",
       "│ 7372 │ 22  │ 20         │ 0           │ 1    │ 0        │ 1          │\n",
       "│ 7373 │ 22  │ 4          │ 0           │ 0    │ 1        │ 1          │\n",
       "│ 7374 │ 30  │ 16         │ 0           │ 0    │ 1        │ 1          │\n",
       "│ 7375 │ 39  │ 19         │ 0           │ 0    │ 1        │ 1          │\n",
       "│ 7376 │ 26  │ 20         │ 0           │ 0    │ 1        │ 0          │\n",
       "│ 7377 │ 47  │ 5          │ 0           │ 0    │ 1        │ 0          │\n",
       "│ 7378 │ 37  │ 0          │ 0           │ 1    │ 0        │ 1          │\n",
       "│ 7379 │ 32  │ 2          │ 0           │ 0    │ 1        │ 1          │\n",
       "\n",
       "│ Row  │ married │ single │ job_fixed │ job_freelance │ job_parttime │\n",
       "├──────┼─────────┼────────┼───────────┼───────────────┼──────────────┤\n",
       "│ 1    │ 0       │ 1      │ 0         │ 1             │ 0            │\n",
       "│ 2    │ 1       │ 0      │ 1         │ 0             │ 0            │\n",
       "│ 3    │ 0       │ 1      │ 1         │ 0             │ 0            │\n",
       "│ 4    │ 1       │ 0      │ 1         │ 0             │ 0            │\n",
       "│ 5    │ 1       │ 0      │ 0         │ 1             │ 0            │\n",
       "│ 6    │ 1       │ 0      │ 0         │ 1             │ 0            │\n",
       "│ 7    │ 0       │ 0      │ 1         │ 0             │ 0            │\n",
       "│ 8    │ 1       │ 0      │ 1         │ 0             │ 0            │\n",
       "│ 9    │ 0       │ 1      │ 1         │ 0             │ 0            │\n",
       "│ 10   │ 1       │ 0      │ 1         │ 0             │ 0            │\n",
       "│ 11   │ 1       │ 0      │ 1         │ 0             │ 0            │\n",
       "⋮\n",
       "│ 7368 │ 0       │ 0      │ 1         │ 0             │ 0            │\n",
       "│ 7369 │ 1       │ 0      │ 1         │ 0             │ 0            │\n",
       "│ 7370 │ 0       │ 1      │ 1         │ 0             │ 0            │\n",
       "│ 7371 │ 0       │ 1      │ 1         │ 0             │ 0            │\n",
       "│ 7372 │ 0       │ 1      │ 1         │ 0             │ 0            │\n",
       "│ 7373 │ 1       │ 0      │ 1         │ 0             │ 0            │\n",
       "│ 7374 │ 1       │ 0      │ 0         │ 0             │ 0            │\n",
       "│ 7375 │ 0       │ 1      │ 0         │ 0             │ 1            │\n",
       "│ 7376 │ 1       │ 0      │ 0         │ 1             │ 0            │\n",
       "│ 7377 │ 1       │ 0      │ 0         │ 1             │ 0            │\n",
       "│ 7378 │ 0       │ 1      │ 1         │ 0             │ 0            │\n",
       "│ 7379 │ 0       │ 1      │ 1         │ 0             │ 0            │, 3163×16 DataFrames.DataFrame\n",
       "│ Row  │ annual_inc │ loan_amnt │ int_rate │ cibil_score │ inq_last_6mths │\n",
       "├──────┼────────────┼───────────┼──────────┼─────────────┼────────────────┤\n",
       "│ 1    │ 48000.0    │ 11000.0   │ 0.1361   │ 709         │ 0              │\n",
       "│ 2    │ 87700.0    │ 25000.0   │ 0.1025   │ 774         │ 0              │\n",
       "│ 3    │ 110000.0   │ 25000.0   │ 0.209    │ 674         │ 2              │\n",
       "│ 4    │ 21000.0    │ 4200.0    │ 0.0542   │ 789         │ 0              │\n",
       "│ 5    │ 44300.0    │ 6000.0    │ 0.1099   │ 729         │ 1              │\n",
       "│ 6    │ 65000.0    │ 6000.0    │ 0.1756   │ 674         │ 1              │\n",
       "│ 7    │ 55000.0    │ 16750.0   │ 0.1793   │ 669         │ 0              │\n",
       "│ 8    │ 30000.0    │ 2000.0    │ 0.1422   │ 684         │ 3              │\n",
       "│ 9    │ 130000.0   │ 24000.0   │ 0.1149   │ 719         │ 1              │\n",
       "│ 10   │ 150000.0   │ 21000.0   │ 0.1183   │ 759         │ 1              │\n",
       "│ 11   │ 30000.0    │ 2700.0    │ 0.1075   │ 714         │ 0              │\n",
       "⋮\n",
       "│ 3152 │ 120000.0   │ 5600.0    │ 0.1075   │ 714         │ 1              │\n",
       "│ 3153 │ 184992.0   │ 22000.0   │ 0.1446   │ 689         │ 2              │\n",
       "│ 3154 │ 72000.0    │ 14500.0   │ 0.0788   │ 799         │ 0              │\n",
       "│ 3155 │ 9600.0     │ 2100.0    │ 0.1062   │ 699         │ 0              │\n",
       "│ 3156 │ 38000.0    │ 6200.0    │ 0.1645   │ 669         │ 1              │\n",
       "│ 3157 │ 57600.0    │ 10000.0   │ 0.1311   │ 719         │ 1              │\n",
       "│ 3158 │ 83000.0    │ 17000.0   │ 0.1025   │ 739         │ 0              │\n",
       "│ 3159 │ 87360.0    │ 7000.0    │ 0.1036   │ 684         │ 3              │\n",
       "│ 3160 │ 26000.0    │ 6000.0    │ 0.1075   │ 734         │ 0              │\n",
       "│ 3161 │ 40000.0    │ 3500.0    │ 0.0888   │ 714         │ 1              │\n",
       "│ 3162 │ 69000.0    │ 11000.0   │ 0.0788   │ 774         │ 1              │\n",
       "│ 3163 │ 139000.0   │ 24000.0   │ 0.1112   │ 784         │ 3              │\n",
       "\n",
       "│ Row  │ age │ emp_length │ loan_status │ Rent │ Mortgage │ _36_months │\n",
       "├──────┼─────┼────────────┼─────────────┼──────┼──────────┼────────────┤\n",
       "│ 1    │ 22  │ 7          │ 0           │ 1    │ 0        │ 0          │\n",
       "│ 2    │ 31  │ 1          │ 0           │ 0    │ 1        │ 1          │\n",
       "│ 3    │ 25  │ 4          │ 0           │ 1    │ 0        │ 0          │\n",
       "│ 4    │ 29  │ 17         │ 0           │ 1    │ 0        │ 1          │\n",
       "│ 5    │ 33  │ 1          │ 1           │ 0    │ 1        │ 1          │\n",
       "│ 6    │ 25  │ 9          │ 0           │ 1    │ 0        │ 0          │\n",
       "│ 7    │ 33  │ 2          │ 0           │ 1    │ 0        │ 0          │\n",
       "│ 8    │ 23  │ 13         │ 0           │ 1    │ 0        │ 1          │\n",
       "│ 9    │ 25  │ 17         │ 0           │ 1    │ 0        │ 1          │\n",
       "│ 10   │ 40  │ 2          │ 0           │ 0    │ 0        │ 1          │\n",
       "│ 11   │ 21  │ 5          │ 0           │ 1    │ 0        │ 1          │\n",
       "⋮\n",
       "│ 3152 │ 32  │ NA         │ 0           │ 0    │ 1        │ 1          │\n",
       "│ 3153 │ 32  │ 3          │ 0           │ 1    │ 0        │ 1          │\n",
       "│ 3154 │ 29  │ 7          │ 0           │ 0    │ 1        │ 1          │\n",
       "│ 3155 │ 31  │ 1          │ 0           │ 1    │ 0        │ 1          │\n",
       "│ 3156 │ 25  │ 17         │ 0           │ 0    │ 1        │ 0          │\n",
       "│ 3157 │ 42  │ 4          │ 0           │ 0    │ 1        │ 1          │\n",
       "│ 3158 │ 29  │ 1          │ 0           │ 0    │ 1        │ 1          │\n",
       "│ 3159 │ 34  │ 4          │ 0           │ 0    │ 1        │ 1          │\n",
       "│ 3160 │ 28  │ 0          │ 0           │ 1    │ 0        │ 1          │\n",
       "│ 3161 │ 28  │ 6          │ 0           │ 0    │ 1        │ 1          │\n",
       "│ 3162 │ 29  │ 0          │ 0           │ 0    │ 1        │ 1          │\n",
       "│ 3163 │ 33  │ 3          │ 0           │ 0    │ 1        │ 0          │\n",
       "\n",
       "│ Row  │ married │ single │ job_fixed │ job_freelance │ job_parttime │\n",
       "├──────┼─────────┼────────┼───────────┼───────────────┼──────────────┤\n",
       "│ 1    │ 0       │ 1      │ 1         │ 0             │ 0            │\n",
       "│ 2    │ 1       │ 0      │ 0         │ 0             │ 1            │\n",
       "│ 3    │ 1       │ 0      │ 1         │ 0             │ 0            │\n",
       "│ 4    │ 1       │ 0      │ 0         │ 1             │ 0            │\n",
       "│ 5    │ 1       │ 0      │ 1         │ 0             │ 0            │\n",
       "│ 6    │ 1       │ 0      │ 1         │ 0             │ 0            │\n",
       "│ 7    │ 1       │ 0      │ 1         │ 0             │ 0            │\n",
       "│ 8    │ 0       │ 0      │ 1         │ 0             │ 0            │\n",
       "│ 9    │ 1       │ 0      │ 0         │ 0             │ 1            │\n",
       "│ 10   │ 1       │ 0      │ 1         │ 0             │ 0            │\n",
       "│ 11   │ 1       │ 0      │ 0         │ 0             │ 0            │\n",
       "⋮\n",
       "│ 3152 │ 1       │ 0      │ 0         │ 0             │ 1            │\n",
       "│ 3153 │ 1       │ 0      │ 0         │ 1             │ 0            │\n",
       "│ 3154 │ 1       │ 0      │ 0         │ 1             │ 0            │\n",
       "│ 3155 │ 1       │ 0      │ 0         │ 0             │ 1            │\n",
       "│ 3156 │ 1       │ 0      │ 1         │ 0             │ 0            │\n",
       "│ 3157 │ 0       │ 1      │ 0         │ 1             │ 0            │\n",
       "│ 3158 │ 1       │ 0      │ 1         │ 0             │ 0            │\n",
       "│ 3159 │ 0       │ 1      │ 1         │ 0             │ 0            │\n",
       "│ 3160 │ 1       │ 0      │ 1         │ 0             │ 0            │\n",
       "│ 3161 │ 0       │ 0      │ 1         │ 0             │ 0            │\n",
       "│ 3162 │ 1       │ 0      │ 0         │ 0             │ 0            │\n",
       "│ 3163 │ 0       │ 1      │ 1         │ 0             │ 0            │)"
      ]
     },
     "execution_count": 18,
     "metadata": {},
     "output_type": "execute_result"
    }
   ],
   "source": [
    "# Partition Data into Train and Test datasets\n",
    "function partitionTrainTest(data, at = 0.7)\n",
    "    n = nrow(data)\n",
    "    idx = shuffle(1:n)\n",
    "    train_idx = view(idx, 1:floor(Int, at*n))\n",
    "    test_idx = view(idx, (floor(Int, at*n)+1):n)\n",
    "    data[train_idx,:], data[test_idx,:]\n",
    "end\n",
    "\n",
    "train,test = partitionTrainTest(data, 0.7) # 70% train"
   ]
  },
  {
   "cell_type": "code",
   "execution_count": 19,
   "metadata": {},
   "outputs": [
    {
     "name": "stdout",
     "output_type": "stream",
     "text": [
      "7379×16 DataFrames.DataFrame\n",
      "│ Col # │ Name           │ Eltype  │ Missing │\n",
      "├───────┼────────────────┼─────────┼─────────┤\n",
      "│ 1     │ annual_inc     │ Float64 │ 0       │\n",
      "│ 2     │ loan_amnt      │ Float64 │ 0       │\n",
      "│ 3     │ int_rate       │ Float64 │ 0       │\n",
      "│ 4     │ cibil_score    │ Int64   │ 0       │\n",
      "│ 5     │ inq_last_6mths │ Int64   │ 0       │\n",
      "│ 6     │ age            │ Int64   │ 0       │\n",
      "│ 7     │ emp_length     │ Int64   │ 118     │\n",
      "│ 8     │ loan_status    │ Int64   │ 0       │\n",
      "│ 9     │ Rent           │ Int64   │ 0       │\n",
      "│ 10    │ Mortgage       │ Int64   │ 0       │\n",
      "│ 11    │ _36_months     │ Int64   │ 0       │\n",
      "│ 12    │ married        │ Int64   │ 0       │\n",
      "│ 13    │ single         │ Int64   │ 0       │\n",
      "│ 14    │ job_fixed      │ Int64   │ 0       │\n",
      "│ 15    │ job_freelance  │ Int64   │ 0       │\n",
      "│ 16    │ job_parttime   │ Int64   │ 0       │"
     ]
    },
    {
     "data": {
      "text/html": [
       "5.0"
      ],
      "text/plain": [
       "5.0"
      ]
     },
     "execution_count": 19,
     "metadata": {},
     "output_type": "execute_result"
    }
   ],
   "source": [
    "# Missing value imputation- train dataset\n",
    "# Replace missing loan amount with median of loan amount\n",
    "showcols(train)\n",
    "train[isna.(train[:emp_length]),:emp_length] = floor(median(dropna(train[:emp_length])))"
   ]
  },
  {
   "cell_type": "code",
   "execution_count": 20,
   "metadata": {},
   "outputs": [
    {
     "name": "stdout",
     "output_type": "stream",
     "text": [
      "3163×16 DataFrames.DataFrame\n",
      "│ Col # │ Name           │ Eltype  │ Missing │\n",
      "├───────┼────────────────┼─────────┼─────────┤\n",
      "│ 1     │ annual_inc     │ Float64 │ 0       │\n",
      "│ 2     │ loan_amnt      │ Float64 │ 0       │\n",
      "│ 3     │ int_rate       │ Float64 │ 0       │\n",
      "│ 4     │ cibil_score    │ Int64   │ 0       │\n",
      "│ 5     │ inq_last_6mths │ Int64   │ 0       │\n",
      "│ 6     │ age            │ Int64   │ 0       │\n",
      "│ 7     │ emp_length     │ Int64   │ 43      │\n",
      "│ 8     │ loan_status    │ Int64   │ 0       │\n",
      "│ 9     │ Rent           │ Int64   │ 0       │\n",
      "│ 10    │ Mortgage       │ Int64   │ 0       │\n",
      "│ 11    │ _36_months     │ Int64   │ 0       │\n",
      "│ 12    │ married        │ Int64   │ 0       │\n",
      "│ 13    │ single         │ Int64   │ 0       │\n",
      "│ 14    │ job_fixed      │ Int64   │ 0       │\n",
      "│ 15    │ job_freelance  │ Int64   │ 0       │\n",
      "│ 16    │ job_parttime   │ Int64   │ 0       │"
     ]
    },
    {
     "data": {
      "text/html": [
       "4.0"
      ],
      "text/plain": [
       "4.0"
      ]
     },
     "execution_count": 20,
     "metadata": {},
     "output_type": "execute_result"
    }
   ],
   "source": [
    "# Missing value imputation-- test dataset\n",
    "# Replace missing loan amount with median of loan amount\n",
    "showcols(test)\n",
    "test[isna.(test[:emp_length]),:emp_length] = floor(median(dropna(test[:emp_length])))"
   ]
  },
  {
   "cell_type": "code",
   "execution_count": 21,
   "metadata": {},
   "outputs": [
    {
     "name": "stdout",
     "output_type": "stream",
     "text": [
      "7379×16 DataFrames.DataFrame\n",
      "│ Col # │ Name           │ Eltype  │ Missing │\n",
      "├───────┼────────────────┼─────────┼─────────┤\n",
      "│ 1     │ annual_inc     │ Float64 │ 0       │\n",
      "│ 2     │ loan_amnt      │ Float64 │ 0       │\n",
      "│ 3     │ int_rate       │ Float64 │ 0       │\n",
      "│ 4     │ cibil_score    │ Int64   │ 0       │\n",
      "│ 5     │ inq_last_6mths │ Int64   │ 0       │\n",
      "│ 6     │ age            │ Int64   │ 0       │\n",
      "│ 7     │ emp_length     │ Int64   │ 0       │\n",
      "│ 8     │ loan_status    │ Int64   │ 0       │\n",
      "│ 9     │ Rent           │ Int64   │ 0       │\n",
      "│ 10    │ Mortgage       │ Int64   │ 0       │\n",
      "│ 11    │ _36_months     │ Int64   │ 0       │\n",
      "│ 12    │ married        │ Int64   │ 0       │\n",
      "│ 13    │ single         │ Int64   │ 0       │\n",
      "│ 14    │ job_fixed      │ Int64   │ 0       │\n",
      "│ 15    │ job_freelance  │ Int64   │ 0       │\n",
      "│ 16    │ job_parttime   │ Int64   │ 0       │"
     ]
    }
   ],
   "source": [
    "showcols(train)"
   ]
  },
  {
   "cell_type": "code",
   "execution_count": 22,
   "metadata": {},
   "outputs": [
    {
     "name": "stdout",
     "output_type": "stream",
     "text": [
      "3163×16 DataFrames.DataFrame\n",
      "│ Col # │ Name           │ Eltype  │ Missing │\n",
      "├───────┼────────────────┼─────────┼─────────┤\n",
      "│ 1     │ annual_inc     │ Float64 │ 0       │\n",
      "│ 2     │ loan_amnt      │ Float64 │ 0       │\n",
      "│ 3     │ int_rate       │ Float64 │ 0       │\n",
      "│ 4     │ cibil_score    │ Int64   │ 0       │\n",
      "│ 5     │ inq_last_6mths │ Int64   │ 0       │\n",
      "│ 6     │ age            │ Int64   │ 0       │\n",
      "│ 7     │ emp_length     │ Int64   │ 0       │\n",
      "│ 8     │ loan_status    │ Int64   │ 0       │\n",
      "│ 9     │ Rent           │ Int64   │ 0       │\n",
      "│ 10    │ Mortgage       │ Int64   │ 0       │\n",
      "│ 11    │ _36_months     │ Int64   │ 0       │\n",
      "│ 12    │ married        │ Int64   │ 0       │\n",
      "│ 13    │ single         │ Int64   │ 0       │\n",
      "│ 14    │ job_fixed      │ Int64   │ 0       │\n",
      "│ 15    │ job_freelance  │ Int64   │ 0       │\n",
      "│ 16    │ job_parttime   │ Int64   │ 0       │"
     ]
    }
   ],
   "source": [
    "showcols(test)"
   ]
  },
  {
   "cell_type": "code",
   "execution_count": 23,
   "metadata": {},
   "outputs": [
    {
     "data": {
      "text/html": [
       "<table class=\"data-frame\"><thead><tr><th></th><th>annual_inc</th><th>loan_amnt</th><th>int_rate</th><th>cibil_score</th><th>inq_last_6mths</th><th>age</th><th>emp_length</th><th>Rent</th><th>Mortgage</th><th>_36_months</th><th>married</th><th>single</th><th>job_fixed</th><th>job_freelance</th><th>job_parttime</th></tr></thead><tbody><tr><th>1</th><td>48000.0</td><td>11000.0</td><td>0.1361</td><td>709</td><td>0</td><td>22</td><td>7</td><td>1</td><td>0</td><td>0</td><td>0</td><td>1</td><td>1</td><td>0</td><td>0</td></tr><tr><th>2</th><td>87700.0</td><td>25000.0</td><td>0.1025</td><td>774</td><td>0</td><td>31</td><td>1</td><td>0</td><td>1</td><td>1</td><td>1</td><td>0</td><td>0</td><td>0</td><td>1</td></tr><tr><th>3</th><td>110000.0</td><td>25000.0</td><td>0.209</td><td>674</td><td>2</td><td>25</td><td>4</td><td>1</td><td>0</td><td>0</td><td>1</td><td>0</td><td>1</td><td>0</td><td>0</td></tr><tr><th>4</th><td>21000.0</td><td>4200.0</td><td>0.0542</td><td>789</td><td>0</td><td>29</td><td>17</td><td>1</td><td>0</td><td>1</td><td>1</td><td>0</td><td>0</td><td>1</td><td>0</td></tr><tr><th>5</th><td>44300.0</td><td>6000.0</td><td>0.1099</td><td>729</td><td>1</td><td>33</td><td>1</td><td>0</td><td>1</td><td>1</td><td>1</td><td>0</td><td>1</td><td>0</td><td>0</td></tr><tr><th>6</th><td>65000.0</td><td>6000.0</td><td>0.1756</td><td>674</td><td>1</td><td>25</td><td>9</td><td>1</td><td>0</td><td>0</td><td>1</td><td>0</td><td>1</td><td>0</td><td>0</td></tr><tr><th>7</th><td>55000.0</td><td>16750.0</td><td>0.1793</td><td>669</td><td>0</td><td>33</td><td>2</td><td>1</td><td>0</td><td>0</td><td>1</td><td>0</td><td>1</td><td>0</td><td>0</td></tr><tr><th>8</th><td>30000.0</td><td>2000.0</td><td>0.1422</td><td>684</td><td>3</td><td>23</td><td>13</td><td>1</td><td>0</td><td>1</td><td>0</td><td>0</td><td>1</td><td>0</td><td>0</td></tr><tr><th>9</th><td>130000.0</td><td>24000.0</td><td>0.1149</td><td>719</td><td>1</td><td>25</td><td>17</td><td>1</td><td>0</td><td>1</td><td>1</td><td>0</td><td>0</td><td>0</td><td>1</td></tr><tr><th>10</th><td>150000.0</td><td>21000.0</td><td>0.1183</td><td>759</td><td>1</td><td>40</td><td>2</td><td>0</td><td>0</td><td>1</td><td>1</td><td>0</td><td>1</td><td>0</td><td>0</td></tr><tr><th>11</th><td>30000.0</td><td>2700.0</td><td>0.1075</td><td>714</td><td>0</td><td>21</td><td>5</td><td>1</td><td>0</td><td>1</td><td>1</td><td>0</td><td>0</td><td>0</td><td>0</td></tr><tr><th>12</th><td>80004.0</td><td>10000.0</td><td>0.152</td><td>684</td><td>0</td><td>27</td><td>6</td><td>1</td><td>0</td><td>1</td><td>1</td><td>0</td><td>0</td><td>0</td><td>1</td></tr><tr><th>13</th><td>80004.0</td><td>5500.0</td><td>0.1075</td><td>709</td><td>1</td><td>28</td><td>2</td><td>0</td><td>1</td><td>1</td><td>1</td><td>0</td><td>0</td><td>0</td><td>1</td></tr><tr><th>14</th><td>80000.0</td><td>5000.0</td><td>0.1223</td><td>684</td><td>0</td><td>23</td><td>5</td><td>1</td><td>0</td><td>1</td><td>0</td><td>0</td><td>1</td><td>0</td><td>0</td></tr><tr><th>15</th><td>24000.0</td><td>1200.0</td><td>0.1558</td><td>704</td><td>0</td><td>42</td><td>0</td><td>0</td><td>1</td><td>0</td><td>1</td><td>0</td><td>0</td><td>0</td><td>0</td></tr><tr><th>16</th><td>200000.0</td><td>16000.0</td><td>0.0705</td><td>739</td><td>0</td><td>27</td><td>5</td><td>0</td><td>0</td><td>1</td><td>1</td><td>0</td><td>1</td><td>0</td><td>0</td></tr><tr><th>17</th><td>19200.0</td><td>4000.0</td><td>0.1435</td><td>694</td><td>2</td><td>55</td><td>15</td><td>1</td><td>0</td><td>1</td><td>1</td><td>0</td><td>1</td><td>0</td><td>0</td></tr><tr><th>18</th><td>67000.0</td><td>25000.0</td><td>0.1446</td><td>724</td><td>0</td><td>28</td><td>4</td><td>0</td><td>1</td><td>0</td><td>1</td><td>0</td><td>1</td><td>0</td><td>0</td></tr><tr><th>19</th><td>92070.0</td><td>5000.0</td><td>0.1595</td><td>679</td><td>0</td><td>24</td><td>2</td><td>0</td><td>1</td><td>0</td><td>1</td><td>0</td><td>1</td><td>0</td><td>0</td></tr><tr><th>20</th><td>99600.0</td><td>5000.0</td><td>0.1186</td><td>689</td><td>2</td><td>27</td><td>1</td><td>0</td><td>1</td><td>1</td><td>1</td><td>0</td><td>1</td><td>0</td><td>0</td></tr><tr><th>21</th><td>32280.0</td><td>2400.0</td><td>0.0888</td><td>719</td><td>0</td><td>31</td><td>6</td><td>1</td><td>0</td><td>1</td><td>0</td><td>1</td><td>0</td><td>0</td><td>1</td></tr><tr><th>22</th><td>38000.0</td><td>15000.0</td><td>0.0788</td><td>759</td><td>0</td><td>28</td><td>2</td><td>1</td><td>0</td><td>1</td><td>1</td><td>0</td><td>1</td><td>0</td><td>0</td></tr><tr><th>23</th><td>69500.0</td><td>20000.0</td><td>0.1774</td><td>664</td><td>0</td><td>30</td><td>2</td><td>1</td><td>0</td><td>1</td><td>0</td><td>0</td><td>1</td><td>0</td><td>0</td></tr><tr><th>24</th><td>35000.0</td><td>10000.0</td><td>0.0579</td><td>789</td><td>1</td><td>22</td><td>3</td><td>1</td><td>0</td><td>1</td><td>1</td><td>0</td><td>0</td><td>0</td><td>1</td></tr><tr><th>25</th><td>55000.0</td><td>20000.0</td><td>0.0654</td><td>784</td><td>2</td><td>26</td><td>26</td><td>0</td><td>1</td><td>0</td><td>1</td><td>0</td><td>1</td><td>0</td><td>0</td></tr><tr><th>26</th><td>100000.0</td><td>15000.0</td><td>0.0988</td><td>769</td><td>3</td><td>28</td><td>2</td><td>1</td><td>0</td><td>1</td><td>1</td><td>0</td><td>0</td><td>1</td><td>0</td></tr><tr><th>27</th><td>16800.0</td><td>2750.0</td><td>0.1484</td><td>679</td><td>0</td><td>23</td><td>4</td><td>1</td><td>0</td><td>1</td><td>0</td><td>1</td><td>0</td><td>1</td><td>0</td></tr><tr><th>28</th><td>100000.0</td><td>15000.0</td><td>0.1483</td><td>714</td><td>0</td><td>24</td><td>4</td><td>0</td><td>1</td><td>0</td><td>1</td><td>0</td><td>1</td><td>0</td><td>0</td></tr><tr><th>29</th><td>325000.0</td><td>6525.0</td><td>0.1632</td><td>709</td><td>1</td><td>48</td><td>2</td><td>0</td><td>1</td><td>0</td><td>1</td><td>0</td><td>1</td><td>0</td><td>0</td></tr><tr><th>30</th><td>90000.0</td><td>15000.0</td><td>0.1521</td><td>704</td><td>0</td><td>24</td><td>6</td><td>0</td><td>1</td><td>0</td><td>0</td><td>0</td><td>0</td><td>0</td><td>1</td></tr><tr><th>&vellip;</th><td>&vellip;</td><td>&vellip;</td><td>&vellip;</td><td>&vellip;</td><td>&vellip;</td><td>&vellip;</td><td>&vellip;</td><td>&vellip;</td><td>&vellip;</td><td>&vellip;</td><td>&vellip;</td><td>&vellip;</td><td>&vellip;</td><td>&vellip;</td><td>&vellip;</td></tr></tbody></table>"
      ],
      "text/plain": [
       "3163×15 DataFrames.DataFrame\n",
       "│ Row  │ annual_inc │ loan_amnt │ int_rate │ cibil_score │ inq_last_6mths │\n",
       "├──────┼────────────┼───────────┼──────────┼─────────────┼────────────────┤\n",
       "│ 1    │ 48000.0    │ 11000.0   │ 0.1361   │ 709         │ 0              │\n",
       "│ 2    │ 87700.0    │ 25000.0   │ 0.1025   │ 774         │ 0              │\n",
       "│ 3    │ 110000.0   │ 25000.0   │ 0.209    │ 674         │ 2              │\n",
       "│ 4    │ 21000.0    │ 4200.0    │ 0.0542   │ 789         │ 0              │\n",
       "│ 5    │ 44300.0    │ 6000.0    │ 0.1099   │ 729         │ 1              │\n",
       "│ 6    │ 65000.0    │ 6000.0    │ 0.1756   │ 674         │ 1              │\n",
       "│ 7    │ 55000.0    │ 16750.0   │ 0.1793   │ 669         │ 0              │\n",
       "│ 8    │ 30000.0    │ 2000.0    │ 0.1422   │ 684         │ 3              │\n",
       "│ 9    │ 130000.0   │ 24000.0   │ 0.1149   │ 719         │ 1              │\n",
       "│ 10   │ 150000.0   │ 21000.0   │ 0.1183   │ 759         │ 1              │\n",
       "│ 11   │ 30000.0    │ 2700.0    │ 0.1075   │ 714         │ 0              │\n",
       "⋮\n",
       "│ 3152 │ 120000.0   │ 5600.0    │ 0.1075   │ 714         │ 1              │\n",
       "│ 3153 │ 184992.0   │ 22000.0   │ 0.1446   │ 689         │ 2              │\n",
       "│ 3154 │ 72000.0    │ 14500.0   │ 0.0788   │ 799         │ 0              │\n",
       "│ 3155 │ 9600.0     │ 2100.0    │ 0.1062   │ 699         │ 0              │\n",
       "│ 3156 │ 38000.0    │ 6200.0    │ 0.1645   │ 669         │ 1              │\n",
       "│ 3157 │ 57600.0    │ 10000.0   │ 0.1311   │ 719         │ 1              │\n",
       "│ 3158 │ 83000.0    │ 17000.0   │ 0.1025   │ 739         │ 0              │\n",
       "│ 3159 │ 87360.0    │ 7000.0    │ 0.1036   │ 684         │ 3              │\n",
       "│ 3160 │ 26000.0    │ 6000.0    │ 0.1075   │ 734         │ 0              │\n",
       "│ 3161 │ 40000.0    │ 3500.0    │ 0.0888   │ 714         │ 1              │\n",
       "│ 3162 │ 69000.0    │ 11000.0   │ 0.0788   │ 774         │ 1              │\n",
       "│ 3163 │ 139000.0   │ 24000.0   │ 0.1112   │ 784         │ 3              │\n",
       "\n",
       "│ Row  │ age │ emp_length │ Rent │ Mortgage │ _36_months │ married │ single │\n",
       "├──────┼─────┼────────────┼──────┼──────────┼────────────┼─────────┼────────┤\n",
       "│ 1    │ 22  │ 7          │ 1    │ 0        │ 0          │ 0       │ 1      │\n",
       "│ 2    │ 31  │ 1          │ 0    │ 1        │ 1          │ 1       │ 0      │\n",
       "│ 3    │ 25  │ 4          │ 1    │ 0        │ 0          │ 1       │ 0      │\n",
       "│ 4    │ 29  │ 17         │ 1    │ 0        │ 1          │ 1       │ 0      │\n",
       "│ 5    │ 33  │ 1          │ 0    │ 1        │ 1          │ 1       │ 0      │\n",
       "│ 6    │ 25  │ 9          │ 1    │ 0        │ 0          │ 1       │ 0      │\n",
       "│ 7    │ 33  │ 2          │ 1    │ 0        │ 0          │ 1       │ 0      │\n",
       "│ 8    │ 23  │ 13         │ 1    │ 0        │ 1          │ 0       │ 0      │\n",
       "│ 9    │ 25  │ 17         │ 1    │ 0        │ 1          │ 1       │ 0      │\n",
       "│ 10   │ 40  │ 2          │ 0    │ 0        │ 1          │ 1       │ 0      │\n",
       "│ 11   │ 21  │ 5          │ 1    │ 0        │ 1          │ 1       │ 0      │\n",
       "⋮\n",
       "│ 3152 │ 32  │ 4          │ 0    │ 1        │ 1          │ 1       │ 0      │\n",
       "│ 3153 │ 32  │ 3          │ 1    │ 0        │ 1          │ 1       │ 0      │\n",
       "│ 3154 │ 29  │ 7          │ 0    │ 1        │ 1          │ 1       │ 0      │\n",
       "│ 3155 │ 31  │ 1          │ 1    │ 0        │ 1          │ 1       │ 0      │\n",
       "│ 3156 │ 25  │ 17         │ 0    │ 1        │ 0          │ 1       │ 0      │\n",
       "│ 3157 │ 42  │ 4          │ 0    │ 1        │ 1          │ 0       │ 1      │\n",
       "│ 3158 │ 29  │ 1          │ 0    │ 1        │ 1          │ 1       │ 0      │\n",
       "│ 3159 │ 34  │ 4          │ 0    │ 1        │ 1          │ 0       │ 1      │\n",
       "│ 3160 │ 28  │ 0          │ 1    │ 0        │ 1          │ 1       │ 0      │\n",
       "│ 3161 │ 28  │ 6          │ 0    │ 1        │ 1          │ 0       │ 0      │\n",
       "│ 3162 │ 29  │ 0          │ 0    │ 1        │ 1          │ 1       │ 0      │\n",
       "│ 3163 │ 33  │ 3          │ 0    │ 1        │ 0          │ 0       │ 1      │\n",
       "\n",
       "│ Row  │ job_fixed │ job_freelance │ job_parttime │\n",
       "├──────┼───────────┼───────────────┼──────────────┤\n",
       "│ 1    │ 1         │ 0             │ 0            │\n",
       "│ 2    │ 0         │ 0             │ 1            │\n",
       "│ 3    │ 1         │ 0             │ 0            │\n",
       "│ 4    │ 0         │ 1             │ 0            │\n",
       "│ 5    │ 1         │ 0             │ 0            │\n",
       "│ 6    │ 1         │ 0             │ 0            │\n",
       "│ 7    │ 1         │ 0             │ 0            │\n",
       "│ 8    │ 1         │ 0             │ 0            │\n",
       "│ 9    │ 0         │ 0             │ 1            │\n",
       "│ 10   │ 1         │ 0             │ 0            │\n",
       "│ 11   │ 0         │ 0             │ 0            │\n",
       "⋮\n",
       "│ 3152 │ 0         │ 0             │ 1            │\n",
       "│ 3153 │ 0         │ 1             │ 0            │\n",
       "│ 3154 │ 0         │ 1             │ 0            │\n",
       "│ 3155 │ 0         │ 0             │ 1            │\n",
       "│ 3156 │ 1         │ 0             │ 0            │\n",
       "│ 3157 │ 0         │ 1             │ 0            │\n",
       "│ 3158 │ 1         │ 0             │ 0            │\n",
       "│ 3159 │ 1         │ 0             │ 0            │\n",
       "│ 3160 │ 1         │ 0             │ 0            │\n",
       "│ 3161 │ 1         │ 0             │ 0            │\n",
       "│ 3162 │ 0         │ 0             │ 0            │\n",
       "│ 3163 │ 1         │ 0             │ 0            │"
      ]
     },
     "execution_count": 23,
     "metadata": {},
     "output_type": "execute_result"
    }
   ],
   "source": [
    "y_train = train[:,:loan_status]\n",
    "X_train = train[:,[1,2,3,4,5,6,7,9,10,11,12,13,14,15,16]]\n",
    "y_test = test[:,:loan_status]\n",
    "X_test = test[:,[1,2,3,4,5,6,7,9,10,11,12,13,14,15,16]]"
   ]
  },
  {
   "cell_type": "code",
   "execution_count": 24,
   "metadata": {},
   "outputs": [
    {
     "data": {
      "text/plain": [
       "(1968×15 DataFrames.SubDataFrame{Array{Int64,1}}\n",
       "│ Row  │ annual_inc │ loan_amnt │ int_rate │ cibil_score │ inq_last_6mths │\n",
       "├──────┼────────────┼───────────┼──────────┼─────────────┼────────────────┤\n",
       "│ 1    │ 120000.0   │ 10000.0   │ 0.1099   │ 724         │ 3              │\n",
       "│ 2    │ 68000.0    │ 25000.0   │ 0.1558   │ 789         │ 4              │\n",
       "│ 3    │ 38400.0    │ 6000.0    │ 0.0751   │ 764         │ 1              │\n",
       "│ 4    │ 34656.0    │ 5500.0    │ 0.0751   │ 744         │ 1              │\n",
       "│ 5    │ 22000.0    │ 4000.0    │ 0.1136   │ 719         │ 0              │\n",
       "│ 6    │ 33000.0    │ 10800.0   │ 0.1223   │ 684         │ 0              │\n",
       "│ 7    │ 55200.0    │ 7500.0    │ 0.1632   │ 669         │ 0              │\n",
       "│ 8    │ 70000.0    │ 6425.0    │ 0.1372   │ 664         │ 1              │\n",
       "│ 9    │ 38000.0    │ 5200.0    │ 0.0788   │ 729         │ 3              │\n",
       "│ 10   │ 48000.0    │ 5000.0    │ 0.0999   │ 779         │ 1              │\n",
       "│ 11   │ 39000.0    │ 3250.0    │ 0.0714   │ 744         │ 2              │\n",
       "⋮\n",
       "│ 1957 │ 14088.0    │ 1500.0    │ 0.0888   │ 714         │ 0              │\n",
       "│ 1958 │ 64584.0    │ 11975.0   │ 0.1521   │ 699         │ 0              │\n",
       "│ 1959 │ 70000.0    │ 17000.0   │ 0.0988   │ 749         │ 0              │\n",
       "│ 1960 │ 50004.0    │ 10000.0   │ 0.1136   │ 704         │ 3              │\n",
       "│ 1961 │ 95000.0    │ 14000.0   │ 0.1062   │ 729         │ 0              │\n",
       "│ 1962 │ 33000.0    │ 12000.0   │ 0.1075   │ 724         │ 0              │\n",
       "│ 1963 │ 108000.0   │ 25000.0   │ 0.1372   │ 729         │ 0              │\n",
       "│ 1964 │ 190000.0   │ 25000.0   │ 0.1446   │ 709         │ 2              │\n",
       "│ 1965 │ 75000.0    │ 15000.0   │ 0.0654   │ 744         │ 3              │\n",
       "│ 1966 │ 36000.0    │ 10750.0   │ 0.1398   │ 709         │ 2              │\n",
       "│ 1967 │ 40000.0    │ 12000.0   │ 0.0691   │ 724         │ 0              │\n",
       "│ 1968 │ 75000.0    │ 15000.0   │ 0.1496   │ 679         │ 1              │\n",
       "\n",
       "│ Row  │ age │ emp_length │ Rent │ Mortgage │ _36_months │ married │ single │\n",
       "├──────┼─────┼────────────┼──────┼──────────┼────────────┼─────────┼────────┤\n",
       "│ 1    │ 48  │ 14         │ 1    │ 0        │ 1          │ 1       │ 0      │\n",
       "│ 2    │ 30  │ 1          │ 0    │ 1        │ 0          │ 1       │ 0      │\n",
       "│ 3    │ 29  │ 2          │ 0    │ 1        │ 1          │ 1       │ 0      │\n",
       "│ 4    │ 44  │ 1          │ 0    │ 0        │ 1          │ 1       │ 0      │\n",
       "│ 5    │ 30  │ 13         │ 1    │ 0        │ 1          │ 1       │ 0      │\n",
       "│ 6    │ 29  │ 4          │ 1    │ 0        │ 1          │ 1       │ 0      │\n",
       "│ 7    │ 27  │ 3          │ 0    │ 1        │ 1          │ 1       │ 0      │\n",
       "│ 8    │ 40  │ 9          │ 1    │ 0        │ 1          │ 1       │ 0      │\n",
       "│ 9    │ 28  │ 20         │ 1    │ 0        │ 1          │ 1       │ 0      │\n",
       "│ 10   │ 32  │ 3          │ 1    │ 0        │ 1          │ 1       │ 0      │\n",
       "│ 11   │ 27  │ 9          │ 0    │ 1        │ 1          │ 1       │ 0      │\n",
       "⋮\n",
       "│ 1957 │ 24  │ 3          │ 1    │ 0        │ 1          │ 1       │ 0      │\n",
       "│ 1958 │ 40  │ 5          │ 0    │ 1        │ 0          │ 1       │ 0      │\n",
       "│ 1959 │ 21  │ 2          │ 0    │ 0        │ 1          │ 0       │ 1      │\n",
       "│ 1960 │ 27  │ 3          │ 0    │ 1        │ 1          │ 1       │ 0      │\n",
       "│ 1961 │ 21  │ 11         │ 1    │ 0        │ 1          │ 1       │ 0      │\n",
       "│ 1962 │ 27  │ 2          │ 1    │ 0        │ 1          │ 0       │ 1      │\n",
       "│ 1963 │ 23  │ 7          │ 1    │ 0        │ 0          │ 1       │ 0      │\n",
       "│ 1964 │ 34  │ 5          │ 1    │ 0        │ 1          │ 1       │ 0      │\n",
       "│ 1965 │ 23  │ 3          │ 0    │ 1        │ 1          │ 1       │ 0      │\n",
       "│ 1966 │ 21  │ 44         │ 1    │ 0        │ 0          │ 0       │ 1      │\n",
       "│ 1967 │ 30  │ 12         │ 0    │ 1        │ 1          │ 1       │ 0      │\n",
       "│ 1968 │ 39  │ 0          │ 0    │ 1        │ 1          │ 1       │ 0      │\n",
       "\n",
       "│ Row  │ job_fixed │ job_freelance │ job_parttime │\n",
       "├──────┼───────────┼───────────────┼──────────────┤\n",
       "│ 1    │ 0         │ 1             │ 0            │\n",
       "│ 2    │ 1         │ 0             │ 0            │\n",
       "│ 3    │ 1         │ 0             │ 0            │\n",
       "│ 4    │ 1         │ 0             │ 0            │\n",
       "│ 5    │ 1         │ 0             │ 0            │\n",
       "│ 6    │ 1         │ 0             │ 0            │\n",
       "│ 7    │ 1         │ 0             │ 0            │\n",
       "│ 8    │ 1         │ 0             │ 0            │\n",
       "│ 9    │ 0         │ 1             │ 0            │\n",
       "│ 10   │ 1         │ 0             │ 0            │\n",
       "│ 11   │ 1         │ 0             │ 0            │\n",
       "⋮\n",
       "│ 1957 │ 0         │ 1             │ 0            │\n",
       "│ 1958 │ 1         │ 0             │ 0            │\n",
       "│ 1959 │ 0         │ 1             │ 0            │\n",
       "│ 1960 │ 0         │ 1             │ 0            │\n",
       "│ 1961 │ 1         │ 0             │ 0            │\n",
       "│ 1962 │ 0         │ 0             │ 1            │\n",
       "│ 1963 │ 0         │ 1             │ 0            │\n",
       "│ 1964 │ 0         │ 1             │ 0            │\n",
       "│ 1965 │ 1         │ 0             │ 0            │\n",
       "│ 1966 │ 1         │ 0             │ 0            │\n",
       "│ 1967 │ 1         │ 0             │ 0            │\n",
       "│ 1968 │ 0         │ 1             │ 0            │, [1, 1, 0, 0, 1, 1, 0, 0, 0, 0  …  0, 1, 0, 0, 1, 1, 1, 1, 0, 1])"
      ]
     },
     "execution_count": 24,
     "metadata": {},
     "output_type": "execute_result"
    }
   ],
   "source": [
    "# Undersampling the training dataset\n",
    "X_train, y_train = undersample((X_train, y_train), shuffle = true)"
   ]
  },
  {
   "cell_type": "code",
   "execution_count": 25,
   "metadata": {},
   "outputs": [
    {
     "data": {
      "text/plain": [
       "3163-element Array{Int64,1}:\n",
       " 0\n",
       " 0\n",
       " 0\n",
       " 0\n",
       " 1\n",
       " 0\n",
       " 0\n",
       " 0\n",
       " 0\n",
       " 0\n",
       " 0\n",
       " 0\n",
       " 0\n",
       " ⋮\n",
       " 0\n",
       " 0\n",
       " 0\n",
       " 0\n",
       " 0\n",
       " 0\n",
       " 0\n",
       " 0\n",
       " 0\n",
       " 0\n",
       " 0\n",
       " 0"
      ]
     },
     "execution_count": 25,
     "metadata": {},
     "output_type": "execute_result"
    }
   ],
   "source": [
    "# Convert all the datasets in to arrays\n",
    "# Convert data types for all the columns in training dataset to float type\n",
    "for c = eachcol(X_train)\n",
    "  if eltype(c[2]) <: Integer\n",
    "    X_train[c[1]] = X_train[c[1]] .* 1.0\n",
    "  end\n",
    "end\n",
    "\n",
    "for c = eachcol(X_test)\n",
    "  if eltype(c[2]) <: Integer\n",
    "    X_test[c[1]] = X_test[c[1]] .* 1.0\n",
    "  end\n",
    "end\n",
    "\n",
    "X_train1 = convert(Array, X_train)\n",
    "X_test1 = convert(Array, X_test)\n",
    "y_train1 = convert(Array, y_train)\n",
    "y_test1 = convert(Array, y_test)"
   ]
  },
  {
   "cell_type": "code",
   "execution_count": 35,
   "metadata": {},
   "outputs": [
    {
     "data": {
      "text/plain": [
       "fit_transform! (generic function with 2 methods)"
      ]
     },
     "execution_count": 35,
     "metadata": {},
     "output_type": "execute_result"
    }
   ],
   "source": [
    "# Build a standard scaler\n",
    "type StandardScalar\n",
    "    mean::Vector{Float64}\n",
    "    std::Vector{Float64}\n",
    "end\n",
    "\n",
    "# Helper function to initialize an empty scalar\n",
    "function StandardScalar()\n",
    "    StandardScalar(Array(Real,0),Array(Real,0))\n",
    "end\n",
    "\n",
    "# Compute mean and standard deviation of each column\n",
    "function fit_std_scalar!(std_scalar::StandardScalar,X::Matrix{Real})\n",
    "    n_rows, n_cols = size(X)\n",
    "    std_scalar.std = zeros(n_cols)\n",
    "    std_scalar.mean = zeros(n_cols)\n",
    "    # for loops are fast again!\n",
    "    for i = 1:n_cols\n",
    "        std_scalar.mean[i] = mean(X[:,i])\n",
    "        std_scalar.std[i] = std(X[:,i])\n",
    "    end\n",
    "end\n",
    "\n",
    "function transform(std_scalar::StandardScalar,X::Matrix{Real})\n",
    "    (X .- std_scalar.mean') ./ std_scalar.std' # broadcasting\n",
    "end\n",
    "\n",
    "# fit and transform in one function\n",
    "function fit_transform!(std_scalar::StandardScalar,X::Matrix{Real})\n",
    "    fit_std_scalar!(std_scalar,X)\n",
    "    transform(std_scalar,X)\n",
    "end"
   ]
  },
  {
   "cell_type": "code",
   "execution_count": 36,
   "metadata": {},
   "outputs": [
    {
     "name": "stderr",
     "output_type": "stream",
     "text": [
      "\u001b[1m\u001b[33mWARNING: \u001b[39m\u001b[22m\u001b[33mArray(::Type{T}, m::Int) where T is deprecated, use Array{T}(m) instead.\u001b[39m\n",
      "Stacktrace:\n",
      " [1] \u001b[1mdepwarn\u001b[22m\u001b[22m\u001b[1m(\u001b[22m\u001b[22m::String, ::Symbol\u001b[1m)\u001b[22m\u001b[22m at \u001b[1m.\\deprecated.jl:70\u001b[22m\u001b[22m\n",
      " [2] \u001b[1mArray\u001b[22m\u001b[22m\u001b[1m(\u001b[22m\u001b[22m::Type{Real}, ::Int64\u001b[1m)\u001b[22m\u001b[22m at \u001b[1m.\\deprecated.jl:57\u001b[22m\u001b[22m\n",
      " [3] \u001b[1mStandardScalar\u001b[22m\u001b[22m\u001b[1m(\u001b[22m\u001b[22m\u001b[1m)\u001b[22m\u001b[22m at \u001b[1m.\\In[35]:9\u001b[22m\u001b[22m\n",
      " [4] \u001b[1minclude_string\u001b[22m\u001b[22m\u001b[1m(\u001b[22m\u001b[22m::String, ::String\u001b[1m)\u001b[22m\u001b[22m at \u001b[1m.\\loading.jl:522\u001b[22m\u001b[22m\n",
      " [5] \u001b[1minclude_string\u001b[22m\u001b[22m\u001b[1m(\u001b[22m\u001b[22m::Module, ::String, ::String\u001b[1m)\u001b[22m\u001b[22m at \u001b[1mC:\\\\\\\\\\\\\\\\\\\\\\\\\\\\\\\\\\\\\\\\\\\\\\\\\\\\\\\\\\\\\\\\\\\\\\\\\\\\\\\\\\\\\\\\\\\\\\\\\\\\\\\\\\\\\\\\\\\\\\\\\\\\\\\\\\\\\\\\\\\\\\\\\\\\\\\\\\\\\\\\\\JuliaPro-0.6.2.2\\pkgs-0.6.2.2\\v0.6\\Compat\\src\\Compat.jl:71\u001b[22m\u001b[22m\n",
      " [6] \u001b[1mexecute_request\u001b[22m\u001b[22m\u001b[1m(\u001b[22m\u001b[22m::ZMQ.Socket, ::IJulia.Msg\u001b[1m)\u001b[22m\u001b[22m at \u001b[1mC:\\JuliaPro-0.6.2.2\\pkgs-0.6.2.2\\v0.6\\IJulia\\src\\execute_request.jl:158\u001b[22m\u001b[22m\n",
      " [7] \u001b[1m(::Compat.#inner#17{Array{Any,1},IJulia.#execute_request,Tuple{ZMQ.Socket,IJulia.Msg}})\u001b[22m\u001b[22m\u001b[1m(\u001b[22m\u001b[22m\u001b[1m)\u001b[22m\u001b[22m at \u001b[1mC:\\\\\\\\\\\\\\\\\\\\\\\\\\\\\\\\\\\\\\\\\\\\\\\\\\\\\\\\\\\\\\\\\\\\\\\\\\\\\\\\\\\\\\\\\\\\\\\\\\\\\\\\\\\\\\\\\\\\\\\\\\\\\\\\\\\\\\\\\\\\\\\\\\\\\\\\\\\\\\\\\\JuliaPro-0.6.2.2\\pkgs-0.6.2.2\\v0.6\\Compat\\src\\Compat.jl:385\u001b[22m\u001b[22m\n",
      " [8] \u001b[1meventloop\u001b[22m\u001b[22m\u001b[1m(\u001b[22m\u001b[22m::ZMQ.Socket\u001b[1m)\u001b[22m\u001b[22m at \u001b[1mC:\\JuliaPro-0.6.2.2\\pkgs-0.6.2.2\\v0.6\\IJulia\\src\\eventloop.jl:8\u001b[22m\u001b[22m\n",
      " [9] \u001b[1m(::IJulia.##14#17)\u001b[22m\u001b[22m\u001b[1m(\u001b[22m\u001b[22m\u001b[1m)\u001b[22m\u001b[22m at \u001b[1m.\\task.jl:335\u001b[22m\u001b[22m\n",
      "while loading In[36], in expression starting on line 2\n"
     ]
    },
    {
     "data": {
      "text/plain": [
       "3163×15 Array{Float64,2}:\n",
       " -0.302285    0.0900448   0.393808  …   0.741989  -0.552947  -0.309386\n",
       "  0.31998     2.1791     -0.584275     -1.34704   -0.552947   3.23057 \n",
       "  0.669514    2.1791      2.5159        0.741989  -0.552947  -0.309386\n",
       " -0.725488   -0.924641   -1.99027      -1.34704    1.80757   -0.309386\n",
       " -0.36028    -0.656048   -0.368864      0.741989  -0.552947  -0.309386\n",
       " -0.0358243  -0.656048    1.54364   …   0.741989  -0.552947  -0.309386\n",
       " -0.192566    0.948051    1.65134       0.741989  -0.552947  -0.309386\n",
       " -0.584421   -1.25292     0.571377      0.741989  -0.552947  -0.309386\n",
       "  0.982998    2.02989    -0.223316     -1.34704   -0.552947   3.23057 \n",
       "  1.29648     1.58223    -0.124343      0.741989  -0.552947  -0.309386\n",
       " -0.584421   -1.14847    -0.438727  …  -1.34704   -0.552947  -0.309386\n",
       "  0.199351   -0.0591737   0.856651     -1.34704   -0.552947   3.23057 \n",
       "  0.199351   -0.730657   -0.438727     -1.34704   -0.552947   3.23057 \n",
       "  ⋮                                 ⋱                                 \n",
       "  0.826256   -0.715735   -0.438727     -1.34704   -0.552947   3.23057 \n",
       "  1.84495     1.73145     0.64124      -1.34704    1.80757   -0.309386\n",
       "  0.073895    0.61231    -1.27417      -1.34704    1.80757   -0.309386\n",
       " -0.904174   -1.238      -0.476569     -1.34704   -0.552947   3.23057 \n",
       " -0.459027   -0.626204    1.22052   …   0.741989  -0.552947  -0.309386\n",
       " -0.151813   -0.0591737   0.24826      -1.34704    1.80757   -0.309386\n",
       "  0.246311    0.985356   -0.584275      0.741989  -0.552947  -0.309386\n",
       "  0.31465    -0.506829   -0.552254      0.741989  -0.552947  -0.309386\n",
       " -0.647117   -0.656048   -0.438727      0.741989  -0.552947  -0.309386\n",
       " -0.427679   -1.02909    -0.983076  …   0.741989  -0.552947  -0.309386\n",
       "  0.0268725   0.0900448  -1.27417      -1.34704   -0.552947  -0.309386\n",
       "  1.12407     2.02989    -0.331021      0.741989  -0.552947  -0.309386"
      ]
     },
     "execution_count": 36,
     "metadata": {},
     "output_type": "execute_result"
    }
   ],
   "source": [
    "# Perform Standard Scaling for all X variables\n",
    "std_scalar = StandardScalar()\n",
    "\n",
    "X_train1 = fit_transform!(std_scalar,X_train1)\n",
    "X_test1 = transform(std_scalar,X_test1)"
   ]
  },
  {
   "cell_type": "code",
   "execution_count": 37,
   "metadata": {},
   "outputs": [
    {
     "data": {
      "text/plain": [
       "1968×15 Array{Float64,2}:\n",
       "  0.826256   -0.0591737  -0.368864    …  -1.34704    1.80757   -0.309386\n",
       "  0.0111983   2.1791      0.967267        0.741989  -0.552947  -0.309386\n",
       " -0.452758   -0.656048   -1.38188         0.741989  -0.552947  -0.309386\n",
       " -0.511442   -0.730657   -1.38188         0.741989  -0.552947  -0.309386\n",
       " -0.709814   -0.954485   -0.261158        0.741989  -0.552947  -0.309386\n",
       " -0.537398    0.0602011  -0.00790456  …   0.741989  -0.552947  -0.309386\n",
       " -0.189431   -0.43222     1.18268         0.741989  -0.552947  -0.309386\n",
       "  0.0425467  -0.59263     0.425829        0.741989  -0.552947  -0.309386\n",
       " -0.459027   -0.775423   -1.27417        -1.34704    1.80757   -0.309386\n",
       " -0.302285   -0.805266   -0.65996         0.741989  -0.552947  -0.309386\n",
       " -0.443353   -1.0664     -1.48958     …   0.741989  -0.552947  -0.309386\n",
       " -0.114195   -0.0591737   0.501514        0.741989  -0.552947  -0.309386\n",
       " -0.114195   -0.0591737   0.210417        0.741989  -0.552947  -0.309386\n",
       "  ⋮                                   ⋱                                 \n",
       " -0.833828   -1.32753    -0.983076       -1.34704    1.80757   -0.309386\n",
       " -0.0423447   0.235533    0.859562        0.741989  -0.552947  -0.309386\n",
       "  0.0425467   0.985356   -0.69198        -1.34704    1.80757   -0.309386\n",
       " -0.270874   -0.0591737  -0.261158       -1.34704    1.80757   -0.309386\n",
       "  0.434401    0.5377     -0.476569    …   0.741989  -0.552947  -0.309386\n",
       " -0.537398    0.239263   -0.438727       -1.34704   -0.552947   3.23057 \n",
       "  0.638166    2.1791      0.425829       -1.34704    1.80757   -0.309386\n",
       "  1.92345     2.1791      0.64124        -1.34704    1.80757   -0.309386\n",
       "  0.120918    0.686919   -1.66424         0.741989  -0.552947  -0.309386\n",
       " -0.490376    0.0527402   0.501514    …   0.741989  -0.552947  -0.309386\n",
       " -0.427679    0.239263   -1.55654         0.741989  -0.552947  -0.309386\n",
       "  0.120918    0.686919    0.786788       -1.34704    1.80757   -0.309386"
      ]
     },
     "execution_count": 37,
     "metadata": {},
     "output_type": "execute_result"
    }
   ],
   "source": [
    "labels= y_train1\n",
    "features= X_train1"
   ]
  },
  {
   "cell_type": "code",
   "execution_count": 42,
   "metadata": {},
   "outputs": [],
   "source": [
    "# Apply Artificial Neural Network\n",
    "using ANN"
   ]
  },
  {
   "cell_type": "code",
   "execution_count": 67,
   "metadata": {},
   "outputs": [
    {
     "name": "stderr",
     "output_type": "stream",
     "text": [
      "\u001b[1m\u001b[33mWARNING: \u001b[39m\u001b[22m\u001b[33mArray(::Type{T}, m::Int) where T is deprecated, use Array{T}(m) instead.\u001b[39m\n",
      "Stacktrace:\n",
      " [1] \u001b[1mdepwarn\u001b[22m\u001b[22m\u001b[1m(\u001b[22m\u001b[22m::String, ::Symbol\u001b[1m)\u001b[22m\u001b[22m at \u001b[1m.\\deprecated.jl:70\u001b[22m\u001b[22m\n",
      " [2] \u001b[1mArray\u001b[22m\u001b[22m\u001b[1m(\u001b[22m\u001b[22m::Type{ANN.NeuralLayer}, ::Int64\u001b[1m)\u001b[22m\u001b[22m at \u001b[1m.\\deprecated.jl:57\u001b[22m\u001b[22m\n",
      " [3] \u001b[1mANN.ArtificialNeuralNetwork\u001b[22m\u001b[22m\u001b[1m(\u001b[22m\u001b[22m::Int64\u001b[1m)\u001b[22m\u001b[22m at \u001b[1mC:\\Users\\veer\\.julia\\v0.6\\ANN\\src\\base.jl:60\u001b[22m\u001b[22m\n",
      " [4] \u001b[1minclude_string\u001b[22m\u001b[22m\u001b[1m(\u001b[22m\u001b[22m::String, ::String\u001b[1m)\u001b[22m\u001b[22m at \u001b[1m.\\loading.jl:522\u001b[22m\u001b[22m\n",
      " [5] \u001b[1minclude_string\u001b[22m\u001b[22m\u001b[1m(\u001b[22m\u001b[22m::Module, ::String, ::String\u001b[1m)\u001b[22m\u001b[22m at \u001b[1mC:\\\\\\\\\\\\\\\\\\\\\\\\\\\\\\\\\\\\\\\\\\\\\\\\\\\\\\\\\\\\\\\\\\\\\\\\\\\\\\\\\\\\\\\\\\\\\\\\\\\\\\\\\\\\\\\\\\\\\\\\\\\\\\\\\\\\\\\\\\\\\\\\\\\\\\\\\\\\\\\\\\JuliaPro-0.6.2.2\\pkgs-0.6.2.2\\v0.6\\Compat\\src\\Compat.jl:71\u001b[22m\u001b[22m\n",
      " [6] \u001b[1mexecute_request\u001b[22m\u001b[22m\u001b[1m(\u001b[22m\u001b[22m::ZMQ.Socket, ::IJulia.Msg\u001b[1m)\u001b[22m\u001b[22m at \u001b[1mC:\\JuliaPro-0.6.2.2\\pkgs-0.6.2.2\\v0.6\\IJulia\\src\\execute_request.jl:158\u001b[22m\u001b[22m\n",
      " [7] \u001b[1m(::Compat.#inner#17{Array{Any,1},IJulia.#execute_request,Tuple{ZMQ.Socket,IJulia.Msg}})\u001b[22m\u001b[22m\u001b[1m(\u001b[22m\u001b[22m\u001b[1m)\u001b[22m\u001b[22m at \u001b[1mC:\\\\\\\\\\\\\\\\\\\\\\\\\\\\\\\\\\\\\\\\\\\\\\\\\\\\\\\\\\\\\\\\\\\\\\\\\\\\\\\\\\\\\\\\\\\\\\\\\\\\\\\\\\\\\\\\\\\\\\\\\\\\\\\\\\\\\\\\\\\\\\\\\\\\\\\\\\\\\\\\\\JuliaPro-0.6.2.2\\pkgs-0.6.2.2\\v0.6\\Compat\\src\\Compat.jl:385\u001b[22m\u001b[22m\n",
      " [8] \u001b[1meventloop\u001b[22m\u001b[22m\u001b[1m(\u001b[22m\u001b[22m::ZMQ.Socket\u001b[1m)\u001b[22m\u001b[22m at \u001b[1mC:\\JuliaPro-0.6.2.2\\pkgs-0.6.2.2\\v0.6\\IJulia\\src\\eventloop.jl:8\u001b[22m\u001b[22m\n",
      " [9] \u001b[1m(::IJulia.##14#17)\u001b[22m\u001b[22m\u001b[1m(\u001b[22m\u001b[22m\u001b[1m)\u001b[22m\u001b[22m at \u001b[1m.\\task.jl:335\u001b[22m\u001b[22m\n",
      "while loading In[67], in expression starting on line 1\n"
     ]
    },
    {
     "data": {
      "text/plain": [
       "ANN.ArtificialNeuralNetwork(ANN.NeuralLayer[], [32], Int64[])"
      ]
     },
     "execution_count": 67,
     "metadata": {},
     "output_type": "execute_result"
    }
   ],
   "source": [
    "ann = ArtificialNeuralNetwork(32)"
   ]
  },
  {
   "cell_type": "code",
   "execution_count": 68,
   "metadata": {},
   "outputs": [],
   "source": [
    "using ANN: fit!, predict"
   ]
  },
  {
   "cell_type": "code",
   "execution_count": 79,
   "metadata": {},
   "outputs": [
    {
     "name": "stderr",
     "output_type": "stream",
     "text": [
      "\u001b[1m\u001b[33mWARNING: \u001b[39m\u001b[22m\u001b[33mArray(::Type{T}, m::Int) where T is deprecated, use Array{T}(m) instead.\u001b[39m\n",
      "Stacktrace:\n",
      " [1] \u001b[1mdepwarn\u001b[22m\u001b[22m\u001b[1m(\u001b[22m\u001b[22m::String, ::Symbol\u001b[1m)\u001b[22m\u001b[22m at \u001b[1m.\\deprecated.jl:70\u001b[22m\u001b[22m\n",
      " [2] \u001b[1mArray\u001b[22m\u001b[22m\u001b[1m(\u001b[22m\u001b[22m::Type{ANN.NeuralLayer}, ::Int64\u001b[1m)\u001b[22m\u001b[22m at \u001b[1m.\\deprecated.jl:57\u001b[22m\u001b[22m\n",
      " [3] \u001b[1minit!\u001b[22m\u001b[22m\u001b[1m(\u001b[22m\u001b[22m::ANN.ArtificialNeuralNetwork, ::Array{Float64,2}, ::Array{Int64,1}\u001b[1m)\u001b[22m\u001b[22m at \u001b[1mC:\\Users\\veer\\.julia\\v0.6\\ANN\\src\\base.jl:80\u001b[22m\u001b[22m\n",
      " [4] \u001b[1m#fit!#3\u001b[22m\u001b[22m\u001b[1m(\u001b[22m\u001b[22m::Int64, ::Float64, ::Float64, ::Function, ::ANN.ArtificialNeuralNetwork, ::Array{Float64,2}, ::Array{Int64,1}\u001b[1m)\u001b[22m\u001b[22m at \u001b[1mC:\\Users\\veer\\.julia\\v0.6\\ANN\\src\\base.jl:101\u001b[22m\u001b[22m\n",
      " [5] \u001b[1m(::ANN.#kw##fit!)\u001b[22m\u001b[22m\u001b[1m(\u001b[22m\u001b[22m::Array{Any,1}, ::ANN.#fit!, ::ANN.ArtificialNeuralNetwork, ::Array{Float64,2}, ::Array{Int64,1}\u001b[1m)\u001b[22m\u001b[22m at \u001b[1m.\\<missing>:0\u001b[22m\u001b[22m\n",
      " [6] \u001b[1minclude_string\u001b[22m\u001b[22m\u001b[1m(\u001b[22m\u001b[22m::String, ::String\u001b[1m)\u001b[22m\u001b[22m at \u001b[1m.\\loading.jl:522\u001b[22m\u001b[22m\n",
      " [7] \u001b[1minclude_string\u001b[22m\u001b[22m\u001b[1m(\u001b[22m\u001b[22m::Module, ::String, ::String\u001b[1m)\u001b[22m\u001b[22m at \u001b[1mC:\\\\\\\\\\\\\\\\\\\\\\\\\\\\\\\\\\\\\\\\\\\\\\\\\\\\\\\\\\\\\\\\\\\\\\\\\\\\\\\\\\\\\\\\\\\\\\\\\\\\\\\\\\\\\\\\\\\\\\\\\\\\\\\\\\\\\\\\\\\\\\\\\\\\\\\\\\\\\\\\\\JuliaPro-0.6.2.2\\pkgs-0.6.2.2\\v0.6\\Compat\\src\\Compat.jl:71\u001b[22m\u001b[22m\n",
      " [8] \u001b[1mexecute_request\u001b[22m\u001b[22m\u001b[1m(\u001b[22m\u001b[22m::ZMQ.Socket, ::IJulia.Msg\u001b[1m)\u001b[22m\u001b[22m at \u001b[1mC:\\JuliaPro-0.6.2.2\\pkgs-0.6.2.2\\v0.6\\IJulia\\src\\execute_request.jl:158\u001b[22m\u001b[22m\n",
      " [9] \u001b[1m(::Compat.#inner#17{Array{Any,1},IJulia.#execute_request,Tuple{ZMQ.Socket,IJulia.Msg}})\u001b[22m\u001b[22m\u001b[1m(\u001b[22m\u001b[22m\u001b[1m)\u001b[22m\u001b[22m at \u001b[1mC:\\\\\\\\\\\\\\\\\\\\\\\\\\\\\\\\\\\\\\\\\\\\\\\\\\\\\\\\\\\\\\\\\\\\\\\\\\\\\\\\\\\\\\\\\\\\\\\\\\\\\\\\\\\\\\\\\\\\\\\\\\\\\\\\\\\\\\\\\\\\\\\\\\\\\\\\\\\\\\\\\\JuliaPro-0.6.2.2\\pkgs-0.6.2.2\\v0.6\\Compat\\src\\Compat.jl:385\u001b[22m\u001b[22m\n",
      " [10] \u001b[1meventloop\u001b[22m\u001b[22m\u001b[1m(\u001b[22m\u001b[22m::ZMQ.Socket\u001b[1m)\u001b[22m\u001b[22m at \u001b[1mC:\\JuliaPro-0.6.2.2\\pkgs-0.6.2.2\\v0.6\\IJulia\\src\\eventloop.jl:8\u001b[22m\u001b[22m\n",
      " [11] \u001b[1m(::IJulia.##14#17)\u001b[22m\u001b[22m\u001b[1m(\u001b[22m\u001b[22m\u001b[1m)\u001b[22m\u001b[22m at \u001b[1m.\\task.jl:335\u001b[22m\u001b[22m\n",
      "while loading In[79], in expression starting on line 1\n",
      "\u001b[1m\u001b[33mWARNING: \u001b[39m\u001b[22m\u001b[33mexp(x::AbstractArray{T}) where T <: Number is deprecated, use exp.(x) instead.\u001b[39m\n",
      "Stacktrace:\n",
      " [1] \u001b[1mdepwarn\u001b[22m\u001b[22m\u001b[1m(\u001b[22m\u001b[22m::String, ::Symbol\u001b[1m)\u001b[22m\u001b[22m at \u001b[1m.\\deprecated.jl:70\u001b[22m\u001b[22m\n",
      " [2] \u001b[1mexp\u001b[22m\u001b[22m\u001b[1m(\u001b[22m\u001b[22m::Array{Float64,1}\u001b[1m)\u001b[22m\u001b[22m at \u001b[1m.\\deprecated.jl:57\u001b[22m\u001b[22m\n",
      " [3] \u001b[1msigm\u001b[22m\u001b[22m\u001b[1m(\u001b[22m\u001b[22m::Array{Float64,1}\u001b[1m)\u001b[22m\u001b[22m at \u001b[1mC:\\Users\\veer\\.julia\\v0.6\\ANN\\src\\base.jl:20\u001b[22m\u001b[22m\n",
      " [4] \u001b[1mforward_propagate\u001b[22m\u001b[22m\u001b[1m(\u001b[22m\u001b[22m::ANN.NeuralLayer, ::Array{Float64,1}\u001b[1m)\u001b[22m\u001b[22m at \u001b[1mC:\\Users\\veer\\.julia\\v0.6\\ANN\\src\\base.jl:68\u001b[22m\u001b[22m\n",
      " [5] \u001b[1mpredict\u001b[22m\u001b[22m\u001b[1m(\u001b[22m\u001b[22m::ANN.ArtificialNeuralNetwork, ::Array{Float64,1}\u001b[1m)\u001b[22m\u001b[22m at \u001b[1mC:\\Users\\veer\\.julia\\v0.6\\ANN\\src\\base.jl:136\u001b[22m\u001b[22m\n",
      " [6] \u001b[1m#fit!#3\u001b[22m\u001b[22m\u001b[1m(\u001b[22m\u001b[22m::Int64, ::Float64, ::Float64, ::Function, ::ANN.ArtificialNeuralNetwork, ::Array{Float64,2}, ::Array{Int64,1}\u001b[1m)\u001b[22m\u001b[22m at \u001b[1mC:\\Users\\veer\\.julia\\v0.6\\ANN\\src\\base.jl:110\u001b[22m\u001b[22m\n",
      " [7] \u001b[1m(::ANN.#kw##fit!)\u001b[22m\u001b[22m\u001b[1m(\u001b[22m\u001b[22m::Array{Any,1}, ::ANN.#fit!, ::ANN.ArtificialNeuralNetwork, ::Array{Float64,2}, ::Array{Int64,1}\u001b[1m)\u001b[22m\u001b[22m at \u001b[1m.\\<missing>:0\u001b[22m\u001b[22m\n",
      " [8] \u001b[1minclude_string\u001b[22m\u001b[22m\u001b[1m(\u001b[22m\u001b[22m::String, ::String\u001b[1m)\u001b[22m\u001b[22m at \u001b[1m.\\loading.jl:522\u001b[22m\u001b[22m\n",
      " [9] \u001b[1minclude_string\u001b[22m\u001b[22m\u001b[1m(\u001b[22m\u001b[22m::Module, ::String, ::String\u001b[1m)\u001b[22m\u001b[22m at \u001b[1mC:\\\\\\\\\\\\\\\\\\\\\\\\\\\\\\\\\\\\\\\\\\\\\\\\\\\\\\\\\\\\\\\\\\\\\\\\\\\\\\\\\\\\\\\\\\\\\\\\\\\\\\\\\\\\\\\\\\\\\\\\\\\\\\\\\\\\\\\\\\\\\\\\\\\\\\\\\\\\\\\\\\JuliaPro-0.6.2.2\\pkgs-0.6.2.2\\v0.6\\Compat\\src\\Compat.jl:71\u001b[22m\u001b[22m\n",
      " [10] \u001b[1mexecute_request\u001b[22m\u001b[22m\u001b[1m(\u001b[22m\u001b[22m::ZMQ.Socket, ::IJulia.Msg\u001b[1m)\u001b[22m\u001b[22m at \u001b[1mC:\\JuliaPro-0.6.2.2\\pkgs-0.6.2.2\\v0.6\\IJulia\\src\\execute_request.jl:158\u001b[22m\u001b[22m\n",
      " [11] \u001b[1m(::Compat.#inner#17{Array{Any,1},IJulia.#execute_request,Tuple{ZMQ.Socket,IJulia.Msg}})\u001b[22m\u001b[22m\u001b[1m(\u001b[22m\u001b[22m\u001b[1m)\u001b[22m\u001b[22m at \u001b[1mC:\\\\\\\\\\\\\\\\\\\\\\\\\\\\\\\\\\\\\\\\\\\\\\\\\\\\\\\\\\\\\\\\\\\\\\\\\\\\\\\\\\\\\\\\\\\\\\\\\\\\\\\\\\\\\\\\\\\\\\\\\\\\\\\\\\\\\\\\\\\\\\\\\\\\\\\\\\\\\\\\\\JuliaPro-0.6.2.2\\pkgs-0.6.2.2\\v0.6\\Compat\\src\\Compat.jl:385\u001b[22m\u001b[22m\n",
      " [12] \u001b[1meventloop\u001b[22m\u001b[22m\u001b[1m(\u001b[22m\u001b[22m::ZMQ.Socket\u001b[1m)\u001b[22m\u001b[22m at \u001b[1mC:\\JuliaPro-0.6.2.2\\pkgs-0.6.2.2\\v0.6\\IJulia\\src\\eventloop.jl:8\u001b[22m\u001b[22m\n",
      " [13] \u001b[1m(::IJulia.##14#17)\u001b[22m\u001b[22m\u001b[1m(\u001b[22m\u001b[22m\u001b[1m)\u001b[22m\u001b[22m at \u001b[1m.\\task.jl:335\u001b[22m\u001b[22m\n",
      "while loading In[79], in expression starting on line 1\n",
      "\u001b[1m\u001b[33mWARNING: \u001b[39m\u001b[22m\u001b[33mexp(x::AbstractArray{T}) where T <: Number is deprecated, use exp.(x) instead.\u001b[39m\n",
      "Stacktrace:\n",
      " [1] \u001b[1mdepwarn\u001b[22m\u001b[22m\u001b[1m(\u001b[22m\u001b[22m::String, ::Symbol\u001b[1m)\u001b[22m\u001b[22m at \u001b[1m.\\deprecated.jl:70\u001b[22m\u001b[22m\n",
      " [2] \u001b[1mexp\u001b[22m\u001b[22m\u001b[1m(\u001b[22m\u001b[22m::Array{Float64,1}\u001b[1m)\u001b[22m\u001b[22m at \u001b[1m.\\deprecated.jl:57\u001b[22m\u001b[22m\n",
      " [3] \u001b[1msoftmax\u001b[22m\u001b[22m\u001b[1m(\u001b[22m\u001b[22m::Array{Float64,1}\u001b[1m)\u001b[22m\u001b[22m at \u001b[1mC:\\Users\\veer\\.julia\\v0.6\\ANN\\src\\base.jl:55\u001b[22m\u001b[22m\n",
      " [4] \u001b[1mforward_propagate\u001b[22m\u001b[22m\u001b[1m(\u001b[22m\u001b[22m::ANN.NeuralLayer, ::Array{Float64,1}\u001b[1m)\u001b[22m\u001b[22m at \u001b[1mC:\\Users\\veer\\.julia\\v0.6\\ANN\\src\\base.jl:68\u001b[22m\u001b[22m\n",
      " [5] \u001b[1mpredict\u001b[22m\u001b[22m\u001b[1m(\u001b[22m\u001b[22m::ANN.ArtificialNeuralNetwork, ::Array{Float64,1}\u001b[1m)\u001b[22m\u001b[22m at \u001b[1mC:\\Users\\veer\\.julia\\v0.6\\ANN\\src\\base.jl:136\u001b[22m\u001b[22m\n",
      " [6] \u001b[1m#fit!#3\u001b[22m\u001b[22m\u001b[1m(\u001b[22m\u001b[22m::Int64, ::Float64, ::Float64, ::Function, ::ANN.ArtificialNeuralNetwork, ::Array{Float64,2}, ::Array{Int64,1}\u001b[1m)\u001b[22m\u001b[22m at \u001b[1mC:\\Users\\veer\\.julia\\v0.6\\ANN\\src\\base.jl:110\u001b[22m\u001b[22m\n",
      " [7] \u001b[1m(::ANN.#kw##fit!)\u001b[22m\u001b[22m\u001b[1m(\u001b[22m\u001b[22m::Array{Any,1}, ::ANN.#fit!, ::ANN.ArtificialNeuralNetwork, ::Array{Float64,2}, ::Array{Int64,1}\u001b[1m)\u001b[22m\u001b[22m at \u001b[1m.\\<missing>:0\u001b[22m\u001b[22m\n",
      " [8] \u001b[1minclude_string\u001b[22m\u001b[22m\u001b[1m(\u001b[22m\u001b[22m::String, ::String\u001b[1m)\u001b[22m\u001b[22m at \u001b[1m.\\loading.jl:522\u001b[22m\u001b[22m\n",
      " [9] \u001b[1minclude_string\u001b[22m\u001b[22m\u001b[1m(\u001b[22m\u001b[22m::Module, ::String, ::String\u001b[1m)\u001b[22m\u001b[22m at \u001b[1mC:\\\\\\\\\\\\\\\\\\\\\\\\\\\\\\\\\\\\\\\\\\\\\\\\\\\\\\\\\\\\\\\\\\\\\\\\\\\\\\\\\\\\\\\\\\\\\\\\\\\\\\\\\\\\\\\\\\\\\\\\\\\\\\\\\\\\\\\\\\\\\\\\\\\\\\\\\\\\\\\\\\JuliaPro-0.6.2.2\\pkgs-0.6.2.2\\v0.6\\Compat\\src\\Compat.jl:71\u001b[22m\u001b[22m\n",
      " [10] \u001b[1mexecute_request\u001b[22m\u001b[22m\u001b[1m(\u001b[22m\u001b[22m::ZMQ.Socket, ::IJulia.Msg\u001b[1m)\u001b[22m\u001b[22m at \u001b[1mC:\\JuliaPro-0.6.2.2\\pkgs-0.6.2.2\\v0.6\\IJulia\\src\\execute_request.jl:158\u001b[22m\u001b[22m\n",
      " [11] \u001b[1m(::Compat.#inner#17{Array{Any,1},IJulia.#execute_request,Tuple{ZMQ.Socket,IJulia.Msg}})\u001b[22m\u001b[22m\u001b[1m(\u001b[22m\u001b[22m\u001b[1m)\u001b[22m\u001b[22m at \u001b[1mC:\\\\\\\\\\\\\\\\\\\\\\\\\\\\\\\\\\\\\\\\\\\\\\\\\\\\\\\\\\\\\\\\\\\\\\\\\\\\\\\\\\\\\\\\\\\\\\\\\\\\\\\\\\\\\\\\\\\\\\\\\\\\\\\\\\\\\\\\\\\\\\\\\\\\\\\\\\\\\\\\\\JuliaPro-0.6.2.2\\pkgs-0.6.2.2\\v0.6\\Compat\\src\\Compat.jl:385\u001b[22m\u001b[22m\n",
      " [12] \u001b[1meventloop\u001b[22m\u001b[22m\u001b[1m(\u001b[22m\u001b[22m::ZMQ.Socket\u001b[1m)\u001b[22m\u001b[22m at \u001b[1mC:\\JuliaPro-0.6.2.2\\pkgs-0.6.2.2\\v0.6\\IJulia\\src\\eventloop.jl:8\u001b[22m\u001b[22m\n",
      " [13] \u001b[1m(::IJulia.##14#17)\u001b[22m\u001b[22m\u001b[1m(\u001b[22m\u001b[22m\u001b[1m)\u001b[22m\u001b[22m at \u001b[1m.\\task.jl:335\u001b[22m\u001b[22m\n",
      "while loading In[79], in expression starting on line 1\n"
     ]
    }
   ],
   "source": [
    "fit!(ann,features,labels,epochs=30,alpha=0.1,lambda=1e-5)"
   ]
  },
  {
   "cell_type": "code",
   "execution_count": 80,
   "metadata": {},
   "outputs": [
    {
     "name": "stderr",
     "output_type": "stream",
     "text": [
      "\u001b[1m\u001b[33mWARNING: \u001b[39m\u001b[22m\u001b[33mexp(x::AbstractArray{T}) where T <: Number is deprecated, use exp.(x) instead.\u001b[39m\n",
      "Stacktrace:\n",
      " [1] \u001b[1mdepwarn\u001b[22m\u001b[22m\u001b[1m(\u001b[22m\u001b[22m::String, ::Symbol\u001b[1m)\u001b[22m\u001b[22m at \u001b[1m.\\deprecated.jl:70\u001b[22m\u001b[22m\n",
      " [2] \u001b[1mexp\u001b[22m\u001b[22m\u001b[1m(\u001b[22m\u001b[22m::Array{Float64,1}\u001b[1m)\u001b[22m\u001b[22m at \u001b[1m.\\deprecated.jl:57\u001b[22m\u001b[22m\n",
      " [3] \u001b[1msigm\u001b[22m\u001b[22m\u001b[1m(\u001b[22m\u001b[22m::Array{Float64,1}\u001b[1m)\u001b[22m\u001b[22m at \u001b[1mC:\\Users\\veer\\.julia\\v0.6\\ANN\\src\\base.jl:20\u001b[22m\u001b[22m\n",
      " [4] \u001b[1mforward_propagate\u001b[22m\u001b[22m\u001b[1m(\u001b[22m\u001b[22m::ANN.NeuralLayer, ::Array{Float64,1}\u001b[1m)\u001b[22m\u001b[22m at \u001b[1mC:\\Users\\veer\\.julia\\v0.6\\ANN\\src\\base.jl:68\u001b[22m\u001b[22m\n",
      " [5] \u001b[1mpredict\u001b[22m\u001b[22m\u001b[1m(\u001b[22m\u001b[22m::ANN.ArtificialNeuralNetwork, ::Array{Float64,1}\u001b[1m)\u001b[22m\u001b[22m at \u001b[1mC:\\Users\\veer\\.julia\\v0.6\\ANN\\src\\base.jl:136\u001b[22m\u001b[22m\n",
      " [6] \u001b[1mpredict\u001b[22m\u001b[22m\u001b[1m(\u001b[22m\u001b[22m::ANN.ArtificialNeuralNetwork, ::Array{Float64,2}\u001b[1m)\u001b[22m\u001b[22m at \u001b[1mC:\\Users\\veer\\.julia\\v0.6\\ANN\\src\\base.jl:146\u001b[22m\u001b[22m\n",
      " [7] \u001b[1minclude_string\u001b[22m\u001b[22m\u001b[1m(\u001b[22m\u001b[22m::String, ::String\u001b[1m)\u001b[22m\u001b[22m at \u001b[1m.\\loading.jl:522\u001b[22m\u001b[22m\n",
      " [8] \u001b[1minclude_string\u001b[22m\u001b[22m\u001b[1m(\u001b[22m\u001b[22m::Module, ::String, ::String\u001b[1m)\u001b[22m\u001b[22m at \u001b[1mC:\\\\\\\\\\\\\\\\\\\\\\\\\\\\\\\\\\\\\\\\\\\\\\\\\\\\\\\\\\\\\\\\\\\\\\\\\\\\\\\\\\\\\\\\\\\\\\\\\\\\\\\\\\\\\\\\\\\\\\\\\\\\\\\\\\\\\\\\\\\\\\\\\\\\\\\\\\\\\\\\\\JuliaPro-0.6.2.2\\pkgs-0.6.2.2\\v0.6\\Compat\\src\\Compat.jl:71\u001b[22m\u001b[22m\n",
      " [9] \u001b[1mexecute_request\u001b[22m\u001b[22m\u001b[1m(\u001b[22m\u001b[22m::ZMQ.Socket, ::IJulia.Msg\u001b[1m)\u001b[22m\u001b[22m at \u001b[1mC:\\JuliaPro-0.6.2.2\\pkgs-0.6.2.2\\v0.6\\IJulia\\src\\execute_request.jl:158\u001b[22m\u001b[22m\n",
      " [10] \u001b[1m(::Compat.#inner#17{Array{Any,1},IJulia.#execute_request,Tuple{ZMQ.Socket,IJulia.Msg}})\u001b[22m\u001b[22m\u001b[1m(\u001b[22m\u001b[22m\u001b[1m)\u001b[22m\u001b[22m at \u001b[1mC:\\\\\\\\\\\\\\\\\\\\\\\\\\\\\\\\\\\\\\\\\\\\\\\\\\\\\\\\\\\\\\\\\\\\\\\\\\\\\\\\\\\\\\\\\\\\\\\\\\\\\\\\\\\\\\\\\\\\\\\\\\\\\\\\\\\\\\\\\\\\\\\\\\\\\\\\\\\\\\\\\\JuliaPro-0.6.2.2\\pkgs-0.6.2.2\\v0.6\\Compat\\src\\Compat.jl:385\u001b[22m\u001b[22m\n",
      " [11] \u001b[1meventloop\u001b[22m\u001b[22m\u001b[1m(\u001b[22m\u001b[22m::ZMQ.Socket\u001b[1m)\u001b[22m\u001b[22m at \u001b[1mC:\\JuliaPro-0.6.2.2\\pkgs-0.6.2.2\\v0.6\\IJulia\\src\\eventloop.jl:8\u001b[22m\u001b[22m\n",
      " [12] \u001b[1m(::IJulia.##14#17)\u001b[22m\u001b[22m\u001b[1m(\u001b[22m\u001b[22m\u001b[1m)\u001b[22m\u001b[22m at \u001b[1m.\\task.jl:335\u001b[22m\u001b[22m\n",
      "while loading In[80], in expression starting on line 1\n",
      "\u001b[1m\u001b[33mWARNING: \u001b[39m\u001b[22m\u001b[33mexp(x::AbstractArray{T}) where T <: Number is deprecated, use exp.(x) instead.\u001b[39m\n",
      "Stacktrace:\n",
      " [1] \u001b[1mdepwarn\u001b[22m\u001b[22m\u001b[1m(\u001b[22m\u001b[22m::String, ::Symbol\u001b[1m)\u001b[22m\u001b[22m at \u001b[1m.\\deprecated.jl:70\u001b[22m\u001b[22m\n",
      " [2] \u001b[1mexp\u001b[22m\u001b[22m\u001b[1m(\u001b[22m\u001b[22m::Array{Float64,1}\u001b[1m)\u001b[22m\u001b[22m at \u001b[1m.\\deprecated.jl:57\u001b[22m\u001b[22m\n",
      " [3] \u001b[1msoftmax\u001b[22m\u001b[22m\u001b[1m(\u001b[22m\u001b[22m::Array{Float64,1}\u001b[1m)\u001b[22m\u001b[22m at \u001b[1mC:\\Users\\veer\\.julia\\v0.6\\ANN\\src\\base.jl:55\u001b[22m\u001b[22m\n",
      " [4] \u001b[1mforward_propagate\u001b[22m\u001b[22m\u001b[1m(\u001b[22m\u001b[22m::ANN.NeuralLayer, ::Array{Float64,1}\u001b[1m)\u001b[22m\u001b[22m at \u001b[1mC:\\Users\\veer\\.julia\\v0.6\\ANN\\src\\base.jl:68\u001b[22m\u001b[22m\n",
      " [5] \u001b[1mpredict\u001b[22m\u001b[22m\u001b[1m(\u001b[22m\u001b[22m::ANN.ArtificialNeuralNetwork, ::Array{Float64,1}\u001b[1m)\u001b[22m\u001b[22m at \u001b[1mC:\\Users\\veer\\.julia\\v0.6\\ANN\\src\\base.jl:136\u001b[22m\u001b[22m\n",
      " [6] \u001b[1mpredict\u001b[22m\u001b[22m\u001b[1m(\u001b[22m\u001b[22m::ANN.ArtificialNeuralNetwork, ::Array{Float64,2}\u001b[1m)\u001b[22m\u001b[22m at \u001b[1mC:\\Users\\veer\\.julia\\v0.6\\ANN\\src\\base.jl:146\u001b[22m\u001b[22m\n",
      " [7] \u001b[1minclude_string\u001b[22m\u001b[22m\u001b[1m(\u001b[22m\u001b[22m::String, ::String\u001b[1m)\u001b[22m\u001b[22m at \u001b[1m.\\loading.jl:522\u001b[22m\u001b[22m\n",
      " [8] \u001b[1minclude_string\u001b[22m\u001b[22m\u001b[1m(\u001b[22m\u001b[22m::Module, ::String, ::String\u001b[1m)\u001b[22m\u001b[22m at \u001b[1mC:\\\\\\\\\\\\\\\\\\\\\\\\\\\\\\\\\\\\\\\\\\\\\\\\\\\\\\\\\\\\\\\\\\\\\\\\\\\\\\\\\\\\\\\\\\\\\\\\\\\\\\\\\\\\\\\\\\\\\\\\\\\\\\\\\\\\\\\\\\\\\\\\\\\\\\\\\\\\\\\\\\JuliaPro-0.6.2.2\\pkgs-0.6.2.2\\v0.6\\Compat\\src\\Compat.jl:71\u001b[22m\u001b[22m\n",
      " [9] \u001b[1mexecute_request\u001b[22m\u001b[22m\u001b[1m(\u001b[22m\u001b[22m::ZMQ.Socket, ::IJulia.Msg\u001b[1m)\u001b[22m\u001b[22m at \u001b[1mC:\\JuliaPro-0.6.2.2\\pkgs-0.6.2.2\\v0.6\\IJulia\\src\\execute_request.jl:158\u001b[22m\u001b[22m\n",
      " [10] \u001b[1m(::Compat.#inner#17{Array{Any,1},IJulia.#execute_request,Tuple{ZMQ.Socket,IJulia.Msg}})\u001b[22m\u001b[22m\u001b[1m(\u001b[22m\u001b[22m\u001b[1m)\u001b[22m\u001b[22m at \u001b[1mC:\\\\\\\\\\\\\\\\\\\\\\\\\\\\\\\\\\\\\\\\\\\\\\\\\\\\\\\\\\\\\\\\\\\\\\\\\\\\\\\\\\\\\\\\\\\\\\\\\\\\\\\\\\\\\\\\\\\\\\\\\\\\\\\\\\\\\\\\\\\\\\\\\\\\\\\\\\\\\\\\\\JuliaPro-0.6.2.2\\pkgs-0.6.2.2\\v0.6\\Compat\\src\\Compat.jl:385\u001b[22m\u001b[22m\n",
      " [11] \u001b[1meventloop\u001b[22m\u001b[22m\u001b[1m(\u001b[22m\u001b[22m::ZMQ.Socket\u001b[1m)\u001b[22m\u001b[22m at \u001b[1mC:\\JuliaPro-0.6.2.2\\pkgs-0.6.2.2\\v0.6\\IJulia\\src\\eventloop.jl:8\u001b[22m\u001b[22m\n",
      " [12] \u001b[1m(::IJulia.##14#17)\u001b[22m\u001b[22m\u001b[1m(\u001b[22m\u001b[22m\u001b[1m)\u001b[22m\u001b[22m at \u001b[1m.\\task.jl:335\u001b[22m\u001b[22m\n",
      "while loading In[80], in expression starting on line 1\n"
     ]
    },
    {
     "data": {
      "text/plain": [
       "3163×2 Array{Float64,2}:\n",
       " 0.147154   0.852846 \n",
       " 0.489305   0.510695 \n",
       " 0.0873498  0.91265  \n",
       " 0.861358   0.138642 \n",
       " 0.451082   0.548918 \n",
       " 0.196064   0.803936 \n",
       " 0.216123   0.783877 \n",
       " 0.593689   0.406311 \n",
       " 0.257987   0.742013 \n",
       " 0.635155   0.364845 \n",
       " 0.281656   0.718344 \n",
       " 0.584915   0.415085 \n",
       " 0.645499   0.354501 \n",
       " ⋮                   \n",
       " 0.640461   0.359539 \n",
       " 0.36604    0.63396  \n",
       " 0.909966   0.0900343\n",
       " 0.351965   0.648035 \n",
       " 0.240493   0.759507 \n",
       " 0.451406   0.548594 \n",
       " 0.654663   0.345337 \n",
       " 0.604988   0.395012 \n",
       " 0.420069   0.579931 \n",
       " 0.54352    0.45648  \n",
       " 0.829357   0.170643 \n",
       " 0.233809   0.766191 "
      ]
     },
     "execution_count": 80,
     "metadata": {},
     "output_type": "execute_result"
    }
   ],
   "source": [
    "y_proba = predict(ann,X_test1)"
   ]
  },
  {
   "cell_type": "code",
   "execution_count": 81,
   "metadata": {},
   "outputs": [
    {
     "name": "stderr",
     "output_type": "stream",
     "text": [
      "\u001b[1m\u001b[33mWARNING: \u001b[39m\u001b[22m\u001b[33mArray(::Type{T}, m::Int) where T is deprecated, use Array{T}(m) instead.\u001b[39m\n",
      "Stacktrace:\n",
      " [1] \u001b[1mdepwarn\u001b[22m\u001b[22m\u001b[1m(\u001b[22m\u001b[22m::String, ::Symbol\u001b[1m)\u001b[22m\u001b[22m at \u001b[1m.\\deprecated.jl:70\u001b[22m\u001b[22m\n",
      " [2] \u001b[1mArray\u001b[22m\u001b[22m\u001b[1m(\u001b[22m\u001b[22m::Type{Int64}, ::Int64\u001b[1m)\u001b[22m\u001b[22m at \u001b[1m.\\deprecated.jl:57\u001b[22m\u001b[22m\n",
      " [3] \u001b[1minclude_string\u001b[22m\u001b[22m\u001b[1m(\u001b[22m\u001b[22m::String, ::String\u001b[1m)\u001b[22m\u001b[22m at \u001b[1m.\\loading.jl:522\u001b[22m\u001b[22m\n",
      " [4] \u001b[1minclude_string\u001b[22m\u001b[22m\u001b[1m(\u001b[22m\u001b[22m::Module, ::String, ::String\u001b[1m)\u001b[22m\u001b[22m at \u001b[1mC:\\\\\\\\\\\\\\\\\\\\\\\\\\\\\\\\\\\\\\\\\\\\\\\\\\\\\\\\\\\\\\\\\\\\\\\\\\\\\\\\\\\\\\\\\\\\\\\\\\\\\\\\\\\\\\\\\\\\\\\\\\\\\\\\\\\\\\\\\\\\\\\\\\\\\\\\\\\\\\\\\\JuliaPro-0.6.2.2\\pkgs-0.6.2.2\\v0.6\\Compat\\src\\Compat.jl:71\u001b[22m\u001b[22m\n",
      " [5] \u001b[1mexecute_request\u001b[22m\u001b[22m\u001b[1m(\u001b[22m\u001b[22m::ZMQ.Socket, ::IJulia.Msg\u001b[1m)\u001b[22m\u001b[22m at \u001b[1mC:\\JuliaPro-0.6.2.2\\pkgs-0.6.2.2\\v0.6\\IJulia\\src\\execute_request.jl:158\u001b[22m\u001b[22m\n",
      " [6] \u001b[1m(::Compat.#inner#17{Array{Any,1},IJulia.#execute_request,Tuple{ZMQ.Socket,IJulia.Msg}})\u001b[22m\u001b[22m\u001b[1m(\u001b[22m\u001b[22m\u001b[1m)\u001b[22m\u001b[22m at \u001b[1mC:\\\\\\\\\\\\\\\\\\\\\\\\\\\\\\\\\\\\\\\\\\\\\\\\\\\\\\\\\\\\\\\\\\\\\\\\\\\\\\\\\\\\\\\\\\\\\\\\\\\\\\\\\\\\\\\\\\\\\\\\\\\\\\\\\\\\\\\\\\\\\\\\\\\\\\\\\\\\\\\\\\JuliaPro-0.6.2.2\\pkgs-0.6.2.2\\v0.6\\Compat\\src\\Compat.jl:385\u001b[22m\u001b[22m\n",
      " [7] \u001b[1meventloop\u001b[22m\u001b[22m\u001b[1m(\u001b[22m\u001b[22m::ZMQ.Socket\u001b[1m)\u001b[22m\u001b[22m at \u001b[1mC:\\JuliaPro-0.6.2.2\\pkgs-0.6.2.2\\v0.6\\IJulia\\src\\eventloop.jl:8\u001b[22m\u001b[22m\n",
      " [8] \u001b[1m(::IJulia.##14#17)\u001b[22m\u001b[22m\u001b[1m(\u001b[22m\u001b[22m\u001b[1m)\u001b[22m\u001b[22m at \u001b[1m.\\task.jl:335\u001b[22m\u001b[22m\n",
      "while loading In[81], in expression starting on line 1\n"
     ]
    },
    {
     "data": {
      "text/plain": [
       "3163-element Array{Int64,1}:\n",
       " 0\n",
       " 0\n",
       " 0\n",
       " 0\n",
       " 0\n",
       " 0\n",
       " 0\n",
       " 0\n",
       " 0\n",
       " 0\n",
       " 0\n",
       " 0\n",
       " 0\n",
       " ⋮\n",
       " 0\n",
       " 0\n",
       " 0\n",
       " 0\n",
       " 0\n",
       " 0\n",
       " 0\n",
       " 0\n",
       " 0\n",
       " 0\n",
       " 0\n",
       " 0"
      ]
     },
     "execution_count": 81,
     "metadata": {},
     "output_type": "execute_result"
    }
   ],
   "source": [
    "y_pred = Array(Int64,length(y_test1))"
   ]
  },
  {
   "cell_type": "code",
   "execution_count": 82,
   "metadata": {},
   "outputs": [],
   "source": [
    "for i in 1:length(y_test1)\n",
    "    # must translate class index to label\n",
    "    y_pred[i] = ann.classes[indmax(y_proba[i,:])]\n",
    "end"
   ]
  },
  {
   "cell_type": "code",
   "execution_count": 83,
   "metadata": {},
   "outputs": [
    {
     "name": "stdout",
     "output_type": "stream",
     "text": [
      "Prediction accuracy: 0.6244072083465064\n"
     ]
    }
   ],
   "source": [
    "println(\"Prediction accuracy: \",mean(y_pred .== y_test1))"
   ]
  },
  {
   "cell_type": "code",
   "execution_count": null,
   "metadata": {},
   "outputs": [],
   "source": [
    "# Save Model in R format\n",
    "using RCall\n",
    "saveRDS(\"C:/Users/veer/Desktop/Projects/Credit_Risk_Modeling/inal/JuliaModelLoanPred.rds\",ann)"
   ]
  }
 ],
 "metadata": {
  "kernelspec": {
   "display_name": "Julia 0.6.2",
   "language": "julia",
   "name": "julia-0.6"
  },
  "language_info": {
   "file_extension": ".jl",
   "mimetype": "application/julia",
   "name": "julia",
   "version": "0.6.2"
  }
 },
 "nbformat": 4,
 "nbformat_minor": 2
}
